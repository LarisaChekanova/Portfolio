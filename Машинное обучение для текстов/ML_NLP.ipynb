{
 "cells": [
  {
   "cell_type": "markdown",
   "metadata": {},
   "source": [
    "# Машинное обучение для текстов"
   ]
  },
  {
   "cell_type": "markdown",
   "metadata": {},
   "source": [
    "Интернет-магазин «Викишоп» запускает новый сервис. Теперь пользователи могут редактировать и дополнять описания товаров, как в вики-сообществах. То есть клиенты предлагают свои правки и комментируют изменения других. Магазину нужен инструмент, который будет искать токсичные комментарии и отправлять их на модерацию. \n",
    "\n",
    "Обучите модель классифицировать комментарии на позитивные и негативные. В вашем распоряжении набор данных с разметкой о токсичности правок.\n",
    "\n",
    "Постройте модель со значением метрики качества *F1* не меньше 0.75. \n",
    "\n",
    "**Инструкция по выполнению проекта**\n",
    "\n",
    "1. Загрузите и подготовьте данные.\n",
    "2. Обучите разные модели. \n",
    "3. Сделайте выводы.\n",
    "\n",
    "Для выполнения проекта применять *BERT* необязательно, но вы можете попробовать.\n",
    "\n",
    "**Описание данных**\n",
    "\n",
    "Данные находятся в файле `toxic_comments.csv`. Столбец *text* в нём содержит текст комментария, а *toxic* — целевой признак."
   ]
  },
  {
   "cell_type": "markdown",
   "metadata": {},
   "source": [
    "## Подготовка"
   ]
  },
  {
   "cell_type": "code",
   "execution_count": 1,
   "metadata": {
    "scrolled": true
   },
   "outputs": [
    {
     "name": "stdout",
     "output_type": "stream",
     "text": [
      "Requirement already satisfied: catboost in /opt/conda/lib/python3.9/site-packages (1.0.3)\n",
      "Requirement already satisfied: numpy>=1.16.0 in /opt/conda/lib/python3.9/site-packages (from catboost) (1.21.1)\n",
      "Requirement already satisfied: matplotlib in /opt/conda/lib/python3.9/site-packages (from catboost) (3.3.4)\n",
      "Requirement already satisfied: scipy in /opt/conda/lib/python3.9/site-packages (from catboost) (1.9.1)\n",
      "Requirement already satisfied: plotly in /opt/conda/lib/python3.9/site-packages (from catboost) (5.4.0)\n",
      "Requirement already satisfied: graphviz in /opt/conda/lib/python3.9/site-packages (from catboost) (0.20.1)\n",
      "Requirement already satisfied: six in /opt/conda/lib/python3.9/site-packages (from catboost) (1.16.0)\n",
      "Requirement already satisfied: pandas>=0.24.0 in /opt/conda/lib/python3.9/site-packages (from catboost) (1.2.4)\n",
      "Requirement already satisfied: python-dateutil>=2.7.3 in /opt/conda/lib/python3.9/site-packages (from pandas>=0.24.0->catboost) (2.8.1)\n",
      "Requirement already satisfied: pytz>=2017.3 in /opt/conda/lib/python3.9/site-packages (from pandas>=0.24.0->catboost) (2021.1)\n",
      "Requirement already satisfied: pyparsing!=2.0.4,!=2.1.2,!=2.1.6,>=2.0.3 in /opt/conda/lib/python3.9/site-packages (from matplotlib->catboost) (2.4.7)\n",
      "Requirement already satisfied: pillow>=6.2.0 in /opt/conda/lib/python3.9/site-packages (from matplotlib->catboost) (8.4.0)\n",
      "Requirement already satisfied: cycler>=0.10 in /opt/conda/lib/python3.9/site-packages (from matplotlib->catboost) (0.11.0)\n",
      "Requirement already satisfied: kiwisolver>=1.0.1 in /opt/conda/lib/python3.9/site-packages (from matplotlib->catboost) (1.4.4)\n",
      "Requirement already satisfied: tenacity>=6.2.0 in /opt/conda/lib/python3.9/site-packages (from plotly->catboost) (8.0.1)\n"
     ]
    }
   ],
   "source": [
    "import pandas as pd\n",
    "import nltk\n",
    "from nltk.corpus import stopwords as nltk_stopwords\n",
    "from sklearn.feature_extraction.text import TfidfVectorizer\n",
    "from sklearn.linear_model import LogisticRegression\n",
    "from pymystem3 import Mystem\n",
    "import re\n",
    "import spacy\n",
    "from sklearn.model_selection import train_test_split\n",
    "from sklearn.metrics import f1_score\n",
    "from sklearn.model_selection import GridSearchCV, cross_val_score\n",
    "from sklearn.ensemble import RandomForestClassifier\n",
    "\n",
    "!pip install catboost\n",
    "from catboost import CatBoostClassifier"
   ]
  },
  {
   "cell_type": "markdown",
   "metadata": {},
   "source": [
    "### Загрузим дынные и посмотрим на них"
   ]
  },
  {
   "cell_type": "code",
   "execution_count": 2,
   "metadata": {
    "scrolled": true
   },
   "outputs": [],
   "source": [
    "data = pd.read_csv('/datasets/toxic_comments.csv', index_col=0)"
   ]
  },
  {
   "cell_type": "code",
   "execution_count": 3,
   "metadata": {
    "scrolled": true
   },
   "outputs": [
    {
     "data": {
      "text/html": [
       "<div>\n",
       "<style scoped>\n",
       "    .dataframe tbody tr th:only-of-type {\n",
       "        vertical-align: middle;\n",
       "    }\n",
       "\n",
       "    .dataframe tbody tr th {\n",
       "        vertical-align: top;\n",
       "    }\n",
       "\n",
       "    .dataframe thead th {\n",
       "        text-align: right;\n",
       "    }\n",
       "</style>\n",
       "<table border=\"1\" class=\"dataframe\">\n",
       "  <thead>\n",
       "    <tr style=\"text-align: right;\">\n",
       "      <th></th>\n",
       "      <th>text</th>\n",
       "      <th>toxic</th>\n",
       "    </tr>\n",
       "  </thead>\n",
       "  <tbody>\n",
       "    <tr>\n",
       "      <th>0</th>\n",
       "      <td>Explanation\\nWhy the edits made under my usern...</td>\n",
       "      <td>0</td>\n",
       "    </tr>\n",
       "    <tr>\n",
       "      <th>1</th>\n",
       "      <td>D'aww! He matches this background colour I'm s...</td>\n",
       "      <td>0</td>\n",
       "    </tr>\n",
       "    <tr>\n",
       "      <th>2</th>\n",
       "      <td>Hey man, I'm really not trying to edit war. It...</td>\n",
       "      <td>0</td>\n",
       "    </tr>\n",
       "    <tr>\n",
       "      <th>3</th>\n",
       "      <td>\"\\nMore\\nI can't make any real suggestions on ...</td>\n",
       "      <td>0</td>\n",
       "    </tr>\n",
       "    <tr>\n",
       "      <th>4</th>\n",
       "      <td>You, sir, are my hero. Any chance you remember...</td>\n",
       "      <td>0</td>\n",
       "    </tr>\n",
       "    <tr>\n",
       "      <th>...</th>\n",
       "      <td>...</td>\n",
       "      <td>...</td>\n",
       "    </tr>\n",
       "    <tr>\n",
       "      <th>159446</th>\n",
       "      <td>\":::::And for the second time of asking, when ...</td>\n",
       "      <td>0</td>\n",
       "    </tr>\n",
       "    <tr>\n",
       "      <th>159447</th>\n",
       "      <td>You should be ashamed of yourself \\n\\nThat is ...</td>\n",
       "      <td>0</td>\n",
       "    </tr>\n",
       "    <tr>\n",
       "      <th>159448</th>\n",
       "      <td>Spitzer \\n\\nUmm, theres no actual article for ...</td>\n",
       "      <td>0</td>\n",
       "    </tr>\n",
       "    <tr>\n",
       "      <th>159449</th>\n",
       "      <td>And it looks like it was actually you who put ...</td>\n",
       "      <td>0</td>\n",
       "    </tr>\n",
       "    <tr>\n",
       "      <th>159450</th>\n",
       "      <td>\"\\nAnd ... I really don't think you understand...</td>\n",
       "      <td>0</td>\n",
       "    </tr>\n",
       "  </tbody>\n",
       "</table>\n",
       "<p>159292 rows × 2 columns</p>\n",
       "</div>"
      ],
      "text/plain": [
       "                                                     text  toxic\n",
       "0       Explanation\\nWhy the edits made under my usern...      0\n",
       "1       D'aww! He matches this background colour I'm s...      0\n",
       "2       Hey man, I'm really not trying to edit war. It...      0\n",
       "3       \"\\nMore\\nI can't make any real suggestions on ...      0\n",
       "4       You, sir, are my hero. Any chance you remember...      0\n",
       "...                                                   ...    ...\n",
       "159446  \":::::And for the second time of asking, when ...      0\n",
       "159447  You should be ashamed of yourself \\n\\nThat is ...      0\n",
       "159448  Spitzer \\n\\nUmm, theres no actual article for ...      0\n",
       "159449  And it looks like it was actually you who put ...      0\n",
       "159450  \"\\nAnd ... I really don't think you understand...      0\n",
       "\n",
       "[159292 rows x 2 columns]"
      ]
     },
     "metadata": {},
     "output_type": "display_data"
    }
   ],
   "source": [
    "display(data)"
   ]
  },
  {
   "cell_type": "markdown",
   "metadata": {},
   "source": [
    "Уменьшим датасет для ускорения работы кода"
   ]
  },
  {
   "cell_type": "markdown",
   "metadata": {},
   "source": [
    "### Лемматизация и очистка текста"
   ]
  },
  {
   "cell_type": "code",
   "execution_count": 4,
   "metadata": {},
   "outputs": [],
   "source": [
    "nlp = spacy.load('en_core_web_sm', disable=[\"parser\", \"ner\"])"
   ]
  },
  {
   "cell_type": "code",
   "execution_count": 5,
   "metadata": {},
   "outputs": [],
   "source": [
    "def lemmatize(text):\n",
    "    result = nlp(text)\n",
    "    result = \" \".join([token.lemma_ for token in result])\n",
    "    return result\n",
    "# функция для лемматизации текста"
   ]
  },
  {
   "cell_type": "code",
   "execution_count": 6,
   "metadata": {
    "scrolled": true
   },
   "outputs": [
    {
     "name": "stdout",
     "output_type": "stream",
     "text": [
      "CPU times: user 18min 27s, sys: 4.57 s, total: 18min 32s\n",
      "Wall time: 18min 33s\n"
     ]
    }
   ],
   "source": [
    "%%time\n",
    "data['text_lemm'] = data['text'].apply(lemmatize)"
   ]
  },
  {
   "cell_type": "code",
   "execution_count": 7,
   "metadata": {},
   "outputs": [
    {
     "data": {
      "text/plain": [
       "0         Explanation \\n why the edit make under my user...\n",
       "1         D'aww ! he match this background colour I be s...\n",
       "2         hey man , I be really not try to edit war . it...\n",
       "3         \" \\n More \\n I can not make any real suggestio...\n",
       "4         you , sir , be my hero . any chance you rememb...\n",
       "                                ...                        \n",
       "159446    \" : : : : : and for the second time of asking ...\n",
       "159447    you should be ashamed of yourself \\n\\n that be...\n",
       "159448    spitzer \\n\\n Umm , there s no actual article f...\n",
       "159449    and it look like it be actually you who put on...\n",
       "159450    \" \\n and ... I really do not think you underst...\n",
       "Name: text_lemm, Length: 159292, dtype: object"
      ]
     },
     "metadata": {},
     "output_type": "display_data"
    }
   ],
   "source": [
    "display(data['text_lemm'])"
   ]
  },
  {
   "cell_type": "code",
   "execution_count": 7,
   "metadata": {},
   "outputs": [],
   "source": [
    "def clear_text(text):\n",
    "    text = re.sub(r'[^a-zA-Z]', ' ', text)\n",
    "    text = text.lower()\n",
    "    text = text.split()\n",
    "    text = ' '.join(text)\n",
    "    return text\n",
    "# функция для очистки текста"
   ]
  },
  {
   "cell_type": "code",
   "execution_count": 8,
   "metadata": {},
   "outputs": [],
   "source": [
    "data['text_clear'] = data['text_lemm'].apply(clear_text)"
   ]
  },
  {
   "cell_type": "code",
   "execution_count": 9,
   "metadata": {
    "scrolled": true
   },
   "outputs": [
    {
     "data": {
      "text/plain": [
       "0         explanation why the edit make under my usernam...\n",
       "1         d aww he match this background colour i be see...\n",
       "2         hey man i be really not try to edit war it be ...\n",
       "3         more i can not make any real suggestion on imp...\n",
       "4         you sir be my hero any chance you remember wha...\n",
       "                                ...                        \n",
       "159446    and for the second time of asking when your vi...\n",
       "159447    you should be ashamed of yourself that be a ho...\n",
       "159448    spitzer umm there s no actual article for pros...\n",
       "159449    and it look like it be actually you who put on...\n",
       "159450    and i really do not think you understand i com...\n",
       "Name: text_clear, Length: 159292, dtype: object"
      ]
     },
     "metadata": {},
     "output_type": "display_data"
    }
   ],
   "source": [
    "display(data['text_clear'])"
   ]
  },
  {
   "cell_type": "code",
   "execution_count": 10,
   "metadata": {},
   "outputs": [],
   "source": [
    "features = data['text_clear']"
   ]
  },
  {
   "cell_type": "code",
   "execution_count": 11,
   "metadata": {},
   "outputs": [],
   "source": [
    "target = data['toxic']"
   ]
  },
  {
   "cell_type": "markdown",
   "metadata": {},
   "source": [
    "### Исключим стоп-слова и расчитаем TF-IDF текстов "
   ]
  },
  {
   "cell_type": "code",
   "execution_count": 12,
   "metadata": {
    "scrolled": true
   },
   "outputs": [
    {
     "name": "stderr",
     "output_type": "stream",
     "text": [
      "[nltk_data] Downloading package stopwords to /home/jovyan/nltk_data...\n",
      "[nltk_data]   Package stopwords is already up-to-date!\n"
     ]
    },
    {
     "data": {
      "text/plain": [
       "True"
      ]
     },
     "execution_count": 12,
     "metadata": {},
     "output_type": "execute_result"
    }
   ],
   "source": [
    "nltk.download('stopwords')"
   ]
  },
  {
   "cell_type": "code",
   "execution_count": 13,
   "metadata": {},
   "outputs": [],
   "source": [
    "stopwords = list(nltk_stopwords.words('english'))"
   ]
  },
  {
   "cell_type": "code",
   "execution_count": 14,
   "metadata": {},
   "outputs": [],
   "source": [
    "features_train, features_valid, target_train, target_valid = train_test_split(\n",
    "    features, target, test_size=0.21, random_state=12345\n",
    ")"
   ]
  },
  {
   "cell_type": "code",
   "execution_count": 15,
   "metadata": {},
   "outputs": [],
   "source": [
    "count_tf_idf = TfidfVectorizer(stop_words=stopwords)"
   ]
  },
  {
   "cell_type": "code",
   "execution_count": 16,
   "metadata": {},
   "outputs": [],
   "source": [
    "features_train_tf_idf = count_tf_idf.fit_transform(features_train) "
   ]
  },
  {
   "cell_type": "code",
   "execution_count": 17,
   "metadata": {},
   "outputs": [],
   "source": [
    "features_valid_tf_idf = count_tf_idf.transform(features_valid)"
   ]
  },
  {
   "cell_type": "markdown",
   "metadata": {},
   "source": [
    "## Обучение"
   ]
  },
  {
   "cell_type": "markdown",
   "metadata": {},
   "source": []
  },
  {
   "cell_type": "markdown",
   "metadata": {},
   "source": [
    "\n",
    "### Обучим модель LogisticRegression + GridSearchCV"
   ]
  },
  {
   "cell_type": "code",
   "execution_count": 22,
   "metadata": {},
   "outputs": [],
   "source": [
    "model_lr = LogisticRegression(random_state=12345)"
   ]
  },
  {
   "cell_type": "code",
   "execution_count": 19,
   "metadata": {},
   "outputs": [],
   "source": [
    "params={\n",
    "    'C':[0.01,0.05,1,0.5,1,5,10],\n",
    "    'penalty':['l1','l2']\n",
    "}"
   ]
  },
  {
   "cell_type": "code",
   "execution_count": 23,
   "metadata": {
    "scrolled": false
   },
   "outputs": [],
   "source": [
    "grid = GridSearchCV(estimator=model_lr, cv=5, n_jobs=-1, param_grid=params ,scoring='f1')"
   ]
  },
  {
   "cell_type": "code",
   "execution_count": 24,
   "metadata": {},
   "outputs": [
    {
     "name": "stderr",
     "output_type": "stream",
     "text": [
      "/opt/conda/lib/python3.9/site-packages/sklearn/model_selection/_validation.py:610: FitFailedWarning: Estimator fit failed. The score on this train-test partition for these parameters will be set to nan. Details: \n",
      "Traceback (most recent call last):\n",
      "  File \"/opt/conda/lib/python3.9/site-packages/sklearn/model_selection/_validation.py\", line 593, in _fit_and_score\n",
      "    estimator.fit(X_train, y_train, **fit_params)\n",
      "  File \"/opt/conda/lib/python3.9/site-packages/sklearn/linear_model/_logistic.py\", line 1306, in fit\n",
      "    solver = _check_solver(self.solver, self.penalty, self.dual)\n",
      "  File \"/opt/conda/lib/python3.9/site-packages/sklearn/linear_model/_logistic.py\", line 443, in _check_solver\n",
      "    raise ValueError(\"Solver %s supports only 'l2' or 'none' penalties, \"\n",
      "ValueError: Solver lbfgs supports only 'l2' or 'none' penalties, got l1 penalty.\n",
      "\n",
      "  warnings.warn(\"Estimator fit failed. The score on this train-test\"\n",
      "/opt/conda/lib/python3.9/site-packages/sklearn/model_selection/_validation.py:610: FitFailedWarning: Estimator fit failed. The score on this train-test partition for these parameters will be set to nan. Details: \n",
      "Traceback (most recent call last):\n",
      "  File \"/opt/conda/lib/python3.9/site-packages/sklearn/model_selection/_validation.py\", line 593, in _fit_and_score\n",
      "    estimator.fit(X_train, y_train, **fit_params)\n",
      "  File \"/opt/conda/lib/python3.9/site-packages/sklearn/linear_model/_logistic.py\", line 1306, in fit\n",
      "    solver = _check_solver(self.solver, self.penalty, self.dual)\n",
      "  File \"/opt/conda/lib/python3.9/site-packages/sklearn/linear_model/_logistic.py\", line 443, in _check_solver\n",
      "    raise ValueError(\"Solver %s supports only 'l2' or 'none' penalties, \"\n",
      "ValueError: Solver lbfgs supports only 'l2' or 'none' penalties, got l1 penalty.\n",
      "\n",
      "  warnings.warn(\"Estimator fit failed. The score on this train-test\"\n",
      "/opt/conda/lib/python3.9/site-packages/sklearn/model_selection/_validation.py:610: FitFailedWarning: Estimator fit failed. The score on this train-test partition for these parameters will be set to nan. Details: \n",
      "Traceback (most recent call last):\n",
      "  File \"/opt/conda/lib/python3.9/site-packages/sklearn/model_selection/_validation.py\", line 593, in _fit_and_score\n",
      "    estimator.fit(X_train, y_train, **fit_params)\n",
      "  File \"/opt/conda/lib/python3.9/site-packages/sklearn/linear_model/_logistic.py\", line 1306, in fit\n",
      "    solver = _check_solver(self.solver, self.penalty, self.dual)\n",
      "  File \"/opt/conda/lib/python3.9/site-packages/sklearn/linear_model/_logistic.py\", line 443, in _check_solver\n",
      "    raise ValueError(\"Solver %s supports only 'l2' or 'none' penalties, \"\n",
      "ValueError: Solver lbfgs supports only 'l2' or 'none' penalties, got l1 penalty.\n",
      "\n",
      "  warnings.warn(\"Estimator fit failed. The score on this train-test\"\n",
      "/opt/conda/lib/python3.9/site-packages/sklearn/model_selection/_validation.py:610: FitFailedWarning: Estimator fit failed. The score on this train-test partition for these parameters will be set to nan. Details: \n",
      "Traceback (most recent call last):\n",
      "  File \"/opt/conda/lib/python3.9/site-packages/sklearn/model_selection/_validation.py\", line 593, in _fit_and_score\n",
      "    estimator.fit(X_train, y_train, **fit_params)\n",
      "  File \"/opt/conda/lib/python3.9/site-packages/sklearn/linear_model/_logistic.py\", line 1306, in fit\n",
      "    solver = _check_solver(self.solver, self.penalty, self.dual)\n",
      "  File \"/opt/conda/lib/python3.9/site-packages/sklearn/linear_model/_logistic.py\", line 443, in _check_solver\n",
      "    raise ValueError(\"Solver %s supports only 'l2' or 'none' penalties, \"\n",
      "ValueError: Solver lbfgs supports only 'l2' or 'none' penalties, got l1 penalty.\n",
      "\n",
      "  warnings.warn(\"Estimator fit failed. The score on this train-test\"\n",
      "/opt/conda/lib/python3.9/site-packages/sklearn/model_selection/_validation.py:610: FitFailedWarning: Estimator fit failed. The score on this train-test partition for these parameters will be set to nan. Details: \n",
      "Traceback (most recent call last):\n",
      "  File \"/opt/conda/lib/python3.9/site-packages/sklearn/model_selection/_validation.py\", line 593, in _fit_and_score\n",
      "    estimator.fit(X_train, y_train, **fit_params)\n",
      "  File \"/opt/conda/lib/python3.9/site-packages/sklearn/linear_model/_logistic.py\", line 1306, in fit\n",
      "    solver = _check_solver(self.solver, self.penalty, self.dual)\n",
      "  File \"/opt/conda/lib/python3.9/site-packages/sklearn/linear_model/_logistic.py\", line 443, in _check_solver\n",
      "    raise ValueError(\"Solver %s supports only 'l2' or 'none' penalties, \"\n",
      "ValueError: Solver lbfgs supports only 'l2' or 'none' penalties, got l1 penalty.\n",
      "\n",
      "  warnings.warn(\"Estimator fit failed. The score on this train-test\"\n",
      "/opt/conda/lib/python3.9/site-packages/sklearn/model_selection/_validation.py:610: FitFailedWarning: Estimator fit failed. The score on this train-test partition for these parameters will be set to nan. Details: \n",
      "Traceback (most recent call last):\n",
      "  File \"/opt/conda/lib/python3.9/site-packages/sklearn/model_selection/_validation.py\", line 593, in _fit_and_score\n",
      "    estimator.fit(X_train, y_train, **fit_params)\n",
      "  File \"/opt/conda/lib/python3.9/site-packages/sklearn/linear_model/_logistic.py\", line 1306, in fit\n",
      "    solver = _check_solver(self.solver, self.penalty, self.dual)\n",
      "  File \"/opt/conda/lib/python3.9/site-packages/sklearn/linear_model/_logistic.py\", line 443, in _check_solver\n",
      "    raise ValueError(\"Solver %s supports only 'l2' or 'none' penalties, \"\n",
      "ValueError: Solver lbfgs supports only 'l2' or 'none' penalties, got l1 penalty.\n",
      "\n",
      "  warnings.warn(\"Estimator fit failed. The score on this train-test\"\n",
      "/opt/conda/lib/python3.9/site-packages/sklearn/model_selection/_validation.py:610: FitFailedWarning: Estimator fit failed. The score on this train-test partition for these parameters will be set to nan. Details: \n",
      "Traceback (most recent call last):\n",
      "  File \"/opt/conda/lib/python3.9/site-packages/sklearn/model_selection/_validation.py\", line 593, in _fit_and_score\n",
      "    estimator.fit(X_train, y_train, **fit_params)\n",
      "  File \"/opt/conda/lib/python3.9/site-packages/sklearn/linear_model/_logistic.py\", line 1306, in fit\n",
      "    solver = _check_solver(self.solver, self.penalty, self.dual)\n",
      "  File \"/opt/conda/lib/python3.9/site-packages/sklearn/linear_model/_logistic.py\", line 443, in _check_solver\n",
      "    raise ValueError(\"Solver %s supports only 'l2' or 'none' penalties, \"\n",
      "ValueError: Solver lbfgs supports only 'l2' or 'none' penalties, got l1 penalty.\n",
      "\n",
      "  warnings.warn(\"Estimator fit failed. The score on this train-test\"\n",
      "/opt/conda/lib/python3.9/site-packages/sklearn/model_selection/_validation.py:610: FitFailedWarning: Estimator fit failed. The score on this train-test partition for these parameters will be set to nan. Details: \n",
      "Traceback (most recent call last):\n",
      "  File \"/opt/conda/lib/python3.9/site-packages/sklearn/model_selection/_validation.py\", line 593, in _fit_and_score\n",
      "    estimator.fit(X_train, y_train, **fit_params)\n",
      "  File \"/opt/conda/lib/python3.9/site-packages/sklearn/linear_model/_logistic.py\", line 1306, in fit\n",
      "    solver = _check_solver(self.solver, self.penalty, self.dual)\n",
      "  File \"/opt/conda/lib/python3.9/site-packages/sklearn/linear_model/_logistic.py\", line 443, in _check_solver\n",
      "    raise ValueError(\"Solver %s supports only 'l2' or 'none' penalties, \"\n",
      "ValueError: Solver lbfgs supports only 'l2' or 'none' penalties, got l1 penalty.\n",
      "\n",
      "  warnings.warn(\"Estimator fit failed. The score on this train-test\"\n",
      "/opt/conda/lib/python3.9/site-packages/sklearn/model_selection/_validation.py:610: FitFailedWarning: Estimator fit failed. The score on this train-test partition for these parameters will be set to nan. Details: \n",
      "Traceback (most recent call last):\n",
      "  File \"/opt/conda/lib/python3.9/site-packages/sklearn/model_selection/_validation.py\", line 593, in _fit_and_score\n",
      "    estimator.fit(X_train, y_train, **fit_params)\n",
      "  File \"/opt/conda/lib/python3.9/site-packages/sklearn/linear_model/_logistic.py\", line 1306, in fit\n",
      "    solver = _check_solver(self.solver, self.penalty, self.dual)\n",
      "  File \"/opt/conda/lib/python3.9/site-packages/sklearn/linear_model/_logistic.py\", line 443, in _check_solver\n",
      "    raise ValueError(\"Solver %s supports only 'l2' or 'none' penalties, \"\n",
      "ValueError: Solver lbfgs supports only 'l2' or 'none' penalties, got l1 penalty.\n",
      "\n",
      "  warnings.warn(\"Estimator fit failed. The score on this train-test\"\n",
      "/opt/conda/lib/python3.9/site-packages/sklearn/model_selection/_validation.py:610: FitFailedWarning: Estimator fit failed. The score on this train-test partition for these parameters will be set to nan. Details: \n",
      "Traceback (most recent call last):\n",
      "  File \"/opt/conda/lib/python3.9/site-packages/sklearn/model_selection/_validation.py\", line 593, in _fit_and_score\n",
      "    estimator.fit(X_train, y_train, **fit_params)\n",
      "  File \"/opt/conda/lib/python3.9/site-packages/sklearn/linear_model/_logistic.py\", line 1306, in fit\n",
      "    solver = _check_solver(self.solver, self.penalty, self.dual)\n",
      "  File \"/opt/conda/lib/python3.9/site-packages/sklearn/linear_model/_logistic.py\", line 443, in _check_solver\n",
      "    raise ValueError(\"Solver %s supports only 'l2' or 'none' penalties, \"\n",
      "ValueError: Solver lbfgs supports only 'l2' or 'none' penalties, got l1 penalty.\n",
      "\n",
      "  warnings.warn(\"Estimator fit failed. The score on this train-test\"\n",
      "/opt/conda/lib/python3.9/site-packages/sklearn/model_selection/_validation.py:610: FitFailedWarning: Estimator fit failed. The score on this train-test partition for these parameters will be set to nan. Details: \n",
      "Traceback (most recent call last):\n",
      "  File \"/opt/conda/lib/python3.9/site-packages/sklearn/model_selection/_validation.py\", line 593, in _fit_and_score\n",
      "    estimator.fit(X_train, y_train, **fit_params)\n",
      "  File \"/opt/conda/lib/python3.9/site-packages/sklearn/linear_model/_logistic.py\", line 1306, in fit\n",
      "    solver = _check_solver(self.solver, self.penalty, self.dual)\n",
      "  File \"/opt/conda/lib/python3.9/site-packages/sklearn/linear_model/_logistic.py\", line 443, in _check_solver\n",
      "    raise ValueError(\"Solver %s supports only 'l2' or 'none' penalties, \"\n",
      "ValueError: Solver lbfgs supports only 'l2' or 'none' penalties, got l1 penalty.\n",
      "\n",
      "  warnings.warn(\"Estimator fit failed. The score on this train-test\"\n",
      "/opt/conda/lib/python3.9/site-packages/sklearn/model_selection/_validation.py:610: FitFailedWarning: Estimator fit failed. The score on this train-test partition for these parameters will be set to nan. Details: \n",
      "Traceback (most recent call last):\n",
      "  File \"/opt/conda/lib/python3.9/site-packages/sklearn/model_selection/_validation.py\", line 593, in _fit_and_score\n",
      "    estimator.fit(X_train, y_train, **fit_params)\n",
      "  File \"/opt/conda/lib/python3.9/site-packages/sklearn/linear_model/_logistic.py\", line 1306, in fit\n",
      "    solver = _check_solver(self.solver, self.penalty, self.dual)\n",
      "  File \"/opt/conda/lib/python3.9/site-packages/sklearn/linear_model/_logistic.py\", line 443, in _check_solver\n",
      "    raise ValueError(\"Solver %s supports only 'l2' or 'none' penalties, \"\n",
      "ValueError: Solver lbfgs supports only 'l2' or 'none' penalties, got l1 penalty.\n",
      "\n",
      "  warnings.warn(\"Estimator fit failed. The score on this train-test\"\n",
      "/opt/conda/lib/python3.9/site-packages/sklearn/model_selection/_validation.py:610: FitFailedWarning: Estimator fit failed. The score on this train-test partition for these parameters will be set to nan. Details: \n",
      "Traceback (most recent call last):\n",
      "  File \"/opt/conda/lib/python3.9/site-packages/sklearn/model_selection/_validation.py\", line 593, in _fit_and_score\n",
      "    estimator.fit(X_train, y_train, **fit_params)\n",
      "  File \"/opt/conda/lib/python3.9/site-packages/sklearn/linear_model/_logistic.py\", line 1306, in fit\n",
      "    solver = _check_solver(self.solver, self.penalty, self.dual)\n",
      "  File \"/opt/conda/lib/python3.9/site-packages/sklearn/linear_model/_logistic.py\", line 443, in _check_solver\n",
      "    raise ValueError(\"Solver %s supports only 'l2' or 'none' penalties, \"\n",
      "ValueError: Solver lbfgs supports only 'l2' or 'none' penalties, got l1 penalty.\n",
      "\n",
      "  warnings.warn(\"Estimator fit failed. The score on this train-test\"\n",
      "/opt/conda/lib/python3.9/site-packages/sklearn/model_selection/_validation.py:610: FitFailedWarning: Estimator fit failed. The score on this train-test partition for these parameters will be set to nan. Details: \n",
      "Traceback (most recent call last):\n",
      "  File \"/opt/conda/lib/python3.9/site-packages/sklearn/model_selection/_validation.py\", line 593, in _fit_and_score\n",
      "    estimator.fit(X_train, y_train, **fit_params)\n",
      "  File \"/opt/conda/lib/python3.9/site-packages/sklearn/linear_model/_logistic.py\", line 1306, in fit\n",
      "    solver = _check_solver(self.solver, self.penalty, self.dual)\n",
      "  File \"/opt/conda/lib/python3.9/site-packages/sklearn/linear_model/_logistic.py\", line 443, in _check_solver\n",
      "    raise ValueError(\"Solver %s supports only 'l2' or 'none' penalties, \"\n",
      "ValueError: Solver lbfgs supports only 'l2' or 'none' penalties, got l1 penalty.\n",
      "\n",
      "  warnings.warn(\"Estimator fit failed. The score on this train-test\"\n",
      "/opt/conda/lib/python3.9/site-packages/sklearn/model_selection/_validation.py:610: FitFailedWarning: Estimator fit failed. The score on this train-test partition for these parameters will be set to nan. Details: \n",
      "Traceback (most recent call last):\n",
      "  File \"/opt/conda/lib/python3.9/site-packages/sklearn/model_selection/_validation.py\", line 593, in _fit_and_score\n",
      "    estimator.fit(X_train, y_train, **fit_params)\n",
      "  File \"/opt/conda/lib/python3.9/site-packages/sklearn/linear_model/_logistic.py\", line 1306, in fit\n",
      "    solver = _check_solver(self.solver, self.penalty, self.dual)\n",
      "  File \"/opt/conda/lib/python3.9/site-packages/sklearn/linear_model/_logistic.py\", line 443, in _check_solver\n",
      "    raise ValueError(\"Solver %s supports only 'l2' or 'none' penalties, \"\n",
      "ValueError: Solver lbfgs supports only 'l2' or 'none' penalties, got l1 penalty.\n",
      "\n",
      "  warnings.warn(\"Estimator fit failed. The score on this train-test\"\n",
      "/opt/conda/lib/python3.9/site-packages/sklearn/linear_model/_logistic.py:763: ConvergenceWarning: lbfgs failed to converge (status=1):\n",
      "STOP: TOTAL NO. of ITERATIONS REACHED LIMIT.\n",
      "\n",
      "Increase the number of iterations (max_iter) or scale the data as shown in:\n",
      "    https://scikit-learn.org/stable/modules/preprocessing.html\n",
      "Please also refer to the documentation for alternative solver options:\n",
      "    https://scikit-learn.org/stable/modules/linear_model.html#logistic-regression\n",
      "  n_iter_i = _check_optimize_result(\n",
      "/opt/conda/lib/python3.9/site-packages/sklearn/linear_model/_logistic.py:763: ConvergenceWarning: lbfgs failed to converge (status=1):\n",
      "STOP: TOTAL NO. of ITERATIONS REACHED LIMIT.\n",
      "\n",
      "Increase the number of iterations (max_iter) or scale the data as shown in:\n",
      "    https://scikit-learn.org/stable/modules/preprocessing.html\n",
      "Please also refer to the documentation for alternative solver options:\n",
      "    https://scikit-learn.org/stable/modules/linear_model.html#logistic-regression\n",
      "  n_iter_i = _check_optimize_result(\n",
      "/opt/conda/lib/python3.9/site-packages/sklearn/model_selection/_validation.py:610: FitFailedWarning: Estimator fit failed. The score on this train-test partition for these parameters will be set to nan. Details: \n",
      "Traceback (most recent call last):\n",
      "  File \"/opt/conda/lib/python3.9/site-packages/sklearn/model_selection/_validation.py\", line 593, in _fit_and_score\n",
      "    estimator.fit(X_train, y_train, **fit_params)\n",
      "  File \"/opt/conda/lib/python3.9/site-packages/sklearn/linear_model/_logistic.py\", line 1306, in fit\n",
      "    solver = _check_solver(self.solver, self.penalty, self.dual)\n",
      "  File \"/opt/conda/lib/python3.9/site-packages/sklearn/linear_model/_logistic.py\", line 443, in _check_solver\n",
      "    raise ValueError(\"Solver %s supports only 'l2' or 'none' penalties, \"\n",
      "ValueError: Solver lbfgs supports only 'l2' or 'none' penalties, got l1 penalty.\n",
      "\n",
      "  warnings.warn(\"Estimator fit failed. The score on this train-test\"\n",
      "/opt/conda/lib/python3.9/site-packages/sklearn/model_selection/_validation.py:610: FitFailedWarning: Estimator fit failed. The score on this train-test partition for these parameters will be set to nan. Details: \n",
      "Traceback (most recent call last):\n",
      "  File \"/opt/conda/lib/python3.9/site-packages/sklearn/model_selection/_validation.py\", line 593, in _fit_and_score\n",
      "    estimator.fit(X_train, y_train, **fit_params)\n",
      "  File \"/opt/conda/lib/python3.9/site-packages/sklearn/linear_model/_logistic.py\", line 1306, in fit\n",
      "    solver = _check_solver(self.solver, self.penalty, self.dual)\n",
      "  File \"/opt/conda/lib/python3.9/site-packages/sklearn/linear_model/_logistic.py\", line 443, in _check_solver\n",
      "    raise ValueError(\"Solver %s supports only 'l2' or 'none' penalties, \"\n",
      "ValueError: Solver lbfgs supports only 'l2' or 'none' penalties, got l1 penalty.\n",
      "\n",
      "  warnings.warn(\"Estimator fit failed. The score on this train-test\"\n",
      "/opt/conda/lib/python3.9/site-packages/sklearn/model_selection/_validation.py:610: FitFailedWarning: Estimator fit failed. The score on this train-test partition for these parameters will be set to nan. Details: \n",
      "Traceback (most recent call last):\n",
      "  File \"/opt/conda/lib/python3.9/site-packages/sklearn/model_selection/_validation.py\", line 593, in _fit_and_score\n",
      "    estimator.fit(X_train, y_train, **fit_params)\n",
      "  File \"/opt/conda/lib/python3.9/site-packages/sklearn/linear_model/_logistic.py\", line 1306, in fit\n",
      "    solver = _check_solver(self.solver, self.penalty, self.dual)\n",
      "  File \"/opt/conda/lib/python3.9/site-packages/sklearn/linear_model/_logistic.py\", line 443, in _check_solver\n",
      "    raise ValueError(\"Solver %s supports only 'l2' or 'none' penalties, \"\n",
      "ValueError: Solver lbfgs supports only 'l2' or 'none' penalties, got l1 penalty.\n",
      "\n",
      "  warnings.warn(\"Estimator fit failed. The score on this train-test\"\n",
      "/opt/conda/lib/python3.9/site-packages/sklearn/model_selection/_validation.py:610: FitFailedWarning: Estimator fit failed. The score on this train-test partition for these parameters will be set to nan. Details: \n",
      "Traceback (most recent call last):\n",
      "  File \"/opt/conda/lib/python3.9/site-packages/sklearn/model_selection/_validation.py\", line 593, in _fit_and_score\n",
      "    estimator.fit(X_train, y_train, **fit_params)\n",
      "  File \"/opt/conda/lib/python3.9/site-packages/sklearn/linear_model/_logistic.py\", line 1306, in fit\n",
      "    solver = _check_solver(self.solver, self.penalty, self.dual)\n",
      "  File \"/opt/conda/lib/python3.9/site-packages/sklearn/linear_model/_logistic.py\", line 443, in _check_solver\n",
      "    raise ValueError(\"Solver %s supports only 'l2' or 'none' penalties, \"\n",
      "ValueError: Solver lbfgs supports only 'l2' or 'none' penalties, got l1 penalty.\n",
      "\n",
      "  warnings.warn(\"Estimator fit failed. The score on this train-test\"\n",
      "/opt/conda/lib/python3.9/site-packages/sklearn/model_selection/_validation.py:610: FitFailedWarning: Estimator fit failed. The score on this train-test partition for these parameters will be set to nan. Details: \n",
      "Traceback (most recent call last):\n",
      "  File \"/opt/conda/lib/python3.9/site-packages/sklearn/model_selection/_validation.py\", line 593, in _fit_and_score\n",
      "    estimator.fit(X_train, y_train, **fit_params)\n",
      "  File \"/opt/conda/lib/python3.9/site-packages/sklearn/linear_model/_logistic.py\", line 1306, in fit\n",
      "    solver = _check_solver(self.solver, self.penalty, self.dual)\n",
      "  File \"/opt/conda/lib/python3.9/site-packages/sklearn/linear_model/_logistic.py\", line 443, in _check_solver\n",
      "    raise ValueError(\"Solver %s supports only 'l2' or 'none' penalties, \"\n",
      "ValueError: Solver lbfgs supports only 'l2' or 'none' penalties, got l1 penalty.\n",
      "\n",
      "  warnings.warn(\"Estimator fit failed. The score on this train-test\"\n",
      "/opt/conda/lib/python3.9/site-packages/sklearn/model_selection/_validation.py:610: FitFailedWarning: Estimator fit failed. The score on this train-test partition for these parameters will be set to nan. Details: \n",
      "Traceback (most recent call last):\n",
      "  File \"/opt/conda/lib/python3.9/site-packages/sklearn/model_selection/_validation.py\", line 593, in _fit_and_score\n",
      "    estimator.fit(X_train, y_train, **fit_params)\n",
      "  File \"/opt/conda/lib/python3.9/site-packages/sklearn/linear_model/_logistic.py\", line 1306, in fit\n",
      "    solver = _check_solver(self.solver, self.penalty, self.dual)\n",
      "  File \"/opt/conda/lib/python3.9/site-packages/sklearn/linear_model/_logistic.py\", line 443, in _check_solver\n",
      "    raise ValueError(\"Solver %s supports only 'l2' or 'none' penalties, \"\n",
      "ValueError: Solver lbfgs supports only 'l2' or 'none' penalties, got l1 penalty.\n",
      "\n",
      "  warnings.warn(\"Estimator fit failed. The score on this train-test\"\n",
      "/opt/conda/lib/python3.9/site-packages/sklearn/model_selection/_validation.py:610: FitFailedWarning: Estimator fit failed. The score on this train-test partition for these parameters will be set to nan. Details: \n",
      "Traceback (most recent call last):\n",
      "  File \"/opt/conda/lib/python3.9/site-packages/sklearn/model_selection/_validation.py\", line 593, in _fit_and_score\n",
      "    estimator.fit(X_train, y_train, **fit_params)\n",
      "  File \"/opt/conda/lib/python3.9/site-packages/sklearn/linear_model/_logistic.py\", line 1306, in fit\n",
      "    solver = _check_solver(self.solver, self.penalty, self.dual)\n",
      "  File \"/opt/conda/lib/python3.9/site-packages/sklearn/linear_model/_logistic.py\", line 443, in _check_solver\n",
      "    raise ValueError(\"Solver %s supports only 'l2' or 'none' penalties, \"\n",
      "ValueError: Solver lbfgs supports only 'l2' or 'none' penalties, got l1 penalty.\n",
      "\n",
      "  warnings.warn(\"Estimator fit failed. The score on this train-test\"\n",
      "/opt/conda/lib/python3.9/site-packages/sklearn/model_selection/_validation.py:610: FitFailedWarning: Estimator fit failed. The score on this train-test partition for these parameters will be set to nan. Details: \n",
      "Traceback (most recent call last):\n",
      "  File \"/opt/conda/lib/python3.9/site-packages/sklearn/model_selection/_validation.py\", line 593, in _fit_and_score\n",
      "    estimator.fit(X_train, y_train, **fit_params)\n",
      "  File \"/opt/conda/lib/python3.9/site-packages/sklearn/linear_model/_logistic.py\", line 1306, in fit\n",
      "    solver = _check_solver(self.solver, self.penalty, self.dual)\n",
      "  File \"/opt/conda/lib/python3.9/site-packages/sklearn/linear_model/_logistic.py\", line 443, in _check_solver\n",
      "    raise ValueError(\"Solver %s supports only 'l2' or 'none' penalties, \"\n",
      "ValueError: Solver lbfgs supports only 'l2' or 'none' penalties, got l1 penalty.\n",
      "\n",
      "  warnings.warn(\"Estimator fit failed. The score on this train-test\"\n",
      "/opt/conda/lib/python3.9/site-packages/sklearn/model_selection/_validation.py:610: FitFailedWarning: Estimator fit failed. The score on this train-test partition for these parameters will be set to nan. Details: \n",
      "Traceback (most recent call last):\n",
      "  File \"/opt/conda/lib/python3.9/site-packages/sklearn/model_selection/_validation.py\", line 593, in _fit_and_score\n",
      "    estimator.fit(X_train, y_train, **fit_params)\n",
      "  File \"/opt/conda/lib/python3.9/site-packages/sklearn/linear_model/_logistic.py\", line 1306, in fit\n",
      "    solver = _check_solver(self.solver, self.penalty, self.dual)\n",
      "  File \"/opt/conda/lib/python3.9/site-packages/sklearn/linear_model/_logistic.py\", line 443, in _check_solver\n",
      "    raise ValueError(\"Solver %s supports only 'l2' or 'none' penalties, \"\n",
      "ValueError: Solver lbfgs supports only 'l2' or 'none' penalties, got l1 penalty.\n",
      "\n",
      "  warnings.warn(\"Estimator fit failed. The score on this train-test\"\n",
      "/opt/conda/lib/python3.9/site-packages/sklearn/model_selection/_validation.py:610: FitFailedWarning: Estimator fit failed. The score on this train-test partition for these parameters will be set to nan. Details: \n",
      "Traceback (most recent call last):\n",
      "  File \"/opt/conda/lib/python3.9/site-packages/sklearn/model_selection/_validation.py\", line 593, in _fit_and_score\n",
      "    estimator.fit(X_train, y_train, **fit_params)\n",
      "  File \"/opt/conda/lib/python3.9/site-packages/sklearn/linear_model/_logistic.py\", line 1306, in fit\n",
      "    solver = _check_solver(self.solver, self.penalty, self.dual)\n",
      "  File \"/opt/conda/lib/python3.9/site-packages/sklearn/linear_model/_logistic.py\", line 443, in _check_solver\n",
      "    raise ValueError(\"Solver %s supports only 'l2' or 'none' penalties, \"\n",
      "ValueError: Solver lbfgs supports only 'l2' or 'none' penalties, got l1 penalty.\n",
      "\n",
      "  warnings.warn(\"Estimator fit failed. The score on this train-test\"\n",
      "/opt/conda/lib/python3.9/site-packages/sklearn/linear_model/_logistic.py:763: ConvergenceWarning: lbfgs failed to converge (status=1):\n",
      "STOP: TOTAL NO. of ITERATIONS REACHED LIMIT.\n",
      "\n",
      "Increase the number of iterations (max_iter) or scale the data as shown in:\n",
      "    https://scikit-learn.org/stable/modules/preprocessing.html\n",
      "Please also refer to the documentation for alternative solver options:\n",
      "    https://scikit-learn.org/stable/modules/linear_model.html#logistic-regression\n",
      "  n_iter_i = _check_optimize_result(\n",
      "/opt/conda/lib/python3.9/site-packages/sklearn/linear_model/_logistic.py:763: ConvergenceWarning: lbfgs failed to converge (status=1):\n",
      "STOP: TOTAL NO. of ITERATIONS REACHED LIMIT.\n",
      "\n",
      "Increase the number of iterations (max_iter) or scale the data as shown in:\n",
      "    https://scikit-learn.org/stable/modules/preprocessing.html\n",
      "Please also refer to the documentation for alternative solver options:\n",
      "    https://scikit-learn.org/stable/modules/linear_model.html#logistic-regression\n",
      "  n_iter_i = _check_optimize_result(\n",
      "/opt/conda/lib/python3.9/site-packages/sklearn/model_selection/_validation.py:610: FitFailedWarning: Estimator fit failed. The score on this train-test partition for these parameters will be set to nan. Details: \n",
      "Traceback (most recent call last):\n",
      "  File \"/opt/conda/lib/python3.9/site-packages/sklearn/model_selection/_validation.py\", line 593, in _fit_and_score\n",
      "    estimator.fit(X_train, y_train, **fit_params)\n",
      "  File \"/opt/conda/lib/python3.9/site-packages/sklearn/linear_model/_logistic.py\", line 1306, in fit\n",
      "    solver = _check_solver(self.solver, self.penalty, self.dual)\n",
      "  File \"/opt/conda/lib/python3.9/site-packages/sklearn/linear_model/_logistic.py\", line 443, in _check_solver\n",
      "    raise ValueError(\"Solver %s supports only 'l2' or 'none' penalties, \"\n",
      "ValueError: Solver lbfgs supports only 'l2' or 'none' penalties, got l1 penalty.\n",
      "\n",
      "  warnings.warn(\"Estimator fit failed. The score on this train-test\"\n",
      "/opt/conda/lib/python3.9/site-packages/sklearn/model_selection/_validation.py:610: FitFailedWarning: Estimator fit failed. The score on this train-test partition for these parameters will be set to nan. Details: \n",
      "Traceback (most recent call last):\n",
      "  File \"/opt/conda/lib/python3.9/site-packages/sklearn/model_selection/_validation.py\", line 593, in _fit_and_score\n",
      "    estimator.fit(X_train, y_train, **fit_params)\n",
      "  File \"/opt/conda/lib/python3.9/site-packages/sklearn/linear_model/_logistic.py\", line 1306, in fit\n",
      "    solver = _check_solver(self.solver, self.penalty, self.dual)\n",
      "  File \"/opt/conda/lib/python3.9/site-packages/sklearn/linear_model/_logistic.py\", line 443, in _check_solver\n",
      "    raise ValueError(\"Solver %s supports only 'l2' or 'none' penalties, \"\n",
      "ValueError: Solver lbfgs supports only 'l2' or 'none' penalties, got l1 penalty.\n",
      "\n",
      "  warnings.warn(\"Estimator fit failed. The score on this train-test\"\n",
      "/opt/conda/lib/python3.9/site-packages/sklearn/model_selection/_validation.py:610: FitFailedWarning: Estimator fit failed. The score on this train-test partition for these parameters will be set to nan. Details: \n",
      "Traceback (most recent call last):\n",
      "  File \"/opt/conda/lib/python3.9/site-packages/sklearn/model_selection/_validation.py\", line 593, in _fit_and_score\n",
      "    estimator.fit(X_train, y_train, **fit_params)\n",
      "  File \"/opt/conda/lib/python3.9/site-packages/sklearn/linear_model/_logistic.py\", line 1306, in fit\n",
      "    solver = _check_solver(self.solver, self.penalty, self.dual)\n",
      "  File \"/opt/conda/lib/python3.9/site-packages/sklearn/linear_model/_logistic.py\", line 443, in _check_solver\n",
      "    raise ValueError(\"Solver %s supports only 'l2' or 'none' penalties, \"\n",
      "ValueError: Solver lbfgs supports only 'l2' or 'none' penalties, got l1 penalty.\n",
      "\n",
      "  warnings.warn(\"Estimator fit failed. The score on this train-test\"\n",
      "/opt/conda/lib/python3.9/site-packages/sklearn/model_selection/_validation.py:610: FitFailedWarning: Estimator fit failed. The score on this train-test partition for these parameters will be set to nan. Details: \n",
      "Traceback (most recent call last):\n",
      "  File \"/opt/conda/lib/python3.9/site-packages/sklearn/model_selection/_validation.py\", line 593, in _fit_and_score\n",
      "    estimator.fit(X_train, y_train, **fit_params)\n",
      "  File \"/opt/conda/lib/python3.9/site-packages/sklearn/linear_model/_logistic.py\", line 1306, in fit\n",
      "    solver = _check_solver(self.solver, self.penalty, self.dual)\n",
      "  File \"/opt/conda/lib/python3.9/site-packages/sklearn/linear_model/_logistic.py\", line 443, in _check_solver\n",
      "    raise ValueError(\"Solver %s supports only 'l2' or 'none' penalties, \"\n",
      "ValueError: Solver lbfgs supports only 'l2' or 'none' penalties, got l1 penalty.\n",
      "\n",
      "  warnings.warn(\"Estimator fit failed. The score on this train-test\"\n",
      "/opt/conda/lib/python3.9/site-packages/sklearn/model_selection/_validation.py:610: FitFailedWarning: Estimator fit failed. The score on this train-test partition for these parameters will be set to nan. Details: \n",
      "Traceback (most recent call last):\n",
      "  File \"/opt/conda/lib/python3.9/site-packages/sklearn/model_selection/_validation.py\", line 593, in _fit_and_score\n",
      "    estimator.fit(X_train, y_train, **fit_params)\n",
      "  File \"/opt/conda/lib/python3.9/site-packages/sklearn/linear_model/_logistic.py\", line 1306, in fit\n",
      "    solver = _check_solver(self.solver, self.penalty, self.dual)\n",
      "  File \"/opt/conda/lib/python3.9/site-packages/sklearn/linear_model/_logistic.py\", line 443, in _check_solver\n",
      "    raise ValueError(\"Solver %s supports only 'l2' or 'none' penalties, \"\n",
      "ValueError: Solver lbfgs supports only 'l2' or 'none' penalties, got l1 penalty.\n",
      "\n",
      "  warnings.warn(\"Estimator fit failed. The score on this train-test\"\n",
      "/opt/conda/lib/python3.9/site-packages/sklearn/linear_model/_logistic.py:763: ConvergenceWarning: lbfgs failed to converge (status=1):\n",
      "STOP: TOTAL NO. of ITERATIONS REACHED LIMIT.\n",
      "\n",
      "Increase the number of iterations (max_iter) or scale the data as shown in:\n",
      "    https://scikit-learn.org/stable/modules/preprocessing.html\n",
      "Please also refer to the documentation for alternative solver options:\n",
      "    https://scikit-learn.org/stable/modules/linear_model.html#logistic-regression\n",
      "  n_iter_i = _check_optimize_result(\n",
      "/opt/conda/lib/python3.9/site-packages/sklearn/linear_model/_logistic.py:763: ConvergenceWarning: lbfgs failed to converge (status=1):\n",
      "STOP: TOTAL NO. of ITERATIONS REACHED LIMIT.\n",
      "\n",
      "Increase the number of iterations (max_iter) or scale the data as shown in:\n",
      "    https://scikit-learn.org/stable/modules/preprocessing.html\n",
      "Please also refer to the documentation for alternative solver options:\n",
      "    https://scikit-learn.org/stable/modules/linear_model.html#logistic-regression\n",
      "  n_iter_i = _check_optimize_result(\n",
      "/opt/conda/lib/python3.9/site-packages/sklearn/linear_model/_logistic.py:763: ConvergenceWarning: lbfgs failed to converge (status=1):\n",
      "STOP: TOTAL NO. of ITERATIONS REACHED LIMIT.\n",
      "\n",
      "Increase the number of iterations (max_iter) or scale the data as shown in:\n",
      "    https://scikit-learn.org/stable/modules/preprocessing.html\n",
      "Please also refer to the documentation for alternative solver options:\n",
      "    https://scikit-learn.org/stable/modules/linear_model.html#logistic-regression\n",
      "  n_iter_i = _check_optimize_result(\n",
      "/opt/conda/lib/python3.9/site-packages/sklearn/linear_model/_logistic.py:763: ConvergenceWarning: lbfgs failed to converge (status=1):\n",
      "STOP: TOTAL NO. of ITERATIONS REACHED LIMIT.\n",
      "\n",
      "Increase the number of iterations (max_iter) or scale the data as shown in:\n",
      "    https://scikit-learn.org/stable/modules/preprocessing.html\n",
      "Please also refer to the documentation for alternative solver options:\n",
      "    https://scikit-learn.org/stable/modules/linear_model.html#logistic-regression\n",
      "  n_iter_i = _check_optimize_result(\n",
      "/opt/conda/lib/python3.9/site-packages/sklearn/linear_model/_logistic.py:763: ConvergenceWarning: lbfgs failed to converge (status=1):\n",
      "STOP: TOTAL NO. of ITERATIONS REACHED LIMIT.\n",
      "\n",
      "Increase the number of iterations (max_iter) or scale the data as shown in:\n",
      "    https://scikit-learn.org/stable/modules/preprocessing.html\n",
      "Please also refer to the documentation for alternative solver options:\n",
      "    https://scikit-learn.org/stable/modules/linear_model.html#logistic-regression\n",
      "  n_iter_i = _check_optimize_result(\n",
      "/opt/conda/lib/python3.9/site-packages/sklearn/model_selection/_validation.py:610: FitFailedWarning: Estimator fit failed. The score on this train-test partition for these parameters will be set to nan. Details: \n",
      "Traceback (most recent call last):\n",
      "  File \"/opt/conda/lib/python3.9/site-packages/sklearn/model_selection/_validation.py\", line 593, in _fit_and_score\n",
      "    estimator.fit(X_train, y_train, **fit_params)\n",
      "  File \"/opt/conda/lib/python3.9/site-packages/sklearn/linear_model/_logistic.py\", line 1306, in fit\n",
      "    solver = _check_solver(self.solver, self.penalty, self.dual)\n",
      "  File \"/opt/conda/lib/python3.9/site-packages/sklearn/linear_model/_logistic.py\", line 443, in _check_solver\n",
      "    raise ValueError(\"Solver %s supports only 'l2' or 'none' penalties, \"\n",
      "ValueError: Solver lbfgs supports only 'l2' or 'none' penalties, got l1 penalty.\n",
      "\n",
      "  warnings.warn(\"Estimator fit failed. The score on this train-test\"\n",
      "/opt/conda/lib/python3.9/site-packages/sklearn/model_selection/_validation.py:610: FitFailedWarning: Estimator fit failed. The score on this train-test partition for these parameters will be set to nan. Details: \n",
      "Traceback (most recent call last):\n",
      "  File \"/opt/conda/lib/python3.9/site-packages/sklearn/model_selection/_validation.py\", line 593, in _fit_and_score\n",
      "    estimator.fit(X_train, y_train, **fit_params)\n",
      "  File \"/opt/conda/lib/python3.9/site-packages/sklearn/linear_model/_logistic.py\", line 1306, in fit\n",
      "    solver = _check_solver(self.solver, self.penalty, self.dual)\n",
      "  File \"/opt/conda/lib/python3.9/site-packages/sklearn/linear_model/_logistic.py\", line 443, in _check_solver\n",
      "    raise ValueError(\"Solver %s supports only 'l2' or 'none' penalties, \"\n",
      "ValueError: Solver lbfgs supports only 'l2' or 'none' penalties, got l1 penalty.\n",
      "\n",
      "  warnings.warn(\"Estimator fit failed. The score on this train-test\"\n",
      "/opt/conda/lib/python3.9/site-packages/sklearn/model_selection/_validation.py:610: FitFailedWarning: Estimator fit failed. The score on this train-test partition for these parameters will be set to nan. Details: \n",
      "Traceback (most recent call last):\n",
      "  File \"/opt/conda/lib/python3.9/site-packages/sklearn/model_selection/_validation.py\", line 593, in _fit_and_score\n",
      "    estimator.fit(X_train, y_train, **fit_params)\n",
      "  File \"/opt/conda/lib/python3.9/site-packages/sklearn/linear_model/_logistic.py\", line 1306, in fit\n",
      "    solver = _check_solver(self.solver, self.penalty, self.dual)\n",
      "  File \"/opt/conda/lib/python3.9/site-packages/sklearn/linear_model/_logistic.py\", line 443, in _check_solver\n",
      "    raise ValueError(\"Solver %s supports only 'l2' or 'none' penalties, \"\n",
      "ValueError: Solver lbfgs supports only 'l2' or 'none' penalties, got l1 penalty.\n",
      "\n",
      "  warnings.warn(\"Estimator fit failed. The score on this train-test\"\n",
      "/opt/conda/lib/python3.9/site-packages/sklearn/model_selection/_validation.py:610: FitFailedWarning: Estimator fit failed. The score on this train-test partition for these parameters will be set to nan. Details: \n",
      "Traceback (most recent call last):\n",
      "  File \"/opt/conda/lib/python3.9/site-packages/sklearn/model_selection/_validation.py\", line 593, in _fit_and_score\n",
      "    estimator.fit(X_train, y_train, **fit_params)\n",
      "  File \"/opt/conda/lib/python3.9/site-packages/sklearn/linear_model/_logistic.py\", line 1306, in fit\n",
      "    solver = _check_solver(self.solver, self.penalty, self.dual)\n",
      "  File \"/opt/conda/lib/python3.9/site-packages/sklearn/linear_model/_logistic.py\", line 443, in _check_solver\n",
      "    raise ValueError(\"Solver %s supports only 'l2' or 'none' penalties, \"\n",
      "ValueError: Solver lbfgs supports only 'l2' or 'none' penalties, got l1 penalty.\n",
      "\n",
      "  warnings.warn(\"Estimator fit failed. The score on this train-test\"\n",
      "/opt/conda/lib/python3.9/site-packages/sklearn/model_selection/_validation.py:610: FitFailedWarning: Estimator fit failed. The score on this train-test partition for these parameters will be set to nan. Details: \n",
      "Traceback (most recent call last):\n",
      "  File \"/opt/conda/lib/python3.9/site-packages/sklearn/model_selection/_validation.py\", line 593, in _fit_and_score\n",
      "    estimator.fit(X_train, y_train, **fit_params)\n",
      "  File \"/opt/conda/lib/python3.9/site-packages/sklearn/linear_model/_logistic.py\", line 1306, in fit\n",
      "    solver = _check_solver(self.solver, self.penalty, self.dual)\n",
      "  File \"/opt/conda/lib/python3.9/site-packages/sklearn/linear_model/_logistic.py\", line 443, in _check_solver\n",
      "    raise ValueError(\"Solver %s supports only 'l2' or 'none' penalties, \"\n",
      "ValueError: Solver lbfgs supports only 'l2' or 'none' penalties, got l1 penalty.\n",
      "\n",
      "  warnings.warn(\"Estimator fit failed. The score on this train-test\"\n",
      "/opt/conda/lib/python3.9/site-packages/sklearn/linear_model/_logistic.py:763: ConvergenceWarning: lbfgs failed to converge (status=1):\n",
      "STOP: TOTAL NO. of ITERATIONS REACHED LIMIT.\n",
      "\n",
      "Increase the number of iterations (max_iter) or scale the data as shown in:\n",
      "    https://scikit-learn.org/stable/modules/preprocessing.html\n",
      "Please also refer to the documentation for alternative solver options:\n",
      "    https://scikit-learn.org/stable/modules/linear_model.html#logistic-regression\n",
      "  n_iter_i = _check_optimize_result(\n",
      "/opt/conda/lib/python3.9/site-packages/sklearn/linear_model/_logistic.py:763: ConvergenceWarning: lbfgs failed to converge (status=1):\n",
      "STOP: TOTAL NO. of ITERATIONS REACHED LIMIT.\n",
      "\n",
      "Increase the number of iterations (max_iter) or scale the data as shown in:\n",
      "    https://scikit-learn.org/stable/modules/preprocessing.html\n",
      "Please also refer to the documentation for alternative solver options:\n",
      "    https://scikit-learn.org/stable/modules/linear_model.html#logistic-regression\n",
      "  n_iter_i = _check_optimize_result(\n",
      "/opt/conda/lib/python3.9/site-packages/sklearn/linear_model/_logistic.py:763: ConvergenceWarning: lbfgs failed to converge (status=1):\n",
      "STOP: TOTAL NO. of ITERATIONS REACHED LIMIT.\n",
      "\n",
      "Increase the number of iterations (max_iter) or scale the data as shown in:\n",
      "    https://scikit-learn.org/stable/modules/preprocessing.html\n",
      "Please also refer to the documentation for alternative solver options:\n",
      "    https://scikit-learn.org/stable/modules/linear_model.html#logistic-regression\n",
      "  n_iter_i = _check_optimize_result(\n",
      "/opt/conda/lib/python3.9/site-packages/sklearn/linear_model/_logistic.py:763: ConvergenceWarning: lbfgs failed to converge (status=1):\n",
      "STOP: TOTAL NO. of ITERATIONS REACHED LIMIT.\n",
      "\n",
      "Increase the number of iterations (max_iter) or scale the data as shown in:\n",
      "    https://scikit-learn.org/stable/modules/preprocessing.html\n",
      "Please also refer to the documentation for alternative solver options:\n",
      "    https://scikit-learn.org/stable/modules/linear_model.html#logistic-regression\n",
      "  n_iter_i = _check_optimize_result(\n",
      "/opt/conda/lib/python3.9/site-packages/sklearn/linear_model/_logistic.py:763: ConvergenceWarning: lbfgs failed to converge (status=1):\n",
      "STOP: TOTAL NO. of ITERATIONS REACHED LIMIT.\n",
      "\n",
      "Increase the number of iterations (max_iter) or scale the data as shown in:\n",
      "    https://scikit-learn.org/stable/modules/preprocessing.html\n",
      "Please also refer to the documentation for alternative solver options:\n",
      "    https://scikit-learn.org/stable/modules/linear_model.html#logistic-regression\n",
      "  n_iter_i = _check_optimize_result(\n",
      "/opt/conda/lib/python3.9/site-packages/sklearn/model_selection/_search.py:918: UserWarning: One or more of the test scores are non-finite: [       nan 0.05329506        nan 0.35502825        nan 0.71941013\n",
      "        nan 0.67756617        nan 0.71941013        nan 0.75954858\n",
      "        nan 0.76578002]\n",
      "  warnings.warn(\n"
     ]
    },
    {
     "name": "stdout",
     "output_type": "stream",
     "text": [
      "CPU times: user 9min 3s, sys: 11min 29s, total: 20min 32s\n",
      "Wall time: 20min 35s\n"
     ]
    },
    {
     "name": "stderr",
     "output_type": "stream",
     "text": [
      "/opt/conda/lib/python3.9/site-packages/sklearn/linear_model/_logistic.py:763: ConvergenceWarning: lbfgs failed to converge (status=1):\n",
      "STOP: TOTAL NO. of ITERATIONS REACHED LIMIT.\n",
      "\n",
      "Increase the number of iterations (max_iter) or scale the data as shown in:\n",
      "    https://scikit-learn.org/stable/modules/preprocessing.html\n",
      "Please also refer to the documentation for alternative solver options:\n",
      "    https://scikit-learn.org/stable/modules/linear_model.html#logistic-regression\n",
      "  n_iter_i = _check_optimize_result(\n"
     ]
    },
    {
     "data": {
      "text/plain": [
       "GridSearchCV(cv=5, estimator=LogisticRegression(random_state=12345), n_jobs=-1,\n",
       "             param_grid={'C': [0.01, 0.05, 1, 0.5, 1, 5, 10],\n",
       "                         'penalty': ['l1', 'l2']},\n",
       "             scoring='f1')"
      ]
     },
     "execution_count": 24,
     "metadata": {},
     "output_type": "execute_result"
    }
   ],
   "source": [
    "%%time\n",
    "grid.fit(features_train_tf_idf, target_train)"
   ]
  },
  {
   "cell_type": "code",
   "execution_count": 25,
   "metadata": {},
   "outputs": [
    {
     "data": {
      "text/plain": [
       "{'C': 10, 'penalty': 'l2'}"
      ]
     },
     "execution_count": 25,
     "metadata": {},
     "output_type": "execute_result"
    }
   ],
   "source": [
    "grid.best_params_"
   ]
  },
  {
   "cell_type": "code",
   "execution_count": 26,
   "metadata": {
    "scrolled": true
   },
   "outputs": [
    {
     "data": {
      "text/plain": [
       "LogisticRegression(C=10, random_state=12345)"
      ]
     },
     "execution_count": 26,
     "metadata": {},
     "output_type": "execute_result"
    }
   ],
   "source": [
    "grid.best_estimator_"
   ]
  },
  {
   "cell_type": "code",
   "execution_count": 27,
   "metadata": {},
   "outputs": [
    {
     "name": "stdout",
     "output_type": "stream",
     "text": [
      "F1: 0.77\n"
     ]
    }
   ],
   "source": [
    "print(\"F1:\", grid.best_score_.round(2))"
   ]
  },
  {
   "cell_type": "markdown",
   "metadata": {},
   "source": [
    "### Обучим модель с помощью CatBoostClassifier"
   ]
  },
  {
   "cell_type": "code",
   "execution_count": 28,
   "metadata": {},
   "outputs": [],
   "source": [
    "model_cbc = CatBoostClassifier(loss_function=\"Logloss\", iterations=160, learning_rate=0.47)"
   ]
  },
  {
   "cell_type": "code",
   "execution_count": 30,
   "metadata": {},
   "outputs": [],
   "source": [
    "features_train_cb, features_test, target_train_cb, target_test = train_test_split(\n",
    "    features_train, target_train, test_size=0.21, random_state=12345\n",
    ")"
   ]
  },
  {
   "cell_type": "code",
   "execution_count": 31,
   "metadata": {},
   "outputs": [],
   "source": [
    "count_tf_idf_cb = TfidfVectorizer(stop_words=stopwords)"
   ]
  },
  {
   "cell_type": "code",
   "execution_count": 33,
   "metadata": {},
   "outputs": [],
   "source": [
    "features_train_tf_idf_cb = count_tf_idf_cb.fit_transform(features_train_cb) "
   ]
  },
  {
   "cell_type": "code",
   "execution_count": 35,
   "metadata": {},
   "outputs": [],
   "source": [
    "features_test_tf_idf = count_tf_idf_cb.transform(features_test)"
   ]
  },
  {
   "cell_type": "code",
   "execution_count": 37,
   "metadata": {
    "scrolled": true
   },
   "outputs": [
    {
     "name": "stdout",
     "output_type": "stream",
     "text": [
      "0:\tlearn: 0.3476026\ttotal: 2.28s\tremaining: 6m 2s\n",
      "10:\tlearn: 0.1813939\ttotal: 19.2s\tremaining: 4m 20s\n",
      "20:\tlearn: 0.1611229\ttotal: 35.7s\tremaining: 3m 56s\n",
      "30:\tlearn: 0.1490894\ttotal: 53.4s\tremaining: 3m 42s\n",
      "40:\tlearn: 0.1413028\ttotal: 1m 10s\tremaining: 3m 24s\n",
      "50:\tlearn: 0.1345580\ttotal: 1m 26s\tremaining: 3m 5s\n",
      "60:\tlearn: 0.1288160\ttotal: 1m 43s\tremaining: 2m 48s\n",
      "70:\tlearn: 0.1252634\ttotal: 1m 59s\tremaining: 2m 29s\n",
      "80:\tlearn: 0.1219392\ttotal: 2m 16s\tremaining: 2m 13s\n",
      "90:\tlearn: 0.1182976\ttotal: 2m 33s\tremaining: 1m 56s\n",
      "100:\tlearn: 0.1154652\ttotal: 2m 50s\tremaining: 1m 39s\n",
      "110:\tlearn: 0.1135905\ttotal: 3m 6s\tremaining: 1m 22s\n",
      "120:\tlearn: 0.1112783\ttotal: 3m 22s\tremaining: 1m 5s\n",
      "130:\tlearn: 0.1094779\ttotal: 3m 38s\tremaining: 48.4s\n",
      "140:\tlearn: 0.1074918\ttotal: 3m 55s\tremaining: 31.7s\n",
      "150:\tlearn: 0.1056195\ttotal: 4m 12s\tremaining: 15s\n",
      "159:\tlearn: 0.1039813\ttotal: 4m 26s\tremaining: 0us\n"
     ]
    },
    {
     "data": {
      "text/plain": [
       "<catboost.core.CatBoostClassifier at 0x7fad6e7d5eb0>"
      ]
     },
     "execution_count": 37,
     "metadata": {},
     "output_type": "execute_result"
    }
   ],
   "source": [
    "model_cbc.fit(features_train_tf_idf_cb, target_train_cb, verbose=10)"
   ]
  },
  {
   "cell_type": "code",
   "execution_count": 39,
   "metadata": {},
   "outputs": [],
   "source": [
    "predicted_model_cbc = model_cbc.predict(features_test_tf_idf)"
   ]
  },
  {
   "cell_type": "code",
   "execution_count": 43,
   "metadata": {},
   "outputs": [
    {
     "name": "stdout",
     "output_type": "stream",
     "text": [
      "F1: 0.75\n"
     ]
    }
   ],
   "source": [
    "f1_cbc = f1_score(target_test, predicted_model_cbc).round(2)\n",
    "print('F1:', f1_cbc)"
   ]
  },
  {
   "cell_type": "markdown",
   "metadata": {},
   "source": [
    "### Обучим модель RandomForestClassifier, используя cross_val_score"
   ]
  },
  {
   "cell_type": "code",
   "execution_count": 41,
   "metadata": {},
   "outputs": [],
   "source": [
    "model_feat = RandomForestClassifier(random_state=12345)"
   ]
  },
  {
   "cell_type": "code",
   "execution_count": 42,
   "metadata": {
    "scrolled": false
   },
   "outputs": [
    {
     "name": "stderr",
     "output_type": "stream",
     "text": [
      "[Parallel(n_jobs=-1)]: Using backend SequentialBackend with 1 concurrent workers.\n"
     ]
    },
    {
     "name": "stdout",
     "output_type": "stream",
     "text": [
      "[CV] START .....................................................................\n",
      "[CV] END ................................ score: (test=0.667) total time=10.4min\n",
      "[CV] START .....................................................................\n"
     ]
    },
    {
     "name": "stderr",
     "output_type": "stream",
     "text": [
      "[Parallel(n_jobs=-1)]: Done   1 out of   1 | elapsed: 10.4min remaining:    0.0s\n"
     ]
    },
    {
     "name": "stdout",
     "output_type": "stream",
     "text": [
      "[CV] END ................................ score: (test=0.682) total time=10.4min\n",
      "[CV] START .....................................................................\n"
     ]
    },
    {
     "name": "stderr",
     "output_type": "stream",
     "text": [
      "[Parallel(n_jobs=-1)]: Done   2 out of   2 | elapsed: 20.8min remaining:    0.0s\n"
     ]
    },
    {
     "name": "stdout",
     "output_type": "stream",
     "text": [
      "[CV] END ................................ score: (test=0.697) total time=10.4min\n",
      "CPU times: user 31min, sys: 10.1 s, total: 31min 10s\n",
      "Wall time: 31min 11s\n"
     ]
    },
    {
     "name": "stderr",
     "output_type": "stream",
     "text": [
      "[Parallel(n_jobs=-1)]: Done   3 out of   3 | elapsed: 31.2min remaining:    0.0s\n",
      "[Parallel(n_jobs=-1)]: Done   3 out of   3 | elapsed: 31.2min finished\n"
     ]
    }
   ],
   "source": [
    "%%time\n",
    "scores = cross_val_score(\n",
    "    model_feat, features_train_tf_idf, target_train, cv=3, n_jobs=-1, verbose=10, scoring='f1'\n",
    ")"
   ]
  },
  {
   "cell_type": "code",
   "execution_count": 44,
   "metadata": {},
   "outputs": [
    {
     "name": "stdout",
     "output_type": "stream",
     "text": [
      "Средняя оценка качества модели: 0.68\n"
     ]
    }
   ],
   "source": [
    "mean_score = (sum(scores) / len(scores)) \n",
    "\n",
    "print('Средняя оценка качества модели:', mean_score.round(2))"
   ]
  },
  {
   "cell_type": "markdown",
   "metadata": {},
   "source": []
  },
  {
   "cell_type": "markdown",
   "metadata": {},
   "source": [
    "## Выводы"
   ]
  },
  {
   "cell_type": "markdown",
   "metadata": {},
   "source": [
    "### Объединим в одну таблицу результаты оценки качества работы моделей и выберем лучшую"
   ]
  },
  {
   "cell_type": "code",
   "execution_count": 45,
   "metadata": {},
   "outputs": [
    {
     "data": {
      "text/html": [
       "<div>\n",
       "<style scoped>\n",
       "    .dataframe tbody tr th:only-of-type {\n",
       "        vertical-align: middle;\n",
       "    }\n",
       "\n",
       "    .dataframe tbody tr th {\n",
       "        vertical-align: top;\n",
       "    }\n",
       "\n",
       "    .dataframe thead th {\n",
       "        text-align: right;\n",
       "    }\n",
       "</style>\n",
       "<table border=\"1\" class=\"dataframe\">\n",
       "  <thead>\n",
       "    <tr style=\"text-align: right;\">\n",
       "      <th></th>\n",
       "      <th>Метрика</th>\n",
       "      <th>LogisticRegression + GridSearchCV</th>\n",
       "      <th>CatBoostClassifier</th>\n",
       "      <th>RandomForestClassifier+cross_val_score</th>\n",
       "    </tr>\n",
       "  </thead>\n",
       "  <tbody>\n",
       "    <tr>\n",
       "      <th>0</th>\n",
       "      <td>F1</td>\n",
       "      <td>0,77</td>\n",
       "      <td>0,75</td>\n",
       "      <td>0,68</td>\n",
       "    </tr>\n",
       "  </tbody>\n",
       "</table>\n",
       "</div>"
      ],
      "text/plain": [
       "  Метрика LogisticRegression + GridSearchCV CatBoostClassifier  \\\n",
       "0      F1                              0,77               0,75   \n",
       "\n",
       "  RandomForestClassifier+cross_val_score  \n",
       "0                                   0,68  "
      ]
     },
     "metadata": {},
     "output_type": "display_data"
    }
   ],
   "source": [
    "parameters = [\n",
    "    ['F1', '0,77', '0,75', '0,68']\n",
    "]\n",
    "\n",
    "list = ['Метрика', 'LogisticRegression + GridSearchCV', 'CatBoostClassifier', 'RandomForestClassifier+cross_val_score']\n",
    "\n",
    "total = pd.DataFrame(data=parameters, columns=list) \n",
    "\n",
    "display(total)"
   ]
  },
  {
   "cell_type": "markdown",
   "metadata": {},
   "source": [
    "<div class=\"alert alert-info\">\n",
    "\n",
    "Лучший показатель метрики качества F1 у модели  LogisticRegression + GridSearchCV - 0,75.\n",
    "\n",
    "Параметры модели LogisticRegression для обучения:\n",
    "\n",
    "* 'C': 10, \n",
    "* 'penalty': 'l2'"
   ]
  },
  {
   "cell_type": "markdown",
   "metadata": {},
   "source": [
    "<div class=\"alert alert-info\">\n",
    "Проверим лучшую модель на тествой выборке"
   ]
  },
  {
   "cell_type": "code",
   "execution_count": 46,
   "metadata": {},
   "outputs": [],
   "source": [
    "predicted_grid = grid.predict(features_valid_tf_idf)"
   ]
  },
  {
   "cell_type": "code",
   "execution_count": 47,
   "metadata": {},
   "outputs": [
    {
     "name": "stdout",
     "output_type": "stream",
     "text": [
      "F1: 0.79\n"
     ]
    }
   ],
   "source": [
    "f1 = f1_score(target_valid, predicted_grid).round(2)\n",
    "print('F1:', f1)"
   ]
  },
  {
   "cell_type": "markdown",
   "metadata": {},
   "source": [
    "<div class=\"alert alert-info\">\n",
    "Метрика F1 выбранной модели на тестовой выборке показала лучший результат по сравнению с обучающей выборкой - на 0,02.\n",
    "    \n",
    "Можно сделать вывод, что обученная нами модель LogisticRegression (grid) подходит для классификации комментариев на позитивные и негативные."
   ]
  }
 ],
 "metadata": {
  "ExecuteTimeLog": [
   {
    "duration": 2430,
    "start_time": "2023-04-11T14:21:24.715Z"
   },
   {
    "duration": 3149,
    "start_time": "2023-04-11T14:22:00.562Z"
   },
   {
    "duration": 3,
    "start_time": "2023-04-11T14:23:25.768Z"
   },
   {
    "duration": 856,
    "start_time": "2023-04-11T14:24:37.294Z"
   },
   {
    "duration": 1838,
    "start_time": "2023-04-11T14:24:40.135Z"
   },
   {
    "duration": 308,
    "start_time": "2023-04-11T14:25:05.076Z"
   },
   {
    "duration": 25,
    "start_time": "2023-04-11T14:25:12.414Z"
   },
   {
    "duration": 19,
    "start_time": "2023-04-11T14:25:27.196Z"
   },
   {
    "duration": 293,
    "start_time": "2023-04-11T14:25:42.308Z"
   },
   {
    "duration": 3,
    "start_time": "2023-04-11T14:25:54.810Z"
   },
   {
    "duration": 20,
    "start_time": "2023-04-11T14:26:01.894Z"
   },
   {
    "duration": 3,
    "start_time": "2023-04-11T14:26:05.098Z"
   },
   {
    "duration": 27,
    "start_time": "2023-04-11T14:26:38.614Z"
   },
   {
    "duration": 2577,
    "start_time": "2023-04-11T14:26:43.365Z"
   },
   {
    "duration": 3,
    "start_time": "2023-04-11T14:27:15.796Z"
   },
   {
    "duration": 131,
    "start_time": "2023-04-11T14:27:17.061Z"
   },
   {
    "duration": 3,
    "start_time": "2023-04-11T14:49:05.347Z"
   },
   {
    "duration": 3013,
    "start_time": "2023-04-11T14:49:24.334Z"
   },
   {
    "duration": 2329,
    "start_time": "2023-04-11T14:49:30.075Z"
   },
   {
    "duration": 4245,
    "start_time": "2023-04-11T14:49:45.443Z"
   },
   {
    "duration": 840,
    "start_time": "2023-04-11T14:49:59.336Z"
   },
   {
    "duration": 2274,
    "start_time": "2023-04-11T14:50:00.890Z"
   },
   {
    "duration": 311,
    "start_time": "2023-04-11T14:50:04.012Z"
   },
   {
    "duration": 809,
    "start_time": "2023-04-11T14:52:40.547Z"
   },
   {
    "duration": 185,
    "start_time": "2023-04-11T14:52:43.665Z"
   },
   {
    "duration": 19,
    "start_time": "2023-04-11T14:52:47.894Z"
   },
   {
    "duration": 283,
    "start_time": "2023-04-11T14:52:48.588Z"
   },
   {
    "duration": 3,
    "start_time": "2023-04-11T14:52:50.725Z"
   },
   {
    "duration": 24,
    "start_time": "2023-04-11T14:52:51.389Z"
   },
   {
    "duration": 3,
    "start_time": "2023-04-11T14:52:51.969Z"
   },
   {
    "duration": 54,
    "start_time": "2023-04-11T14:52:52.531Z"
   },
   {
    "duration": 3957,
    "start_time": "2023-04-11T14:52:53.148Z"
   },
   {
    "duration": 2,
    "start_time": "2023-04-11T14:52:58.853Z"
   },
   {
    "duration": 71,
    "start_time": "2023-04-11T14:52:59.640Z"
   },
   {
    "duration": 266,
    "start_time": "2023-04-11T14:59:55.690Z"
   },
   {
    "duration": 890,
    "start_time": "2023-04-11T15:00:00.482Z"
   },
   {
    "duration": 195,
    "start_time": "2023-04-11T15:00:03.199Z"
   },
   {
    "duration": 20,
    "start_time": "2023-04-11T15:00:03.989Z"
   },
   {
    "duration": 286,
    "start_time": "2023-04-11T15:00:04.973Z"
   },
   {
    "duration": 3,
    "start_time": "2023-04-11T15:00:07.142Z"
   },
   {
    "duration": 12,
    "start_time": "2023-04-11T15:00:08.009Z"
   },
   {
    "duration": 3,
    "start_time": "2023-04-11T15:00:08.527Z"
   },
   {
    "duration": 26,
    "start_time": "2023-04-11T15:00:09.024Z"
   },
   {
    "duration": 54,
    "start_time": "2023-04-11T15:04:53.300Z"
   },
   {
    "duration": 4448,
    "start_time": "2023-04-11T15:04:55.822Z"
   },
   {
    "duration": 3177,
    "start_time": "2023-04-11T15:05:01.093Z"
   },
   {
    "duration": 199,
    "start_time": "2023-04-11T15:05:07.411Z"
   },
   {
    "duration": 22,
    "start_time": "2023-04-11T15:05:08.290Z"
   },
   {
    "duration": 275,
    "start_time": "2023-04-11T15:05:09.995Z"
   },
   {
    "duration": 3,
    "start_time": "2023-04-11T15:05:12.904Z"
   },
   {
    "duration": 11,
    "start_time": "2023-04-11T15:05:15.491Z"
   },
   {
    "duration": 3,
    "start_time": "2023-04-11T15:05:16.670Z"
   },
   {
    "duration": 74,
    "start_time": "2023-04-11T15:05:17.981Z"
   },
   {
    "duration": 26250,
    "start_time": "2023-04-11T15:05:18.762Z"
   },
   {
    "duration": 3,
    "start_time": "2023-04-11T15:06:37.180Z"
   },
   {
    "duration": 4373,
    "start_time": "2023-04-11T15:39:17.930Z"
   },
   {
    "duration": 3511,
    "start_time": "2023-04-11T15:39:22.935Z"
   },
   {
    "duration": 241,
    "start_time": "2023-04-11T15:39:28.779Z"
   },
   {
    "duration": 19,
    "start_time": "2023-04-11T15:39:30.221Z"
   },
   {
    "duration": 326,
    "start_time": "2023-04-11T15:39:32.257Z"
   },
   {
    "duration": 4,
    "start_time": "2023-04-11T15:39:34.120Z"
   },
   {
    "duration": 12,
    "start_time": "2023-04-11T15:39:34.770Z"
   },
   {
    "duration": 3,
    "start_time": "2023-04-11T15:39:47.324Z"
   },
   {
    "duration": 61,
    "start_time": "2023-04-11T15:39:48.208Z"
   },
   {
    "duration": 29478,
    "start_time": "2023-04-11T15:39:49.685Z"
   },
   {
    "duration": 3,
    "start_time": "2023-04-11T15:40:21.045Z"
   },
   {
    "duration": 43,
    "start_time": "2023-04-11T19:00:41.578Z"
   },
   {
    "duration": 1371,
    "start_time": "2023-04-11T19:00:44.120Z"
   },
   {
    "duration": 3366,
    "start_time": "2023-04-11T19:00:46.006Z"
   },
   {
    "duration": 13,
    "start_time": "2023-04-11T19:02:20.381Z"
   },
   {
    "duration": 14,
    "start_time": "2023-04-11T19:02:56.820Z"
   },
   {
    "duration": 2902,
    "start_time": "2023-04-11T19:03:04.447Z"
   },
   {
    "duration": 3,
    "start_time": "2023-04-11T19:08:53.615Z"
   },
   {
    "duration": 79,
    "start_time": "2023-04-11T19:13:23.955Z"
   },
   {
    "duration": 12,
    "start_time": "2023-04-11T19:14:40.680Z"
   },
   {
    "duration": 17,
    "start_time": "2023-04-11T19:15:30.708Z"
   },
   {
    "duration": 3,
    "start_time": "2023-04-11T19:16:50.721Z"
   },
   {
    "duration": 12,
    "start_time": "2023-04-11T19:23:27.907Z"
   },
   {
    "duration": 2770,
    "start_time": "2023-04-11T19:39:20.704Z"
   },
   {
    "duration": 722,
    "start_time": "2023-04-11T19:39:25.019Z"
   },
   {
    "duration": 10,
    "start_time": "2023-04-11T19:39:30.495Z"
   },
   {
    "duration": 21,
    "start_time": "2023-04-11T19:39:36.587Z"
   },
   {
    "duration": 14,
    "start_time": "2023-04-11T19:39:38.634Z"
   },
   {
    "duration": 4023,
    "start_time": "2023-04-11T19:40:03.800Z"
   },
   {
    "duration": 3300,
    "start_time": "2023-04-11T19:40:08.482Z"
   },
   {
    "duration": 23,
    "start_time": "2023-04-11T19:40:14.082Z"
   },
   {
    "duration": 647,
    "start_time": "2023-04-11T19:40:16.828Z"
   },
   {
    "duration": 3,
    "start_time": "2023-04-11T19:43:11.990Z"
   },
   {
    "duration": 334,
    "start_time": "2023-04-11T19:48:28.710Z"
   },
   {
    "duration": 27,
    "start_time": "2023-04-11T19:50:09.230Z"
   },
   {
    "duration": 17,
    "start_time": "2023-04-11T19:54:15.726Z"
   },
   {
    "duration": 4,
    "start_time": "2023-04-11T19:54:23.910Z"
   },
   {
    "duration": 3,
    "start_time": "2023-04-11T19:54:28.490Z"
   },
   {
    "duration": 3,
    "start_time": "2023-04-11T19:54:28.977Z"
   },
   {
    "duration": 24,
    "start_time": "2023-04-11T19:54:32.128Z"
   },
   {
    "duration": 3,
    "start_time": "2023-04-11T19:54:39.207Z"
   },
   {
    "duration": 3,
    "start_time": "2023-04-11T19:54:43.512Z"
   },
   {
    "duration": 3,
    "start_time": "2023-04-11T19:54:43.959Z"
   },
   {
    "duration": 25,
    "start_time": "2023-04-11T19:54:45.007Z"
   },
   {
    "duration": 4,
    "start_time": "2023-04-11T19:55:10.339Z"
   },
   {
    "duration": 494,
    "start_time": "2023-04-11T19:55:10.835Z"
   },
   {
    "duration": 4,
    "start_time": "2023-04-11T19:58:13.287Z"
   },
   {
    "duration": 450,
    "start_time": "2023-04-11T19:58:14.736Z"
   },
   {
    "duration": 4,
    "start_time": "2023-04-11T19:58:34.938Z"
   },
   {
    "duration": 448,
    "start_time": "2023-04-11T19:58:35.429Z"
   },
   {
    "duration": 453,
    "start_time": "2023-04-11T19:58:52.894Z"
   },
   {
    "duration": 3,
    "start_time": "2023-04-11T19:58:57.250Z"
   },
   {
    "duration": 3,
    "start_time": "2023-04-11T19:58:59.352Z"
   },
   {
    "duration": 757,
    "start_time": "2023-04-11T19:59:06.049Z"
   },
   {
    "duration": 27,
    "start_time": "2023-04-11T19:59:10.570Z"
   },
   {
    "duration": 616,
    "start_time": "2023-04-11T19:59:13.236Z"
   },
   {
    "duration": 444,
    "start_time": "2023-04-11T19:59:28.901Z"
   },
   {
    "duration": 7457,
    "start_time": "2023-04-11T19:59:50.969Z"
   },
   {
    "duration": 854,
    "start_time": "2023-04-11T19:59:59.647Z"
   },
   {
    "duration": 37,
    "start_time": "2023-04-11T20:00:02.527Z"
   },
   {
    "duration": 588,
    "start_time": "2023-04-11T20:00:05.451Z"
   },
   {
    "duration": 4,
    "start_time": "2023-04-11T20:00:09.770Z"
   },
   {
    "duration": 795,
    "start_time": "2023-04-11T20:00:12.584Z"
   },
   {
    "duration": 3,
    "start_time": "2023-04-11T20:00:22.188Z"
   },
   {
    "duration": 480,
    "start_time": "2023-04-11T20:00:22.964Z"
   },
   {
    "duration": 3,
    "start_time": "2023-04-11T20:02:56.441Z"
   },
   {
    "duration": 3591,
    "start_time": "2023-04-11T20:09:56.090Z"
   },
   {
    "duration": 910,
    "start_time": "2023-04-11T20:10:00.767Z"
   },
   {
    "duration": 25,
    "start_time": "2023-04-11T20:10:04.841Z"
   },
   {
    "duration": 584,
    "start_time": "2023-04-11T20:10:07.746Z"
   },
   {
    "duration": 3,
    "start_time": "2023-04-11T20:10:09.946Z"
   },
   {
    "duration": 511,
    "start_time": "2023-04-11T20:10:24.382Z"
   },
   {
    "duration": 3,
    "start_time": "2023-04-11T20:10:29.005Z"
   },
   {
    "duration": 332640,
    "start_time": "2023-04-11T20:10:33.411Z"
   },
   {
    "duration": 10,
    "start_time": "2023-04-11T20:16:37.851Z"
   },
   {
    "duration": 3621,
    "start_time": "2023-04-11T20:17:21.344Z"
   },
   {
    "duration": 802,
    "start_time": "2023-04-11T20:17:25.701Z"
   },
   {
    "duration": 24,
    "start_time": "2023-04-11T20:17:28.699Z"
   },
   {
    "duration": 594,
    "start_time": "2023-04-11T20:17:31.217Z"
   },
   {
    "duration": 3,
    "start_time": "2023-04-11T20:17:47.811Z"
   },
   {
    "duration": 299,
    "start_time": "2023-04-11T20:21:46.526Z"
   },
   {
    "duration": 1638,
    "start_time": "2023-04-11T20:21:55.802Z"
   },
   {
    "duration": 2309,
    "start_time": "2023-04-11T20:22:14.566Z"
   },
   {
    "duration": 443,
    "start_time": "2023-04-11T20:22:25.205Z"
   },
   {
    "duration": 3,
    "start_time": "2023-04-11T20:22:26.185Z"
   },
   {
    "duration": 40167,
    "start_time": "2023-04-11T20:22:44.164Z"
   },
   {
    "duration": 10,
    "start_time": "2023-04-11T20:25:00.632Z"
   },
   {
    "duration": 5,
    "start_time": "2023-04-11T20:25:06.998Z"
   },
   {
    "duration": 5,
    "start_time": "2023-04-11T20:25:19.468Z"
   },
   {
    "duration": 666,
    "start_time": "2023-04-11T20:25:36.427Z"
   },
   {
    "duration": 24,
    "start_time": "2023-04-11T20:25:38.983Z"
   },
   {
    "duration": 1566,
    "start_time": "2023-04-11T20:25:41.639Z"
   },
   {
    "duration": 411,
    "start_time": "2023-04-11T20:25:45.695Z"
   },
   {
    "duration": 3,
    "start_time": "2023-04-11T20:25:47.753Z"
   },
   {
    "duration": 326895,
    "start_time": "2023-04-11T20:25:54.220Z"
   },
   {
    "duration": 5,
    "start_time": "2023-04-11T20:31:44.212Z"
   },
   {
    "duration": 1699,
    "start_time": "2023-04-11T20:31:47.500Z"
   },
   {
    "duration": 4,
    "start_time": "2023-04-11T20:31:51.101Z"
   },
   {
    "duration": 2329,
    "start_time": "2023-04-11T20:31:59.415Z"
   },
   {
    "duration": 5,
    "start_time": "2023-04-11T20:32:07.677Z"
   },
   {
    "duration": 2224,
    "start_time": "2023-04-11T20:32:56.170Z"
   },
   {
    "duration": 5,
    "start_time": "2023-04-11T20:33:00.382Z"
   },
   {
    "duration": 2,
    "start_time": "2023-04-11T20:33:07.959Z"
   },
   {
    "duration": 1170,
    "start_time": "2023-04-11T20:33:08.879Z"
   },
   {
    "duration": 5,
    "start_time": "2023-04-11T20:33:15.850Z"
   },
   {
    "duration": 547,
    "start_time": "2023-04-11T20:34:34.794Z"
   },
   {
    "duration": 3,
    "start_time": "2023-04-11T20:35:15.264Z"
   },
   {
    "duration": 179,
    "start_time": "2023-04-11T20:35:21.811Z"
   },
   {
    "duration": 5,
    "start_time": "2023-04-11T20:42:20.785Z"
   },
   {
    "duration": 4,
    "start_time": "2023-04-11T20:45:44.531Z"
   },
   {
    "duration": 16,
    "start_time": "2023-04-11T20:46:29.435Z"
   },
   {
    "duration": 3,
    "start_time": "2023-04-11T20:46:45.487Z"
   },
   {
    "duration": 562,
    "start_time": "2023-04-11T20:46:52.169Z"
   },
   {
    "duration": 2,
    "start_time": "2023-04-11T20:47:12.230Z"
   },
   {
    "duration": 2080,
    "start_time": "2023-04-11T20:49:13.337Z"
   },
   {
    "duration": 644,
    "start_time": "2023-04-11T20:49:37.966Z"
   },
   {
    "duration": 3,
    "start_time": "2023-04-11T20:49:52.861Z"
   },
   {
    "duration": 4373,
    "start_time": "2023-04-11T20:50:29.268Z"
   },
   {
    "duration": 5,
    "start_time": "2023-04-11T20:50:47.953Z"
   },
   {
    "duration": 3,
    "start_time": "2023-04-11T20:52:46.622Z"
   },
   {
    "duration": 4,
    "start_time": "2023-04-11T20:54:00.271Z"
   },
   {
    "duration": 6,
    "start_time": "2023-04-11T20:54:01.321Z"
   },
   {
    "duration": 6556,
    "start_time": "2023-04-11T20:54:14.091Z"
   },
   {
    "duration": 3159,
    "start_time": "2023-04-11T20:54:23.490Z"
   },
   {
    "duration": 20,
    "start_time": "2023-04-11T20:54:27.638Z"
   },
   {
    "duration": 23,
    "start_time": "2023-04-11T20:54:29.151Z"
   },
   {
    "duration": 1611,
    "start_time": "2023-04-11T20:54:30.436Z"
   },
   {
    "duration": 450,
    "start_time": "2023-04-11T20:54:33.215Z"
   },
   {
    "duration": 3,
    "start_time": "2023-04-11T20:54:34.373Z"
   },
   {
    "duration": 322823,
    "start_time": "2023-04-11T20:54:35.434Z"
   },
   {
    "duration": 6,
    "start_time": "2023-04-11T21:03:41.026Z"
   },
   {
    "duration": 6828,
    "start_time": "2023-04-11T21:12:28.654Z"
   },
   {
    "duration": 3166,
    "start_time": "2023-04-11T21:13:22.737Z"
   },
   {
    "duration": 15,
    "start_time": "2023-04-11T21:13:26.525Z"
   },
   {
    "duration": 23,
    "start_time": "2023-04-11T21:13:28.131Z"
   },
   {
    "duration": 1596,
    "start_time": "2023-04-11T21:13:29.307Z"
   },
   {
    "duration": 442,
    "start_time": "2023-04-11T21:13:31.605Z"
   },
   {
    "duration": 3,
    "start_time": "2023-04-11T21:13:32.726Z"
   },
   {
    "duration": 322929,
    "start_time": "2023-04-11T21:13:33.724Z"
   },
   {
    "duration": 6,
    "start_time": "2023-04-11T21:21:04.575Z"
   },
   {
    "duration": 1861,
    "start_time": "2023-04-11T21:21:07.621Z"
   },
   {
    "duration": 3,
    "start_time": "2023-04-11T21:21:11.209Z"
   },
   {
    "duration": 1189,
    "start_time": "2023-04-11T21:21:12.791Z"
   },
   {
    "duration": 5,
    "start_time": "2023-04-11T21:21:19.460Z"
   },
   {
    "duration": 581,
    "start_time": "2023-04-11T21:21:23.660Z"
   },
   {
    "duration": 3,
    "start_time": "2023-04-11T21:21:24.814Z"
   },
   {
    "duration": 133,
    "start_time": "2023-04-11T21:21:25.531Z"
   },
   {
    "duration": 6,
    "start_time": "2023-04-11T21:21:47.084Z"
   },
   {
    "duration": 562,
    "start_time": "2023-04-11T21:21:48.213Z"
   },
   {
    "duration": 3,
    "start_time": "2023-04-11T21:21:50.772Z"
   },
   {
    "duration": 1875,
    "start_time": "2023-04-11T21:21:51.589Z"
   },
   {
    "duration": 653,
    "start_time": "2023-04-11T21:21:54.207Z"
   },
   {
    "duration": 2,
    "start_time": "2023-04-11T21:21:56.963Z"
   },
   {
    "duration": 2361,
    "start_time": "2023-04-11T21:21:57.884Z"
   },
   {
    "duration": 4,
    "start_time": "2023-04-11T21:22:03.143Z"
   },
   {
    "duration": 7,
    "start_time": "2023-04-11T21:22:26.295Z"
   },
   {
    "duration": 3,
    "start_time": "2023-04-11T21:24:43.358Z"
   },
   {
    "duration": 14142,
    "start_time": "2023-04-11T21:24:44.100Z"
   },
   {
    "duration": 4,
    "start_time": "2023-04-11T21:25:00.382Z"
   },
   {
    "duration": 6,
    "start_time": "2023-04-11T21:25:01.050Z"
   },
   {
    "duration": 5,
    "start_time": "2023-04-11T21:30:09.338Z"
   },
   {
    "duration": 3,
    "start_time": "2023-04-11T21:30:10.154Z"
   },
   {
    "duration": 7,
    "start_time": "2023-04-11T21:30:16.399Z"
   },
   {
    "duration": 2395,
    "start_time": "2023-04-11T21:31:43.945Z"
   },
   {
    "duration": 66,
    "start_time": "2023-04-11T21:32:08.144Z"
   },
   {
    "duration": 3,
    "start_time": "2023-04-11T21:32:14.697Z"
   },
   {
    "duration": 3211,
    "start_time": "2023-04-11T21:32:20.728Z"
   },
   {
    "duration": 4,
    "start_time": "2023-04-11T21:32:33.053Z"
   },
   {
    "duration": 7,
    "start_time": "2023-04-11T21:32:34.836Z"
   },
   {
    "duration": 583,
    "start_time": "2023-04-11T21:32:59.373Z"
   },
   {
    "duration": 13,
    "start_time": "2023-04-11T21:33:03.089Z"
   },
   {
    "duration": 1947,
    "start_time": "2023-04-11T21:33:03.785Z"
   },
   {
    "duration": 591,
    "start_time": "2023-04-11T21:33:06.400Z"
   },
   {
    "duration": 3406,
    "start_time": "2023-04-11T21:36:54.695Z"
   },
   {
    "duration": 855,
    "start_time": "2023-04-11T21:36:58.666Z"
   },
   {
    "duration": 27,
    "start_time": "2023-04-11T21:37:08.356Z"
   },
   {
    "duration": 2294,
    "start_time": "2023-04-11T21:37:11.102Z"
   },
   {
    "duration": 439,
    "start_time": "2023-04-11T21:37:14.042Z"
   },
   {
    "duration": 2,
    "start_time": "2023-04-11T21:37:15.520Z"
   },
   {
    "duration": 3,
    "start_time": "2023-04-11T21:37:25.565Z"
   },
   {
    "duration": 6170,
    "start_time": "2023-04-11T21:49:19.991Z"
   },
   {
    "duration": 3127,
    "start_time": "2023-04-11T21:49:33.121Z"
   },
   {
    "duration": 28,
    "start_time": "2023-04-11T21:49:39.315Z"
   },
   {
    "duration": 2311,
    "start_time": "2023-04-11T21:49:42.007Z"
   },
   {
    "duration": 438,
    "start_time": "2023-04-11T21:49:45.651Z"
   },
   {
    "duration": 2,
    "start_time": "2023-04-11T21:49:47.672Z"
   },
   {
    "duration": 435362,
    "start_time": "2023-04-11T21:49:51.736Z"
   },
   {
    "duration": 9,
    "start_time": "2023-04-11T21:59:54.598Z"
   },
   {
    "duration": 6468,
    "start_time": "2023-04-11T22:00:33.477Z"
   },
   {
    "duration": 3302,
    "start_time": "2023-04-11T22:01:59.117Z"
   },
   {
    "duration": 26,
    "start_time": "2023-04-11T22:02:07.407Z"
   },
   {
    "duration": 2000,
    "start_time": "2023-04-11T22:02:10.101Z"
   },
   {
    "duration": 469,
    "start_time": "2023-04-11T22:02:12.785Z"
   },
   {
    "duration": 3,
    "start_time": "2023-04-11T22:02:14.044Z"
   },
   {
    "duration": 375704,
    "start_time": "2023-04-11T22:02:14.912Z"
   },
   {
    "duration": 6964,
    "start_time": "2023-04-11T22:12:15.932Z"
   },
   {
    "duration": 3178,
    "start_time": "2023-04-11T22:12:24.232Z"
   },
   {
    "duration": 26,
    "start_time": "2023-04-11T22:12:33.527Z"
   },
   {
    "duration": 1651,
    "start_time": "2023-04-11T22:12:36.360Z"
   },
   {
    "duration": 438,
    "start_time": "2023-04-11T22:12:39.185Z"
   },
   {
    "duration": 3,
    "start_time": "2023-04-11T22:12:41.458Z"
   },
   {
    "duration": 307201,
    "start_time": "2023-04-11T22:12:51.506Z"
   },
   {
    "duration": 9,
    "start_time": "2023-04-11T22:20:36.771Z"
   },
   {
    "duration": 2295,
    "start_time": "2023-04-11T22:20:41.625Z"
   },
   {
    "duration": 3,
    "start_time": "2023-04-11T22:20:46.586Z"
   },
   {
    "duration": 1178,
    "start_time": "2023-04-11T22:20:47.847Z"
   },
   {
    "duration": 600,
    "start_time": "2023-04-11T22:20:59.662Z"
   },
   {
    "duration": 3,
    "start_time": "2023-04-11T22:21:00.798Z"
   },
   {
    "duration": 5,
    "start_time": "2023-04-11T22:21:04.075Z"
   },
   {
    "duration": 216,
    "start_time": "2023-04-11T22:21:06.570Z"
   },
   {
    "duration": 6,
    "start_time": "2023-04-11T22:21:07.394Z"
   },
   {
    "duration": 597,
    "start_time": "2023-04-11T22:21:07.987Z"
   },
   {
    "duration": 3,
    "start_time": "2023-04-11T22:21:09.146Z"
   },
   {
    "duration": 1786,
    "start_time": "2023-04-11T22:21:09.814Z"
   },
   {
    "duration": 623,
    "start_time": "2023-04-11T22:21:12.179Z"
   },
   {
    "duration": 24,
    "start_time": "2023-04-11T22:23:25.355Z"
   },
   {
    "duration": 5,
    "start_time": "2023-04-11T22:23:33.060Z"
   },
   {
    "duration": 423,
    "start_time": "2023-04-11T22:24:02.144Z"
   },
   {
    "duration": 3,
    "start_time": "2023-04-11T22:24:18.923Z"
   },
   {
    "duration": 227042,
    "start_time": "2023-04-11T22:24:25.744Z"
   },
   {
    "duration": 230884,
    "start_time": "2023-04-11T22:28:42.962Z"
   },
   {
    "duration": 99,
    "start_time": "2023-04-11T22:33:20.699Z"
   },
   {
    "duration": 3,
    "start_time": "2023-04-11T22:33:48.782Z"
   },
   {
    "duration": 662,
    "start_time": "2023-04-11T22:34:01.039Z"
   },
   {
    "duration": 2,
    "start_time": "2023-04-11T22:34:02.308Z"
   },
   {
    "duration": 4,
    "start_time": "2023-04-11T22:34:04.374Z"
   },
   {
    "duration": 3,
    "start_time": "2023-04-11T22:34:04.942Z"
   },
   {
    "duration": 698,
    "start_time": "2023-04-11T22:34:05.625Z"
   },
   {
    "duration": 7,
    "start_time": "2023-04-11T22:34:06.427Z"
   },
   {
    "duration": 1770,
    "start_time": "2023-04-11T22:34:07.567Z"
   },
   {
    "duration": 580,
    "start_time": "2023-04-11T22:34:09.960Z"
   },
   {
    "duration": 3,
    "start_time": "2023-04-11T22:34:11.349Z"
   },
   {
    "duration": 21,
    "start_time": "2023-04-11T22:34:12.039Z"
   },
   {
    "duration": 3415,
    "start_time": "2023-04-11T22:34:37.391Z"
   },
   {
    "duration": 683,
    "start_time": "2023-04-11T22:34:42.448Z"
   },
   {
    "duration": 23,
    "start_time": "2023-04-11T22:34:45.776Z"
   },
   {
    "duration": 1751,
    "start_time": "2023-04-11T22:34:46.766Z"
   },
   {
    "duration": 424,
    "start_time": "2023-04-11T22:34:49.155Z"
   },
   {
    "duration": 3,
    "start_time": "2023-04-11T22:34:50.160Z"
   },
   {
    "duration": 310425,
    "start_time": "2023-04-11T22:35:01.402Z"
   },
   {
    "duration": 9,
    "start_time": "2023-04-11T22:41:21.312Z"
   },
   {
    "duration": 2510,
    "start_time": "2023-04-11T22:41:24.115Z"
   },
   {
    "duration": 3,
    "start_time": "2023-04-11T22:41:27.937Z"
   },
   {
    "duration": 1164,
    "start_time": "2023-04-11T22:41:29.208Z"
   },
   {
    "duration": 596,
    "start_time": "2023-04-11T22:41:35.642Z"
   },
   {
    "duration": 2,
    "start_time": "2023-04-11T22:41:36.921Z"
   },
   {
    "duration": 146,
    "start_time": "2023-04-11T22:41:39.604Z"
   },
   {
    "duration": 4,
    "start_time": "2023-04-11T22:41:40.508Z"
   },
   {
    "duration": 627,
    "start_time": "2023-04-11T22:41:41.186Z"
   },
   {
    "duration": 4,
    "start_time": "2023-04-11T22:41:42.453Z"
   },
   {
    "duration": 1751,
    "start_time": "2023-04-11T22:41:43.673Z"
   },
   {
    "duration": 572,
    "start_time": "2023-04-11T22:41:46.002Z"
   },
   {
    "duration": 2,
    "start_time": "2023-04-11T22:41:49.619Z"
   },
   {
    "duration": 281,
    "start_time": "2023-04-11T22:41:50.642Z"
   },
   {
    "duration": 2725,
    "start_time": "2023-04-11T22:42:32.010Z"
   },
   {
    "duration": 19,
    "start_time": "2023-04-11T22:42:36.105Z"
   },
   {
    "duration": 4,
    "start_time": "2023-04-11T22:42:43.501Z"
   },
   {
    "duration": 6,
    "start_time": "2023-04-11T22:42:44.975Z"
   },
   {
    "duration": 4,
    "start_time": "2023-04-11T22:42:54.112Z"
   },
   {
    "duration": 30862,
    "start_time": "2023-04-11T22:43:05.434Z"
   },
   {
    "duration": 33268,
    "start_time": "2023-04-11T22:51:34.309Z"
   },
   {
    "duration": 77,
    "start_time": "2023-04-11T22:53:49.138Z"
   },
   {
    "duration": 9160,
    "start_time": "2023-04-11T22:54:11.627Z"
   },
   {
    "duration": 13,
    "start_time": "2023-04-11T22:55:00.351Z"
   },
   {
    "duration": 13,
    "start_time": "2023-04-11T22:55:36.431Z"
   },
   {
    "duration": 39,
    "start_time": "2023-04-11T22:55:52.972Z"
   },
   {
    "duration": 139224,
    "start_time": "2023-04-11T22:57:56.229Z"
   },
   {
    "duration": 90,
    "start_time": "2023-04-11T23:01:10.323Z"
   },
   {
    "duration": 3,
    "start_time": "2023-04-11T23:01:26.425Z"
   },
   {
    "duration": 551299,
    "start_time": "2023-04-11T23:01:39.243Z"
   },
   {
    "duration": 86,
    "start_time": "2023-04-11T23:10:58.963Z"
   },
   {
    "duration": 4,
    "start_time": "2023-04-11T23:12:20.103Z"
   },
   {
    "duration": 1327648,
    "start_time": "2023-04-11T23:12:28.191Z"
   },
   {
    "duration": 3,
    "start_time": "2023-04-11T23:36:16.291Z"
   },
   {
    "duration": 4,
    "start_time": "2023-04-11T23:38:02.973Z"
   },
   {
    "duration": 2,
    "start_time": "2023-04-11T23:38:41.486Z"
   },
   {
    "duration": 43229,
    "start_time": "2023-04-11T23:38:53.572Z"
   },
   {
    "duration": 22,
    "start_time": "2023-04-11T23:39:42.556Z"
   },
   {
    "duration": 6,
    "start_time": "2023-04-11T23:39:43.221Z"
   },
   {
    "duration": 79707,
    "start_time": "2023-04-11T23:40:56.228Z"
   },
   {
    "duration": 3,
    "start_time": "2023-04-11T23:44:38.991Z"
   },
   {
    "duration": 2340,
    "start_time": "2023-04-11T23:45:36.906Z"
   },
   {
    "duration": 3,
    "start_time": "2023-04-11T23:47:30.650Z"
   },
   {
    "duration": 128,
    "start_time": "2023-04-11T23:47:41.100Z"
   },
   {
    "duration": 63623,
    "start_time": "2023-04-11T23:48:31.700Z"
   },
   {
    "duration": 118039,
    "start_time": "2023-04-11T23:56:45.192Z"
   },
   {
    "duration": 3,
    "start_time": "2023-04-11T23:59:29.516Z"
   },
   {
    "duration": 17,
    "start_time": "2023-04-12T00:03:27.996Z"
   },
   {
    "duration": 3,
    "start_time": "2023-04-12T00:04:14.863Z"
   },
   {
    "duration": 2,
    "start_time": "2023-04-12T00:05:05.584Z"
   },
   {
    "duration": 2,
    "start_time": "2023-04-12T00:05:16.619Z"
   },
   {
    "duration": 81240,
    "start_time": "2023-04-12T00:05:21.902Z"
   },
   {
    "duration": 3,
    "start_time": "2023-04-12T00:10:16.434Z"
   },
   {
    "duration": 14629,
    "start_time": "2023-04-12T00:10:29.477Z"
   },
   {
    "duration": 16497,
    "start_time": "2023-04-12T00:16:51.985Z"
   },
   {
    "duration": 15701,
    "start_time": "2023-04-12T00:17:24.194Z"
   },
   {
    "duration": 16310,
    "start_time": "2023-04-12T00:18:52.330Z"
   },
   {
    "duration": 3,
    "start_time": "2023-04-12T00:20:40.983Z"
   },
   {
    "duration": 1889,
    "start_time": "2023-04-12T00:20:53.782Z"
   },
   {
    "duration": 18008,
    "start_time": "2023-04-12T00:21:06.786Z"
   },
   {
    "duration": 3,
    "start_time": "2023-04-12T00:21:30.049Z"
   },
   {
    "duration": 3,
    "start_time": "2023-04-12T00:22:14.262Z"
   },
   {
    "duration": 1689,
    "start_time": "2023-04-12T00:22:16.464Z"
   },
   {
    "duration": 19388,
    "start_time": "2023-04-12T00:22:27.820Z"
   },
   {
    "duration": 3,
    "start_time": "2023-04-12T00:22:55.901Z"
   },
   {
    "duration": 720,
    "start_time": "2023-04-12T00:23:56.752Z"
   },
   {
    "duration": 2,
    "start_time": "2023-04-12T00:23:58.174Z"
   },
   {
    "duration": 140,
    "start_time": "2023-04-12T00:24:00.001Z"
   },
   {
    "duration": 4,
    "start_time": "2023-04-12T00:24:00.629Z"
   },
   {
    "duration": 707,
    "start_time": "2023-04-12T00:24:01.373Z"
   },
   {
    "duration": 9,
    "start_time": "2023-04-12T00:24:03.198Z"
   },
   {
    "duration": 1831,
    "start_time": "2023-04-12T00:24:03.879Z"
   },
   {
    "duration": 615,
    "start_time": "2023-04-12T00:24:05.712Z"
   },
   {
    "duration": 2438,
    "start_time": "2023-04-12T00:24:07.737Z"
   },
   {
    "duration": 3,
    "start_time": "2023-04-12T00:24:17.439Z"
   },
   {
    "duration": 2310,
    "start_time": "2023-04-12T00:24:57.086Z"
   },
   {
    "duration": 3,
    "start_time": "2023-04-12T00:25:03.540Z"
   },
   {
    "duration": 1863,
    "start_time": "2023-04-12T00:25:04.213Z"
   },
   {
    "duration": 18509,
    "start_time": "2023-04-12T00:25:11.851Z"
   },
   {
    "duration": 3,
    "start_time": "2023-04-12T00:26:54.958Z"
   },
   {
    "duration": 17,
    "start_time": "2023-04-12T00:31:28.758Z"
   },
   {
    "duration": 45,
    "start_time": "2023-04-12T00:32:03.361Z"
   },
   {
    "duration": 6054,
    "start_time": "2023-04-12T00:32:13.456Z"
   },
   {
    "duration": 146148,
    "start_time": "2023-04-12T00:32:38.000Z"
   },
   {
    "duration": 3,
    "start_time": "2023-04-12T00:43:44.065Z"
   },
   {
    "duration": 145551,
    "start_time": "2023-04-12T00:45:16.613Z"
   },
   {
    "duration": 147890,
    "start_time": "2023-04-12T00:50:03.907Z"
   },
   {
    "duration": 4309,
    "start_time": "2023-04-12T04:09:39.939Z"
   },
   {
    "duration": 2567,
    "start_time": "2023-04-12T04:09:44.998Z"
   },
   {
    "duration": 33,
    "start_time": "2023-04-12T04:09:53.359Z"
   },
   {
    "duration": 2399,
    "start_time": "2023-04-12T04:09:56.512Z"
   },
   {
    "duration": 506,
    "start_time": "2023-04-12T04:10:00.104Z"
   },
   {
    "duration": 3,
    "start_time": "2023-04-12T04:10:01.297Z"
   },
   {
    "duration": 557704,
    "start_time": "2023-04-12T04:10:03.297Z"
   },
   {
    "duration": 15,
    "start_time": "2023-04-12T04:20:13.716Z"
   },
   {
    "duration": 4411,
    "start_time": "2023-04-12T04:20:31.637Z"
   },
   {
    "duration": 2302,
    "start_time": "2023-04-12T04:20:36.863Z"
   },
   {
    "duration": 41,
    "start_time": "2023-04-12T04:20:44.254Z"
   },
   {
    "duration": 1855,
    "start_time": "2023-04-12T04:20:47.231Z"
   },
   {
    "duration": 537,
    "start_time": "2023-04-12T04:20:49.669Z"
   },
   {
    "duration": 4,
    "start_time": "2023-04-12T04:20:50.696Z"
   },
   {
    "duration": 419330,
    "start_time": "2023-04-12T04:20:51.647Z"
   },
   {
    "duration": 2091,
    "start_time": "2023-04-12T04:28:40.582Z"
   },
   {
    "duration": 5,
    "start_time": "2023-04-12T04:28:44.256Z"
   },
   {
    "duration": 1667,
    "start_time": "2023-04-12T04:28:45.003Z"
   },
   {
    "duration": 637,
    "start_time": "2023-04-12T04:29:33.959Z"
   },
   {
    "duration": 3,
    "start_time": "2023-04-12T04:29:35.195Z"
   },
   {
    "duration": 4,
    "start_time": "2023-04-12T04:29:42.691Z"
   },
   {
    "duration": 323,
    "start_time": "2023-04-12T04:30:11.659Z"
   },
   {
    "duration": 141,
    "start_time": "2023-04-12T04:31:14.460Z"
   },
   {
    "duration": 4,
    "start_time": "2023-04-12T04:31:15.305Z"
   },
   {
    "duration": 647,
    "start_time": "2023-04-12T04:31:15.832Z"
   },
   {
    "duration": 3,
    "start_time": "2023-04-12T04:31:17.975Z"
   },
   {
    "duration": 1518,
    "start_time": "2023-04-12T04:31:19.236Z"
   },
   {
    "duration": 1338,
    "start_time": "2023-04-12T04:31:21.575Z"
   },
   {
    "duration": 3,
    "start_time": "2023-04-12T04:31:29.851Z"
   },
   {
    "duration": 77,
    "start_time": "2023-04-12T04:31:38.887Z"
   },
   {
    "duration": 3,
    "start_time": "2023-04-12T04:31:47.209Z"
   },
   {
    "duration": 4,
    "start_time": "2023-04-12T04:31:52.826Z"
   },
   {
    "duration": 675,
    "start_time": "2023-04-12T04:31:53.304Z"
   },
   {
    "duration": 264,
    "start_time": "2023-04-12T04:31:58.803Z"
   },
   {
    "duration": 10,
    "start_time": "2023-04-12T04:31:59.763Z"
   },
   {
    "duration": 3,
    "start_time": "2023-04-12T04:32:33.800Z"
   },
   {
    "duration": 28984,
    "start_time": "2023-04-12T04:32:37.845Z"
   },
   {
    "duration": 2516,
    "start_time": "2023-04-12T04:33:55.572Z"
   },
   {
    "duration": 10,
    "start_time": "2023-04-12T04:34:00.902Z"
   },
   {
    "duration": 4,
    "start_time": "2023-04-12T04:34:53.424Z"
   },
   {
    "duration": 63,
    "start_time": "2023-04-12T04:34:58.711Z"
   },
   {
    "duration": 733,
    "start_time": "2023-04-12T04:35:05.433Z"
   },
   {
    "duration": 3,
    "start_time": "2023-04-12T04:35:06.797Z"
   },
   {
    "duration": 5,
    "start_time": "2023-04-12T04:35:10.024Z"
   },
   {
    "duration": 4,
    "start_time": "2023-04-12T04:35:11.122Z"
   },
   {
    "duration": 8,
    "start_time": "2023-04-12T04:35:22.609Z"
   },
   {
    "duration": 27,
    "start_time": "2023-04-12T04:35:24.435Z"
   },
   {
    "duration": 2904,
    "start_time": "2023-04-12T04:35:33.090Z"
   },
   {
    "duration": 3,
    "start_time": "2023-04-12T04:35:42.811Z"
   },
   {
    "duration": 464764,
    "start_time": "2023-04-12T04:35:44.327Z"
   },
   {
    "duration": 51,
    "start_time": "2023-04-12T04:44:04.827Z"
   },
   {
    "duration": 4,
    "start_time": "2023-04-12T04:44:09.703Z"
   },
   {
    "duration": 650,
    "start_time": "2023-04-12T04:44:37.471Z"
   },
   {
    "duration": 4,
    "start_time": "2023-04-12T04:44:40.016Z"
   },
   {
    "duration": 4730,
    "start_time": "2023-04-12T04:45:02.058Z"
   },
   {
    "duration": 2291,
    "start_time": "2023-04-12T04:45:07.408Z"
   },
   {
    "duration": 39,
    "start_time": "2023-04-12T04:45:11.259Z"
   },
   {
    "duration": 1927,
    "start_time": "2023-04-12T04:45:14.998Z"
   },
   {
    "duration": 529,
    "start_time": "2023-04-12T04:45:17.722Z"
   },
   {
    "duration": 4,
    "start_time": "2023-04-12T04:45:18.821Z"
   },
   {
    "duration": 597,
    "start_time": "2023-04-12T04:45:30.920Z"
   },
   {
    "duration": 834,
    "start_time": "2023-04-12T04:45:37.288Z"
   },
   {
    "duration": 47,
    "start_time": "2023-04-12T04:45:46.858Z"
   },
   {
    "duration": 2210,
    "start_time": "2023-04-12T04:45:49.353Z"
   },
   {
    "duration": 660,
    "start_time": "2023-04-12T04:45:54.509Z"
   },
   {
    "duration": 4,
    "start_time": "2023-04-12T04:45:56.285Z"
   },
   {
    "duration": 469871,
    "start_time": "2023-04-12T04:45:57.161Z"
   },
   {
    "duration": 63,
    "start_time": "2023-04-12T04:57:41.032Z"
   },
   {
    "duration": 4525,
    "start_time": "2023-04-12T04:57:43.556Z"
   },
   {
    "duration": 2385,
    "start_time": "2023-04-12T04:57:51.026Z"
   },
   {
    "duration": 31,
    "start_time": "2023-04-12T04:57:57.985Z"
   },
   {
    "duration": 1885,
    "start_time": "2023-04-12T04:57:59.862Z"
   },
   {
    "duration": 510,
    "start_time": "2023-04-12T04:58:03.311Z"
   },
   {
    "duration": 3,
    "start_time": "2023-04-12T04:58:06.899Z"
   },
   {
    "duration": 410464,
    "start_time": "2023-04-12T04:58:08.680Z"
   },
   {
    "duration": 4486,
    "start_time": "2023-04-12T05:20:39.960Z"
   },
   {
    "duration": 2375,
    "start_time": "2023-04-12T05:20:45.533Z"
   },
   {
    "duration": 35,
    "start_time": "2023-04-12T05:20:50.913Z"
   },
   {
    "duration": 1901,
    "start_time": "2023-04-12T05:20:51.946Z"
   },
   {
    "duration": 557,
    "start_time": "2023-04-12T05:20:54.404Z"
   },
   {
    "duration": 4,
    "start_time": "2023-04-12T05:20:55.599Z"
   },
   {
    "duration": 404504,
    "start_time": "2023-04-12T05:20:57.067Z"
   },
   {
    "duration": 2476,
    "start_time": "2023-04-12T05:28:56.136Z"
   },
   {
    "duration": 4,
    "start_time": "2023-04-12T05:29:07.417Z"
   },
   {
    "duration": 1426,
    "start_time": "2023-04-12T05:29:10.933Z"
   },
   {
    "duration": 632,
    "start_time": "2023-04-12T05:29:16.031Z"
   },
   {
    "duration": 4,
    "start_time": "2023-04-12T05:29:17.226Z"
   },
   {
    "duration": 228,
    "start_time": "2023-04-12T05:29:19.353Z"
   },
   {
    "duration": 6,
    "start_time": "2023-04-12T05:29:21.094Z"
   },
   {
    "duration": 629,
    "start_time": "2023-04-12T05:29:44.327Z"
   },
   {
    "duration": 3,
    "start_time": "2023-04-12T05:29:45.548Z"
   },
   {
    "duration": 2513,
    "start_time": "2023-04-12T05:29:46.355Z"
   },
   {
    "duration": 642,
    "start_time": "2023-04-12T05:29:49.604Z"
   },
   {
    "duration": 713,
    "start_time": "2023-04-12T05:29:56.008Z"
   },
   {
    "duration": 3,
    "start_time": "2023-04-12T05:29:57.811Z"
   },
   {
    "duration": 5,
    "start_time": "2023-04-12T05:29:58.801Z"
   },
   {
    "duration": 3,
    "start_time": "2023-04-12T05:29:59.538Z"
   },
   {
    "duration": 715,
    "start_time": "2023-04-12T05:30:00.026Z"
   },
   {
    "duration": 6,
    "start_time": "2023-04-12T05:30:01.294Z"
   },
   {
    "duration": 2363,
    "start_time": "2023-04-12T05:30:01.931Z"
   },
   {
    "duration": 676,
    "start_time": "2023-04-12T05:30:04.759Z"
   },
   {
    "duration": 4,
    "start_time": "2023-04-12T05:30:09.932Z"
   },
   {
    "duration": 5649,
    "start_time": "2023-04-12T05:30:10.605Z"
   },
   {
    "duration": 322,
    "start_time": "2023-04-12T05:30:17.779Z"
   },
   {
    "duration": 691,
    "start_time": "2023-04-12T05:30:54.932Z"
   },
   {
    "duration": 3,
    "start_time": "2023-04-12T05:30:56.079Z"
   },
   {
    "duration": 768,
    "start_time": "2023-04-12T05:31:00.459Z"
   },
   {
    "duration": 8,
    "start_time": "2023-04-12T05:31:01.973Z"
   },
   {
    "duration": 2727,
    "start_time": "2023-04-12T05:31:03.001Z"
   },
   {
    "duration": 757,
    "start_time": "2023-04-12T05:31:06.434Z"
   },
   {
    "duration": 4419,
    "start_time": "2023-04-12T05:31:12.823Z"
   },
   {
    "duration": 6,
    "start_time": "2023-04-12T05:31:18.628Z"
   },
   {
    "duration": 10,
    "start_time": "2023-04-12T05:31:20.026Z"
   },
   {
    "duration": 4,
    "start_time": "2023-04-12T05:31:28.048Z"
   },
   {
    "duration": 67891,
    "start_time": "2023-04-12T05:31:29.482Z"
   },
   {
    "duration": 1287,
    "start_time": "2023-04-12T05:33:05.855Z"
   },
   {
    "duration": 8,
    "start_time": "2023-04-12T05:33:17.254Z"
   },
   {
    "duration": 727,
    "start_time": "2023-04-12T05:33:30.526Z"
   },
   {
    "duration": 3,
    "start_time": "2023-04-12T05:33:31.809Z"
   },
   {
    "duration": 712,
    "start_time": "2023-04-12T05:33:33.579Z"
   },
   {
    "duration": 9,
    "start_time": "2023-04-12T05:33:35.137Z"
   },
   {
    "duration": 1580,
    "start_time": "2023-04-12T05:33:36.774Z"
   },
   {
    "duration": 1855,
    "start_time": "2023-04-12T05:33:38.876Z"
   },
   {
    "duration": 173,
    "start_time": "2023-04-12T05:37:16.690Z"
   },
   {
    "duration": 2607,
    "start_time": "2023-04-12T05:37:41.147Z"
   },
   {
    "duration": 5,
    "start_time": "2023-04-12T05:38:01.853Z"
   },
   {
    "duration": 8793,
    "start_time": "2023-04-12T05:38:13.188Z"
   },
   {
    "duration": 47,
    "start_time": "2023-04-12T05:38:55.503Z"
   },
   {
    "duration": 45,
    "start_time": "2023-04-12T05:39:07.193Z"
   },
   {
    "duration": 26,
    "start_time": "2023-04-12T05:41:00.663Z"
   },
   {
    "duration": 113,
    "start_time": "2023-04-12T05:42:15.756Z"
   },
   {
    "duration": 35,
    "start_time": "2023-04-12T05:42:26.412Z"
   },
   {
    "duration": 125,
    "start_time": "2023-04-12T05:42:45.528Z"
   },
   {
    "duration": 3,
    "start_time": "2023-04-12T05:43:21.046Z"
   },
   {
    "duration": 3,
    "start_time": "2023-04-12T05:45:00.516Z"
   },
   {
    "duration": 5,
    "start_time": "2023-04-12T05:45:01.457Z"
   },
   {
    "duration": 8457,
    "start_time": "2023-04-12T05:45:02.535Z"
   },
   {
    "duration": 68,
    "start_time": "2023-04-12T05:45:14.683Z"
   },
   {
    "duration": 28,
    "start_time": "2023-04-12T05:45:16.937Z"
   },
   {
    "duration": 74,
    "start_time": "2023-04-12T05:45:28.854Z"
   },
   {
    "duration": 3,
    "start_time": "2023-04-12T05:45:47.872Z"
   },
   {
    "duration": 3,
    "start_time": "2023-04-12T05:45:49.237Z"
   },
   {
    "duration": 22,
    "start_time": "2023-04-12T05:46:03.778Z"
   },
   {
    "duration": 28,
    "start_time": "2023-04-12T05:46:11.399Z"
   },
   {
    "duration": 104014,
    "start_time": "2023-04-12T05:46:39.632Z"
   },
   {
    "duration": 41,
    "start_time": "2023-04-12T05:48:35.446Z"
   },
   {
    "duration": 27,
    "start_time": "2023-04-12T05:49:01.550Z"
   },
   {
    "duration": 697,
    "start_time": "2023-04-12T05:49:33.939Z"
   },
   {
    "duration": 4,
    "start_time": "2023-04-12T05:49:35.150Z"
   },
   {
    "duration": 708,
    "start_time": "2023-04-12T05:49:38.709Z"
   },
   {
    "duration": 11,
    "start_time": "2023-04-12T05:49:41.324Z"
   },
   {
    "duration": 1496,
    "start_time": "2023-04-12T05:49:42.735Z"
   },
   {
    "duration": 1531,
    "start_time": "2023-04-12T05:49:44.988Z"
   },
   {
    "duration": 4,
    "start_time": "2023-04-12T05:49:53.178Z"
   },
   {
    "duration": 26,
    "start_time": "2023-04-12T05:50:41.039Z"
   },
   {
    "duration": 26,
    "start_time": "2023-04-12T05:50:55.441Z"
   },
   {
    "duration": 2514,
    "start_time": "2023-04-12T05:57:36.695Z"
   },
   {
    "duration": 4,
    "start_time": "2023-04-12T05:57:49.042Z"
   },
   {
    "duration": 103947,
    "start_time": "2023-04-12T05:57:50.027Z"
   },
   {
    "duration": 177,
    "start_time": "2023-04-12T05:59:33.976Z"
   },
   {
    "duration": 34,
    "start_time": "2023-04-12T06:02:12.943Z"
   },
   {
    "duration": 23,
    "start_time": "2023-04-12T06:02:30.962Z"
   },
   {
    "duration": 3,
    "start_time": "2023-04-12T06:02:39.082Z"
   },
   {
    "duration": 39,
    "start_time": "2023-04-12T06:02:46.294Z"
   },
   {
    "duration": 34,
    "start_time": "2023-04-12T06:03:02.426Z"
   },
   {
    "duration": 180,
    "start_time": "2023-04-12T06:03:14.934Z"
   },
   {
    "duration": 14,
    "start_time": "2023-04-12T06:03:25.428Z"
   },
   {
    "duration": 3,
    "start_time": "2023-04-12T06:03:47.308Z"
   },
   {
    "duration": 72335,
    "start_time": "2023-04-12T06:03:50.197Z"
   },
   {
    "duration": 188,
    "start_time": "2023-04-12T06:05:46.732Z"
   },
   {
    "duration": 14,
    "start_time": "2023-04-12T06:05:47.941Z"
   },
   {
    "duration": 3,
    "start_time": "2023-04-12T06:05:58.980Z"
   },
   {
    "duration": 120033,
    "start_time": "2023-04-12T06:05:59.773Z"
   },
   {
    "duration": 253,
    "start_time": "2023-04-12T06:08:03.195Z"
   },
   {
    "duration": 15,
    "start_time": "2023-04-12T06:08:04.511Z"
   },
   {
    "duration": 3,
    "start_time": "2023-04-12T06:08:16.091Z"
   },
   {
    "duration": 171687,
    "start_time": "2023-04-12T06:08:16.861Z"
   },
   {
    "duration": 179,
    "start_time": "2023-04-12T06:11:41.103Z"
   },
   {
    "duration": 14,
    "start_time": "2023-04-12T06:11:43.038Z"
   },
   {
    "duration": 3,
    "start_time": "2023-04-12T06:11:53.844Z"
   },
   {
    "duration": 151938,
    "start_time": "2023-04-12T06:11:55.101Z"
   },
   {
    "duration": 186,
    "start_time": "2023-04-12T06:14:40.072Z"
   },
   {
    "duration": 12,
    "start_time": "2023-04-12T06:14:43.543Z"
   },
   {
    "duration": 27,
    "start_time": "2023-04-12T06:14:56.603Z"
   },
   {
    "duration": 3,
    "start_time": "2023-04-12T06:15:10.145Z"
   },
   {
    "duration": 138427,
    "start_time": "2023-04-12T06:15:11.908Z"
   },
   {
    "duration": 244,
    "start_time": "2023-04-12T06:17:35.724Z"
   },
   {
    "duration": 16,
    "start_time": "2023-04-12T06:17:36.887Z"
   },
   {
    "duration": 3,
    "start_time": "2023-04-12T06:17:53.153Z"
   },
   {
    "duration": 133584,
    "start_time": "2023-04-12T06:17:54.390Z"
   },
   {
    "duration": 207,
    "start_time": "2023-04-12T06:22:02.258Z"
   },
   {
    "duration": 19,
    "start_time": "2023-04-12T06:22:02.945Z"
   },
   {
    "duration": 3,
    "start_time": "2023-04-12T06:22:09.585Z"
   },
   {
    "duration": 125411,
    "start_time": "2023-04-12T06:22:10.424Z"
   },
   {
    "duration": 239,
    "start_time": "2023-04-12T06:25:05.703Z"
   },
   {
    "duration": 11,
    "start_time": "2023-04-12T06:25:07.272Z"
   },
   {
    "duration": 3,
    "start_time": "2023-04-12T06:25:15.708Z"
   },
   {
    "duration": 122487,
    "start_time": "2023-04-12T06:25:18.298Z"
   },
   {
    "duration": 201,
    "start_time": "2023-04-12T06:28:24.756Z"
   },
   {
    "duration": 12,
    "start_time": "2023-04-12T06:28:25.724Z"
   },
   {
    "duration": 4,
    "start_time": "2023-04-12T06:28:32.729Z"
   },
   {
    "duration": 116584,
    "start_time": "2023-04-12T06:28:33.297Z"
   },
   {
    "duration": 198,
    "start_time": "2023-04-12T06:32:10.726Z"
   },
   {
    "duration": 11,
    "start_time": "2023-04-12T06:32:11.490Z"
   },
   {
    "duration": 4,
    "start_time": "2023-04-12T06:32:22.967Z"
   },
   {
    "duration": 109922,
    "start_time": "2023-04-12T06:32:26.319Z"
   },
   {
    "duration": 188,
    "start_time": "2023-04-12T06:34:25.459Z"
   },
   {
    "duration": 10,
    "start_time": "2023-04-12T06:34:26.463Z"
   },
   {
    "duration": 3,
    "start_time": "2023-04-12T06:34:51.698Z"
   },
   {
    "duration": 42,
    "start_time": "2023-04-12T06:34:54.115Z"
   },
   {
    "duration": 3,
    "start_time": "2023-04-12T06:35:42.261Z"
   },
   {
    "duration": 12798,
    "start_time": "2023-04-12T06:35:44.834Z"
   },
   {
    "duration": 214,
    "start_time": "2023-04-12T06:36:38.395Z"
   },
   {
    "duration": 18,
    "start_time": "2023-04-12T06:36:40.642Z"
   },
   {
    "duration": 3,
    "start_time": "2023-04-12T06:36:44.826Z"
   },
   {
    "duration": 80076,
    "start_time": "2023-04-12T06:36:45.408Z"
   },
   {
    "duration": 222,
    "start_time": "2023-04-12T06:38:36.417Z"
   },
   {
    "duration": 15,
    "start_time": "2023-04-12T06:38:37.216Z"
   },
   {
    "duration": 8,
    "start_time": "2023-04-12T06:38:42.852Z"
   },
   {
    "duration": 115817,
    "start_time": "2023-04-12T06:38:44.164Z"
   },
   {
    "duration": 189,
    "start_time": "2023-04-12T06:42:12.546Z"
   },
   {
    "duration": 14,
    "start_time": "2023-04-12T06:42:13.202Z"
   },
   {
    "duration": 3,
    "start_time": "2023-04-12T06:42:22.327Z"
   },
   {
    "duration": 151203,
    "start_time": "2023-04-12T06:42:22.759Z"
   },
   {
    "duration": 207,
    "start_time": "2023-04-12T06:45:34.041Z"
   },
   {
    "duration": 13,
    "start_time": "2023-04-12T06:45:34.691Z"
   },
   {
    "duration": 4,
    "start_time": "2023-04-12T06:46:45.207Z"
   },
   {
    "duration": 441611,
    "start_time": "2023-04-12T06:46:45.903Z"
   },
   {
    "duration": 239,
    "start_time": "2023-04-12T06:54:50.875Z"
   },
   {
    "duration": 22,
    "start_time": "2023-04-12T06:54:51.638Z"
   },
   {
    "duration": 3,
    "start_time": "2023-04-12T06:56:20.695Z"
   },
   {
    "duration": 118474,
    "start_time": "2023-04-12T06:56:26.386Z"
   },
   {
    "duration": 217,
    "start_time": "2023-04-12T06:58:36.966Z"
   },
   {
    "duration": 11,
    "start_time": "2023-04-12T06:58:38.583Z"
   },
   {
    "duration": 7064,
    "start_time": "2023-04-12T06:59:18.548Z"
   },
   {
    "duration": 2529,
    "start_time": "2023-04-12T06:59:32.910Z"
   },
   {
    "duration": 38,
    "start_time": "2023-04-12T06:59:37.431Z"
   },
   {
    "duration": 1973,
    "start_time": "2023-04-12T06:59:40.461Z"
   },
   {
    "duration": 575,
    "start_time": "2023-04-12T06:59:43.024Z"
   },
   {
    "duration": 3,
    "start_time": "2023-04-12T06:59:44.086Z"
   },
   {
    "duration": 479161,
    "start_time": "2023-04-12T06:59:46.460Z"
   },
   {
    "duration": 7754,
    "start_time": "2023-04-12T07:13:47.651Z"
   },
   {
    "duration": 3224,
    "start_time": "2023-04-12T07:13:59.696Z"
   },
   {
    "duration": 40,
    "start_time": "2023-04-12T07:14:05.198Z"
   },
   {
    "duration": 2218,
    "start_time": "2023-04-12T07:14:06.660Z"
   },
   {
    "duration": 738,
    "start_time": "2023-04-12T07:14:09.434Z"
   },
   {
    "duration": 4,
    "start_time": "2023-04-12T07:14:10.606Z"
   },
   {
    "duration": 516420,
    "start_time": "2023-04-12T07:14:11.399Z"
   },
   {
    "duration": 8729,
    "start_time": "2023-04-12T07:24:54.316Z"
   },
   {
    "duration": 3509,
    "start_time": "2023-04-12T07:25:05.867Z"
   },
   {
    "duration": 67,
    "start_time": "2023-04-12T07:25:11.623Z"
   },
   {
    "duration": 2036,
    "start_time": "2023-04-12T07:25:14.381Z"
   },
   {
    "duration": 638,
    "start_time": "2023-04-12T07:25:18.900Z"
   },
   {
    "duration": 4,
    "start_time": "2023-04-12T07:25:20.277Z"
   },
   {
    "duration": 496654,
    "start_time": "2023-04-12T07:25:21.872Z"
   },
   {
    "duration": 2490,
    "start_time": "2023-04-12T07:34:56.289Z"
   },
   {
    "duration": 5,
    "start_time": "2023-04-12T07:35:11.903Z"
   },
   {
    "duration": 1830,
    "start_time": "2023-04-12T07:35:12.591Z"
   },
   {
    "duration": 719,
    "start_time": "2023-04-12T07:35:16.940Z"
   },
   {
    "duration": 3,
    "start_time": "2023-04-12T07:35:18.386Z"
   },
   {
    "duration": 236,
    "start_time": "2023-04-12T07:35:21.298Z"
   },
   {
    "duration": 5,
    "start_time": "2023-04-12T07:35:22.299Z"
   },
   {
    "duration": 710,
    "start_time": "2023-04-12T07:35:23.071Z"
   },
   {
    "duration": 794,
    "start_time": "2023-04-12T07:35:30.290Z"
   },
   {
    "duration": 4,
    "start_time": "2023-04-12T07:35:31.977Z"
   },
   {
    "duration": 2217,
    "start_time": "2023-04-12T07:35:32.667Z"
   },
   {
    "duration": 1561,
    "start_time": "2023-04-12T07:35:35.634Z"
   },
   {
    "duration": 9,
    "start_time": "2023-04-12T07:35:46.641Z"
   },
   {
    "duration": 149921,
    "start_time": "2023-04-12T07:35:48.468Z"
   },
   {
    "duration": 224,
    "start_time": "2023-04-12T07:41:50.333Z"
   },
   {
    "duration": 17,
    "start_time": "2023-04-12T07:41:50.966Z"
   },
   {
    "duration": 871,
    "start_time": "2023-04-12T07:42:09.692Z"
   },
   {
    "duration": 3,
    "start_time": "2023-04-12T07:42:11.106Z"
   },
   {
    "duration": 787,
    "start_time": "2023-04-12T07:42:13.311Z"
   },
   {
    "duration": 8,
    "start_time": "2023-04-12T07:42:14.801Z"
   },
   {
    "duration": 1762,
    "start_time": "2023-04-12T07:42:15.762Z"
   },
   {
    "duration": 2191,
    "start_time": "2023-04-12T07:42:18.422Z"
   },
   {
    "duration": 114232,
    "start_time": "2023-04-12T07:42:28.775Z"
   },
   {
    "duration": 236,
    "start_time": "2023-04-12T07:47:48.667Z"
   },
   {
    "duration": 13,
    "start_time": "2023-04-12T07:47:49.882Z"
   },
   {
    "duration": 739,
    "start_time": "2023-04-12T07:48:11.344Z"
   },
   {
    "duration": 3,
    "start_time": "2023-04-12T07:48:12.574Z"
   },
   {
    "duration": 801,
    "start_time": "2023-04-12T07:48:14.692Z"
   },
   {
    "duration": 1717,
    "start_time": "2023-04-12T07:48:16.474Z"
   },
   {
    "duration": 1844,
    "start_time": "2023-04-12T07:48:18.794Z"
   },
   {
    "duration": 119097,
    "start_time": "2023-04-12T07:48:37.305Z"
   },
   {
    "duration": 235,
    "start_time": "2023-04-12T07:51:13.195Z"
   },
   {
    "duration": 29,
    "start_time": "2023-04-12T07:51:14.158Z"
   },
   {
    "duration": 802,
    "start_time": "2023-04-12T07:51:42.135Z"
   },
   {
    "duration": 9,
    "start_time": "2023-04-12T07:51:43.468Z"
   },
   {
    "duration": 884,
    "start_time": "2023-04-12T07:51:46.362Z"
   },
   {
    "duration": 2138,
    "start_time": "2023-04-12T07:51:47.946Z"
   },
   {
    "duration": 2093,
    "start_time": "2023-04-12T07:51:50.711Z"
   },
   {
    "duration": 130233,
    "start_time": "2023-04-12T07:52:02.104Z"
   },
   {
    "duration": 235,
    "start_time": "2023-04-12T07:54:24.599Z"
   },
   {
    "duration": 19,
    "start_time": "2023-04-12T07:54:25.582Z"
   },
   {
    "duration": 785,
    "start_time": "2023-04-12T07:54:37.228Z"
   },
   {
    "duration": 3,
    "start_time": "2023-04-12T07:54:38.432Z"
   },
   {
    "duration": 8,
    "start_time": "2023-04-12T07:54:40.195Z"
   },
   {
    "duration": 6,
    "start_time": "2023-04-12T07:54:40.867Z"
   },
   {
    "duration": 799,
    "start_time": "2023-04-12T07:54:41.426Z"
   },
   {
    "duration": 11,
    "start_time": "2023-04-12T07:54:42.320Z"
   },
   {
    "duration": 2039,
    "start_time": "2023-04-12T07:54:43.483Z"
   },
   {
    "duration": 2039,
    "start_time": "2023-04-12T07:54:46.379Z"
   },
   {
    "duration": 8,
    "start_time": "2023-04-12T07:54:50.795Z"
   },
   {
    "duration": 146836,
    "start_time": "2023-04-12T07:54:51.393Z"
   },
   {
    "duration": 221,
    "start_time": "2023-04-12T07:57:50.710Z"
   },
   {
    "duration": 11,
    "start_time": "2023-04-12T07:57:51.991Z"
   },
   {
    "duration": 762,
    "start_time": "2023-04-12T07:58:13.476Z"
   },
   {
    "duration": 3,
    "start_time": "2023-04-12T07:58:14.811Z"
   },
   {
    "duration": 760,
    "start_time": "2023-04-12T07:58:16.867Z"
   },
   {
    "duration": 2670,
    "start_time": "2023-04-12T07:58:19.283Z"
   },
   {
    "duration": 813,
    "start_time": "2023-04-12T07:58:22.594Z"
   },
   {
    "duration": 169328,
    "start_time": "2023-04-12T07:58:42.744Z"
   },
   {
    "duration": 171,
    "start_time": "2023-04-12T08:01:47.261Z"
   },
   {
    "duration": 10,
    "start_time": "2023-04-12T08:01:50.968Z"
   },
   {
    "duration": 724,
    "start_time": "2023-04-12T08:02:36.367Z"
   },
   {
    "duration": 3,
    "start_time": "2023-04-12T08:02:37.623Z"
   },
   {
    "duration": 780,
    "start_time": "2023-04-12T08:02:39.828Z"
   },
   {
    "duration": 9,
    "start_time": "2023-04-12T08:02:41.165Z"
   },
   {
    "duration": 3019,
    "start_time": "2023-04-12T08:02:42.317Z"
   },
   {
    "duration": 539,
    "start_time": "2023-04-12T08:02:47.519Z"
   },
   {
    "duration": 187399,
    "start_time": "2023-04-12T08:02:56.309Z"
   },
   {
    "duration": 153,
    "start_time": "2023-04-12T08:06:40.964Z"
   },
   {
    "duration": 9,
    "start_time": "2023-04-12T08:06:41.964Z"
   },
   {
    "duration": 720,
    "start_time": "2023-04-12T08:06:57.990Z"
   },
   {
    "duration": 3,
    "start_time": "2023-04-12T08:06:59.172Z"
   },
   {
    "duration": 732,
    "start_time": "2023-04-12T08:07:03.613Z"
   },
   {
    "duration": 3319,
    "start_time": "2023-04-12T08:07:05.663Z"
   },
   {
    "duration": 344,
    "start_time": "2023-04-12T08:07:09.614Z"
   },
   {
    "duration": 198761,
    "start_time": "2023-04-12T08:07:15.767Z"
   },
   {
    "duration": 112,
    "start_time": "2023-04-12T08:12:25.481Z"
   },
   {
    "duration": 12,
    "start_time": "2023-04-12T08:12:26.264Z"
   },
   {
    "duration": 776,
    "start_time": "2023-04-12T08:12:34.891Z"
   },
   {
    "duration": 4,
    "start_time": "2023-04-12T08:12:36.189Z"
   },
   {
    "duration": 740,
    "start_time": "2023-04-12T08:12:43.690Z"
   },
   {
    "duration": 2848,
    "start_time": "2023-04-12T08:12:49.767Z"
   },
   {
    "duration": 678,
    "start_time": "2023-04-12T08:12:53.216Z"
   },
   {
    "duration": 178086,
    "start_time": "2023-04-12T08:13:05.884Z"
   },
   {
    "duration": 185,
    "start_time": "2023-04-12T08:16:57.020Z"
   },
   {
    "duration": 8,
    "start_time": "2023-04-12T08:17:00.497Z"
   },
   {
    "duration": 714,
    "start_time": "2023-04-12T08:17:41.011Z"
   },
   {
    "duration": 3,
    "start_time": "2023-04-12T08:17:42.297Z"
   },
   {
    "duration": 817,
    "start_time": "2023-04-12T08:17:45.549Z"
   },
   {
    "duration": 2757,
    "start_time": "2023-04-12T08:17:48.980Z"
   },
   {
    "duration": 646,
    "start_time": "2023-04-12T08:17:52.357Z"
   },
   {
    "duration": 4,
    "start_time": "2023-04-12T08:17:56.999Z"
   },
   {
    "duration": 187726,
    "start_time": "2023-04-12T08:18:09.071Z"
   },
   {
    "duration": 157,
    "start_time": "2023-04-12T08:21:27.812Z"
   },
   {
    "duration": 18,
    "start_time": "2023-04-12T08:21:28.735Z"
   },
   {
    "duration": 9,
    "start_time": "2023-04-12T08:21:35.053Z"
   },
   {
    "duration": 174632,
    "start_time": "2023-04-12T08:21:36.366Z"
   },
   {
    "duration": 147,
    "start_time": "2023-04-12T08:24:43.039Z"
   },
   {
    "duration": 8,
    "start_time": "2023-04-12T08:24:43.867Z"
   },
   {
    "duration": 3,
    "start_time": "2023-04-12T08:24:58.533Z"
   },
   {
    "duration": 175066,
    "start_time": "2023-04-12T08:25:01.832Z"
   },
   {
    "duration": 155,
    "start_time": "2023-04-12T08:28:33.973Z"
   },
   {
    "duration": 8,
    "start_time": "2023-04-12T08:28:34.666Z"
   },
   {
    "duration": 3,
    "start_time": "2023-04-12T08:28:40.831Z"
   },
   {
    "duration": 175042,
    "start_time": "2023-04-12T08:28:41.631Z"
   },
   {
    "duration": 158,
    "start_time": "2023-04-12T08:33:29.194Z"
   },
   {
    "duration": 7,
    "start_time": "2023-04-12T08:33:30.292Z"
   },
   {
    "duration": 3,
    "start_time": "2023-04-12T08:33:43.597Z"
   },
   {
    "duration": 173695,
    "start_time": "2023-04-12T08:33:44.969Z"
   },
   {
    "duration": 137,
    "start_time": "2023-04-12T08:36:41.269Z"
   },
   {
    "duration": 7,
    "start_time": "2023-04-12T08:36:42.068Z"
   },
   {
    "duration": 7,
    "start_time": "2023-04-12T08:37:08.442Z"
   },
   {
    "duration": 7470,
    "start_time": "2023-04-12T08:59:13.507Z"
   },
   {
    "duration": 967,
    "start_time": "2023-04-12T08:59:23.094Z"
   },
   {
    "duration": 22,
    "start_time": "2023-04-12T08:59:25.092Z"
   },
   {
    "duration": 32,
    "start_time": "2023-04-12T08:59:26.289Z"
   },
   {
    "duration": 2070,
    "start_time": "2023-04-12T08:59:27.499Z"
   },
   {
    "duration": 712,
    "start_time": "2023-04-12T08:59:30.658Z"
   },
   {
    "duration": 3,
    "start_time": "2023-04-12T08:59:31.816Z"
   },
   {
    "duration": 458587,
    "start_time": "2023-04-12T08:59:32.414Z"
   },
   {
    "duration": 4,
    "start_time": "2023-04-12T09:07:11.002Z"
   },
   {
    "duration": 6,
    "start_time": "2023-04-12T09:08:36.573Z"
   },
   {
    "duration": 2820,
    "start_time": "2023-04-12T09:08:40.682Z"
   },
   {
    "duration": 1619,
    "start_time": "2023-04-12T09:08:46.767Z"
   },
   {
    "duration": 11,
    "start_time": "2023-04-12T09:08:49.741Z"
   },
   {
    "duration": 699,
    "start_time": "2023-04-12T09:08:52.779Z"
   },
   {
    "duration": 4,
    "start_time": "2023-04-12T09:08:53.983Z"
   },
   {
    "duration": 164,
    "start_time": "2023-04-12T09:08:56.016Z"
   },
   {
    "duration": 5,
    "start_time": "2023-04-12T09:08:56.808Z"
   },
   {
    "duration": 695,
    "start_time": "2023-04-12T09:08:57.465Z"
   },
   {
    "duration": 3,
    "start_time": "2023-04-12T09:08:58.925Z"
   },
   {
    "duration": 2796,
    "start_time": "2023-04-12T09:08:59.868Z"
   },
   {
    "duration": 639,
    "start_time": "2023-04-12T09:09:03.558Z"
   },
   {
    "duration": 3448,
    "start_time": "2023-04-12T09:09:04.741Z"
   },
   {
    "duration": 3,
    "start_time": "2023-04-12T09:09:17.802Z"
   },
   {
    "duration": 166621,
    "start_time": "2023-04-12T09:09:19.696Z"
   },
   {
    "duration": 125,
    "start_time": "2023-04-12T09:12:47.482Z"
   },
   {
    "duration": 8,
    "start_time": "2023-04-12T09:12:48.793Z"
   },
   {
    "duration": 4,
    "start_time": "2023-04-12T09:12:50.382Z"
   },
   {
    "duration": 3,
    "start_time": "2023-04-12T09:13:03.164Z"
   },
   {
    "duration": 170063,
    "start_time": "2023-04-12T09:13:03.720Z"
   },
   {
    "duration": 136,
    "start_time": "2023-04-12T09:16:31.901Z"
   },
   {
    "duration": 10,
    "start_time": "2023-04-12T09:16:32.539Z"
   },
   {
    "duration": 4,
    "start_time": "2023-04-12T09:16:34.058Z"
   },
   {
    "duration": 3,
    "start_time": "2023-04-12T09:17:04.202Z"
   },
   {
    "duration": 172431,
    "start_time": "2023-04-12T09:17:19.724Z"
   },
   {
    "duration": 165,
    "start_time": "2023-04-12T09:21:29.043Z"
   },
   {
    "duration": 9,
    "start_time": "2023-04-12T09:21:29.597Z"
   },
   {
    "duration": 4,
    "start_time": "2023-04-12T09:21:30.301Z"
   },
   {
    "duration": 732,
    "start_time": "2023-04-12T09:22:07.438Z"
   },
   {
    "duration": 4,
    "start_time": "2023-04-12T09:22:08.609Z"
   },
   {
    "duration": 789,
    "start_time": "2023-04-12T09:22:12.873Z"
   },
   {
    "duration": 2453,
    "start_time": "2023-04-12T09:22:16.803Z"
   },
   {
    "duration": 770,
    "start_time": "2023-04-12T09:22:19.834Z"
   },
   {
    "duration": 4,
    "start_time": "2023-04-12T09:22:24.619Z"
   },
   {
    "duration": 159491,
    "start_time": "2023-04-12T09:22:25.240Z"
   },
   {
    "duration": 8018,
    "start_time": "2023-04-12T09:30:00.198Z"
   },
   {
    "duration": 848,
    "start_time": "2023-04-12T09:30:09.839Z"
   },
   {
    "duration": 31,
    "start_time": "2023-04-12T09:30:13.057Z"
   },
   {
    "duration": 1921,
    "start_time": "2023-04-12T09:30:14.435Z"
   },
   {
    "duration": 538,
    "start_time": "2023-04-12T09:30:18.599Z"
   },
   {
    "duration": 4,
    "start_time": "2023-04-12T09:30:20.016Z"
   },
   {
    "duration": 417046,
    "start_time": "2023-04-12T09:30:21.234Z"
   },
   {
    "duration": 8054,
    "start_time": "2023-04-12T09:38:53.052Z"
   },
   {
    "duration": 2500,
    "start_time": "2023-04-12T09:39:03.019Z"
   },
   {
    "duration": 31,
    "start_time": "2023-04-12T09:39:06.784Z"
   },
   {
    "duration": 1939,
    "start_time": "2023-04-12T09:39:09.006Z"
   },
   {
    "duration": 576,
    "start_time": "2023-04-12T09:39:11.579Z"
   },
   {
    "duration": 3,
    "start_time": "2023-04-12T09:39:12.821Z"
   },
   {
    "duration": 447015,
    "start_time": "2023-04-12T09:39:13.880Z"
   },
   {
    "duration": 7680,
    "start_time": "2023-04-12T09:51:57.836Z"
   },
   {
    "duration": 2604,
    "start_time": "2023-04-12T09:52:06.548Z"
   },
   {
    "duration": 34,
    "start_time": "2023-04-12T09:52:10.284Z"
   },
   {
    "duration": 1989,
    "start_time": "2023-04-12T09:52:11.927Z"
   },
   {
    "duration": 568,
    "start_time": "2023-04-12T09:52:14.555Z"
   },
   {
    "duration": 3,
    "start_time": "2023-04-12T09:52:15.826Z"
   },
   {
    "duration": 431344,
    "start_time": "2023-04-12T09:52:17.709Z"
   },
   {
    "duration": 50,
    "start_time": "2023-04-12T10:00:07.113Z"
   },
   {
    "duration": 7411,
    "start_time": "2023-04-12T10:00:10.201Z"
   },
   {
    "duration": 2363,
    "start_time": "2023-04-12T10:00:20.049Z"
   },
   {
    "duration": 31,
    "start_time": "2023-04-12T10:00:24.938Z"
   },
   {
    "duration": 1931,
    "start_time": "2023-04-12T10:00:26.650Z"
   },
   {
    "duration": 540,
    "start_time": "2023-04-12T10:00:29.742Z"
   },
   {
    "duration": 4,
    "start_time": "2023-04-12T10:00:30.718Z"
   },
   {
    "duration": 418204,
    "start_time": "2023-04-12T10:00:31.467Z"
   },
   {
    "duration": 3,
    "start_time": "2023-04-12T10:07:38.413Z"
   },
   {
    "duration": 1365,
    "start_time": "2023-04-12T10:07:40.186Z"
   },
   {
    "duration": 11,
    "start_time": "2023-04-12T10:07:48.439Z"
   },
   {
    "duration": 637,
    "start_time": "2023-04-12T10:07:50.915Z"
   },
   {
    "duration": 3,
    "start_time": "2023-04-12T10:07:52.335Z"
   },
   {
    "duration": 207,
    "start_time": "2023-04-12T10:07:54.271Z"
   },
   {
    "duration": 5,
    "start_time": "2023-04-12T10:07:55.354Z"
   },
   {
    "duration": 655,
    "start_time": "2023-04-12T10:08:00.861Z"
   },
   {
    "duration": 2,
    "start_time": "2023-04-12T10:08:06.346Z"
   },
   {
    "duration": 2213,
    "start_time": "2023-04-12T10:08:07.115Z"
   },
   {
    "duration": 708,
    "start_time": "2023-04-12T10:08:12.722Z"
   },
   {
    "duration": 3,
    "start_time": "2023-04-12T10:08:18.132Z"
   },
   {
    "duration": 147250,
    "start_time": "2023-04-12T10:08:18.997Z"
   },
   {
    "duration": 150,
    "start_time": "2023-04-12T10:12:52.785Z"
   },
   {
    "duration": 9,
    "start_time": "2023-04-12T10:12:53.454Z"
   },
   {
    "duration": 3,
    "start_time": "2023-04-12T10:12:54.315Z"
   },
   {
    "duration": 8,
    "start_time": "2023-04-12T10:13:08.130Z"
   },
   {
    "duration": 3,
    "start_time": "2023-04-12T10:13:09.484Z"
   },
   {
    "duration": 673,
    "start_time": "2023-04-12T10:13:35.218Z"
   },
   {
    "duration": 6,
    "start_time": "2023-04-12T10:13:36.654Z"
   },
   {
    "duration": 726,
    "start_time": "2023-04-12T10:13:39.113Z"
   },
   {
    "duration": 2358,
    "start_time": "2023-04-12T10:13:42.628Z"
   },
   {
    "duration": 624,
    "start_time": "2023-04-12T10:13:46.514Z"
   },
   {
    "duration": 154167,
    "start_time": "2023-04-12T10:14:02.084Z"
   },
   {
    "duration": 146,
    "start_time": "2023-04-12T10:16:56.603Z"
   },
   {
    "duration": 9,
    "start_time": "2023-04-12T10:16:57.213Z"
   },
   {
    "duration": 4,
    "start_time": "2023-04-12T10:16:58.316Z"
   },
   {
    "duration": 3,
    "start_time": "2023-04-12T10:18:05.111Z"
   },
   {
    "duration": 156870,
    "start_time": "2023-04-12T10:18:05.879Z"
   },
   {
    "duration": 147,
    "start_time": "2023-04-12T10:20:46.680Z"
   },
   {
    "duration": 7,
    "start_time": "2023-04-12T10:20:48.432Z"
   },
   {
    "duration": 3,
    "start_time": "2023-04-12T10:20:49.336Z"
   },
   {
    "duration": 3,
    "start_time": "2023-04-12T10:21:08.444Z"
   },
   {
    "duration": 156392,
    "start_time": "2023-04-12T10:21:09.648Z"
   },
   {
    "duration": 135,
    "start_time": "2023-04-12T10:23:53.552Z"
   },
   {
    "duration": 7,
    "start_time": "2023-04-12T10:23:54.246Z"
   },
   {
    "duration": 3,
    "start_time": "2023-04-12T10:23:54.901Z"
   },
   {
    "duration": 3,
    "start_time": "2023-04-12T10:24:00.729Z"
   },
   {
    "duration": 155092,
    "start_time": "2023-04-12T10:24:01.854Z"
   },
   {
    "duration": 140,
    "start_time": "2023-04-12T10:27:02.248Z"
   },
   {
    "duration": 8,
    "start_time": "2023-04-12T10:27:02.870Z"
   },
   {
    "duration": 4,
    "start_time": "2023-04-12T10:27:03.429Z"
   },
   {
    "duration": 3,
    "start_time": "2023-04-12T10:27:20.205Z"
   },
   {
    "duration": 163274,
    "start_time": "2023-04-12T10:27:21.469Z"
   },
   {
    "duration": 134,
    "start_time": "2023-04-12T10:30:17.496Z"
   },
   {
    "duration": 7,
    "start_time": "2023-04-12T10:30:18.141Z"
   },
   {
    "duration": 4,
    "start_time": "2023-04-12T10:30:18.602Z"
   },
   {
    "duration": 3,
    "start_time": "2023-04-12T10:30:26.131Z"
   },
   {
    "duration": 164716,
    "start_time": "2023-04-12T10:30:26.706Z"
   },
   {
    "duration": 136,
    "start_time": "2023-04-12T10:33:14.162Z"
   },
   {
    "duration": 9,
    "start_time": "2023-04-12T10:33:15.240Z"
   },
   {
    "duration": 4,
    "start_time": "2023-04-12T10:33:15.939Z"
   },
   {
    "duration": 3,
    "start_time": "2023-04-12T10:33:47.051Z"
   },
   {
    "duration": 161053,
    "start_time": "2023-04-12T10:33:47.738Z"
   },
   {
    "duration": 154,
    "start_time": "2023-04-12T10:36:34.580Z"
   },
   {
    "duration": 7,
    "start_time": "2023-04-12T10:36:35.543Z"
   },
   {
    "duration": 3,
    "start_time": "2023-04-12T10:36:39.995Z"
   },
   {
    "duration": 3,
    "start_time": "2023-04-12T10:36:48.583Z"
   },
   {
    "duration": 163743,
    "start_time": "2023-04-12T10:36:49.277Z"
   },
   {
    "duration": 151,
    "start_time": "2023-04-12T10:39:53.839Z"
   },
   {
    "duration": 7,
    "start_time": "2023-04-12T10:39:54.801Z"
   },
   {
    "duration": 4,
    "start_time": "2023-04-12T10:39:55.445Z"
   },
   {
    "duration": 4,
    "start_time": "2023-04-12T10:40:04.730Z"
   },
   {
    "duration": 166351,
    "start_time": "2023-04-12T10:40:05.361Z"
   },
   {
    "duration": 144,
    "start_time": "2023-04-12T10:48:51.379Z"
   },
   {
    "duration": 7,
    "start_time": "2023-04-12T10:48:52.770Z"
   },
   {
    "duration": 4,
    "start_time": "2023-04-12T10:48:53.436Z"
   },
   {
    "duration": 3,
    "start_time": "2023-04-12T10:49:00.513Z"
   },
   {
    "duration": 158544,
    "start_time": "2023-04-12T10:49:01.064Z"
   },
   {
    "duration": 148,
    "start_time": "2023-04-12T10:51:42.251Z"
   },
   {
    "duration": 7,
    "start_time": "2023-04-12T10:51:43.011Z"
   },
   {
    "duration": 4,
    "start_time": "2023-04-12T10:51:43.579Z"
   },
   {
    "duration": 707,
    "start_time": "2023-04-12T10:52:13.847Z"
   },
   {
    "duration": 2,
    "start_time": "2023-04-12T10:52:15.056Z"
   },
   {
    "duration": 692,
    "start_time": "2023-04-12T10:52:17.968Z"
   },
   {
    "duration": 2190,
    "start_time": "2023-04-12T10:52:19.355Z"
   },
   {
    "duration": 685,
    "start_time": "2023-04-12T10:52:22.059Z"
   },
   {
    "duration": 150267,
    "start_time": "2023-04-12T10:52:25.983Z"
   },
   {
    "duration": 152,
    "start_time": "2023-04-12T10:55:03.010Z"
   },
   {
    "duration": 7,
    "start_time": "2023-04-12T10:55:03.756Z"
   },
   {
    "duration": 3,
    "start_time": "2023-04-12T10:55:04.360Z"
   },
   {
    "duration": 757,
    "start_time": "2023-04-12T10:55:25.314Z"
   },
   {
    "duration": 15,
    "start_time": "2023-04-12T10:55:26.074Z"
   },
   {
    "duration": 731,
    "start_time": "2023-04-12T10:55:28.354Z"
   },
   {
    "duration": 2485,
    "start_time": "2023-04-12T10:55:30.310Z"
   },
   {
    "duration": 595,
    "start_time": "2023-04-12T10:55:33.410Z"
   },
   {
    "duration": 161325,
    "start_time": "2023-04-12T10:55:40.481Z"
   },
   {
    "duration": 149,
    "start_time": "2023-04-12T10:59:23.637Z"
   },
   {
    "duration": 9,
    "start_time": "2023-04-12T10:59:24.285Z"
   },
   {
    "duration": 4,
    "start_time": "2023-04-12T10:59:24.767Z"
   },
   {
    "duration": 786,
    "start_time": "2023-04-12T10:59:36.011Z"
   },
   {
    "duration": 4,
    "start_time": "2023-04-12T10:59:37.301Z"
   },
   {
    "duration": 743,
    "start_time": "2023-04-12T10:59:42.855Z"
   },
   {
    "duration": 2461,
    "start_time": "2023-04-12T10:59:45.571Z"
   },
   {
    "duration": 605,
    "start_time": "2023-04-12T10:59:48.609Z"
   },
   {
    "duration": 157491,
    "start_time": "2023-04-12T10:59:54.378Z"
   },
   {
    "duration": 149,
    "start_time": "2023-04-12T11:03:30.648Z"
   },
   {
    "duration": 7,
    "start_time": "2023-04-12T11:03:31.229Z"
   },
   {
    "duration": 4,
    "start_time": "2023-04-12T11:03:31.790Z"
   },
   {
    "duration": 700,
    "start_time": "2023-04-12T11:04:02.099Z"
   },
   {
    "duration": 2,
    "start_time": "2023-04-12T11:04:03.303Z"
   },
   {
    "duration": 706,
    "start_time": "2023-04-12T11:04:05.705Z"
   },
   {
    "duration": 2346,
    "start_time": "2023-04-12T11:04:07.266Z"
   },
   {
    "duration": 559,
    "start_time": "2023-04-12T11:04:09.615Z"
   },
   {
    "duration": 3,
    "start_time": "2023-04-12T11:04:13.361Z"
   },
   {
    "duration": 161387,
    "start_time": "2023-04-12T11:04:14.141Z"
   },
   {
    "duration": 142,
    "start_time": "2023-04-12T11:07:21.266Z"
   },
   {
    "duration": 7,
    "start_time": "2023-04-12T11:07:22.006Z"
   },
   {
    "duration": 3,
    "start_time": "2023-04-12T11:07:22.606Z"
   },
   {
    "duration": 4,
    "start_time": "2023-04-12T11:07:44.968Z"
   },
   {
    "duration": 159395,
    "start_time": "2023-04-12T11:07:45.702Z"
   },
   {
    "duration": 154,
    "start_time": "2023-04-12T11:10:51.849Z"
   },
   {
    "duration": 8,
    "start_time": "2023-04-12T11:10:52.554Z"
   },
   {
    "duration": 5,
    "start_time": "2023-04-12T11:10:53.152Z"
   },
   {
    "duration": 3,
    "start_time": "2023-04-12T11:11:00.237Z"
   },
   {
    "duration": 161137,
    "start_time": "2023-04-12T11:11:00.706Z"
   },
   {
    "duration": 133,
    "start_time": "2023-04-12T11:14:33.103Z"
   },
   {
    "duration": 7,
    "start_time": "2023-04-12T11:14:33.762Z"
   },
   {
    "duration": 3,
    "start_time": "2023-04-12T11:14:34.205Z"
   },
   {
    "duration": 3,
    "start_time": "2023-04-12T11:14:39.600Z"
   },
   {
    "duration": 162162,
    "start_time": "2023-04-12T11:14:43.799Z"
   },
   {
    "duration": 137,
    "start_time": "2023-04-12T11:18:50.962Z"
   },
   {
    "duration": 8,
    "start_time": "2023-04-12T11:18:51.711Z"
   },
   {
    "duration": 3,
    "start_time": "2023-04-12T11:18:52.177Z"
   },
   {
    "duration": 6987,
    "start_time": "2023-04-12T11:19:21.162Z"
   },
   {
    "duration": 2410,
    "start_time": "2023-04-12T11:19:34.717Z"
   },
   {
    "duration": 38,
    "start_time": "2023-04-12T11:19:37.755Z"
   },
   {
    "duration": 1982,
    "start_time": "2023-04-12T11:19:40.943Z"
   },
   {
    "duration": 533,
    "start_time": "2023-04-12T11:19:43.523Z"
   },
   {
    "duration": 4,
    "start_time": "2023-04-12T11:19:44.756Z"
   },
   {
    "duration": 412504,
    "start_time": "2023-04-12T11:19:45.501Z"
   },
   {
    "duration": 3,
    "start_time": "2023-04-12T11:27:44.105Z"
   },
   {
    "duration": 1546,
    "start_time": "2023-04-12T11:27:45.371Z"
   },
   {
    "duration": 684,
    "start_time": "2023-04-12T11:27:50.830Z"
   },
   {
    "duration": 4,
    "start_time": "2023-04-12T11:27:52.152Z"
   },
   {
    "duration": 168,
    "start_time": "2023-04-12T11:27:53.975Z"
   },
   {
    "duration": 6,
    "start_time": "2023-04-12T11:27:54.773Z"
   },
   {
    "duration": 704,
    "start_time": "2023-04-12T11:28:00.619Z"
   },
   {
    "duration": 3,
    "start_time": "2023-04-12T11:28:02.303Z"
   },
   {
    "duration": 2261,
    "start_time": "2023-04-12T11:28:03.728Z"
   },
   {
    "duration": 569,
    "start_time": "2023-04-12T11:28:07.565Z"
   },
   {
    "duration": 3,
    "start_time": "2023-04-12T11:28:11.468Z"
   },
   {
    "duration": 156363,
    "start_time": "2023-04-12T11:28:15.963Z"
   },
   {
    "duration": 138,
    "start_time": "2023-04-12T11:30:58.016Z"
   },
   {
    "duration": 7,
    "start_time": "2023-04-12T11:30:58.872Z"
   },
   {
    "duration": 4,
    "start_time": "2023-04-12T11:30:59.710Z"
   },
   {
    "duration": 674,
    "start_time": "2023-04-12T11:31:12.298Z"
   },
   {
    "duration": 3,
    "start_time": "2023-04-12T11:31:13.478Z"
   },
   {
    "duration": 820,
    "start_time": "2023-04-12T11:31:15.903Z"
   },
   {
    "duration": 2369,
    "start_time": "2023-04-12T11:31:18.399Z"
   },
   {
    "duration": 623,
    "start_time": "2023-04-12T11:31:21.340Z"
   },
   {
    "duration": 151946,
    "start_time": "2023-04-12T11:31:26.375Z"
   },
   {
    "duration": 141,
    "start_time": "2023-04-12T11:34:53.436Z"
   },
   {
    "duration": 7,
    "start_time": "2023-04-12T11:34:55.643Z"
   },
   {
    "duration": 3,
    "start_time": "2023-04-12T11:34:56.222Z"
   },
   {
    "duration": 678,
    "start_time": "2023-04-12T11:35:28.395Z"
   },
   {
    "duration": 3,
    "start_time": "2023-04-12T11:35:29.599Z"
   },
   {
    "duration": 747,
    "start_time": "2023-04-12T11:35:31.963Z"
   },
   {
    "duration": 2300,
    "start_time": "2023-04-12T11:35:33.950Z"
   },
   {
    "duration": 696,
    "start_time": "2023-04-12T11:35:36.930Z"
   },
   {
    "duration": 151155,
    "start_time": "2023-04-12T11:35:40.880Z"
   },
   {
    "duration": 142,
    "start_time": "2023-04-12T11:38:40.796Z"
   },
   {
    "duration": 8,
    "start_time": "2023-04-12T11:38:41.399Z"
   },
   {
    "duration": 4,
    "start_time": "2023-04-12T11:38:44.881Z"
   },
   {
    "duration": 774,
    "start_time": "2023-04-12T11:38:58.503Z"
   },
   {
    "duration": 4,
    "start_time": "2023-04-12T11:38:59.843Z"
   },
   {
    "duration": 766,
    "start_time": "2023-04-12T11:39:04.999Z"
   },
   {
    "duration": 2295,
    "start_time": "2023-04-12T11:39:07.866Z"
   },
   {
    "duration": 580,
    "start_time": "2023-04-12T11:39:10.853Z"
   },
   {
    "duration": 156002,
    "start_time": "2023-04-12T11:39:15.120Z"
   },
   {
    "duration": 134,
    "start_time": "2023-04-12T11:41:59.496Z"
   },
   {
    "duration": 7,
    "start_time": "2023-04-12T11:42:00.397Z"
   },
   {
    "duration": 4,
    "start_time": "2023-04-12T11:42:01.103Z"
   },
   {
    "duration": 705,
    "start_time": "2023-04-12T11:42:18.438Z"
   },
   {
    "duration": 3,
    "start_time": "2023-04-12T11:42:19.685Z"
   },
   {
    "duration": 791,
    "start_time": "2023-04-12T11:42:22.115Z"
   },
   {
    "duration": 2465,
    "start_time": "2023-04-12T11:42:24.616Z"
   },
   {
    "duration": 587,
    "start_time": "2023-04-12T11:42:27.743Z"
   },
   {
    "duration": 155213,
    "start_time": "2023-04-12T11:42:32.280Z"
   },
   {
    "duration": 129,
    "start_time": "2023-04-12T11:50:09.379Z"
   },
   {
    "duration": 6,
    "start_time": "2023-04-12T11:50:10.132Z"
   },
   {
    "duration": 3,
    "start_time": "2023-04-12T11:50:11.432Z"
   },
   {
    "duration": 7,
    "start_time": "2023-04-12T11:50:54.364Z"
   },
   {
    "duration": 3,
    "start_time": "2023-04-12T11:50:54.909Z"
   },
   {
    "duration": 4,
    "start_time": "2023-04-12T11:51:00.640Z"
   },
   {
    "duration": 65530,
    "start_time": "2023-04-12T11:51:01.133Z"
   },
   {
    "duration": 1244,
    "start_time": "2023-04-12T11:53:12.013Z"
   },
   {
    "duration": 7,
    "start_time": "2023-04-12T11:53:13.912Z"
   },
   {
    "duration": 3,
    "start_time": "2023-04-12T11:53:22.616Z"
   },
   {
    "duration": 693,
    "start_time": "2023-04-12T11:53:23.329Z"
   },
   {
    "duration": 313563,
    "start_time": "2023-04-12T11:53:40.511Z"
   },
   {
    "duration": 4,
    "start_time": "2023-04-12T12:00:37.011Z"
   },
   {
    "duration": 7,
    "start_time": "2023-04-12T12:01:51.821Z"
   },
   {
    "duration": 7,
    "start_time": "2023-04-12T12:02:47.978Z"
   },
   {
    "duration": 4,
    "start_time": "2023-04-12T12:02:49.651Z"
   },
   {
    "duration": 1264,
    "start_time": "2023-04-12T12:03:07.227Z"
   },
   {
    "duration": 7,
    "start_time": "2023-04-12T12:03:09.627Z"
   },
   {
    "duration": 3,
    "start_time": "2023-04-12T12:03:10.104Z"
   },
   {
    "duration": 3,
    "start_time": "2023-04-12T12:03:16.721Z"
   },
   {
    "duration": 70278,
    "start_time": "2023-04-12T12:03:17.268Z"
   },
   {
    "duration": 1281,
    "start_time": "2023-04-12T12:05:44.655Z"
   },
   {
    "duration": 10,
    "start_time": "2023-04-12T12:05:47.048Z"
   },
   {
    "duration": 4,
    "start_time": "2023-04-12T12:05:47.500Z"
   },
   {
    "duration": 8,
    "start_time": "2023-04-12T12:06:11.206Z"
   },
   {
    "duration": 4,
    "start_time": "2023-04-12T12:06:11.834Z"
   },
   {
    "duration": 7,
    "start_time": "2023-04-12T12:06:48.290Z"
   },
   {
    "duration": 5,
    "start_time": "2023-04-12T12:06:49.666Z"
   },
   {
    "duration": 4,
    "start_time": "2023-04-12T12:06:59.881Z"
   },
   {
    "duration": 16,
    "start_time": "2023-04-12T12:07:44.006Z"
   },
   {
    "duration": 6203,
    "start_time": "2023-04-12T13:30:14.904Z"
   },
   {
    "duration": 2398,
    "start_time": "2023-04-12T13:30:28.502Z"
   },
   {
    "duration": 15,
    "start_time": "2023-04-12T13:30:33.940Z"
   },
   {
    "duration": 814,
    "start_time": "2023-04-12T13:35:26.683Z"
   },
   {
    "duration": 449,
    "start_time": "2023-04-12T13:35:36.866Z"
   },
   {
    "duration": 3,
    "start_time": "2023-04-12T13:35:37.840Z"
   },
   {
    "duration": 929419,
    "start_time": "2023-04-12T13:35:43.058Z"
   },
   {
    "duration": 5,
    "start_time": "2023-04-12T13:52:45.964Z"
   },
   {
    "duration": 2,
    "start_time": "2023-04-12T13:52:48.707Z"
   },
   {
    "duration": 4377,
    "start_time": "2023-04-12T13:52:57.152Z"
   },
   {
    "duration": 5,
    "start_time": "2023-04-12T13:53:03.286Z"
   },
   {
    "duration": 5771,
    "start_time": "2023-04-12T13:54:37.595Z"
   },
   {
    "duration": 797,
    "start_time": "2023-04-12T13:54:44.007Z"
   },
   {
    "duration": 18,
    "start_time": "2023-04-12T13:54:46.430Z"
   },
   {
    "duration": 543,
    "start_time": "2023-04-12T13:55:00.427Z"
   },
   {
    "duration": 2,
    "start_time": "2023-04-12T13:55:02.226Z"
   },
   {
    "duration": 954327,
    "start_time": "2023-04-12T13:55:03.271Z"
   },
   {
    "duration": 6,
    "start_time": "2023-04-12T14:12:06.292Z"
   },
   {
    "duration": 3,
    "start_time": "2023-04-12T14:12:07.744Z"
   },
   {
    "duration": 4120,
    "start_time": "2023-04-12T14:12:09.237Z"
   },
   {
    "duration": 6,
    "start_time": "2023-04-12T14:12:14.635Z"
   },
   {
    "duration": 3,
    "start_time": "2023-04-12T14:12:26.495Z"
   },
   {
    "duration": 161,
    "start_time": "2023-04-12T14:12:29.736Z"
   },
   {
    "duration": 5,
    "start_time": "2023-04-12T14:12:33.728Z"
   },
   {
    "duration": 330,
    "start_time": "2023-04-12T14:23:36.674Z"
   },
   {
    "duration": 3,
    "start_time": "2023-04-12T14:24:38.635Z"
   },
   {
    "duration": 23,
    "start_time": "2023-04-12T14:24:41.929Z"
   },
   {
    "duration": 3,
    "start_time": "2023-04-12T14:24:43.706Z"
   },
   {
    "duration": 4676,
    "start_time": "2023-04-12T14:24:44.486Z"
   },
   {
    "duration": 1200,
    "start_time": "2023-04-12T14:24:50.489Z"
   },
   {
    "duration": 1328,
    "start_time": "2023-04-12T14:26:44.381Z"
   },
   {
    "duration": 1077,
    "start_time": "2023-04-12T14:27:01.932Z"
   },
   {
    "duration": 1094,
    "start_time": "2023-04-12T14:27:05.871Z"
   },
   {
    "duration": 5,
    "start_time": "2023-04-12T14:30:11.593Z"
   },
   {
    "duration": 2,
    "start_time": "2023-04-12T14:31:46.527Z"
   },
   {
    "duration": 28,
    "start_time": "2023-04-12T14:32:46.738Z"
   },
   {
    "duration": 4,
    "start_time": "2023-04-12T14:33:50.776Z"
   },
   {
    "duration": 3,
    "start_time": "2023-04-12T14:34:09.666Z"
   },
   {
    "duration": 54,
    "start_time": "2023-04-12T14:36:07.340Z"
   },
   {
    "duration": 4,
    "start_time": "2023-04-12T14:36:32.567Z"
   },
   {
    "duration": 3,
    "start_time": "2023-04-12T14:36:36.011Z"
   },
   {
    "duration": 41,
    "start_time": "2023-04-12T14:36:36.824Z"
   },
   {
    "duration": 3,
    "start_time": "2023-04-12T14:41:06.765Z"
   },
   {
    "duration": 3,
    "start_time": "2023-04-12T14:41:08.295Z"
   },
   {
    "duration": 17,
    "start_time": "2023-04-12T14:41:48.686Z"
   },
   {
    "duration": 2,
    "start_time": "2023-04-12T14:41:52.806Z"
   },
   {
    "duration": 3,
    "start_time": "2023-04-12T14:41:54.654Z"
   },
   {
    "duration": 1699550,
    "start_time": "2023-04-12T14:41:57.409Z"
   },
   {
    "duration": 11,
    "start_time": "2023-04-12T15:11:00.169Z"
   },
   {
    "duration": 4,
    "start_time": "2023-04-12T15:11:07.665Z"
   },
   {
    "duration": 10,
    "start_time": "2023-04-12T15:18:31.998Z"
   },
   {
    "duration": 2,
    "start_time": "2023-04-12T15:18:33.528Z"
   },
   {
    "duration": 4,
    "start_time": "2023-04-12T15:18:36.302Z"
   },
   {
    "duration": 174,
    "start_time": "2023-04-12T15:18:44.141Z"
   },
   {
    "duration": 3,
    "start_time": "2023-04-12T15:19:28.011Z"
   },
   {
    "duration": 3,
    "start_time": "2023-04-12T15:20:13.398Z"
   },
   {
    "duration": 3,
    "start_time": "2023-04-12T15:20:13.998Z"
   },
   {
    "duration": 41,
    "start_time": "2023-04-12T15:20:17.811Z"
   },
   {
    "duration": 5665,
    "start_time": "2023-04-12T15:20:19.840Z"
   },
   {
    "duration": 1576,
    "start_time": "2023-04-12T15:20:26.437Z"
   },
   {
    "duration": 3,
    "start_time": "2023-04-12T15:20:30.246Z"
   },
   {
    "duration": 3,
    "start_time": "2023-04-12T15:20:30.824Z"
   },
   {
    "duration": 3,
    "start_time": "2023-04-12T15:20:31.403Z"
   },
   {
    "duration": 149,
    "start_time": "2023-04-12T15:20:32.262Z"
   },
   {
    "duration": 3,
    "start_time": "2023-04-12T15:22:09.915Z"
   },
   {
    "duration": 2,
    "start_time": "2023-04-12T15:22:18.048Z"
   },
   {
    "duration": 129,
    "start_time": "2023-04-12T15:22:18.997Z"
   },
   {
    "duration": 3,
    "start_time": "2023-04-12T15:22:44.621Z"
   },
   {
    "duration": 4,
    "start_time": "2023-04-12T15:22:45.348Z"
   },
   {
    "duration": 3,
    "start_time": "2023-04-12T15:22:45.884Z"
   },
   {
    "duration": 88,
    "start_time": "2023-04-12T15:22:46.463Z"
   },
   {
    "duration": 3,
    "start_time": "2023-04-12T16:15:37.787Z"
   },
   {
    "duration": 3,
    "start_time": "2023-04-12T16:15:45.776Z"
   },
   {
    "duration": 2,
    "start_time": "2023-04-12T16:15:46.309Z"
   },
   {
    "duration": 2,
    "start_time": "2023-04-12T16:15:46.809Z"
   },
   {
    "duration": 102,
    "start_time": "2023-04-12T16:15:47.603Z"
   },
   {
    "duration": 2292,
    "start_time": "2023-04-12T16:34:59.911Z"
   },
   {
    "duration": 2,
    "start_time": "2023-04-12T16:35:24.854Z"
   },
   {
    "duration": 3,
    "start_time": "2023-04-12T16:35:26.220Z"
   },
   {
    "duration": 3,
    "start_time": "2023-04-12T16:35:27.664Z"
   },
   {
    "duration": 274,
    "start_time": "2023-04-12T16:35:28.651Z"
   },
   {
    "duration": 3,
    "start_time": "2023-04-12T16:35:51.833Z"
   },
   {
    "duration": 2,
    "start_time": "2023-04-12T16:35:52.516Z"
   },
   {
    "duration": 122,
    "start_time": "2023-04-12T16:35:53.511Z"
   },
   {
    "duration": 4,
    "start_time": "2023-04-12T16:36:07.856Z"
   },
   {
    "duration": 7,
    "start_time": "2023-04-12T16:36:09.056Z"
   },
   {
    "duration": 1160299,
    "start_time": "2023-04-12T16:36:09.787Z"
   },
   {
    "duration": 15,
    "start_time": "2023-04-12T16:58:42.037Z"
   },
   {
    "duration": 4,
    "start_time": "2023-04-12T17:00:04.092Z"
   },
   {
    "duration": 7,
    "start_time": "2023-04-12T17:00:20.400Z"
   },
   {
    "duration": 5,
    "start_time": "2023-04-12T17:00:24.649Z"
   },
   {
    "duration": 4,
    "start_time": "2023-04-12T17:02:35.437Z"
   },
   {
    "duration": 4,
    "start_time": "2023-04-12T17:02:52.097Z"
   },
   {
    "duration": 3,
    "start_time": "2023-04-12T17:05:08.064Z"
   },
   {
    "duration": 4,
    "start_time": "2023-04-12T17:13:30.713Z"
   },
   {
    "duration": 372031,
    "start_time": "2023-04-12T17:13:41.816Z"
   },
   {
    "duration": 304,
    "start_time": "2023-04-12T17:22:53.037Z"
   },
   {
    "duration": 11,
    "start_time": "2023-04-12T17:22:54.696Z"
   },
   {
    "duration": 3,
    "start_time": "2023-04-12T17:22:55.485Z"
   },
   {
    "duration": 3,
    "start_time": "2023-04-12T17:23:49.783Z"
   },
   {
    "duration": 1858111,
    "start_time": "2023-04-12T17:23:50.556Z"
   },
   {
    "duration": 6,
    "start_time": "2023-04-12T18:49:51.491Z"
   },
   {
    "duration": 5,
    "start_time": "2023-04-12T19:20:53.996Z"
   },
   {
    "duration": 15,
    "start_time": "2023-04-12T19:21:51.595Z"
   },
   {
    "duration": 7393,
    "start_time": "2023-04-13T07:28:37.867Z"
   },
   {
    "duration": 2818,
    "start_time": "2023-04-13T07:28:48.833Z"
   },
   {
    "duration": 579,
    "start_time": "2023-04-13T07:29:39.694Z"
   },
   {
    "duration": 622,
    "start_time": "2023-04-13T07:31:54.022Z"
   },
   {
    "duration": 5,
    "start_time": "2023-04-13T07:31:55.214Z"
   },
   {
    "duration": 1113445,
    "start_time": "2023-04-13T07:31:56.536Z"
   },
   {
    "duration": 3,
    "start_time": "2023-04-13T07:58:10.313Z"
   },
   {
    "duration": 4662,
    "start_time": "2023-04-13T07:58:10.914Z"
   },
   {
    "duration": 12,
    "start_time": "2023-04-13T07:58:23.410Z"
   },
   {
    "duration": 3,
    "start_time": "2023-04-13T07:58:28.112Z"
   },
   {
    "duration": 3,
    "start_time": "2023-04-13T07:58:28.658Z"
   },
   {
    "duration": 159,
    "start_time": "2023-04-13T07:58:30.249Z"
   },
   {
    "duration": 4,
    "start_time": "2023-04-13T07:58:31.413Z"
   },
   {
    "duration": 42,
    "start_time": "2023-04-13T07:58:35.313Z"
   },
   {
    "duration": 3,
    "start_time": "2023-04-13T07:58:36.011Z"
   },
   {
    "duration": 5581,
    "start_time": "2023-04-13T07:58:36.556Z"
   },
   {
    "duration": 1285,
    "start_time": "2023-04-13T07:58:43.020Z"
   },
   {
    "duration": 4,
    "start_time": "2023-04-13T07:58:48.514Z"
   },
   {
    "duration": 3,
    "start_time": "2023-04-13T07:58:50.513Z"
   },
   {
    "duration": 348,
    "start_time": "2023-04-13T07:58:51.428Z"
   },
   {
    "duration": 22,
    "start_time": "2023-04-13T07:59:17.112Z"
   },
   {
    "duration": 2,
    "start_time": "2023-04-13T07:59:20.472Z"
   },
   {
    "duration": 4,
    "start_time": "2023-04-13T07:59:22.505Z"
   },
   {
    "duration": 1235520,
    "start_time": "2023-04-13T07:59:28.017Z"
   },
   {
    "duration": 5,
    "start_time": "2023-04-13T08:31:01.017Z"
   },
   {
    "duration": 5,
    "start_time": "2023-04-13T08:31:01.798Z"
   },
   {
    "duration": 5,
    "start_time": "2023-04-13T08:31:03.041Z"
   },
   {
    "duration": 4,
    "start_time": "2023-04-13T08:31:11.341Z"
   },
   {
    "duration": 1008119,
    "start_time": "2023-04-13T08:32:48.109Z"
   },
   {
    "duration": 22,
    "start_time": "2023-04-13T09:05:48.101Z"
   },
   {
    "duration": 3,
    "start_time": "2023-04-13T09:15:29.079Z"
   },
   {
    "duration": 4094,
    "start_time": "2023-04-13T09:16:40.267Z"
   },
   {
    "duration": 4416,
    "start_time": "2023-04-13T09:17:27.406Z"
   },
   {
    "duration": 1181,
    "start_time": "2023-04-13T09:17:33.148Z"
   },
   {
    "duration": 1078,
    "start_time": "2023-04-13T09:17:47.458Z"
   },
   {
    "duration": 21,
    "start_time": "2023-04-13T09:41:58.073Z"
   },
   {
    "duration": 294051,
    "start_time": "2023-04-13T09:42:24.494Z"
   },
   {
    "duration": 21,
    "start_time": "2023-04-13T10:28:15.508Z"
   },
   {
    "duration": 288,
    "start_time": "2023-04-13T10:28:43.106Z"
   },
   {
    "duration": 10,
    "start_time": "2023-04-13T10:29:18.100Z"
   },
   {
    "duration": 3,
    "start_time": "2023-04-13T10:29:58.310Z"
   },
   {
    "duration": 1871869,
    "start_time": "2023-04-13T10:30:01.328Z"
   },
   {
    "duration": 11,
    "start_time": "2023-04-13T11:11:16.675Z"
   },
   {
    "duration": 5,
    "start_time": "2023-04-13T11:11:30.230Z"
   },
   {
    "duration": 15,
    "start_time": "2023-04-13T11:11:41.114Z"
   },
   {
    "duration": 6,
    "start_time": "2023-04-13T11:14:54.357Z"
   },
   {
    "duration": 16,
    "start_time": "2023-04-13T11:14:55.457Z"
   }
  ],
  "kernelspec": {
   "display_name": "Python 3 (ipykernel)",
   "language": "python",
   "name": "python3"
  },
  "language_info": {
   "codemirror_mode": {
    "name": "ipython",
    "version": 3
   },
   "file_extension": ".py",
   "mimetype": "text/x-python",
   "name": "python",
   "nbconvert_exporter": "python",
   "pygments_lexer": "ipython3",
   "version": "3.9.5"
  },
  "toc": {
   "base_numbering": 1,
   "nav_menu": {},
   "number_sections": true,
   "sideBar": true,
   "skip_h1_title": true,
   "title_cell": "Содержание",
   "title_sidebar": "Contents",
   "toc_cell": true,
   "toc_position": {
    "height": "calc(100% - 180px)",
    "left": "10px",
    "top": "150px",
    "width": "302.391px"
   },
   "toc_section_display": true,
   "toc_window_display": false
  }
 },
 "nbformat": 4,
 "nbformat_minor": 2
}
