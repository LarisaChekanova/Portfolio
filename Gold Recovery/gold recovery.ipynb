{
 "cells": [
  {
   "cell_type": "markdown",
   "metadata": {
    "toc": true
   },
   "source": [
    "<h1>Содержание<span class=\"tocSkip\"></span></h1>\n",
    "<div class=\"toc\"><ul class=\"toc-item\"><li><span><a href=\"#Подготовка-данных\" data-toc-modified-id=\"Подготовка-данных-1\"><span class=\"toc-item-num\">1&nbsp;&nbsp;</span>Подготовка данных</a></span><ul class=\"toc-item\"><li><span><a href=\"#Откроем-файлы-и-изучим-их\" data-toc-modified-id=\"Откроем-файлы-и-изучим-их-1.1\"><span class=\"toc-item-num\">1.1&nbsp;&nbsp;</span>Откроем файлы и изучим их</a></span></li><li><span><a href=\"#Рассчитаем-эффективность-обогащения-на-обучающей-выборке-для-признака-rougher.output.recovery\" data-toc-modified-id=\"Рассчитаем-эффективность-обогащения-на-обучающей-выборке-для-признака-rougher.output.recovery-1.2\"><span class=\"toc-item-num\">1.2&nbsp;&nbsp;</span>Рассчитаем эффективность обогащения на обучающей выборке для признака rougher.output.recovery</a></span></li><li><span><a href=\"#Посмотрим-признаки,-недоступные-в-тестовой-выборке\" data-toc-modified-id=\"Посмотрим-признаки,-недоступные-в-тестовой-выборке-1.3\"><span class=\"toc-item-num\">1.3&nbsp;&nbsp;</span>Посмотрим признаки, недоступные в тестовой выборке</a></span></li><li><span><a href=\"#Проведем-предобработку-данных\" data-toc-modified-id=\"Проведем-предобработку-данных-1.4\"><span class=\"toc-item-num\">1.4&nbsp;&nbsp;</span>Проведем предобработку данных</a></span></li></ul></li><li><span><a href=\"#Анализ-данных\" data-toc-modified-id=\"Анализ-данных-2\"><span class=\"toc-item-num\">2&nbsp;&nbsp;</span>Анализ данных</a></span><ul class=\"toc-item\"><li><span><a href=\"#Посмотрим,-как-меняется-концентрация-металлов-(Au,-Ag,-Pb)-на-различных-этапах-очистки\" data-toc-modified-id=\"Посмотрим,-как-меняется-концентрация-металлов-(Au,-Ag,-Pb)-на-различных-этапах-очистки-2.1\"><span class=\"toc-item-num\">2.1&nbsp;&nbsp;</span>Посмотрим, как меняется концентрация металлов (Au, Ag, Pb) на различных этапах очистки</a></span></li><li><span><a href=\"#Сравним-распределения-размеров-гранул-сырья-на-обучающей-и-тестовой-выборках.\" data-toc-modified-id=\"Сравним-распределения-размеров-гранул-сырья-на-обучающей-и-тестовой-выборках.-2.2\"><span class=\"toc-item-num\">2.2&nbsp;&nbsp;</span>Сравним распределения размеров гранул сырья на обучающей и тестовой выборках.</a></span></li><li><span><a href=\"#Исследуем-суммарную-концентрацию-всех-веществ-на-разных-стадиях:-в-сырье,-в-черновом-и-финальном-концентратах.\" data-toc-modified-id=\"Исследуем-суммарную-концентрацию-всех-веществ-на-разных-стадиях:-в-сырье,-в-черновом-и-финальном-концентратах.-2.3\"><span class=\"toc-item-num\">2.3&nbsp;&nbsp;</span>Исследуем суммарную концентрацию всех веществ на разных стадиях: в сырье, в черновом и финальном концентратах.</a></span></li></ul></li><li><span><a href=\"#Модель\" data-toc-modified-id=\"Модель-3\"><span class=\"toc-item-num\">3&nbsp;&nbsp;</span>Модель</a></span><ul class=\"toc-item\"><li><span><a href=\"#Вычислим-итоговой-sMAPE.\" data-toc-modified-id=\"Вычислим-итоговой-sMAPE.-3.1\"><span class=\"toc-item-num\">3.1&nbsp;&nbsp;</span>Вычислим итоговой sMAPE.</a></span></li><li><span><a href=\"#Обучим-и-выберем-лучшую-модель\" data-toc-modified-id=\"Обучим-и-выберем-лучшую-модель-3.2\"><span class=\"toc-item-num\">3.2&nbsp;&nbsp;</span>Обучим и выберем лучшую модель</a></span></li></ul></li></ul></div>"
   ]
  },
  {
   "cell_type": "markdown",
   "metadata": {},
   "source": [
    "# Восстановление золота из руды"
   ]
  },
  {
   "cell_type": "markdown",
   "metadata": {},
   "source": [
    "Подготовьте прототип модели машинного обучения для «Цифры». Компания разрабатывает решения для эффективной работы промышленных предприятий.\n",
    "\n",
    "Модель должна предсказать коэффициент восстановления золота из золотосодержащей руды. Используйте данные с параметрами добычи и очистки. \n",
    "\n",
    "Модель поможет оптимизировать производство, чтобы не запускать предприятие с убыточными характеристиками.\n",
    "\n",
    "Вам нужно:\n",
    "\n",
    "1. Подготовить данные;\n",
    "2. Провести исследовательский анализ данных;\n",
    "3. Построить и обучить модель.\n",
    "\n",
    "Чтобы выполнить проект, обращайтесь к библиотекам *pandas*, *matplotlib* и *sklearn.* Вам поможет их документация."
   ]
  },
  {
   "cell_type": "markdown",
   "metadata": {},
   "source": [
    "## Подготовка данных"
   ]
  },
  {
   "cell_type": "markdown",
   "metadata": {},
   "source": [
    "### Откроем файлы и изучим их"
   ]
  },
  {
   "cell_type": "code",
   "execution_count": 1,
   "metadata": {},
   "outputs": [],
   "source": [
    "import pandas as pd\n",
    "import seaborn \n",
    "import numpy as np\n",
    "from sklearn.metrics import mean_absolute_error, mean_squared_error, make_scorer\n",
    "import matplotlib.pyplot as plt\n",
    "from sklearn.linear_model import LinearRegression\n",
    "from sklearn.ensemble import RandomForestRegressor\n",
    "from sklearn.tree import DecisionTreeClassifier\n",
    "from sklearn.preprocessing import StandardScaler\n",
    "from sklearn.model_selection import cross_val_score\n"
   ]
  },
  {
   "cell_type": "code",
   "execution_count": 2,
   "metadata": {},
   "outputs": [],
   "source": [
    "data_train = pd.read_csv('/datasets/gold_recovery_train_new.csv')\n",
    "data_test = pd.read_csv('/datasets/gold_recovery_test_new.csv')\n",
    "data_full = pd.read_csv('/datasets/gold_recovery_full_new.csv')"
   ]
  },
  {
   "cell_type": "code",
   "execution_count": 3,
   "metadata": {
    "scrolled": true
   },
   "outputs": [
    {
     "name": "stdout",
     "output_type": "stream",
     "text": [
      "<class 'pandas.core.frame.DataFrame'>\n",
      "RangeIndex: 14149 entries, 0 to 14148\n",
      "Data columns (total 87 columns):\n",
      " #   Column                                              Non-Null Count  Dtype  \n",
      "---  ------                                              --------------  -----  \n",
      " 0   date                                                14149 non-null  object \n",
      " 1   final.output.concentrate_ag                         14148 non-null  float64\n",
      " 2   final.output.concentrate_pb                         14148 non-null  float64\n",
      " 3   final.output.concentrate_sol                        13938 non-null  float64\n",
      " 4   final.output.concentrate_au                         14149 non-null  float64\n",
      " 5   final.output.recovery                               14149 non-null  float64\n",
      " 6   final.output.tail_ag                                14149 non-null  float64\n",
      " 7   final.output.tail_pb                                14049 non-null  float64\n",
      " 8   final.output.tail_sol                               14144 non-null  float64\n",
      " 9   final.output.tail_au                                14149 non-null  float64\n",
      " 10  primary_cleaner.input.sulfate                       14129 non-null  float64\n",
      " 11  primary_cleaner.input.depressant                    14117 non-null  float64\n",
      " 12  primary_cleaner.input.feed_size                     14149 non-null  float64\n",
      " 13  primary_cleaner.input.xanthate                      14049 non-null  float64\n",
      " 14  primary_cleaner.output.concentrate_ag               14149 non-null  float64\n",
      " 15  primary_cleaner.output.concentrate_pb               14063 non-null  float64\n",
      " 16  primary_cleaner.output.concentrate_sol              13863 non-null  float64\n",
      " 17  primary_cleaner.output.concentrate_au               14149 non-null  float64\n",
      " 18  primary_cleaner.output.tail_ag                      14148 non-null  float64\n",
      " 19  primary_cleaner.output.tail_pb                      14134 non-null  float64\n",
      " 20  primary_cleaner.output.tail_sol                     14103 non-null  float64\n",
      " 21  primary_cleaner.output.tail_au                      14149 non-null  float64\n",
      " 22  primary_cleaner.state.floatbank8_a_air              14145 non-null  float64\n",
      " 23  primary_cleaner.state.floatbank8_a_level            14148 non-null  float64\n",
      " 24  primary_cleaner.state.floatbank8_b_air              14145 non-null  float64\n",
      " 25  primary_cleaner.state.floatbank8_b_level            14148 non-null  float64\n",
      " 26  primary_cleaner.state.floatbank8_c_air              14147 non-null  float64\n",
      " 27  primary_cleaner.state.floatbank8_c_level            14148 non-null  float64\n",
      " 28  primary_cleaner.state.floatbank8_d_air              14146 non-null  float64\n",
      " 29  primary_cleaner.state.floatbank8_d_level            14148 non-null  float64\n",
      " 30  rougher.calculation.sulfate_to_au_concentrate       14148 non-null  float64\n",
      " 31  rougher.calculation.floatbank10_sulfate_to_au_feed  14148 non-null  float64\n",
      " 32  rougher.calculation.floatbank11_sulfate_to_au_feed  14148 non-null  float64\n",
      " 33  rougher.calculation.au_pb_ratio                     14149 non-null  float64\n",
      " 34  rougher.input.feed_ag                               14149 non-null  float64\n",
      " 35  rougher.input.feed_pb                               14049 non-null  float64\n",
      " 36  rougher.input.feed_rate                             14141 non-null  float64\n",
      " 37  rougher.input.feed_size                             14005 non-null  float64\n",
      " 38  rougher.input.feed_sol                              14071 non-null  float64\n",
      " 39  rougher.input.feed_au                               14149 non-null  float64\n",
      " 40  rougher.input.floatbank10_sulfate                   14120 non-null  float64\n",
      " 41  rougher.input.floatbank10_xanthate                  14141 non-null  float64\n",
      " 42  rougher.input.floatbank11_sulfate                   14113 non-null  float64\n",
      " 43  rougher.input.floatbank11_xanthate                  13721 non-null  float64\n",
      " 44  rougher.output.concentrate_ag                       14149 non-null  float64\n",
      " 45  rougher.output.concentrate_pb                       14149 non-null  float64\n",
      " 46  rougher.output.concentrate_sol                      14127 non-null  float64\n",
      " 47  rougher.output.concentrate_au                       14149 non-null  float64\n",
      " 48  rougher.output.recovery                             14149 non-null  float64\n",
      " 49  rougher.output.tail_ag                              14148 non-null  float64\n",
      " 50  rougher.output.tail_pb                              14149 non-null  float64\n",
      " 51  rougher.output.tail_sol                             14149 non-null  float64\n",
      " 52  rougher.output.tail_au                              14149 non-null  float64\n",
      " 53  rougher.state.floatbank10_a_air                     14148 non-null  float64\n",
      " 54  rougher.state.floatbank10_a_level                   14148 non-null  float64\n",
      " 55  rougher.state.floatbank10_b_air                     14148 non-null  float64\n",
      " 56  rougher.state.floatbank10_b_level                   14148 non-null  float64\n",
      " 57  rougher.state.floatbank10_c_air                     14148 non-null  float64\n",
      " 58  rougher.state.floatbank10_c_level                   14148 non-null  float64\n",
      " 59  rougher.state.floatbank10_d_air                     14149 non-null  float64\n",
      " 60  rougher.state.floatbank10_d_level                   14149 non-null  float64\n",
      " 61  rougher.state.floatbank10_e_air                     13713 non-null  float64\n",
      " 62  rougher.state.floatbank10_e_level                   14149 non-null  float64\n",
      " 63  rougher.state.floatbank10_f_air                     14149 non-null  float64\n",
      " 64  rougher.state.floatbank10_f_level                   14149 non-null  float64\n",
      " 65  secondary_cleaner.output.tail_ag                    14147 non-null  float64\n",
      " 66  secondary_cleaner.output.tail_pb                    14139 non-null  float64\n",
      " 67  secondary_cleaner.output.tail_sol                   12544 non-null  float64\n",
      " 68  secondary_cleaner.output.tail_au                    14149 non-null  float64\n",
      " 69  secondary_cleaner.state.floatbank2_a_air            13932 non-null  float64\n",
      " 70  secondary_cleaner.state.floatbank2_a_level          14148 non-null  float64\n",
      " 71  secondary_cleaner.state.floatbank2_b_air            14128 non-null  float64\n",
      " 72  secondary_cleaner.state.floatbank2_b_level          14148 non-null  float64\n",
      " 73  secondary_cleaner.state.floatbank3_a_air            14145 non-null  float64\n",
      " 74  secondary_cleaner.state.floatbank3_a_level          14148 non-null  float64\n",
      " 75  secondary_cleaner.state.floatbank3_b_air            14148 non-null  float64\n",
      " 76  secondary_cleaner.state.floatbank3_b_level          14148 non-null  float64\n",
      " 77  secondary_cleaner.state.floatbank4_a_air            14143 non-null  float64\n",
      " 78  secondary_cleaner.state.floatbank4_a_level          14148 non-null  float64\n",
      " 79  secondary_cleaner.state.floatbank4_b_air            14148 non-null  float64\n",
      " 80  secondary_cleaner.state.floatbank4_b_level          14148 non-null  float64\n",
      " 81  secondary_cleaner.state.floatbank5_a_air            14148 non-null  float64\n",
      " 82  secondary_cleaner.state.floatbank5_a_level          14148 non-null  float64\n",
      " 83  secondary_cleaner.state.floatbank5_b_air            14148 non-null  float64\n",
      " 84  secondary_cleaner.state.floatbank5_b_level          14148 non-null  float64\n",
      " 85  secondary_cleaner.state.floatbank6_a_air            14147 non-null  float64\n",
      " 86  secondary_cleaner.state.floatbank6_a_level          14148 non-null  float64\n",
      "dtypes: float64(86), object(1)\n",
      "memory usage: 9.4+ MB\n"
     ]
    }
   ],
   "source": [
    "data_train.info()"
   ]
  },
  {
   "cell_type": "code",
   "execution_count": 4,
   "metadata": {
    "scrolled": true
   },
   "outputs": [
    {
     "name": "stdout",
     "output_type": "stream",
     "text": [
      "<class 'pandas.core.frame.DataFrame'>\n",
      "RangeIndex: 5290 entries, 0 to 5289\n",
      "Data columns (total 53 columns):\n",
      " #   Column                                      Non-Null Count  Dtype  \n",
      "---  ------                                      --------------  -----  \n",
      " 0   date                                        5290 non-null   object \n",
      " 1   primary_cleaner.input.sulfate               5286 non-null   float64\n",
      " 2   primary_cleaner.input.depressant            5285 non-null   float64\n",
      " 3   primary_cleaner.input.feed_size             5290 non-null   float64\n",
      " 4   primary_cleaner.input.xanthate              5286 non-null   float64\n",
      " 5   primary_cleaner.state.floatbank8_a_air      5290 non-null   float64\n",
      " 6   primary_cleaner.state.floatbank8_a_level    5290 non-null   float64\n",
      " 7   primary_cleaner.state.floatbank8_b_air      5290 non-null   float64\n",
      " 8   primary_cleaner.state.floatbank8_b_level    5290 non-null   float64\n",
      " 9   primary_cleaner.state.floatbank8_c_air      5290 non-null   float64\n",
      " 10  primary_cleaner.state.floatbank8_c_level    5290 non-null   float64\n",
      " 11  primary_cleaner.state.floatbank8_d_air      5290 non-null   float64\n",
      " 12  primary_cleaner.state.floatbank8_d_level    5290 non-null   float64\n",
      " 13  rougher.input.feed_ag                       5290 non-null   float64\n",
      " 14  rougher.input.feed_pb                       5290 non-null   float64\n",
      " 15  rougher.input.feed_rate                     5287 non-null   float64\n",
      " 16  rougher.input.feed_size                     5289 non-null   float64\n",
      " 17  rougher.input.feed_sol                      5269 non-null   float64\n",
      " 18  rougher.input.feed_au                       5290 non-null   float64\n",
      " 19  rougher.input.floatbank10_sulfate           5285 non-null   float64\n",
      " 20  rougher.input.floatbank10_xanthate          5290 non-null   float64\n",
      " 21  rougher.input.floatbank11_sulfate           5282 non-null   float64\n",
      " 22  rougher.input.floatbank11_xanthate          5265 non-null   float64\n",
      " 23  rougher.state.floatbank10_a_air             5290 non-null   float64\n",
      " 24  rougher.state.floatbank10_a_level           5290 non-null   float64\n",
      " 25  rougher.state.floatbank10_b_air             5290 non-null   float64\n",
      " 26  rougher.state.floatbank10_b_level           5290 non-null   float64\n",
      " 27  rougher.state.floatbank10_c_air             5290 non-null   float64\n",
      " 28  rougher.state.floatbank10_c_level           5290 non-null   float64\n",
      " 29  rougher.state.floatbank10_d_air             5290 non-null   float64\n",
      " 30  rougher.state.floatbank10_d_level           5290 non-null   float64\n",
      " 31  rougher.state.floatbank10_e_air             5290 non-null   float64\n",
      " 32  rougher.state.floatbank10_e_level           5290 non-null   float64\n",
      " 33  rougher.state.floatbank10_f_air             5290 non-null   float64\n",
      " 34  rougher.state.floatbank10_f_level           5290 non-null   float64\n",
      " 35  secondary_cleaner.state.floatbank2_a_air    5287 non-null   float64\n",
      " 36  secondary_cleaner.state.floatbank2_a_level  5290 non-null   float64\n",
      " 37  secondary_cleaner.state.floatbank2_b_air    5288 non-null   float64\n",
      " 38  secondary_cleaner.state.floatbank2_b_level  5290 non-null   float64\n",
      " 39  secondary_cleaner.state.floatbank3_a_air    5281 non-null   float64\n",
      " 40  secondary_cleaner.state.floatbank3_a_level  5290 non-null   float64\n",
      " 41  secondary_cleaner.state.floatbank3_b_air    5290 non-null   float64\n",
      " 42  secondary_cleaner.state.floatbank3_b_level  5290 non-null   float64\n",
      " 43  secondary_cleaner.state.floatbank4_a_air    5290 non-null   float64\n",
      " 44  secondary_cleaner.state.floatbank4_a_level  5290 non-null   float64\n",
      " 45  secondary_cleaner.state.floatbank4_b_air    5290 non-null   float64\n",
      " 46  secondary_cleaner.state.floatbank4_b_level  5290 non-null   float64\n",
      " 47  secondary_cleaner.state.floatbank5_a_air    5290 non-null   float64\n",
      " 48  secondary_cleaner.state.floatbank5_a_level  5290 non-null   float64\n",
      " 49  secondary_cleaner.state.floatbank5_b_air    5290 non-null   float64\n",
      " 50  secondary_cleaner.state.floatbank5_b_level  5290 non-null   float64\n",
      " 51  secondary_cleaner.state.floatbank6_a_air    5290 non-null   float64\n",
      " 52  secondary_cleaner.state.floatbank6_a_level  5290 non-null   float64\n",
      "dtypes: float64(52), object(1)\n",
      "memory usage: 2.1+ MB\n"
     ]
    }
   ],
   "source": [
    "data_test.info()"
   ]
  },
  {
   "cell_type": "code",
   "execution_count": 5,
   "metadata": {
    "scrolled": true
   },
   "outputs": [
    {
     "name": "stdout",
     "output_type": "stream",
     "text": [
      "<class 'pandas.core.frame.DataFrame'>\n",
      "RangeIndex: 19439 entries, 0 to 19438\n",
      "Data columns (total 87 columns):\n",
      " #   Column                                              Non-Null Count  Dtype  \n",
      "---  ------                                              --------------  -----  \n",
      " 0   date                                                19439 non-null  object \n",
      " 1   final.output.concentrate_ag                         19438 non-null  float64\n",
      " 2   final.output.concentrate_pb                         19438 non-null  float64\n",
      " 3   final.output.concentrate_sol                        19228 non-null  float64\n",
      " 4   final.output.concentrate_au                         19439 non-null  float64\n",
      " 5   final.output.recovery                               19439 non-null  float64\n",
      " 6   final.output.tail_ag                                19438 non-null  float64\n",
      " 7   final.output.tail_pb                                19338 non-null  float64\n",
      " 8   final.output.tail_sol                               19433 non-null  float64\n",
      " 9   final.output.tail_au                                19439 non-null  float64\n",
      " 10  primary_cleaner.input.sulfate                       19415 non-null  float64\n",
      " 11  primary_cleaner.input.depressant                    19402 non-null  float64\n",
      " 12  primary_cleaner.input.feed_size                     19439 non-null  float64\n",
      " 13  primary_cleaner.input.xanthate                      19335 non-null  float64\n",
      " 14  primary_cleaner.output.concentrate_ag               19439 non-null  float64\n",
      " 15  primary_cleaner.output.concentrate_pb               19323 non-null  float64\n",
      " 16  primary_cleaner.output.concentrate_sol              19069 non-null  float64\n",
      " 17  primary_cleaner.output.concentrate_au               19439 non-null  float64\n",
      " 18  primary_cleaner.output.tail_ag                      19435 non-null  float64\n",
      " 19  primary_cleaner.output.tail_pb                      19418 non-null  float64\n",
      " 20  primary_cleaner.output.tail_sol                     19377 non-null  float64\n",
      " 21  primary_cleaner.output.tail_au                      19439 non-null  float64\n",
      " 22  primary_cleaner.state.floatbank8_a_air              19435 non-null  float64\n",
      " 23  primary_cleaner.state.floatbank8_a_level            19438 non-null  float64\n",
      " 24  primary_cleaner.state.floatbank8_b_air              19435 non-null  float64\n",
      " 25  primary_cleaner.state.floatbank8_b_level            19438 non-null  float64\n",
      " 26  primary_cleaner.state.floatbank8_c_air              19437 non-null  float64\n",
      " 27  primary_cleaner.state.floatbank8_c_level            19438 non-null  float64\n",
      " 28  primary_cleaner.state.floatbank8_d_air              19436 non-null  float64\n",
      " 29  primary_cleaner.state.floatbank8_d_level            19438 non-null  float64\n",
      " 30  rougher.calculation.sulfate_to_au_concentrate       19437 non-null  float64\n",
      " 31  rougher.calculation.floatbank10_sulfate_to_au_feed  19437 non-null  float64\n",
      " 32  rougher.calculation.floatbank11_sulfate_to_au_feed  19437 non-null  float64\n",
      " 33  rougher.calculation.au_pb_ratio                     19439 non-null  float64\n",
      " 34  rougher.input.feed_ag                               19439 non-null  float64\n",
      " 35  rougher.input.feed_pb                               19339 non-null  float64\n",
      " 36  rougher.input.feed_rate                             19428 non-null  float64\n",
      " 37  rougher.input.feed_size                             19294 non-null  float64\n",
      " 38  rougher.input.feed_sol                              19340 non-null  float64\n",
      " 39  rougher.input.feed_au                               19439 non-null  float64\n",
      " 40  rougher.input.floatbank10_sulfate                   19405 non-null  float64\n",
      " 41  rougher.input.floatbank10_xanthate                  19431 non-null  float64\n",
      " 42  rougher.input.floatbank11_sulfate                   19395 non-null  float64\n",
      " 43  rougher.input.floatbank11_xanthate                  18986 non-null  float64\n",
      " 44  rougher.output.concentrate_ag                       19439 non-null  float64\n",
      " 45  rougher.output.concentrate_pb                       19439 non-null  float64\n",
      " 46  rougher.output.concentrate_sol                      19416 non-null  float64\n",
      " 47  rougher.output.concentrate_au                       19439 non-null  float64\n",
      " 48  rougher.output.recovery                             19439 non-null  float64\n",
      " 49  rougher.output.tail_ag                              19438 non-null  float64\n",
      " 50  rougher.output.tail_pb                              19439 non-null  float64\n",
      " 51  rougher.output.tail_sol                             19439 non-null  float64\n",
      " 52  rougher.output.tail_au                              19439 non-null  float64\n",
      " 53  rougher.state.floatbank10_a_air                     19438 non-null  float64\n",
      " 54  rougher.state.floatbank10_a_level                   19438 non-null  float64\n",
      " 55  rougher.state.floatbank10_b_air                     19438 non-null  float64\n",
      " 56  rougher.state.floatbank10_b_level                   19438 non-null  float64\n",
      " 57  rougher.state.floatbank10_c_air                     19438 non-null  float64\n",
      " 58  rougher.state.floatbank10_c_level                   19438 non-null  float64\n",
      " 59  rougher.state.floatbank10_d_air                     19439 non-null  float64\n",
      " 60  rougher.state.floatbank10_d_level                   19439 non-null  float64\n",
      " 61  rougher.state.floatbank10_e_air                     19003 non-null  float64\n",
      " 62  rougher.state.floatbank10_e_level                   19439 non-null  float64\n",
      " 63  rougher.state.floatbank10_f_air                     19439 non-null  float64\n",
      " 64  rougher.state.floatbank10_f_level                   19439 non-null  float64\n",
      " 65  secondary_cleaner.output.tail_ag                    19437 non-null  float64\n",
      " 66  secondary_cleaner.output.tail_pb                    19427 non-null  float64\n",
      " 67  secondary_cleaner.output.tail_sol                   17691 non-null  float64\n",
      " 68  secondary_cleaner.output.tail_au                    19439 non-null  float64\n",
      " 69  secondary_cleaner.state.floatbank2_a_air            19219 non-null  float64\n",
      " 70  secondary_cleaner.state.floatbank2_a_level          19438 non-null  float64\n",
      " 71  secondary_cleaner.state.floatbank2_b_air            19416 non-null  float64\n",
      " 72  secondary_cleaner.state.floatbank2_b_level          19438 non-null  float64\n",
      " 73  secondary_cleaner.state.floatbank3_a_air            19426 non-null  float64\n",
      " 74  secondary_cleaner.state.floatbank3_a_level          19438 non-null  float64\n",
      " 75  secondary_cleaner.state.floatbank3_b_air            19438 non-null  float64\n",
      " 76  secondary_cleaner.state.floatbank3_b_level          19438 non-null  float64\n",
      " 77  secondary_cleaner.state.floatbank4_a_air            19433 non-null  float64\n",
      " 78  secondary_cleaner.state.floatbank4_a_level          19438 non-null  float64\n",
      " 79  secondary_cleaner.state.floatbank4_b_air            19438 non-null  float64\n",
      " 80  secondary_cleaner.state.floatbank4_b_level          19438 non-null  float64\n",
      " 81  secondary_cleaner.state.floatbank5_a_air            19438 non-null  float64\n",
      " 82  secondary_cleaner.state.floatbank5_a_level          19438 non-null  float64\n",
      " 83  secondary_cleaner.state.floatbank5_b_air            19438 non-null  float64\n",
      " 84  secondary_cleaner.state.floatbank5_b_level          19438 non-null  float64\n",
      " 85  secondary_cleaner.state.floatbank6_a_air            19437 non-null  float64\n",
      " 86  secondary_cleaner.state.floatbank6_a_level          19438 non-null  float64\n",
      "dtypes: float64(86), object(1)\n",
      "memory usage: 12.9+ MB\n"
     ]
    }
   ],
   "source": [
    "data_full.info()"
   ]
  },
  {
   "cell_type": "markdown",
   "metadata": {},
   "source": [
    "**План**\n",
    "\n",
    "1. Проверим правильность рассчета эффективности обогащения. \n",
    "2. Вычислим её на обучающей выборке для признака rougher.output.recovery. \n",
    "3. Найдем MAE между нашими расчётами и значением признака. \n",
    "4. Выводы."
   ]
  },
  {
   "cell_type": "markdown",
   "metadata": {},
   "source": [
    "### Рассчитаем эффективность обогащения на обучающей выборке для признака rougher.output.recovery"
   ]
  },
  {
   "cell_type": "markdown",
   "metadata": {},
   "source": [
    "C — доля золота в концентрате после флотации/очистки;\n",
    "F — доля золота в сырье/концентрате до флотации/очистки;\n",
    "T — доля золота в отвальных хвостах после флотации/очистки."
   ]
  },
  {
   "cell_type": "code",
   "execution_count": 6,
   "metadata": {},
   "outputs": [],
   "source": [
    "C = data_train['rougher.output.concentrate_au']"
   ]
  },
  {
   "cell_type": "code",
   "execution_count": 7,
   "metadata": {},
   "outputs": [],
   "source": [
    "F = data_train['rougher.input.feed_au']"
   ]
  },
  {
   "cell_type": "code",
   "execution_count": 8,
   "metadata": {},
   "outputs": [],
   "source": [
    "T = data_train['rougher.output.tail_au']"
   ]
  },
  {
   "cell_type": "code",
   "execution_count": 9,
   "metadata": {},
   "outputs": [],
   "source": [
    "recovery = (C * (F - T)) / (F * (C - T)) * 100"
   ]
  },
  {
   "cell_type": "code",
   "execution_count": 10,
   "metadata": {
    "scrolled": false
   },
   "outputs": [
    {
     "data": {
      "text/plain": [
       "0        87.107763\n",
       "1        86.843261\n",
       "2        86.842308\n",
       "3        87.226430\n",
       "4        86.688794\n",
       "           ...    \n",
       "14144    89.574376\n",
       "14145    87.724007\n",
       "14146    88.890579\n",
       "14147    89.858126\n",
       "14148    89.514960\n",
       "Length: 14149, dtype: float64"
      ]
     },
     "metadata": {},
     "output_type": "display_data"
    }
   ],
   "source": [
    "display(recovery)"
   ]
  },
  {
   "cell_type": "code",
   "execution_count": 11,
   "metadata": {},
   "outputs": [],
   "source": [
    "rougher_output_recovery = data_train['rougher.output.recovery']"
   ]
  },
  {
   "cell_type": "code",
   "execution_count": 12,
   "metadata": {
    "scrolled": false
   },
   "outputs": [
    {
     "data": {
      "text/plain": [
       "9.73512347450521e-15"
      ]
     },
     "execution_count": 12,
     "metadata": {},
     "output_type": "execute_result"
    }
   ],
   "source": [
    "mean_absolute_error(rougher_output_recovery, recovery)"
   ]
  },
  {
   "cell_type": "markdown",
   "metadata": {},
   "source": [
    "В среднем по нашим расчетам значение эффективности обогащения отклоняется на 9e-15 единиц от обучающей выборки. Это значение очень значит расчеты верны."
   ]
  },
  {
   "cell_type": "markdown",
   "metadata": {},
   "source": [
    "### Посмотрим признаки, недоступные в тестовой выборке"
   ]
  },
  {
   "cell_type": "markdown",
   "metadata": {},
   "source": [
    "Добавим в тестовую выборку величину эффективности обогащения из исходной выборки, т.е. целевые признаки, для оценки моделей."
   ]
  },
  {
   "cell_type": "code",
   "execution_count": 13,
   "metadata": {},
   "outputs": [],
   "source": [
    "data_test = data_test.merge(\n",
    "    data_full[['date', 'rougher.output.recovery', 'final.output.recovery']] , on='date', how='left')        "
   ]
  },
  {
   "cell_type": "code",
   "execution_count": 14,
   "metadata": {
    "scrolled": false
   },
   "outputs": [
    {
     "name": "stdout",
     "output_type": "stream",
     "text": [
      "Недоступные в тестовой выборке {'primary_cleaner.output.concentrate_sol', 'final.output.concentrate_au', 'rougher.calculation.floatbank10_sulfate_to_au_feed', 'secondary_cleaner.output.tail_pb', 'final.output.concentrate_sol', 'rougher.calculation.floatbank11_sulfate_to_au_feed', 'final.output.concentrate_pb', 'rougher.output.tail_sol', 'final.output.tail_ag', 'secondary_cleaner.output.tail_ag', 'rougher.output.tail_au', 'rougher.output.concentrate_au', 'rougher.output.concentrate_pb', 'rougher.output.tail_pb', 'primary_cleaner.output.tail_sol', 'rougher.calculation.sulfate_to_au_concentrate', 'final.output.tail_pb', 'primary_cleaner.output.concentrate_ag', 'primary_cleaner.output.tail_ag', 'rougher.output.tail_ag', 'primary_cleaner.output.tail_pb', 'primary_cleaner.output.concentrate_pb', 'secondary_cleaner.output.tail_au', 'primary_cleaner.output.tail_au', 'rougher.output.concentrate_sol', 'primary_cleaner.output.concentrate_au', 'rougher.calculation.au_pb_ratio', 'final.output.tail_au', 'rougher.output.concentrate_ag', 'secondary_cleaner.output.tail_sol', 'final.output.concentrate_ag', 'final.output.tail_sol'}\n"
     ]
    }
   ],
   "source": [
    "columns_no = set(data_train.columns) - set(data_test.columns)\n",
    "print(\"Недоступные в тестовой выборке\", columns_no)"
   ]
  },
  {
   "cell_type": "markdown",
   "metadata": {},
   "source": [
    "В обучающей выборке дополнительно содержатся данные о содержании разных металлов в продукте после очистки золотосодержащей руды. Для обучения модели эти данные не нужны, поэтому их можно будет удалить. Это сделаем позже, пока они нужны"
   ]
  },
  {
   "cell_type": "markdown",
   "metadata": {},
   "source": [
    "\n",
    " Код с включением в тестовую выборку части дынных из исходной выборки удалила и добавила в тестовую целевые признаки.\n",
    " "
   ]
  },
  {
   "cell_type": "markdown",
   "metadata": {},
   "source": [
    "### Проведем предобработку данных"
   ]
  },
  {
   "cell_type": "markdown",
   "metadata": {},
   "source": [
    "Т.к. в нужных нам столбцах 'date' отсутствуют данные. У нас не получилось заполнить пропуски. Поэтому заполним их значеним из предыдущей строки, т.к. если наблюдение проводятся в одно время, то их значения будут близки."
   ]
  },
  {
   "cell_type": "code",
   "execution_count": 15,
   "metadata": {},
   "outputs": [],
   "source": [
    "for df in (data_test, data_train, data_full):\n",
    "    df.fillna(method='ffill', inplace=True)"
   ]
  },
  {
   "cell_type": "markdown",
   "metadata": {},
   "source": [
    "Мы загрузили данные и выяснили, что в них имеются пропуски. Заполниять их из исходной выборки нельзя, т.к. в ней есть все недостающие признаки, в т.ч. которые мы не можем знать на входе с новыми данными (в реальных условиях).\n",
    "\n",
    "Также сохранили в переменной columns_no фичи, которые нам не нужны будут для обучения модели. Мы удалим их из обучающей выборки после анализа данных."
   ]
  },
  {
   "cell_type": "markdown",
   "metadata": {},
   "source": [
    "## Анализ данных"
   ]
  },
  {
   "cell_type": "markdown",
   "metadata": {},
   "source": [
    "### Посмотрим, как меняется концентрация металлов (Au, Ag, Pb) на различных этапах очистки"
   ]
  },
  {
   "cell_type": "markdown",
   "metadata": {},
   "source": [
    "Концентрация золота"
   ]
  },
  {
   "cell_type": "code",
   "execution_count": 16,
   "metadata": {},
   "outputs": [],
   "source": [
    "AU = data_train[[\n",
    "    \"rougher.input.feed_au\", \"rougher.output.concentrate_au\", \"primary_cleaner.output.concentrate_au\", \n",
    "    \"final.output.concentrate_au\"]]"
   ]
  },
  {
   "cell_type": "code",
   "execution_count": 17,
   "metadata": {
    "scrolled": false
   },
   "outputs": [
    {
     "data": {
      "image/png": "[encoded data removed]",
      "text/plain": [
       "<Figure size 504x504 with 1 Axes>"
      ]
     },
     "metadata": {
      "needs_background": "light"
     },
     "output_type": "display_data"
    }
   ],
   "source": [
    "data_train[[\n",
    "    \"rougher.input.feed_au\", \"rougher.output.concentrate_au\", \"primary_cleaner.output.concentrate_au\", \n",
    "    \"final.output.concentrate_au\"]].plot(kind='hist', bins=35, alpha=0.5, figsize=(7, 7))\n",
    "\n",
    "plt.title('Концентрация золота на основных этапах обогащения руды')                                        \n",
    "plt.legend(AU)\n",
    "plt.xlabel('Concentrate, %')\n",
    "plt.ylabel('Total')\n",
    "plt.show()"
   ]
  },
  {
   "cell_type": "markdown",
   "metadata": {},
   "source": [
    "Из графика видно, что по мере обработки руды концентрация золота увеличивается."
   ]
  },
  {
   "cell_type": "code",
   "execution_count": 18,
   "metadata": {},
   "outputs": [
    {
     "data": {
      "image/png": "[encoded data removed]",
      "text/plain": [
       "<Figure size 504x504 with 1 Axes>"
      ]
     },
     "metadata": {
      "needs_background": "light"
     },
     "output_type": "display_data"
    }
   ],
   "source": [
    "AG = data_train[[\n",
    "    \"rougher.input.feed_ag\", \"rougher.output.concentrate_ag\", \"primary_cleaner.output.concentrate_ag\", \n",
    "    \"final.output.concentrate_ag\"]\n",
    "]\n",
    "data_train[[\n",
    "    \"rougher.input.feed_ag\", \"rougher.output.concentrate_ag\", \"primary_cleaner.output.concentrate_ag\", \n",
    "    \"final.output.concentrate_ag\"]].plot(kind='hist', bins=35, alpha=0.5, figsize=(7, 7))\n",
    "\n",
    "plt.title('Концентрация серебра на основных этапах обогащения руды')\n",
    "plt.legend(AG)\n",
    "plt.xlabel('Concentrate,%')\n",
    "plt.ylabel('Total')\n",
    "plt.show()"
   ]
  },
  {
   "cell_type": "markdown",
   "metadata": {},
   "source": [
    "После финального обогащения руды концентрация серебра существенно снижается."
   ]
  },
  {
   "cell_type": "code",
   "execution_count": 19,
   "metadata": {},
   "outputs": [
    {
     "data": {
      "image/png": "[encoded data removed]",
      "text/plain": [
       "<Figure size 504x504 with 1 Axes>"
      ]
     },
     "metadata": {
      "needs_background": "light"
     },
     "output_type": "display_data"
    }
   ],
   "source": [
    "PB = data_train[[\n",
    "    \"rougher.input.feed_pb\", \"rougher.output.concentrate_pb\", \"primary_cleaner.output.concentrate_pb\", \n",
    "    \"final.output.concentrate_pb\"]\n",
    "]\n",
    "\n",
    "data_train[[\n",
    "    \"rougher.input.feed_pb\", \"rougher.output.concentrate_pb\", \"primary_cleaner.output.concentrate_pb\", \n",
    "    \"final.output.concentrate_pb\"]].plot(kind='hist', bins=35, alpha=0.5, figsize=(7, 7))\n",
    "\n",
    "plt.title('Концентрация свинца на основных этапах обогащения руды')\n",
    "plt.legend(PB)\n",
    "plt.xlabel('Concentrate,%')\n",
    "plt.ylabel('Total')\n",
    "plt.show()"
   ]
  },
  {
   "cell_type": "markdown",
   "metadata": {},
   "source": [
    "Мы видим, по мере обогащения руды концентрация свинца увеличивается."
   ]
  },
  {
   "cell_type": "markdown",
   "metadata": {},
   "source": [
    "###  Сравним распределения размеров гранул сырья на обучающей и тестовой выборках. "
   ]
  },
  {
   "cell_type": "code",
   "execution_count": 20,
   "metadata": {},
   "outputs": [
    {
     "data": {
      "image/png": "[encoded data removed]",
      "text/plain": [
       "<Figure size 432x288 with 1 Axes>"
      ]
     },
     "metadata": {
      "needs_background": "light"
     },
     "output_type": "display_data"
    }
   ],
   "source": [
    "seaborn.kdeplot(data=data_train, x='rougher.input.feed_size', fill=True, common_norm=False, \n",
    "                palette=\"crest\", alpha=.5, linewidth=0, label='data_train')\n",
    "seaborn.kdeplot(data=data_test, x='rougher.input.feed_size', fill=True, common_norm=False, \n",
    "                palette=\"crest\", alpha=.5, linewidth=0, label='data_test')\n",
    "\n",
    "plt.ylabel('Доля частиц соответствующего размера')\n",
    "plt.title('Размер частиц до флотации')\n",
    "plt.legend();"
   ]
  },
  {
   "cell_type": "code",
   "execution_count": 21,
   "metadata": {
    "scrolled": true
   },
   "outputs": [
    {
     "data": {
      "image/png": "[encoded data removed]",
      "text/plain": [
       "<Figure size 432x288 with 1 Axes>"
      ]
     },
     "metadata": {
      "needs_background": "light"
     },
     "output_type": "display_data"
    }
   ],
   "source": [
    "seaborn.kdeplot(data=data_train, x=\"primary_cleaner.input.feed_size\", fill=True, common_norm=False, \n",
    "                palette=\"crest\", alpha=.5, linewidth=0, label='data_train')\n",
    "seaborn.kdeplot(data=data_test, x=\"primary_cleaner.input.feed_size\", fill=True,\n",
    "                common_norm=False, palette=\"crest\", alpha=.5, linewidth=0, label='data_test')\n",
    "\n",
    "plt.ylabel('Доля частиц соответствующего размера')\n",
    "plt.title('Размер частиц до флотации')\n",
    "plt.legend();"
   ]
  },
  {
   "cell_type": "markdown",
   "metadata": {},
   "source": [
    "Распределение гранул сырья похоже, соответственно данные подходят для построения модели."
   ]
  },
  {
   "cell_type": "markdown",
   "metadata": {},
   "source": [
    "### Исследуем суммарную концентрацию всех веществ на разных стадиях: в сырье, в черновом и финальном концентратах. "
   ]
  },
  {
   "cell_type": "code",
   "execution_count": 22,
   "metadata": {},
   "outputs": [],
   "source": [
    "data_train_rif = (\n",
    "    data_train[\"rougher.input.feed_au\"] + data_train[\"rougher.input.feed_ag\"] + \n",
    "    data_train[\"rougher.input.feed_pb\"] + data_train[\"rougher.input.feed_sol\"]\n",
    ")"
   ]
  },
  {
   "cell_type": "code",
   "execution_count": 23,
   "metadata": {},
   "outputs": [],
   "source": [
    "data_train_roc = (\n",
    "    data_train[\"rougher.output.concentrate_au\"] + data_train[\"rougher.output.concentrate_ag\"] + \n",
    "    data_train[\"rougher.output.concentrate_pb\"] + data_train[\"rougher.output.concentrate_sol\"]\n",
    ")"
   ]
  },
  {
   "cell_type": "code",
   "execution_count": 24,
   "metadata": {},
   "outputs": [],
   "source": [
    "data_train_foc = (\n",
    "    data_train[\"final.output.concentrate_au\"] + data_train[\"final.output.concentrate_ag\"] + \n",
    "    data_train[\"final.output.concentrate_pb\"] + data_train[\"final.output.concentrate_sol\"]\n",
    ")"
   ]
  },
  {
   "cell_type": "code",
   "execution_count": 26,
   "metadata": {
    "scrolled": false
   },
   "outputs": [
    {
     "data": {
      "image/png": "[encoded data removed]",
      "text/plain": [
       "<Figure size 504x504 with 1 Axes>"
      ]
     },
     "metadata": {
      "needs_background": "light"
     },
     "output_type": "display_data"
    }
   ],
   "source": [
    "data_train_rif.plot(kind='hist', bins=100, alpha=0.5, figsize=(7, 7))\n",
    "data_train_roc.plot(kind='hist', bins=100, alpha=0.5, figsize=(7, 7))\n",
    "data_train_foc.plot(kind='hist', bins=100, alpha=0.5, figsize=(7, 7))\n",
    "\n",
    "plt.legend(\n",
    "    ['rougher.input.feed', 'rougher.output.concentrate', 'final.output.concentrate']\n",
    ")\n",
    "plt.xlabel('Concentrate,%')\n",
    "plt.ylabel('Общее содержание металлов в руде')\n",
    "plt.title('Суммарная концентрация металлов на различных стадиция обработки')\n",
    "plt.show()"
   ]
  },
  {
   "cell_type": "markdown",
   "metadata": {},
   "source": [
    "На графике видно, что у нас имеются аномальные значения близкие к 0. Мы их удалим."
   ]
  },
  {
   "cell_type": "markdown",
   "metadata": {},
   "source": [
    "После каждого этапа обогащения руды суммарная концентрация руды увеличивается."
   ]
  },
  {
   "cell_type": "code",
   "execution_count": 27,
   "metadata": {
    "scrolled": true
   },
   "outputs": [
    {
     "name": "stdout",
     "output_type": "stream",
     "text": [
      "10940    0.010000\n",
      "10939    0.010000\n",
      "10936    0.010000\n",
      "10937    0.010000\n",
      "10938    0.010000\n",
      "12013    0.588152\n",
      "12000    0.625968\n",
      "12021    0.714036\n",
      "12014    0.748198\n",
      "11995    0.761151\n",
      "11999    0.804901\n",
      "11994    0.825207\n",
      "12022    0.854959\n",
      "12015    0.864044\n",
      "12020    0.874188\n",
      "12161    0.885875\n",
      "11993    0.889864\n",
      "12132    0.943717\n",
      "12012    0.983689\n",
      "12001    1.009195\n",
      "Name: rougher.input.feed_au, dtype: float64\n"
     ]
    }
   ],
   "source": [
    "print(data_train['rougher.input.feed_au'].sort_values().head(20))"
   ]
  },
  {
   "cell_type": "code",
   "execution_count": 28,
   "metadata": {},
   "outputs": [],
   "source": [
    "data_train = data_train[\n",
    "    (data_train['rougher.input.feed_au'] > 0.5) & (data_train['rougher.input.feed_ag'] > 0.5) &\n",
    "    (data_train['rougher.input.feed_pb'] > 0.5) & (data_train['rougher.input.feed_sol'] > 0.5)\n",
    "]"
   ]
  },
  {
   "cell_type": "code",
   "execution_count": 29,
   "metadata": {},
   "outputs": [],
   "source": [
    "data_train = data_train[\n",
    "    (data_train[\"rougher.output.concentrate_au\"] > 0.5) & (data_train[\"rougher.output.concentrate_ag\"] > 0.5) & \n",
    "    (data_train[\"rougher.output.concentrate_pb\"] > 0.5) & (data_train[\"rougher.output.concentrate_sol\"] > 0.5)\n",
    "]"
   ]
  },
  {
   "cell_type": "code",
   "execution_count": 30,
   "metadata": {},
   "outputs": [],
   "source": [
    "data_train = data_train[\n",
    "    (data_train[\"final.output.concentrate_au\"] > 0.5) & (data_train[\"final.output.concentrate_ag\"] > 0.5) & \n",
    "    (data_train[\"final.output.concentrate_pb\"] > 0.5) & (data_train[\"final.output.concentrate_sol\"] > 0.5)\n",
    "]"
   ]
  },
  {
   "cell_type": "markdown",
   "metadata": {},
   "source": [
    "Удалим из обучающей выборки фичи, ненужные для обучения модели."
   ]
  },
  {
   "cell_type": "code",
   "execution_count": 31,
   "metadata": {},
   "outputs": [],
   "source": [
    "columns_not = set(data_train.columns) - set(data_test.columns)"
   ]
  },
  {
   "cell_type": "code",
   "execution_count": 32,
   "metadata": {},
   "outputs": [],
   "source": [
    "data_train = data_train.drop(columns=columns_not, axis=1).reset_index(drop=True)                       "
   ]
  },
  {
   "cell_type": "code",
   "execution_count": 33,
   "metadata": {},
   "outputs": [],
   "source": [
    "data_train = data_train.drop(columns='date', axis=1).reset_index(drop=True)"
   ]
  },
  {
   "cell_type": "code",
   "execution_count": 34,
   "metadata": {},
   "outputs": [],
   "source": [
    "data_test = data_test.drop(columns='date', axis=1).reset_index(drop=True)"
   ]
  },
  {
   "cell_type": "code",
   "execution_count": 35,
   "metadata": {
    "scrolled": true
   },
   "outputs": [
    {
     "name": "stdout",
     "output_type": "stream",
     "text": [
      "<class 'pandas.core.frame.DataFrame'>\n",
      "RangeIndex: 13714 entries, 0 to 13713\n",
      "Data columns (total 54 columns):\n",
      " #   Column                                      Non-Null Count  Dtype  \n",
      "---  ------                                      --------------  -----  \n",
      " 0   final.output.recovery                       13714 non-null  float64\n",
      " 1   primary_cleaner.input.sulfate               13714 non-null  float64\n",
      " 2   primary_cleaner.input.depressant            13714 non-null  float64\n",
      " 3   primary_cleaner.input.feed_size             13714 non-null  float64\n",
      " 4   primary_cleaner.input.xanthate              13714 non-null  float64\n",
      " 5   primary_cleaner.state.floatbank8_a_air      13714 non-null  float64\n",
      " 6   primary_cleaner.state.floatbank8_a_level    13714 non-null  float64\n",
      " 7   primary_cleaner.state.floatbank8_b_air      13714 non-null  float64\n",
      " 8   primary_cleaner.state.floatbank8_b_level    13714 non-null  float64\n",
      " 9   primary_cleaner.state.floatbank8_c_air      13714 non-null  float64\n",
      " 10  primary_cleaner.state.floatbank8_c_level    13714 non-null  float64\n",
      " 11  primary_cleaner.state.floatbank8_d_air      13714 non-null  float64\n",
      " 12  primary_cleaner.state.floatbank8_d_level    13714 non-null  float64\n",
      " 13  rougher.input.feed_ag                       13714 non-null  float64\n",
      " 14  rougher.input.feed_pb                       13714 non-null  float64\n",
      " 15  rougher.input.feed_rate                     13714 non-null  float64\n",
      " 16  rougher.input.feed_size                     13714 non-null  float64\n",
      " 17  rougher.input.feed_sol                      13714 non-null  float64\n",
      " 18  rougher.input.feed_au                       13714 non-null  float64\n",
      " 19  rougher.input.floatbank10_sulfate           13714 non-null  float64\n",
      " 20  rougher.input.floatbank10_xanthate          13714 non-null  float64\n",
      " 21  rougher.input.floatbank11_sulfate           13714 non-null  float64\n",
      " 22  rougher.input.floatbank11_xanthate          13714 non-null  float64\n",
      " 23  rougher.output.recovery                     13714 non-null  float64\n",
      " 24  rougher.state.floatbank10_a_air             13714 non-null  float64\n",
      " 25  rougher.state.floatbank10_a_level           13714 non-null  float64\n",
      " 26  rougher.state.floatbank10_b_air             13714 non-null  float64\n",
      " 27  rougher.state.floatbank10_b_level           13714 non-null  float64\n",
      " 28  rougher.state.floatbank10_c_air             13714 non-null  float64\n",
      " 29  rougher.state.floatbank10_c_level           13714 non-null  float64\n",
      " 30  rougher.state.floatbank10_d_air             13714 non-null  float64\n",
      " 31  rougher.state.floatbank10_d_level           13714 non-null  float64\n",
      " 32  rougher.state.floatbank10_e_air             13714 non-null  float64\n",
      " 33  rougher.state.floatbank10_e_level           13714 non-null  float64\n",
      " 34  rougher.state.floatbank10_f_air             13714 non-null  float64\n",
      " 35  rougher.state.floatbank10_f_level           13714 non-null  float64\n",
      " 36  secondary_cleaner.state.floatbank2_a_air    13714 non-null  float64\n",
      " 37  secondary_cleaner.state.floatbank2_a_level  13714 non-null  float64\n",
      " 38  secondary_cleaner.state.floatbank2_b_air    13714 non-null  float64\n",
      " 39  secondary_cleaner.state.floatbank2_b_level  13714 non-null  float64\n",
      " 40  secondary_cleaner.state.floatbank3_a_air    13714 non-null  float64\n",
      " 41  secondary_cleaner.state.floatbank3_a_level  13714 non-null  float64\n",
      " 42  secondary_cleaner.state.floatbank3_b_air    13714 non-null  float64\n",
      " 43  secondary_cleaner.state.floatbank3_b_level  13714 non-null  float64\n",
      " 44  secondary_cleaner.state.floatbank4_a_air    13714 non-null  float64\n",
      " 45  secondary_cleaner.state.floatbank4_a_level  13714 non-null  float64\n",
      " 46  secondary_cleaner.state.floatbank4_b_air    13714 non-null  float64\n",
      " 47  secondary_cleaner.state.floatbank4_b_level  13714 non-null  float64\n",
      " 48  secondary_cleaner.state.floatbank5_a_air    13714 non-null  float64\n",
      " 49  secondary_cleaner.state.floatbank5_a_level  13714 non-null  float64\n",
      " 50  secondary_cleaner.state.floatbank5_b_air    13714 non-null  float64\n",
      " 51  secondary_cleaner.state.floatbank5_b_level  13714 non-null  float64\n",
      " 52  secondary_cleaner.state.floatbank6_a_air    13714 non-null  float64\n",
      " 53  secondary_cleaner.state.floatbank6_a_level  13714 non-null  float64\n",
      "dtypes: float64(54)\n",
      "memory usage: 5.7 MB\n",
      "None\n"
     ]
    }
   ],
   "source": [
    "print(data_train.info())"
   ]
  },
  {
   "cell_type": "markdown",
   "metadata": {},
   "source": [
    "В процессе обогащения руды можно просдить следующие закономерности:\n",
    "    \n",
    "* после каждого этапа содержание золота увеличивается;\n",
    "* после флотации концентрация серебра увеличивается, а затем постепенно снижается;\n",
    "* по мере обогащения содержание свинца увеличивается и только после финальной очистки оно снижается.\n",
    "\n",
    "Размер частиц после флотации уменьшается в 8 - 10 раз.\n",
    "\n",
    "В процессе обогащения концентрация металлов в руде увеличивается. В итоге мы достигаем наиболее вероятной концентрации металлов в размере 70% от общего состава финального продукта.\n"
   ]
  },
  {
   "cell_type": "markdown",
   "metadata": {},
   "source": [
    "## Модель"
   ]
  },
  {
   "cell_type": "markdown",
   "metadata": {},
   "source": [
    "### Вычислим итоговой sMAPE."
   ]
  },
  {
   "cell_type": "code",
   "execution_count": 36,
   "metadata": {},
   "outputs": [],
   "source": [
    "def smape(target, predict):\n",
    "    return 1/len(target) * np.sum(2 * np.abs(target - predict) / (np.abs(target) + np.abs(predict))*100)"
   ]
  },
  {
   "cell_type": "code",
   "execution_count": 37,
   "metadata": {},
   "outputs": [],
   "source": [
    "def smape_final(sMAPE_rougher, sMAPE_final):\n",
    "    return sMAPE_rougher * 0.25 + sMAPE_final * 0.75"
   ]
  },
  {
   "cell_type": "code",
   "execution_count": 38,
   "metadata": {},
   "outputs": [],
   "source": [
    "scorer = make_scorer(smape, greater_is_better=False)"
   ]
  },
  {
   "cell_type": "markdown",
   "metadata": {},
   "source": [
    "### Обучим и выберем лучшую модель"
   ]
  },
  {
   "cell_type": "markdown",
   "metadata": {},
   "source": [
    "Выделим целевые признаки в выборках"
   ]
  },
  {
   "cell_type": "code",
   "execution_count": 39,
   "metadata": {},
   "outputs": [],
   "source": [
    "features_train = data_train.drop(columns=['rougher.output.recovery', 'final.output.recovery'], axis=1)"
   ]
  },
  {
   "cell_type": "code",
   "execution_count": 40,
   "metadata": {},
   "outputs": [],
   "source": [
    "target_train_r = data_train[\"rougher.output.recovery\"]"
   ]
  },
  {
   "cell_type": "code",
   "execution_count": 41,
   "metadata": {},
   "outputs": [],
   "source": [
    "target_train_f = data_train[\"final.output.recovery\"]"
   ]
  },
  {
   "cell_type": "code",
   "execution_count": 42,
   "metadata": {},
   "outputs": [],
   "source": [
    "features_test = data_test.drop(columns=[\"rougher.output.recovery\", \"final.output.recovery\"], axis=1)"
   ]
  },
  {
   "cell_type": "code",
   "execution_count": 43,
   "metadata": {},
   "outputs": [],
   "source": [
    "target_test_r = data_test[\"rougher.output.recovery\"]"
   ]
  },
  {
   "cell_type": "code",
   "execution_count": 44,
   "metadata": {},
   "outputs": [],
   "source": [
    "target_test_f = data_test[\"final.output.recovery\"]"
   ]
  },
  {
   "cell_type": "code",
   "execution_count": 45,
   "metadata": {},
   "outputs": [],
   "source": [
    "pd.options.mode.chained_assignment = None #добавим эту строчку, чтобы при масштабировании код не выдавал ошибку \n",
    "\n",
    "scaler = StandardScaler()\n",
    "#создадим структуру\n",
    "scaler.fit(features_train)\n",
    "#запустим обучение на основе созданного алгоритма\n",
    "\n",
    "features_train = scaler.transform(features_train)\n",
    "features_test = scaler.transform(features_test)"
   ]
  },
  {
   "cell_type": "markdown",
   "metadata": {},
   "source": [
    "\n",
    "Построим модель линейная регрессия для целевого признака rougher.output.recovery"
   ]
  },
  {
   "cell_type": "code",
   "execution_count": 46,
   "metadata": {},
   "outputs": [
    {
     "data": {
      "text/plain": [
       "LinearRegression()"
      ]
     },
     "execution_count": 46,
     "metadata": {},
     "output_type": "execute_result"
    }
   ],
   "source": [
    "model_lr_r = LinearRegression()\n",
    "model_lr_r.fit(features_train, target_train_r)"
   ]
  },
  {
   "cell_type": "code",
   "execution_count": 47,
   "metadata": {
    "scrolled": false
   },
   "outputs": [
    {
     "name": "stderr",
     "output_type": "stream",
     "text": [
      "[Parallel(n_jobs=-1)]: Using backend SequentialBackend with 1 concurrent workers.\n",
      "[Parallel(n_jobs=-1)]: Done   1 out of   1 | elapsed:    0.0s remaining:    0.0s\n"
     ]
    },
    {
     "name": "stdout",
     "output_type": "stream",
     "text": [
      "[CV] START .....................................................................\n",
      "[CV] END ............................... score: (test=-9.192) total time=   0.0s\n",
      "[CV] START .....................................................................\n",
      "[CV] END ............................... score: (test=-8.691) total time=   0.3s\n",
      "[CV] START .....................................................................\n"
     ]
    },
    {
     "name": "stderr",
     "output_type": "stream",
     "text": [
      "[Parallel(n_jobs=-1)]: Done   2 out of   2 | elapsed:    0.3s remaining:    0.0s\n"
     ]
    },
    {
     "name": "stdout",
     "output_type": "stream",
     "text": [
      "[CV] END .............................. score: (test=-12.920) total time=   0.2s\n",
      "Средняя оценка качества модели: 10.267866888048188\n"
     ]
    },
    {
     "name": "stderr",
     "output_type": "stream",
     "text": [
      "[Parallel(n_jobs=-1)]: Done   3 out of   3 | elapsed:    0.5s remaining:    0.0s\n",
      "[Parallel(n_jobs=-1)]: Done   3 out of   3 | elapsed:    0.5s finished\n"
     ]
    }
   ],
   "source": [
    "scores_lr_r = cross_val_score(\n",
    "    model_lr_r, features_train, target_train_r, cv=3, n_jobs=-1, verbose=10, scoring=scorer\n",
    ")\n",
    "mean_score_lr_r = (sum(scores_lr_r) / len(scores_lr_r)) * -1  \n",
    "\n",
    "print('Средняя оценка качества модели:', mean_score_lr_r)"
   ]
  },
  {
   "cell_type": "markdown",
   "metadata": {},
   "source": [
    "\n",
    "Построим модель линейная регрессия для целевого признака final.output.recovery"
   ]
  },
  {
   "cell_type": "code",
   "execution_count": 48,
   "metadata": {},
   "outputs": [
    {
     "data": {
      "text/plain": [
       "LinearRegression()"
      ]
     },
     "execution_count": 48,
     "metadata": {},
     "output_type": "execute_result"
    }
   ],
   "source": [
    "model_lr_f = LinearRegression()\n",
    "model_lr_f.fit(features_train, target_train_f)"
   ]
  },
  {
   "cell_type": "code",
   "execution_count": 48,
   "metadata": {},
   "outputs": [
    {
     "name": "stderr",
     "output_type": "stream",
     "text": [
      "[Parallel(n_jobs=-1)]: Using backend SequentialBackend with 1 concurrent workers.\n"
     ]
    },
    {
     "name": "stdout",
     "output_type": "stream",
     "text": [
      "[CV] START .....................................................................\n",
      "[CV] END .............................. score: (test=-12.166) total time=   1.1s\n",
      "[CV] START .....................................................................\n"
     ]
    },
    {
     "name": "stderr",
     "output_type": "stream",
     "text": [
      "[Parallel(n_jobs=-1)]: Done   1 out of   1 | elapsed:    1.1s remaining:    0.0s\n"
     ]
    },
    {
     "name": "stdout",
     "output_type": "stream",
     "text": [
      "[CV] END .............................. score: (test=-12.293) total time=   0.4s\n",
      "[CV] START .....................................................................\n"
     ]
    },
    {
     "name": "stderr",
     "output_type": "stream",
     "text": [
      "[Parallel(n_jobs=-1)]: Done   2 out of   2 | elapsed:    1.5s remaining:    0.0s\n"
     ]
    },
    {
     "name": "stdout",
     "output_type": "stream",
     "text": [
      "[CV] END .............................. score: (test=-16.690) total time=   0.5s\n",
      "Средняя оценка качества модели: 13.716046886173904\n"
     ]
    },
    {
     "name": "stderr",
     "output_type": "stream",
     "text": [
      "[Parallel(n_jobs=-1)]: Done   3 out of   3 | elapsed:    2.0s remaining:    0.0s\n",
      "[Parallel(n_jobs=-1)]: Done   3 out of   3 | elapsed:    2.1s finished\n"
     ]
    }
   ],
   "source": [
    "scores_lr_f = cross_val_score(model_lr_f, features_train, target_train_f, cv=3, n_jobs=-1, verbose=10, scoring=scorer)\n",
    "mean_score_lr_f = sum(scores_lr_f) / len(scores_lr_f) * -1 \n",
    "\n",
    "print('Средняя оценка качества модели:', mean_score_lr_f)"
   ]
  },
  {
   "cell_type": "code",
   "execution_count": 49,
   "metadata": {},
   "outputs": [
    {
     "name": "stdout",
     "output_type": "stream",
     "text": [
      "sMAPE финального продукта для линейной регрессии: 12.854001886642475\n"
     ]
    }
   ],
   "source": [
    "print('sMAPE финального продукта для линейной регрессии:', smape_final(mean_score_lr_r, mean_score_lr_f))"
   ]
  },
  {
   "cell_type": "markdown",
   "metadata": {},
   "source": [
    "\n",
    "Построим модель случайного леса для целевого признака rougher.output.recovery"
   ]
  },
  {
   "cell_type": "code",
   "execution_count": 50,
   "metadata": {
    "scrolled": true
   },
   "outputs": [
    {
     "name": "stderr",
     "output_type": "stream",
     "text": [
      "[Parallel(n_jobs=-1)]: Using backend SequentialBackend with 1 concurrent workers.\n"
     ]
    },
    {
     "name": "stdout",
     "output_type": "stream",
     "text": [
      "[CV] START .....................................................................\n",
      "[CV] END ............................... score: (test=-9.574) total time=   4.8s\n",
      "[CV] START .....................................................................\n"
     ]
    },
    {
     "name": "stderr",
     "output_type": "stream",
     "text": [
      "[Parallel(n_jobs=-1)]: Done   1 out of   1 | elapsed:    4.8s remaining:    0.0s\n"
     ]
    },
    {
     "name": "stdout",
     "output_type": "stream",
     "text": [
      "[CV] END ............................... score: (test=-5.847) total time=   5.1s\n",
      "[CV] START .....................................................................\n"
     ]
    },
    {
     "name": "stderr",
     "output_type": "stream",
     "text": [
      "[Parallel(n_jobs=-1)]: Done   2 out of   2 | elapsed:    9.9s remaining:    0.0s\n"
     ]
    },
    {
     "name": "stdout",
     "output_type": "stream",
     "text": [
      "[CV] END ............................... score: (test=-8.163) total time=   4.8s\n"
     ]
    },
    {
     "name": "stderr",
     "output_type": "stream",
     "text": [
      "[Parallel(n_jobs=-1)]: Done   3 out of   3 | elapsed:   14.7s remaining:    0.0s\n",
      "[Parallel(n_jobs=-1)]: Done   3 out of   3 | elapsed:   14.7s finished\n",
      "[Parallel(n_jobs=-1)]: Using backend SequentialBackend with 1 concurrent workers.\n"
     ]
    },
    {
     "name": "stdout",
     "output_type": "stream",
     "text": [
      "[CV] START .....................................................................\n",
      "[CV] END ............................... score: (test=-9.091) total time=   6.8s\n",
      "[CV] START .....................................................................\n"
     ]
    },
    {
     "name": "stderr",
     "output_type": "stream",
     "text": [
      "[Parallel(n_jobs=-1)]: Done   1 out of   1 | elapsed:    6.8s remaining:    0.0s\n"
     ]
    },
    {
     "name": "stdout",
     "output_type": "stream",
     "text": [
      "[CV] END ............................... score: (test=-6.380) total time=   6.9s\n",
      "[CV] START .....................................................................\n"
     ]
    },
    {
     "name": "stderr",
     "output_type": "stream",
     "text": [
      "[Parallel(n_jobs=-1)]: Done   2 out of   2 | elapsed:   13.7s remaining:    0.0s\n"
     ]
    },
    {
     "name": "stdout",
     "output_type": "stream",
     "text": [
      "[CV] END ............................... score: (test=-8.056) total time=   6.5s\n"
     ]
    },
    {
     "name": "stderr",
     "output_type": "stream",
     "text": [
      "[Parallel(n_jobs=-1)]: Done   3 out of   3 | elapsed:   20.2s remaining:    0.0s\n",
      "[Parallel(n_jobs=-1)]: Done   3 out of   3 | elapsed:   20.2s finished\n",
      "[Parallel(n_jobs=-1)]: Using backend SequentialBackend with 1 concurrent workers.\n"
     ]
    },
    {
     "name": "stdout",
     "output_type": "stream",
     "text": [
      "[CV] START .....................................................................\n",
      "[CV] END ............................... score: (test=-8.906) total time=   8.8s\n",
      "[CV] START .....................................................................\n"
     ]
    },
    {
     "name": "stderr",
     "output_type": "stream",
     "text": [
      "[Parallel(n_jobs=-1)]: Done   1 out of   1 | elapsed:    8.8s remaining:    0.0s\n"
     ]
    },
    {
     "name": "stdout",
     "output_type": "stream",
     "text": [
      "[CV] END ............................... score: (test=-6.983) total time=   8.5s\n",
      "[CV] START .....................................................................\n"
     ]
    },
    {
     "name": "stderr",
     "output_type": "stream",
     "text": [
      "[Parallel(n_jobs=-1)]: Done   2 out of   2 | elapsed:   17.3s remaining:    0.0s\n"
     ]
    },
    {
     "name": "stdout",
     "output_type": "stream",
     "text": [
      "[CV] END ............................... score: (test=-8.214) total time=   8.7s\n"
     ]
    },
    {
     "name": "stderr",
     "output_type": "stream",
     "text": [
      "[Parallel(n_jobs=-1)]: Done   3 out of   3 | elapsed:   26.0s remaining:    0.0s\n",
      "[Parallel(n_jobs=-1)]: Done   3 out of   3 | elapsed:   26.0s finished\n",
      "[Parallel(n_jobs=-1)]: Using backend SequentialBackend with 1 concurrent workers.\n"
     ]
    },
    {
     "name": "stdout",
     "output_type": "stream",
     "text": [
      "[CV] START .....................................................................\n",
      "[CV] END ............................... score: (test=-8.988) total time=  10.7s\n",
      "[CV] START .....................................................................\n"
     ]
    },
    {
     "name": "stderr",
     "output_type": "stream",
     "text": [
      "[Parallel(n_jobs=-1)]: Done   1 out of   1 | elapsed:   10.7s remaining:    0.0s\n"
     ]
    },
    {
     "name": "stdout",
     "output_type": "stream",
     "text": [
      "[CV] END ............................... score: (test=-7.209) total time=  10.7s\n",
      "[CV] START .....................................................................\n"
     ]
    },
    {
     "name": "stderr",
     "output_type": "stream",
     "text": [
      "[Parallel(n_jobs=-1)]: Done   2 out of   2 | elapsed:   21.4s remaining:    0.0s\n"
     ]
    },
    {
     "name": "stdout",
     "output_type": "stream",
     "text": [
      "[CV] END ............................... score: (test=-8.248) total time=  10.8s\n"
     ]
    },
    {
     "name": "stderr",
     "output_type": "stream",
     "text": [
      "[Parallel(n_jobs=-1)]: Done   3 out of   3 | elapsed:   32.2s remaining:    0.0s\n",
      "[Parallel(n_jobs=-1)]: Done   3 out of   3 | elapsed:   32.2s finished\n",
      "[Parallel(n_jobs=-1)]: Using backend SequentialBackend with 1 concurrent workers.\n"
     ]
    },
    {
     "name": "stdout",
     "output_type": "stream",
     "text": [
      "[CV] START .....................................................................\n",
      "[CV] END ............................... score: (test=-9.581) total time=   5.4s\n",
      "[CV] START .....................................................................\n"
     ]
    },
    {
     "name": "stderr",
     "output_type": "stream",
     "text": [
      "[Parallel(n_jobs=-1)]: Done   1 out of   1 | elapsed:    5.4s remaining:    0.0s\n"
     ]
    },
    {
     "name": "stdout",
     "output_type": "stream",
     "text": [
      "[CV] END ............................... score: (test=-5.852) total time=   5.4s\n",
      "[CV] START .....................................................................\n"
     ]
    },
    {
     "name": "stderr",
     "output_type": "stream",
     "text": [
      "[Parallel(n_jobs=-1)]: Done   2 out of   2 | elapsed:   10.8s remaining:    0.0s\n"
     ]
    },
    {
     "name": "stdout",
     "output_type": "stream",
     "text": [
      "[CV] END ............................... score: (test=-8.176) total time=   5.5s\n"
     ]
    },
    {
     "name": "stderr",
     "output_type": "stream",
     "text": [
      "[Parallel(n_jobs=-1)]: Done   3 out of   3 | elapsed:   16.3s remaining:    0.0s\n",
      "[Parallel(n_jobs=-1)]: Done   3 out of   3 | elapsed:   16.3s finished\n",
      "[Parallel(n_jobs=-1)]: Using backend SequentialBackend with 1 concurrent workers.\n"
     ]
    },
    {
     "name": "stdout",
     "output_type": "stream",
     "text": [
      "[CV] START .....................................................................\n",
      "[CV] END ............................... score: (test=-9.098) total time=   8.0s\n",
      "[CV] START .....................................................................\n"
     ]
    },
    {
     "name": "stderr",
     "output_type": "stream",
     "text": [
      "[Parallel(n_jobs=-1)]: Done   1 out of   1 | elapsed:    8.0s remaining:    0.0s\n"
     ]
    },
    {
     "name": "stdout",
     "output_type": "stream",
     "text": [
      "[CV] END ............................... score: (test=-6.340) total time=   8.1s\n",
      "[CV] START .....................................................................\n"
     ]
    },
    {
     "name": "stderr",
     "output_type": "stream",
     "text": [
      "[Parallel(n_jobs=-1)]: Done   2 out of   2 | elapsed:   16.1s remaining:    0.0s\n"
     ]
    },
    {
     "name": "stdout",
     "output_type": "stream",
     "text": [
      "[CV] END ............................... score: (test=-8.060) total time=   8.0s\n"
     ]
    },
    {
     "name": "stderr",
     "output_type": "stream",
     "text": [
      "[Parallel(n_jobs=-1)]: Done   3 out of   3 | elapsed:   24.0s remaining:    0.0s\n",
      "[Parallel(n_jobs=-1)]: Done   3 out of   3 | elapsed:   24.0s finished\n",
      "[Parallel(n_jobs=-1)]: Using backend SequentialBackend with 1 concurrent workers.\n"
     ]
    },
    {
     "name": "stdout",
     "output_type": "stream",
     "text": [
      "[CV] START .....................................................................\n",
      "[CV] END ............................... score: (test=-8.924) total time=  10.2s\n",
      "[CV] START .....................................................................\n"
     ]
    },
    {
     "name": "stderr",
     "output_type": "stream",
     "text": [
      "[Parallel(n_jobs=-1)]: Done   1 out of   1 | elapsed:   10.2s remaining:    0.0s\n"
     ]
    },
    {
     "name": "stdout",
     "output_type": "stream",
     "text": [
      "[CV] END ............................... score: (test=-7.024) total time=  10.0s\n",
      "[CV] START .....................................................................\n"
     ]
    },
    {
     "name": "stderr",
     "output_type": "stream",
     "text": [
      "[Parallel(n_jobs=-1)]: Done   2 out of   2 | elapsed:   20.2s remaining:    0.0s\n"
     ]
    },
    {
     "name": "stdout",
     "output_type": "stream",
     "text": [
      "[CV] END ............................... score: (test=-8.191) total time=   9.8s\n"
     ]
    },
    {
     "name": "stderr",
     "output_type": "stream",
     "text": [
      "[Parallel(n_jobs=-1)]: Done   3 out of   3 | elapsed:   30.0s remaining:    0.0s\n",
      "[Parallel(n_jobs=-1)]: Done   3 out of   3 | elapsed:   30.0s finished\n",
      "[Parallel(n_jobs=-1)]: Using backend SequentialBackend with 1 concurrent workers.\n"
     ]
    },
    {
     "name": "stdout",
     "output_type": "stream",
     "text": [
      "[CV] START .....................................................................\n",
      "[CV] END ............................... score: (test=-8.989) total time=  12.0s\n",
      "[CV] START .....................................................................\n"
     ]
    },
    {
     "name": "stderr",
     "output_type": "stream",
     "text": [
      "[Parallel(n_jobs=-1)]: Done   1 out of   1 | elapsed:   12.0s remaining:    0.0s\n"
     ]
    },
    {
     "name": "stdout",
     "output_type": "stream",
     "text": [
      "[CV] END ............................... score: (test=-7.241) total time=  11.8s\n",
      "[CV] START .....................................................................\n"
     ]
    },
    {
     "name": "stderr",
     "output_type": "stream",
     "text": [
      "[Parallel(n_jobs=-1)]: Done   2 out of   2 | elapsed:   23.8s remaining:    0.0s\n"
     ]
    },
    {
     "name": "stdout",
     "output_type": "stream",
     "text": [
      "[CV] END ............................... score: (test=-8.195) total time=  12.1s\n"
     ]
    },
    {
     "name": "stderr",
     "output_type": "stream",
     "text": [
      "[Parallel(n_jobs=-1)]: Done   3 out of   3 | elapsed:   35.9s remaining:    0.0s\n",
      "[Parallel(n_jobs=-1)]: Done   3 out of   3 | elapsed:   35.9s finished\n",
      "[Parallel(n_jobs=-1)]: Using backend SequentialBackend with 1 concurrent workers.\n"
     ]
    },
    {
     "name": "stdout",
     "output_type": "stream",
     "text": [
      "[CV] START .....................................................................\n",
      "[CV] END ............................... score: (test=-9.574) total time=   6.1s\n",
      "[CV] START .....................................................................\n"
     ]
    },
    {
     "name": "stderr",
     "output_type": "stream",
     "text": [
      "[Parallel(n_jobs=-1)]: Done   1 out of   1 | elapsed:    6.1s remaining:    0.0s\n"
     ]
    },
    {
     "name": "stdout",
     "output_type": "stream",
     "text": [
      "[CV] END ............................... score: (test=-5.848) total time=   6.0s\n",
      "[CV] START .....................................................................\n"
     ]
    },
    {
     "name": "stderr",
     "output_type": "stream",
     "text": [
      "[Parallel(n_jobs=-1)]: Done   2 out of   2 | elapsed:   12.1s remaining:    0.0s\n"
     ]
    },
    {
     "name": "stdout",
     "output_type": "stream",
     "text": [
      "[CV] END ............................... score: (test=-8.144) total time=   6.0s\n"
     ]
    },
    {
     "name": "stderr",
     "output_type": "stream",
     "text": [
      "[Parallel(n_jobs=-1)]: Done   3 out of   3 | elapsed:   18.1s remaining:    0.0s\n",
      "[Parallel(n_jobs=-1)]: Done   3 out of   3 | elapsed:   18.1s finished\n",
      "[Parallel(n_jobs=-1)]: Using backend SequentialBackend with 1 concurrent workers.\n"
     ]
    },
    {
     "name": "stdout",
     "output_type": "stream",
     "text": [
      "[CV] START .....................................................................\n",
      "[CV] END ............................... score: (test=-9.087) total time=   9.0s\n",
      "[CV] START .....................................................................\n"
     ]
    },
    {
     "name": "stderr",
     "output_type": "stream",
     "text": [
      "[Parallel(n_jobs=-1)]: Done   1 out of   1 | elapsed:    9.0s remaining:    0.0s\n"
     ]
    },
    {
     "name": "stdout",
     "output_type": "stream",
     "text": [
      "[CV] END ............................... score: (test=-6.337) total time=   8.9s\n",
      "[CV] START .....................................................................\n"
     ]
    },
    {
     "name": "stderr",
     "output_type": "stream",
     "text": [
      "[Parallel(n_jobs=-1)]: Done   2 out of   2 | elapsed:   17.9s remaining:    0.0s\n"
     ]
    },
    {
     "name": "stdout",
     "output_type": "stream",
     "text": [
      "[CV] END ............................... score: (test=-8.049) total time=   8.8s\n"
     ]
    },
    {
     "name": "stderr",
     "output_type": "stream",
     "text": [
      "[Parallel(n_jobs=-1)]: Done   3 out of   3 | elapsed:   26.6s remaining:    0.0s\n",
      "[Parallel(n_jobs=-1)]: Done   3 out of   3 | elapsed:   26.6s finished\n",
      "[Parallel(n_jobs=-1)]: Using backend SequentialBackend with 1 concurrent workers.\n"
     ]
    },
    {
     "name": "stdout",
     "output_type": "stream",
     "text": [
      "[CV] START .....................................................................\n",
      "[CV] END ............................... score: (test=-8.925) total time=  11.5s\n",
      "[CV] START .....................................................................\n"
     ]
    },
    {
     "name": "stderr",
     "output_type": "stream",
     "text": [
      "[Parallel(n_jobs=-1)]: Done   1 out of   1 | elapsed:   11.5s remaining:    0.0s\n"
     ]
    },
    {
     "name": "stdout",
     "output_type": "stream",
     "text": [
      "[CV] END ............................... score: (test=-6.975) total time=  11.1s\n",
      "[CV] START .....................................................................\n"
     ]
    },
    {
     "name": "stderr",
     "output_type": "stream",
     "text": [
      "[Parallel(n_jobs=-1)]: Done   2 out of   2 | elapsed:   22.6s remaining:    0.0s\n"
     ]
    },
    {
     "name": "stdout",
     "output_type": "stream",
     "text": [
      "[CV] END ............................... score: (test=-8.191) total time=  10.9s\n"
     ]
    },
    {
     "name": "stderr",
     "output_type": "stream",
     "text": [
      "[Parallel(n_jobs=-1)]: Done   3 out of   3 | elapsed:   33.5s remaining:    0.0s\n",
      "[Parallel(n_jobs=-1)]: Done   3 out of   3 | elapsed:   33.5s finished\n",
      "[Parallel(n_jobs=-1)]: Using backend SequentialBackend with 1 concurrent workers.\n"
     ]
    },
    {
     "name": "stdout",
     "output_type": "stream",
     "text": [
      "[CV] START .....................................................................\n",
      "[CV] END ............................... score: (test=-8.970) total time=  14.6s\n",
      "[CV] START .....................................................................\n"
     ]
    },
    {
     "name": "stderr",
     "output_type": "stream",
     "text": [
      "[Parallel(n_jobs=-1)]: Done   1 out of   1 | elapsed:   14.6s remaining:    0.0s\n"
     ]
    },
    {
     "name": "stdout",
     "output_type": "stream",
     "text": [
      "[CV] END ............................... score: (test=-7.164) total time=  14.0s\n",
      "[CV] START .....................................................................\n"
     ]
    },
    {
     "name": "stderr",
     "output_type": "stream",
     "text": [
      "[Parallel(n_jobs=-1)]: Done   2 out of   2 | elapsed:   28.6s remaining:    0.0s\n"
     ]
    },
    {
     "name": "stdout",
     "output_type": "stream",
     "text": [
      "[CV] END ............................... score: (test=-8.216) total time=  14.4s\n"
     ]
    },
    {
     "name": "stderr",
     "output_type": "stream",
     "text": [
      "[Parallel(n_jobs=-1)]: Done   3 out of   3 | elapsed:   42.9s remaining:    0.0s\n",
      "[Parallel(n_jobs=-1)]: Done   3 out of   3 | elapsed:   42.9s finished\n",
      "[Parallel(n_jobs=-1)]: Using backend SequentialBackend with 1 concurrent workers.\n"
     ]
    },
    {
     "name": "stdout",
     "output_type": "stream",
     "text": [
      "[CV] START .....................................................................\n",
      "[CV] END ............................... score: (test=-9.548) total time=   7.1s\n",
      "[CV] START .....................................................................\n"
     ]
    },
    {
     "name": "stderr",
     "output_type": "stream",
     "text": [
      "[Parallel(n_jobs=-1)]: Done   1 out of   1 | elapsed:    7.1s remaining:    0.0s\n"
     ]
    },
    {
     "name": "stdout",
     "output_type": "stream",
     "text": [
      "[CV] END ............................... score: (test=-5.846) total time=   7.1s\n",
      "[CV] START .....................................................................\n"
     ]
    },
    {
     "name": "stderr",
     "output_type": "stream",
     "text": [
      "[Parallel(n_jobs=-1)]: Done   2 out of   2 | elapsed:   14.2s remaining:    0.0s\n"
     ]
    },
    {
     "name": "stdout",
     "output_type": "stream",
     "text": [
      "[CV] END ............................... score: (test=-8.171) total time=   7.0s\n"
     ]
    },
    {
     "name": "stderr",
     "output_type": "stream",
     "text": [
      "[Parallel(n_jobs=-1)]: Done   3 out of   3 | elapsed:   21.2s remaining:    0.0s\n",
      "[Parallel(n_jobs=-1)]: Done   3 out of   3 | elapsed:   21.2s finished\n",
      "[Parallel(n_jobs=-1)]: Using backend SequentialBackend with 1 concurrent workers.\n"
     ]
    },
    {
     "name": "stdout",
     "output_type": "stream",
     "text": [
      "[CV] START .....................................................................\n",
      "[CV] END ............................... score: (test=-9.070) total time=  10.0s\n",
      "[CV] START .....................................................................\n"
     ]
    },
    {
     "name": "stderr",
     "output_type": "stream",
     "text": [
      "[Parallel(n_jobs=-1)]: Done   1 out of   1 | elapsed:   10.0s remaining:    0.0s\n"
     ]
    },
    {
     "name": "stdout",
     "output_type": "stream",
     "text": [
      "[CV] END ............................... score: (test=-6.357) total time=   9.9s\n",
      "[CV] START .....................................................................\n"
     ]
    },
    {
     "name": "stderr",
     "output_type": "stream",
     "text": [
      "[Parallel(n_jobs=-1)]: Done   2 out of   2 | elapsed:   20.0s remaining:    0.0s\n"
     ]
    },
    {
     "name": "stdout",
     "output_type": "stream",
     "text": [
      "[CV] END ............................... score: (test=-8.090) total time=   9.9s\n"
     ]
    },
    {
     "name": "stderr",
     "output_type": "stream",
     "text": [
      "[Parallel(n_jobs=-1)]: Done   3 out of   3 | elapsed:   29.9s remaining:    0.0s\n",
      "[Parallel(n_jobs=-1)]: Done   3 out of   3 | elapsed:   29.9s finished\n",
      "[Parallel(n_jobs=-1)]: Using backend SequentialBackend with 1 concurrent workers.\n"
     ]
    },
    {
     "name": "stdout",
     "output_type": "stream",
     "text": [
      "[CV] START .....................................................................\n",
      "[CV] END ............................... score: (test=-8.910) total time=  12.9s\n",
      "[CV] START .....................................................................\n"
     ]
    },
    {
     "name": "stderr",
     "output_type": "stream",
     "text": [
      "[Parallel(n_jobs=-1)]: Done   1 out of   1 | elapsed:   12.9s remaining:    0.0s\n"
     ]
    },
    {
     "name": "stdout",
     "output_type": "stream",
     "text": [
      "[CV] END ............................... score: (test=-7.082) total time=  12.5s\n",
      "[CV] START .....................................................................\n"
     ]
    },
    {
     "name": "stderr",
     "output_type": "stream",
     "text": [
      "[Parallel(n_jobs=-1)]: Done   2 out of   2 | elapsed:   25.4s remaining:    0.0s\n"
     ]
    },
    {
     "name": "stdout",
     "output_type": "stream",
     "text": [
      "[CV] END ............................... score: (test=-8.224) total time=  12.4s\n"
     ]
    },
    {
     "name": "stderr",
     "output_type": "stream",
     "text": [
      "[Parallel(n_jobs=-1)]: Done   3 out of   3 | elapsed:   37.8s remaining:    0.0s\n",
      "[Parallel(n_jobs=-1)]: Done   3 out of   3 | elapsed:   37.8s finished\n",
      "[Parallel(n_jobs=-1)]: Using backend SequentialBackend with 1 concurrent workers.\n"
     ]
    },
    {
     "name": "stdout",
     "output_type": "stream",
     "text": [
      "[CV] START .....................................................................\n",
      "[CV] END ............................... score: (test=-8.969) total time=  15.2s\n",
      "[CV] START .....................................................................\n"
     ]
    },
    {
     "name": "stderr",
     "output_type": "stream",
     "text": [
      "[Parallel(n_jobs=-1)]: Done   1 out of   1 | elapsed:   15.2s remaining:    0.0s\n"
     ]
    },
    {
     "name": "stdout",
     "output_type": "stream",
     "text": [
      "[CV] END ............................... score: (test=-7.255) total time=  14.8s\n",
      "[CV] START .....................................................................\n"
     ]
    },
    {
     "name": "stderr",
     "output_type": "stream",
     "text": [
      "[Parallel(n_jobs=-1)]: Done   2 out of   2 | elapsed:   30.0s remaining:    0.0s\n"
     ]
    },
    {
     "name": "stdout",
     "output_type": "stream",
     "text": [
      "[CV] END ............................... score: (test=-8.219) total time=  14.8s\n",
      "best_mean_score_rfc_r: 7.824254680298426 best_est = est: 90 best_depth: 3\n"
     ]
    },
    {
     "name": "stderr",
     "output_type": "stream",
     "text": [
      "[Parallel(n_jobs=-1)]: Done   3 out of   3 | elapsed:   44.8s remaining:    0.0s\n",
      "[Parallel(n_jobs=-1)]: Done   3 out of   3 | elapsed:   44.8s finished\n"
     ]
    }
   ],
   "source": [
    "best_est = 0\n",
    "best_depth = 0\n",
    "best_mean_score_rfc_r = 10\n",
    "for est in range(70, 110, 10):\n",
    "    for depth in range(2, 6, 1):\n",
    "        model_rfc_r = RandomForestRegressor(n_estimators=est, max_depth=depth, random_state=12345, max_leaf_nodes=50)\n",
    "        model_rfc_r.fit(features_train, target_train_r)\n",
    "   \n",
    "        scores_rfc_r = cross_val_score(model_rfc_r, features_train, target_train_r, cv=3, n_jobs=-1, verbose=10, scoring=scorer)\n",
    "        mean_score_rfc_r = (sum(scores_rfc_r) / len(scores_rfc_r)) * -1  \n",
    "                \n",
    "        if mean_score_rfc_r < best_mean_score_rfc_r:\n",
    "            best_mean_score_rfc_r = mean_score_rfc_r\n",
    "            best_est = est\n",
    "            best_depth = depth\n",
    "        \n",
    "print('best_mean_score_rfc_r:', best_mean_score_rfc_r,  'best_est = est:',  best_est, 'best_depth:', best_depth)"
   ]
  },
  {
   "cell_type": "markdown",
   "metadata": {},
   "source": [
    "\n",
    "Оптимальные параметры для модели случайный лес с целевым признаком rougher.output.recovery:\n",
    "    \n",
    "    * n_estimators=90, \n",
    "    * max_depth=3, \n",
    "    * random_state=12345, \n",
    "    * max_leaf_nodes=50\n",
    "     \n",
    "    * Средняя оценка качества модели: 7,8"
   ]
  },
  {
   "cell_type": "markdown",
   "metadata": {},
   "source": [
    "\n",
    "Построим модель случайного леса для целевого признака final.output.recovery"
   ]
  },
  {
   "cell_type": "code",
   "execution_count": 52,
   "metadata": {},
   "outputs": [
    {
     "name": "stderr",
     "output_type": "stream",
     "text": [
      "[Parallel(n_jobs=-1)]: Using backend SequentialBackend with 1 concurrent workers.\n"
     ]
    },
    {
     "name": "stdout",
     "output_type": "stream",
     "text": [
      "[CV] START .....................................................................\n",
      "[CV] END ............................... score: (test=-9.214) total time=   4.6s\n",
      "[CV] START .....................................................................\n"
     ]
    },
    {
     "name": "stderr",
     "output_type": "stream",
     "text": [
      "[Parallel(n_jobs=-1)]: Done   1 out of   1 | elapsed:    4.6s remaining:    0.0s\n"
     ]
    },
    {
     "name": "stdout",
     "output_type": "stream",
     "text": [
      "[CV] END ............................... score: (test=-9.697) total time=   4.7s\n",
      "[CV] START .....................................................................\n"
     ]
    },
    {
     "name": "stderr",
     "output_type": "stream",
     "text": [
      "[Parallel(n_jobs=-1)]: Done   2 out of   2 | elapsed:    9.3s remaining:    0.0s\n"
     ]
    },
    {
     "name": "stdout",
     "output_type": "stream",
     "text": [
      "[CV] END .............................. score: (test=-11.538) total time=   4.5s\n"
     ]
    },
    {
     "name": "stderr",
     "output_type": "stream",
     "text": [
      "[Parallel(n_jobs=-1)]: Done   3 out of   3 | elapsed:   13.9s remaining:    0.0s\n",
      "[Parallel(n_jobs=-1)]: Done   3 out of   3 | elapsed:   13.9s finished\n",
      "[Parallel(n_jobs=-1)]: Using backend SequentialBackend with 1 concurrent workers.\n"
     ]
    },
    {
     "name": "stdout",
     "output_type": "stream",
     "text": [
      "[CV] START .....................................................................\n",
      "[CV] END ............................... score: (test=-8.977) total time=   6.7s\n",
      "[CV] START .....................................................................\n"
     ]
    },
    {
     "name": "stderr",
     "output_type": "stream",
     "text": [
      "[Parallel(n_jobs=-1)]: Done   1 out of   1 | elapsed:    6.7s remaining:    0.0s\n"
     ]
    },
    {
     "name": "stdout",
     "output_type": "stream",
     "text": [
      "[CV] END ............................... score: (test=-9.625) total time=   6.7s\n",
      "[CV] START .....................................................................\n"
     ]
    },
    {
     "name": "stderr",
     "output_type": "stream",
     "text": [
      "[Parallel(n_jobs=-1)]: Done   2 out of   2 | elapsed:   13.4s remaining:    0.0s\n"
     ]
    },
    {
     "name": "stdout",
     "output_type": "stream",
     "text": [
      "[CV] END .............................. score: (test=-13.785) total time=   6.7s\n"
     ]
    },
    {
     "name": "stderr",
     "output_type": "stream",
     "text": [
      "[Parallel(n_jobs=-1)]: Done   3 out of   3 | elapsed:   20.1s remaining:    0.0s\n",
      "[Parallel(n_jobs=-1)]: Done   3 out of   3 | elapsed:   20.1s finished\n",
      "[Parallel(n_jobs=-1)]: Using backend SequentialBackend with 1 concurrent workers.\n"
     ]
    },
    {
     "name": "stdout",
     "output_type": "stream",
     "text": [
      "[CV] START .....................................................................\n",
      "[CV] END ............................... score: (test=-9.122) total time=   8.7s\n",
      "[CV] START .....................................................................\n"
     ]
    },
    {
     "name": "stderr",
     "output_type": "stream",
     "text": [
      "[Parallel(n_jobs=-1)]: Done   1 out of   1 | elapsed:    8.7s remaining:    0.0s\n"
     ]
    },
    {
     "name": "stdout",
     "output_type": "stream",
     "text": [
      "[CV] END ............................... score: (test=-9.732) total time=   8.7s\n",
      "[CV] START .....................................................................\n"
     ]
    },
    {
     "name": "stderr",
     "output_type": "stream",
     "text": [
      "[Parallel(n_jobs=-1)]: Done   2 out of   2 | elapsed:   17.3s remaining:    0.0s\n"
     ]
    },
    {
     "name": "stdout",
     "output_type": "stream",
     "text": [
      "[CV] END .............................. score: (test=-13.417) total time=   8.5s\n"
     ]
    },
    {
     "name": "stderr",
     "output_type": "stream",
     "text": [
      "[Parallel(n_jobs=-1)]: Done   3 out of   3 | elapsed:   25.8s remaining:    0.0s\n",
      "[Parallel(n_jobs=-1)]: Done   3 out of   3 | elapsed:   25.8s finished\n",
      "[Parallel(n_jobs=-1)]: Using backend SequentialBackend with 1 concurrent workers.\n"
     ]
    },
    {
     "name": "stdout",
     "output_type": "stream",
     "text": [
      "[CV] START .....................................................................\n",
      "[CV] END ............................... score: (test=-9.158) total time=  10.4s\n",
      "[CV] START .....................................................................\n"
     ]
    },
    {
     "name": "stderr",
     "output_type": "stream",
     "text": [
      "[Parallel(n_jobs=-1)]: Done   1 out of   1 | elapsed:   10.4s remaining:    0.0s\n"
     ]
    },
    {
     "name": "stdout",
     "output_type": "stream",
     "text": [
      "[CV] END ............................... score: (test=-9.529) total time=  10.3s\n",
      "[CV] START .....................................................................\n"
     ]
    },
    {
     "name": "stderr",
     "output_type": "stream",
     "text": [
      "[Parallel(n_jobs=-1)]: Done   2 out of   2 | elapsed:   20.7s remaining:    0.0s\n"
     ]
    },
    {
     "name": "stdout",
     "output_type": "stream",
     "text": [
      "[CV] END .............................. score: (test=-12.889) total time=  10.6s\n"
     ]
    },
    {
     "name": "stderr",
     "output_type": "stream",
     "text": [
      "[Parallel(n_jobs=-1)]: Done   3 out of   3 | elapsed:   31.3s remaining:    0.0s\n",
      "[Parallel(n_jobs=-1)]: Done   3 out of   3 | elapsed:   31.3s finished\n",
      "[Parallel(n_jobs=-1)]: Using backend SequentialBackend with 1 concurrent workers.\n"
     ]
    },
    {
     "name": "stdout",
     "output_type": "stream",
     "text": [
      "[CV] START .....................................................................\n",
      "[CV] END ............................... score: (test=-9.242) total time=   5.2s\n",
      "[CV] START .....................................................................\n"
     ]
    },
    {
     "name": "stderr",
     "output_type": "stream",
     "text": [
      "[Parallel(n_jobs=-1)]: Done   1 out of   1 | elapsed:    5.2s remaining:    0.0s\n"
     ]
    },
    {
     "name": "stdout",
     "output_type": "stream",
     "text": [
      "[CV] END ............................... score: (test=-9.697) total time=   5.3s\n",
      "[CV] START .....................................................................\n"
     ]
    },
    {
     "name": "stderr",
     "output_type": "stream",
     "text": [
      "[Parallel(n_jobs=-1)]: Done   2 out of   2 | elapsed:   10.5s remaining:    0.0s\n"
     ]
    },
    {
     "name": "stdout",
     "output_type": "stream",
     "text": [
      "[CV] END .............................. score: (test=-11.529) total time=   5.3s\n"
     ]
    },
    {
     "name": "stderr",
     "output_type": "stream",
     "text": [
      "[Parallel(n_jobs=-1)]: Done   3 out of   3 | elapsed:   15.8s remaining:    0.0s\n",
      "[Parallel(n_jobs=-1)]: Done   3 out of   3 | elapsed:   15.8s finished\n",
      "[Parallel(n_jobs=-1)]: Using backend SequentialBackend with 1 concurrent workers.\n"
     ]
    },
    {
     "name": "stdout",
     "output_type": "stream",
     "text": [
      "[CV] START .....................................................................\n",
      "[CV] END ............................... score: (test=-9.015) total time=   7.6s\n",
      "[CV] START .....................................................................\n"
     ]
    },
    {
     "name": "stderr",
     "output_type": "stream",
     "text": [
      "[Parallel(n_jobs=-1)]: Done   1 out of   1 | elapsed:    7.6s remaining:    0.0s\n"
     ]
    },
    {
     "name": "stdout",
     "output_type": "stream",
     "text": [
      "[CV] END ............................... score: (test=-9.667) total time=   7.9s\n",
      "[CV] START .....................................................................\n"
     ]
    },
    {
     "name": "stderr",
     "output_type": "stream",
     "text": [
      "[Parallel(n_jobs=-1)]: Done   2 out of   2 | elapsed:   15.4s remaining:    0.0s\n"
     ]
    },
    {
     "name": "stdout",
     "output_type": "stream",
     "text": [
      "[CV] END .............................. score: (test=-13.792) total time=   8.2s\n"
     ]
    },
    {
     "name": "stderr",
     "output_type": "stream",
     "text": [
      "[Parallel(n_jobs=-1)]: Done   3 out of   3 | elapsed:   23.6s remaining:    0.0s\n",
      "[Parallel(n_jobs=-1)]: Done   3 out of   3 | elapsed:   23.6s finished\n",
      "[Parallel(n_jobs=-1)]: Using backend SequentialBackend with 1 concurrent workers.\n"
     ]
    },
    {
     "name": "stdout",
     "output_type": "stream",
     "text": [
      "[CV] START .....................................................................\n",
      "[CV] END ............................... score: (test=-9.108) total time=   9.8s\n",
      "[CV] START .....................................................................\n"
     ]
    },
    {
     "name": "stderr",
     "output_type": "stream",
     "text": [
      "[Parallel(n_jobs=-1)]: Done   1 out of   1 | elapsed:    9.8s remaining:    0.0s\n"
     ]
    },
    {
     "name": "stdout",
     "output_type": "stream",
     "text": [
      "[CV] END ............................... score: (test=-9.719) total time=   9.9s\n",
      "[CV] START .....................................................................\n"
     ]
    },
    {
     "name": "stderr",
     "output_type": "stream",
     "text": [
      "[Parallel(n_jobs=-1)]: Done   2 out of   2 | elapsed:   19.6s remaining:    0.0s\n"
     ]
    },
    {
     "name": "stdout",
     "output_type": "stream",
     "text": [
      "[CV] END .............................. score: (test=-13.401) total time=   9.8s\n"
     ]
    },
    {
     "name": "stderr",
     "output_type": "stream",
     "text": [
      "[Parallel(n_jobs=-1)]: Done   3 out of   3 | elapsed:   29.4s remaining:    0.0s\n",
      "[Parallel(n_jobs=-1)]: Done   3 out of   3 | elapsed:   29.4s finished\n",
      "[Parallel(n_jobs=-1)]: Using backend SequentialBackend with 1 concurrent workers.\n"
     ]
    },
    {
     "name": "stdout",
     "output_type": "stream",
     "text": [
      "[CV] START .....................................................................\n",
      "[CV] END ............................... score: (test=-9.195) total time=  12.2s\n",
      "[CV] START .....................................................................\n"
     ]
    },
    {
     "name": "stderr",
     "output_type": "stream",
     "text": [
      "[Parallel(n_jobs=-1)]: Done   1 out of   1 | elapsed:   12.2s remaining:    0.0s\n"
     ]
    },
    {
     "name": "stdout",
     "output_type": "stream",
     "text": [
      "[CV] END ............................... score: (test=-9.535) total time=  12.4s\n",
      "[CV] START .....................................................................\n"
     ]
    },
    {
     "name": "stderr",
     "output_type": "stream",
     "text": [
      "[Parallel(n_jobs=-1)]: Done   2 out of   2 | elapsed:   24.6s remaining:    0.0s\n"
     ]
    },
    {
     "name": "stdout",
     "output_type": "stream",
     "text": [
      "[CV] END .............................. score: (test=-12.870) total time=  12.3s\n"
     ]
    },
    {
     "name": "stderr",
     "output_type": "stream",
     "text": [
      "[Parallel(n_jobs=-1)]: Done   3 out of   3 | elapsed:   36.9s remaining:    0.0s\n",
      "[Parallel(n_jobs=-1)]: Done   3 out of   3 | elapsed:   36.9s finished\n",
      "[Parallel(n_jobs=-1)]: Using backend SequentialBackend with 1 concurrent workers.\n"
     ]
    },
    {
     "name": "stdout",
     "output_type": "stream",
     "text": [
      "[CV] START .....................................................................\n",
      "[CV] END ............................... score: (test=-9.239) total time=   6.0s\n",
      "[CV] START .....................................................................\n"
     ]
    },
    {
     "name": "stderr",
     "output_type": "stream",
     "text": [
      "[Parallel(n_jobs=-1)]: Done   1 out of   1 | elapsed:    6.0s remaining:    0.0s\n"
     ]
    },
    {
     "name": "stdout",
     "output_type": "stream",
     "text": [
      "[CV] END ............................... score: (test=-9.691) total time=   6.0s\n",
      "[CV] START .....................................................................\n"
     ]
    },
    {
     "name": "stderr",
     "output_type": "stream",
     "text": [
      "[Parallel(n_jobs=-1)]: Done   2 out of   2 | elapsed:   12.0s remaining:    0.0s\n"
     ]
    },
    {
     "name": "stdout",
     "output_type": "stream",
     "text": [
      "[CV] END .............................. score: (test=-11.551) total time=   5.9s\n"
     ]
    },
    {
     "name": "stderr",
     "output_type": "stream",
     "text": [
      "[Parallel(n_jobs=-1)]: Done   3 out of   3 | elapsed:   17.9s remaining:    0.0s\n",
      "[Parallel(n_jobs=-1)]: Done   3 out of   3 | elapsed:   17.9s finished\n",
      "[Parallel(n_jobs=-1)]: Using backend SequentialBackend with 1 concurrent workers.\n"
     ]
    },
    {
     "name": "stdout",
     "output_type": "stream",
     "text": [
      "[CV] START .....................................................................\n",
      "[CV] END ............................... score: (test=-9.002) total time=   8.6s\n",
      "[CV] START .....................................................................\n"
     ]
    },
    {
     "name": "stderr",
     "output_type": "stream",
     "text": [
      "[Parallel(n_jobs=-1)]: Done   1 out of   1 | elapsed:    8.6s remaining:    0.0s\n"
     ]
    },
    {
     "name": "stdout",
     "output_type": "stream",
     "text": [
      "[CV] END ............................... score: (test=-9.686) total time=   8.6s\n",
      "[CV] START .....................................................................\n"
     ]
    },
    {
     "name": "stderr",
     "output_type": "stream",
     "text": [
      "[Parallel(n_jobs=-1)]: Done   2 out of   2 | elapsed:   17.2s remaining:    0.0s\n"
     ]
    },
    {
     "name": "stdout",
     "output_type": "stream",
     "text": [
      "[CV] END .............................. score: (test=-13.831) total time=   8.4s\n"
     ]
    },
    {
     "name": "stderr",
     "output_type": "stream",
     "text": [
      "[Parallel(n_jobs=-1)]: Done   3 out of   3 | elapsed:   25.6s remaining:    0.0s\n",
      "[Parallel(n_jobs=-1)]: Done   3 out of   3 | elapsed:   25.6s finished\n",
      "[Parallel(n_jobs=-1)]: Using backend SequentialBackend with 1 concurrent workers.\n"
     ]
    },
    {
     "name": "stdout",
     "output_type": "stream",
     "text": [
      "[CV] START .....................................................................\n",
      "[CV] END ............................... score: (test=-9.080) total time=  11.0s\n",
      "[CV] START .....................................................................\n"
     ]
    },
    {
     "name": "stderr",
     "output_type": "stream",
     "text": [
      "[Parallel(n_jobs=-1)]: Done   1 out of   1 | elapsed:   11.0s remaining:    0.0s\n"
     ]
    },
    {
     "name": "stdout",
     "output_type": "stream",
     "text": [
      "[CV] END ............................... score: (test=-9.730) total time=  11.1s\n",
      "[CV] START .....................................................................\n"
     ]
    },
    {
     "name": "stderr",
     "output_type": "stream",
     "text": [
      "[Parallel(n_jobs=-1)]: Done   2 out of   2 | elapsed:   22.0s remaining:    0.0s\n"
     ]
    },
    {
     "name": "stdout",
     "output_type": "stream",
     "text": [
      "[CV] END .............................. score: (test=-13.393) total time=  11.4s\n"
     ]
    },
    {
     "name": "stderr",
     "output_type": "stream",
     "text": [
      "[Parallel(n_jobs=-1)]: Done   3 out of   3 | elapsed:   33.4s remaining:    0.0s\n",
      "[Parallel(n_jobs=-1)]: Done   3 out of   3 | elapsed:   33.4s finished\n",
      "[Parallel(n_jobs=-1)]: Using backend SequentialBackend with 1 concurrent workers.\n"
     ]
    },
    {
     "name": "stdout",
     "output_type": "stream",
     "text": [
      "[CV] START .....................................................................\n",
      "[CV] END ............................... score: (test=-9.179) total time=  13.4s\n",
      "[CV] START .....................................................................\n"
     ]
    },
    {
     "name": "stderr",
     "output_type": "stream",
     "text": [
      "[Parallel(n_jobs=-1)]: Done   1 out of   1 | elapsed:   13.4s remaining:    0.0s\n"
     ]
    },
    {
     "name": "stdout",
     "output_type": "stream",
     "text": [
      "[CV] END ............................... score: (test=-9.547) total time=  13.4s\n",
      "[CV] START .....................................................................\n"
     ]
    },
    {
     "name": "stderr",
     "output_type": "stream",
     "text": [
      "[Parallel(n_jobs=-1)]: Done   2 out of   2 | elapsed:   26.9s remaining:    0.0s\n"
     ]
    },
    {
     "name": "stdout",
     "output_type": "stream",
     "text": [
      "[CV] END .............................. score: (test=-12.928) total time=  13.6s\n"
     ]
    },
    {
     "name": "stderr",
     "output_type": "stream",
     "text": [
      "[Parallel(n_jobs=-1)]: Done   3 out of   3 | elapsed:   40.5s remaining:    0.0s\n",
      "[Parallel(n_jobs=-1)]: Done   3 out of   3 | elapsed:   40.5s finished\n",
      "[Parallel(n_jobs=-1)]: Using backend SequentialBackend with 1 concurrent workers.\n"
     ]
    },
    {
     "name": "stdout",
     "output_type": "stream",
     "text": [
      "[CV] START .....................................................................\n",
      "[CV] END ............................... score: (test=-9.248) total time=   6.6s\n",
      "[CV] START .....................................................................\n"
     ]
    },
    {
     "name": "stderr",
     "output_type": "stream",
     "text": [
      "[Parallel(n_jobs=-1)]: Done   1 out of   1 | elapsed:    6.6s remaining:    0.0s\n"
     ]
    },
    {
     "name": "stdout",
     "output_type": "stream",
     "text": [
      "[CV] END ............................... score: (test=-9.663) total time=   6.5s\n",
      "[CV] START .....................................................................\n"
     ]
    },
    {
     "name": "stderr",
     "output_type": "stream",
     "text": [
      "[Parallel(n_jobs=-1)]: Done   2 out of   2 | elapsed:   13.1s remaining:    0.0s\n"
     ]
    },
    {
     "name": "stdout",
     "output_type": "stream",
     "text": [
      "[CV] END .............................. score: (test=-11.633) total time=   6.6s\n"
     ]
    },
    {
     "name": "stderr",
     "output_type": "stream",
     "text": [
      "[Parallel(n_jobs=-1)]: Done   3 out of   3 | elapsed:   19.7s remaining:    0.0s\n",
      "[Parallel(n_jobs=-1)]: Done   3 out of   3 | elapsed:   19.7s finished\n",
      "[Parallel(n_jobs=-1)]: Using backend SequentialBackend with 1 concurrent workers.\n"
     ]
    },
    {
     "name": "stdout",
     "output_type": "stream",
     "text": [
      "[CV] START .....................................................................\n",
      "[CV] END ............................... score: (test=-8.997) total time=   9.9s\n",
      "[CV] START .....................................................................\n"
     ]
    },
    {
     "name": "stderr",
     "output_type": "stream",
     "text": [
      "[Parallel(n_jobs=-1)]: Done   1 out of   1 | elapsed:    9.9s remaining:    0.0s\n"
     ]
    },
    {
     "name": "stdout",
     "output_type": "stream",
     "text": [
      "[CV] END ............................... score: (test=-9.656) total time=   9.9s\n",
      "[CV] START .....................................................................\n"
     ]
    },
    {
     "name": "stderr",
     "output_type": "stream",
     "text": [
      "[Parallel(n_jobs=-1)]: Done   2 out of   2 | elapsed:   19.8s remaining:    0.0s\n"
     ]
    },
    {
     "name": "stdout",
     "output_type": "stream",
     "text": [
      "[CV] END .............................. score: (test=-13.838) total time=  10.1s\n"
     ]
    },
    {
     "name": "stderr",
     "output_type": "stream",
     "text": [
      "[Parallel(n_jobs=-1)]: Done   3 out of   3 | elapsed:   29.9s remaining:    0.0s\n",
      "[Parallel(n_jobs=-1)]: Done   3 out of   3 | elapsed:   29.9s finished\n",
      "[Parallel(n_jobs=-1)]: Using backend SequentialBackend with 1 concurrent workers.\n"
     ]
    },
    {
     "name": "stdout",
     "output_type": "stream",
     "text": [
      "[CV] START .....................................................................\n",
      "[CV] END ............................... score: (test=-9.061) total time=  12.8s\n",
      "[CV] START .....................................................................\n"
     ]
    },
    {
     "name": "stderr",
     "output_type": "stream",
     "text": [
      "[Parallel(n_jobs=-1)]: Done   1 out of   1 | elapsed:   12.8s remaining:    0.0s\n"
     ]
    },
    {
     "name": "stdout",
     "output_type": "stream",
     "text": [
      "[CV] END ............................... score: (test=-9.717) total time=  12.7s\n",
      "[CV] START .....................................................................\n"
     ]
    },
    {
     "name": "stderr",
     "output_type": "stream",
     "text": [
      "[Parallel(n_jobs=-1)]: Done   2 out of   2 | elapsed:   25.5s remaining:    0.0s\n"
     ]
    },
    {
     "name": "stdout",
     "output_type": "stream",
     "text": [
      "[CV] END .............................. score: (test=-13.467) total time=  12.9s\n"
     ]
    },
    {
     "name": "stderr",
     "output_type": "stream",
     "text": [
      "[Parallel(n_jobs=-1)]: Done   3 out of   3 | elapsed:   38.4s remaining:    0.0s\n",
      "[Parallel(n_jobs=-1)]: Done   3 out of   3 | elapsed:   38.4s finished\n",
      "[Parallel(n_jobs=-1)]: Using backend SequentialBackend with 1 concurrent workers.\n"
     ]
    },
    {
     "name": "stdout",
     "output_type": "stream",
     "text": [
      "[CV] START .....................................................................\n",
      "[CV] END ............................... score: (test=-9.157) total time=  15.7s\n",
      "[CV] START .....................................................................\n"
     ]
    },
    {
     "name": "stderr",
     "output_type": "stream",
     "text": [
      "[Parallel(n_jobs=-1)]: Done   1 out of   1 | elapsed:   15.7s remaining:    0.0s\n"
     ]
    },
    {
     "name": "stdout",
     "output_type": "stream",
     "text": [
      "[CV] END ............................... score: (test=-9.554) total time=  15.7s\n",
      "[CV] START .....................................................................\n"
     ]
    },
    {
     "name": "stderr",
     "output_type": "stream",
     "text": [
      "[Parallel(n_jobs=-1)]: Done   2 out of   2 | elapsed:   31.4s remaining:    0.0s\n"
     ]
    },
    {
     "name": "stdout",
     "output_type": "stream",
     "text": [
      "[CV] END .............................. score: (test=-12.974) total time=  15.5s\n"
     ]
    },
    {
     "name": "stderr",
     "output_type": "stream",
     "text": [
      "[Parallel(n_jobs=-1)]: Done   3 out of   3 | elapsed:   46.9s remaining:    0.0s\n",
      "[Parallel(n_jobs=-1)]: Done   3 out of   3 | elapsed:   46.9s finished\n"
     ]
    }
   ],
   "source": [
    "best_est = 0\n",
    "best_depth = 0\n",
    "best_mean_score_rfc_f = 10\n",
    "for est in range(70, 110, 10):\n",
    "    for depth in range(2, 6, 1):\n",
    "        model_rfc_f = RandomForestRegressor(n_estimators=est, max_depth=depth, random_state=12345, max_leaf_nodes=50)\n",
    "        model_rfc_f.fit(features_train, target_train_f)\n",
    "        \n",
    "        scores_rfc_f = cross_val_score(model_rfc_f, features_train, target_train_f, cv=3, n_jobs=-1, verbose=10, scoring=scorer)\n",
    "        mean_score_rfc_f = (sum(scores_rfc_f) / len(scores_rfc_f)) * -1\n",
    "        \n",
    "        if mean_score_rfc_f < best_mean_score_rfc_f:\n",
    "            best_mean_score_rfc_f = mean_score_rfc_f\n",
    "            best_est = est\n",
    "            best_depth = depth\n",
    "            \n"
   ]
  },
  {
   "cell_type": "code",
   "execution_count": 53,
   "metadata": {},
   "outputs": [
    {
     "name": "stdout",
     "output_type": "stream",
     "text": [
      "best_mean_score_rfc_f: 10 best_est = est: 0 best_depth: 0\n"
     ]
    }
   ],
   "source": [
    "print('best_mean_score_rfc_f:', best_mean_score_rfc_f,  'best_est = est:',  best_est, 'best_depth:', best_depth)"
   ]
  },
  {
   "cell_type": "markdown",
   "metadata": {},
   "source": [
    "\n",
    "Наши переманные не изменились, значит метрика больше 10.\n",
    "Увеличим глубину для улучшения качества модели"
   ]
  },
  {
   "cell_type": "code",
   "execution_count": 54,
   "metadata": {},
   "outputs": [
    {
     "name": "stderr",
     "output_type": "stream",
     "text": [
      "[Parallel(n_jobs=-1)]: Using backend SequentialBackend with 1 concurrent workers.\n"
     ]
    },
    {
     "name": "stdout",
     "output_type": "stream",
     "text": [
      "[CV] START .....................................................................\n",
      "[CV] END ............................... score: (test=-9.126) total time=  13.1s\n",
      "[CV] START .....................................................................\n"
     ]
    },
    {
     "name": "stderr",
     "output_type": "stream",
     "text": [
      "[Parallel(n_jobs=-1)]: Done   1 out of   1 | elapsed:   13.1s remaining:    0.0s\n"
     ]
    },
    {
     "name": "stdout",
     "output_type": "stream",
     "text": [
      "[CV] END ............................... score: (test=-9.603) total time=  12.9s\n",
      "[CV] START .....................................................................\n"
     ]
    },
    {
     "name": "stderr",
     "output_type": "stream",
     "text": [
      "[Parallel(n_jobs=-1)]: Done   2 out of   2 | elapsed:   26.0s remaining:    0.0s\n"
     ]
    },
    {
     "name": "stdout",
     "output_type": "stream",
     "text": [
      "[CV] END .............................. score: (test=-12.176) total time=  12.9s\n"
     ]
    },
    {
     "name": "stderr",
     "output_type": "stream",
     "text": [
      "[Parallel(n_jobs=-1)]: Done   3 out of   3 | elapsed:   38.9s remaining:    0.0s\n",
      "[Parallel(n_jobs=-1)]: Done   3 out of   3 | elapsed:   38.9s finished\n",
      "[Parallel(n_jobs=-1)]: Using backend SequentialBackend with 1 concurrent workers.\n"
     ]
    },
    {
     "name": "stdout",
     "output_type": "stream",
     "text": [
      "[CV] START .....................................................................\n",
      "[CV] END ............................... score: (test=-9.068) total time=  14.3s\n",
      "[CV] START .....................................................................\n"
     ]
    },
    {
     "name": "stderr",
     "output_type": "stream",
     "text": [
      "[Parallel(n_jobs=-1)]: Done   1 out of   1 | elapsed:   14.3s remaining:    0.0s\n"
     ]
    },
    {
     "name": "stdout",
     "output_type": "stream",
     "text": [
      "[CV] END ............................... score: (test=-9.549) total time=  14.4s\n",
      "[CV] START .....................................................................\n"
     ]
    },
    {
     "name": "stderr",
     "output_type": "stream",
     "text": [
      "[Parallel(n_jobs=-1)]: Done   2 out of   2 | elapsed:   28.7s remaining:    0.0s\n"
     ]
    },
    {
     "name": "stdout",
     "output_type": "stream",
     "text": [
      "[CV] END .............................. score: (test=-12.106) total time=  14.7s\n"
     ]
    },
    {
     "name": "stderr",
     "output_type": "stream",
     "text": [
      "[Parallel(n_jobs=-1)]: Done   3 out of   3 | elapsed:   43.4s remaining:    0.0s\n",
      "[Parallel(n_jobs=-1)]: Done   3 out of   3 | elapsed:   43.4s finished\n",
      "[Parallel(n_jobs=-1)]: Using backend SequentialBackend with 1 concurrent workers.\n"
     ]
    },
    {
     "name": "stdout",
     "output_type": "stream",
     "text": [
      "[CV] START .....................................................................\n",
      "[CV] END ............................... score: (test=-9.139) total time=  15.3s\n",
      "[CV] START .....................................................................\n"
     ]
    },
    {
     "name": "stderr",
     "output_type": "stream",
     "text": [
      "[Parallel(n_jobs=-1)]: Done   1 out of   1 | elapsed:   15.3s remaining:    0.0s\n"
     ]
    },
    {
     "name": "stdout",
     "output_type": "stream",
     "text": [
      "[CV] END ............................... score: (test=-9.475) total time=  14.4s\n",
      "[CV] START .....................................................................\n"
     ]
    },
    {
     "name": "stderr",
     "output_type": "stream",
     "text": [
      "[Parallel(n_jobs=-1)]: Done   2 out of   2 | elapsed:   29.7s remaining:    0.0s\n"
     ]
    },
    {
     "name": "stdout",
     "output_type": "stream",
     "text": [
      "[CV] END .............................. score: (test=-12.126) total time=  15.9s\n"
     ]
    },
    {
     "name": "stderr",
     "output_type": "stream",
     "text": [
      "[Parallel(n_jobs=-1)]: Done   3 out of   3 | elapsed:   45.7s remaining:    0.0s\n",
      "[Parallel(n_jobs=-1)]: Done   3 out of   3 | elapsed:   45.7s finished\n",
      "[Parallel(n_jobs=-1)]: Using backend SequentialBackend with 1 concurrent workers.\n"
     ]
    },
    {
     "name": "stdout",
     "output_type": "stream",
     "text": [
      "[CV] START .....................................................................\n",
      "[CV] END ............................... score: (test=-9.153) total time=  16.1s\n",
      "[CV] START .....................................................................\n"
     ]
    },
    {
     "name": "stderr",
     "output_type": "stream",
     "text": [
      "[Parallel(n_jobs=-1)]: Done   1 out of   1 | elapsed:   16.1s remaining:    0.0s\n"
     ]
    },
    {
     "name": "stdout",
     "output_type": "stream",
     "text": [
      "[CV] END ............................... score: (test=-9.421) total time=  15.0s\n",
      "[CV] START .....................................................................\n"
     ]
    },
    {
     "name": "stderr",
     "output_type": "stream",
     "text": [
      "[Parallel(n_jobs=-1)]: Done   2 out of   2 | elapsed:   31.1s remaining:    0.0s\n"
     ]
    },
    {
     "name": "stdout",
     "output_type": "stream",
     "text": [
      "[CV] END .............................. score: (test=-12.149) total time=  16.2s\n"
     ]
    },
    {
     "name": "stderr",
     "output_type": "stream",
     "text": [
      "[Parallel(n_jobs=-1)]: Done   3 out of   3 | elapsed:   47.3s remaining:    0.0s\n",
      "[Parallel(n_jobs=-1)]: Done   3 out of   3 | elapsed:   47.3s finished\n",
      "[Parallel(n_jobs=-1)]: Using backend SequentialBackend with 1 concurrent workers.\n"
     ]
    },
    {
     "name": "stdout",
     "output_type": "stream",
     "text": [
      "[CV] START .....................................................................\n",
      "[CV] END ............................... score: (test=-9.152) total time=  15.0s\n",
      "[CV] START .....................................................................\n"
     ]
    },
    {
     "name": "stderr",
     "output_type": "stream",
     "text": [
      "[Parallel(n_jobs=-1)]: Done   1 out of   1 | elapsed:   15.1s remaining:    0.0s\n"
     ]
    },
    {
     "name": "stdout",
     "output_type": "stream",
     "text": [
      "[CV] END ............................... score: (test=-9.636) total time=  14.6s\n",
      "[CV] START .....................................................................\n"
     ]
    },
    {
     "name": "stderr",
     "output_type": "stream",
     "text": [
      "[Parallel(n_jobs=-1)]: Done   2 out of   2 | elapsed:   29.6s remaining:    0.0s\n"
     ]
    },
    {
     "name": "stdout",
     "output_type": "stream",
     "text": [
      "[CV] END .............................. score: (test=-12.124) total time=  14.6s\n"
     ]
    },
    {
     "name": "stderr",
     "output_type": "stream",
     "text": [
      "[Parallel(n_jobs=-1)]: Done   3 out of   3 | elapsed:   44.3s remaining:    0.0s\n",
      "[Parallel(n_jobs=-1)]: Done   3 out of   3 | elapsed:   44.3s finished\n",
      "[Parallel(n_jobs=-1)]: Using backend SequentialBackend with 1 concurrent workers.\n"
     ]
    },
    {
     "name": "stdout",
     "output_type": "stream",
     "text": [
      "[CV] START .....................................................................\n",
      "[CV] END ............................... score: (test=-9.096) total time=  16.6s\n",
      "[CV] START .....................................................................\n"
     ]
    },
    {
     "name": "stderr",
     "output_type": "stream",
     "text": [
      "[Parallel(n_jobs=-1)]: Done   1 out of   1 | elapsed:   16.6s remaining:    0.0s\n"
     ]
    },
    {
     "name": "stdout",
     "output_type": "stream",
     "text": [
      "[CV] END ............................... score: (test=-9.573) total time=  15.9s\n",
      "[CV] START .....................................................................\n"
     ]
    },
    {
     "name": "stderr",
     "output_type": "stream",
     "text": [
      "[Parallel(n_jobs=-1)]: Done   2 out of   2 | elapsed:   32.5s remaining:    0.0s\n"
     ]
    },
    {
     "name": "stdout",
     "output_type": "stream",
     "text": [
      "[CV] END .............................. score: (test=-12.077) total time=  16.2s\n"
     ]
    },
    {
     "name": "stderr",
     "output_type": "stream",
     "text": [
      "[Parallel(n_jobs=-1)]: Done   3 out of   3 | elapsed:   48.7s remaining:    0.0s\n",
      "[Parallel(n_jobs=-1)]: Done   3 out of   3 | elapsed:   48.7s finished\n",
      "[Parallel(n_jobs=-1)]: Using backend SequentialBackend with 1 concurrent workers.\n"
     ]
    },
    {
     "name": "stdout",
     "output_type": "stream",
     "text": [
      "[CV] START .....................................................................\n",
      "[CV] END ............................... score: (test=-9.185) total time=  17.7s\n",
      "[CV] START .....................................................................\n"
     ]
    },
    {
     "name": "stderr",
     "output_type": "stream",
     "text": [
      "[Parallel(n_jobs=-1)]: Done   1 out of   1 | elapsed:   17.7s remaining:    0.0s\n"
     ]
    },
    {
     "name": "stdout",
     "output_type": "stream",
     "text": [
      "[CV] END ............................... score: (test=-9.491) total time=  16.9s\n",
      "[CV] START .....................................................................\n"
     ]
    },
    {
     "name": "stderr",
     "output_type": "stream",
     "text": [
      "[Parallel(n_jobs=-1)]: Done   2 out of   2 | elapsed:   34.5s remaining:    0.0s\n"
     ]
    },
    {
     "name": "stdout",
     "output_type": "stream",
     "text": [
      "[CV] END .............................. score: (test=-12.028) total time=  17.8s\n"
     ]
    },
    {
     "name": "stderr",
     "output_type": "stream",
     "text": [
      "[Parallel(n_jobs=-1)]: Done   3 out of   3 | elapsed:   52.4s remaining:    0.0s\n",
      "[Parallel(n_jobs=-1)]: Done   3 out of   3 | elapsed:   52.4s finished\n",
      "[Parallel(n_jobs=-1)]: Using backend SequentialBackend with 1 concurrent workers.\n"
     ]
    },
    {
     "name": "stdout",
     "output_type": "stream",
     "text": [
      "[CV] START .....................................................................\n",
      "[CV] END ............................... score: (test=-9.195) total time=  18.1s\n",
      "[CV] START .....................................................................\n"
     ]
    },
    {
     "name": "stderr",
     "output_type": "stream",
     "text": [
      "[Parallel(n_jobs=-1)]: Done   1 out of   1 | elapsed:   18.1s remaining:    0.0s\n"
     ]
    },
    {
     "name": "stdout",
     "output_type": "stream",
     "text": [
      "[CV] END ............................... score: (test=-9.439) total time=  17.5s\n",
      "[CV] START .....................................................................\n"
     ]
    },
    {
     "name": "stderr",
     "output_type": "stream",
     "text": [
      "[Parallel(n_jobs=-1)]: Done   2 out of   2 | elapsed:   35.6s remaining:    0.0s\n"
     ]
    },
    {
     "name": "stdout",
     "output_type": "stream",
     "text": [
      "[CV] END .............................. score: (test=-12.046) total time=  18.5s\n"
     ]
    },
    {
     "name": "stderr",
     "output_type": "stream",
     "text": [
      "[Parallel(n_jobs=-1)]: Done   3 out of   3 | elapsed:   54.0s remaining:    0.0s\n",
      "[Parallel(n_jobs=-1)]: Done   3 out of   3 | elapsed:   54.0s finished\n",
      "[Parallel(n_jobs=-1)]: Using backend SequentialBackend with 1 concurrent workers.\n"
     ]
    },
    {
     "name": "stdout",
     "output_type": "stream",
     "text": [
      "[CV] START .....................................................................\n",
      "[CV] END ............................... score: (test=-9.138) total time=  15.5s\n",
      "[CV] START .....................................................................\n"
     ]
    },
    {
     "name": "stderr",
     "output_type": "stream",
     "text": [
      "[Parallel(n_jobs=-1)]: Done   1 out of   1 | elapsed:   15.5s remaining:    0.0s\n"
     ]
    },
    {
     "name": "stdout",
     "output_type": "stream",
     "text": [
      "[CV] END ............................... score: (test=-9.678) total time=  15.6s\n",
      "[CV] START .....................................................................\n"
     ]
    },
    {
     "name": "stderr",
     "output_type": "stream",
     "text": [
      "[Parallel(n_jobs=-1)]: Done   2 out of   2 | elapsed:   31.1s remaining:    0.0s\n"
     ]
    },
    {
     "name": "stdout",
     "output_type": "stream",
     "text": [
      "[CV] END .............................. score: (test=-12.125) total time=  15.7s\n"
     ]
    },
    {
     "name": "stderr",
     "output_type": "stream",
     "text": [
      "[Parallel(n_jobs=-1)]: Done   3 out of   3 | elapsed:   46.8s remaining:    0.0s\n",
      "[Parallel(n_jobs=-1)]: Done   3 out of   3 | elapsed:   46.8s finished\n",
      "[Parallel(n_jobs=-1)]: Using backend SequentialBackend with 1 concurrent workers.\n"
     ]
    },
    {
     "name": "stdout",
     "output_type": "stream",
     "text": [
      "[CV] START .....................................................................\n",
      "[CV] END ............................... score: (test=-9.083) total time=  18.3s\n",
      "[CV] START .....................................................................\n"
     ]
    },
    {
     "name": "stderr",
     "output_type": "stream",
     "text": [
      "[Parallel(n_jobs=-1)]: Done   1 out of   1 | elapsed:   18.3s remaining:    0.0s\n"
     ]
    },
    {
     "name": "stdout",
     "output_type": "stream",
     "text": [
      "[CV] END ............................... score: (test=-9.597) total time=  17.9s\n",
      "[CV] START .....................................................................\n"
     ]
    },
    {
     "name": "stderr",
     "output_type": "stream",
     "text": [
      "[Parallel(n_jobs=-1)]: Done   2 out of   2 | elapsed:   36.2s remaining:    0.0s\n"
     ]
    },
    {
     "name": "stdout",
     "output_type": "stream",
     "text": [
      "[CV] END .............................. score: (test=-12.075) total time=  18.2s\n"
     ]
    },
    {
     "name": "stderr",
     "output_type": "stream",
     "text": [
      "[Parallel(n_jobs=-1)]: Done   3 out of   3 | elapsed:   54.4s remaining:    0.0s\n",
      "[Parallel(n_jobs=-1)]: Done   3 out of   3 | elapsed:   54.4s finished\n",
      "[Parallel(n_jobs=-1)]: Using backend SequentialBackend with 1 concurrent workers.\n"
     ]
    },
    {
     "name": "stdout",
     "output_type": "stream",
     "text": [
      "[CV] START .....................................................................\n",
      "[CV] END ............................... score: (test=-9.177) total time=  19.8s\n",
      "[CV] START .....................................................................\n"
     ]
    },
    {
     "name": "stderr",
     "output_type": "stream",
     "text": [
      "[Parallel(n_jobs=-1)]: Done   1 out of   1 | elapsed:   19.8s remaining:    0.0s\n"
     ]
    },
    {
     "name": "stdout",
     "output_type": "stream",
     "text": [
      "[CV] END ............................... score: (test=-9.502) total time=  18.4s\n",
      "[CV] START .....................................................................\n"
     ]
    },
    {
     "name": "stderr",
     "output_type": "stream",
     "text": [
      "[Parallel(n_jobs=-1)]: Done   2 out of   2 | elapsed:   38.3s remaining:    0.0s\n"
     ]
    },
    {
     "name": "stdout",
     "output_type": "stream",
     "text": [
      "[CV] END .............................. score: (test=-12.072) total time=  19.3s\n"
     ]
    },
    {
     "name": "stderr",
     "output_type": "stream",
     "text": [
      "[Parallel(n_jobs=-1)]: Done   3 out of   3 | elapsed:   57.6s remaining:    0.0s\n",
      "[Parallel(n_jobs=-1)]: Done   3 out of   3 | elapsed:   57.6s finished\n",
      "[Parallel(n_jobs=-1)]: Using backend SequentialBackend with 1 concurrent workers.\n"
     ]
    },
    {
     "name": "stdout",
     "output_type": "stream",
     "text": [
      "[CV] START .....................................................................\n",
      "[CV] END ............................... score: (test=-9.188) total time=  20.8s\n",
      "[CV] START .....................................................................\n"
     ]
    },
    {
     "name": "stderr",
     "output_type": "stream",
     "text": [
      "[Parallel(n_jobs=-1)]: Done   1 out of   1 | elapsed:   20.8s remaining:    0.0s\n"
     ]
    },
    {
     "name": "stdout",
     "output_type": "stream",
     "text": [
      "[CV] END ............................... score: (test=-9.446) total time=  19.3s\n",
      "[CV] START .....................................................................\n"
     ]
    },
    {
     "name": "stderr",
     "output_type": "stream",
     "text": [
      "[Parallel(n_jobs=-1)]: Done   2 out of   2 | elapsed:   40.1s remaining:    0.0s\n"
     ]
    },
    {
     "name": "stdout",
     "output_type": "stream",
     "text": [
      "[CV] END .............................. score: (test=-12.091) total time=  20.7s\n"
     ]
    },
    {
     "name": "stderr",
     "output_type": "stream",
     "text": [
      "[Parallel(n_jobs=-1)]: Done   3 out of   3 | elapsed:  1.0min remaining:    0.0s\n",
      "[Parallel(n_jobs=-1)]: Done   3 out of   3 | elapsed:  1.0min finished\n",
      "[Parallel(n_jobs=-1)]: Using backend SequentialBackend with 1 concurrent workers.\n"
     ]
    },
    {
     "name": "stdout",
     "output_type": "stream",
     "text": [
      "[CV] START .....................................................................\n",
      "[CV] END ............................... score: (test=-9.124) total time=  18.2s\n",
      "[CV] START .....................................................................\n"
     ]
    },
    {
     "name": "stderr",
     "output_type": "stream",
     "text": [
      "[Parallel(n_jobs=-1)]: Done   1 out of   1 | elapsed:   18.2s remaining:    0.0s\n"
     ]
    },
    {
     "name": "stdout",
     "output_type": "stream",
     "text": [
      "[CV] END ............................... score: (test=-9.683) total time=  17.3s\n",
      "[CV] START .....................................................................\n"
     ]
    },
    {
     "name": "stderr",
     "output_type": "stream",
     "text": [
      "[Parallel(n_jobs=-1)]: Done   2 out of   2 | elapsed:   35.5s remaining:    0.0s\n"
     ]
    },
    {
     "name": "stdout",
     "output_type": "stream",
     "text": [
      "[CV] END .............................. score: (test=-12.139) total time=  17.6s\n"
     ]
    },
    {
     "name": "stderr",
     "output_type": "stream",
     "text": [
      "[Parallel(n_jobs=-1)]: Done   3 out of   3 | elapsed:   53.1s remaining:    0.0s\n",
      "[Parallel(n_jobs=-1)]: Done   3 out of   3 | elapsed:   53.1s finished\n",
      "[Parallel(n_jobs=-1)]: Using backend SequentialBackend with 1 concurrent workers.\n"
     ]
    },
    {
     "name": "stdout",
     "output_type": "stream",
     "text": [
      "[CV] START .....................................................................\n",
      "[CV] END ............................... score: (test=-9.088) total time=  20.9s\n",
      "[CV] START .....................................................................\n"
     ]
    },
    {
     "name": "stderr",
     "output_type": "stream",
     "text": [
      "[Parallel(n_jobs=-1)]: Done   1 out of   1 | elapsed:   20.9s remaining:    0.0s\n"
     ]
    },
    {
     "name": "stdout",
     "output_type": "stream",
     "text": [
      "[CV] END ............................... score: (test=-9.660) total time=  20.0s\n",
      "[CV] START .....................................................................\n"
     ]
    },
    {
     "name": "stderr",
     "output_type": "stream",
     "text": [
      "[Parallel(n_jobs=-1)]: Done   2 out of   2 | elapsed:   40.9s remaining:    0.0s\n"
     ]
    },
    {
     "name": "stdout",
     "output_type": "stream",
     "text": [
      "[CV] END .............................. score: (test=-12.131) total time=  20.6s\n"
     ]
    },
    {
     "name": "stderr",
     "output_type": "stream",
     "text": [
      "[Parallel(n_jobs=-1)]: Done   3 out of   3 | elapsed:  1.0min remaining:    0.0s\n",
      "[Parallel(n_jobs=-1)]: Done   3 out of   3 | elapsed:  1.0min finished\n",
      "[Parallel(n_jobs=-1)]: Using backend SequentialBackend with 1 concurrent workers.\n"
     ]
    },
    {
     "name": "stdout",
     "output_type": "stream",
     "text": [
      "[CV] START .....................................................................\n",
      "[CV] END ............................... score: (test=-9.148) total time=  22.4s\n",
      "[CV] START .....................................................................\n"
     ]
    },
    {
     "name": "stderr",
     "output_type": "stream",
     "text": [
      "[Parallel(n_jobs=-1)]: Done   1 out of   1 | elapsed:   22.4s remaining:    0.0s\n"
     ]
    },
    {
     "name": "stdout",
     "output_type": "stream",
     "text": [
      "[CV] END ............................... score: (test=-9.524) total time=  22.0s\n",
      "[CV] START .....................................................................\n"
     ]
    },
    {
     "name": "stderr",
     "output_type": "stream",
     "text": [
      "[Parallel(n_jobs=-1)]: Done   2 out of   2 | elapsed:   44.4s remaining:    0.0s\n"
     ]
    },
    {
     "name": "stdout",
     "output_type": "stream",
     "text": [
      "[CV] END .............................. score: (test=-12.149) total time=  23.2s\n"
     ]
    },
    {
     "name": "stderr",
     "output_type": "stream",
     "text": [
      "[Parallel(n_jobs=-1)]: Done   3 out of   3 | elapsed:  1.1min remaining:    0.0s\n",
      "[Parallel(n_jobs=-1)]: Done   3 out of   3 | elapsed:  1.1min finished\n",
      "[Parallel(n_jobs=-1)]: Using backend SequentialBackend with 1 concurrent workers.\n"
     ]
    },
    {
     "name": "stdout",
     "output_type": "stream",
     "text": [
      "[CV] START .....................................................................\n",
      "[CV] END ............................... score: (test=-9.166) total time=  24.2s\n",
      "[CV] START .....................................................................\n"
     ]
    },
    {
     "name": "stderr",
     "output_type": "stream",
     "text": [
      "[Parallel(n_jobs=-1)]: Done   1 out of   1 | elapsed:   24.2s remaining:    0.0s\n"
     ]
    },
    {
     "name": "stdout",
     "output_type": "stream",
     "text": [
      "[CV] END ............................... score: (test=-9.474) total time=  22.6s\n",
      "[CV] START .....................................................................\n"
     ]
    },
    {
     "name": "stderr",
     "output_type": "stream",
     "text": [
      "[Parallel(n_jobs=-1)]: Done   2 out of   2 | elapsed:   46.9s remaining:    0.0s\n"
     ]
    },
    {
     "name": "stdout",
     "output_type": "stream",
     "text": [
      "[CV] END .............................. score: (test=-12.162) total time=  24.2s\n"
     ]
    },
    {
     "name": "stderr",
     "output_type": "stream",
     "text": [
      "[Parallel(n_jobs=-1)]: Done   3 out of   3 | elapsed:  1.2min remaining:    0.0s\n",
      "[Parallel(n_jobs=-1)]: Done   3 out of   3 | elapsed:  1.2min finished\n"
     ]
    }
   ],
   "source": [
    "best_est = 0\n",
    "best_depth = 0\n",
    "best_mean_score_rfc_f = 11\n",
    "for est in range(70, 110, 10):\n",
    "    for depth in range(6, 10, 1):\n",
    "        model_rfc_f = RandomForestRegressor(n_estimators=est, max_depth=depth, random_state=12345, max_leaf_nodes=50)\n",
    "        model_rfc_f.fit(features_train, target_train_f)\n",
    "        \n",
    "        scores_rfc_f = cross_val_score(model_rfc_f, features_train, target_train_f, cv=3, n_jobs=-1, verbose=10, scoring=scorer)\n",
    "        mean_score_rfc_f = (sum(scores_rfc_f) / len(scores_rfc_f)) * -1\n",
    "        \n",
    "        if mean_score_rfc_f < best_mean_score_rfc_f:\n",
    "            best_mean_score_rfc_f = mean_score_rfc_f\n",
    "            best_est = est\n",
    "            best_depth = depth\n",
    "            \n",
    "print('best_mean_score_rfc_f:', best_mean_score_rfc_f,  'best_est = est:',  best_est, 'best_depth:', best_depth)"
   ]
  },
  {
   "cell_type": "markdown",
   "metadata": {},
   "source": [
    "\n",
    "Сделала небольшой интервал для проверки глубины и количества деревьев, иначе очень долго код читается."
   ]
  },
  {
   "cell_type": "code",
   "execution_count": 55,
   "metadata": {
    "scrolled": true
   },
   "outputs": [
    {
     "name": "stdout",
     "output_type": "stream",
     "text": [
      "best_mean_score_rfc_f: 10.267681442050357 best_est = est: 80 best_depth: 9\n"
     ]
    }
   ],
   "source": [
    "print('best_mean_score_rfc_f:', mean_score_rfc_f,  'best_est = est:',  best_est, 'best_depth:', best_depth)"
   ]
  },
  {
   "cell_type": "markdown",
   "metadata": {},
   "source": [
    "\n",
    "Оптимальные параметры для модели случайный лес с целевым признаком final.output.recovery:\n",
    "    \n",
    "    * n_estimators=80, \n",
    "    * max_depth=9, \n",
    "    * random_state=12345, \n",
    "    * max_leaf_nodes=50\n",
    "    \n",
    "    * Средняя оценка качества модели: 10,3"
   ]
  },
  {
   "cell_type": "markdown",
   "metadata": {},
   "source": [
    " "
   ]
  },
  {
   "cell_type": "markdown",
   "metadata": {},
   "source": [
    "\n",
    "Посчитаем эффективность обогащения финального продукта для модели линейная регрессия."
   ]
  },
  {
   "cell_type": "code",
   "execution_count": 56,
   "metadata": {},
   "outputs": [
    {
     "name": "stdout",
     "output_type": "stream",
     "text": [
      "sMAPE финального продукта для случайного леса: 9.737684856271084\n"
     ]
    }
   ],
   "source": [
    "print('sMAPE финального продукта для случайного леса:', smape_final(mean_score_rfc_r, mean_score_rfc_f))"
   ]
  },
  {
   "cell_type": "markdown",
   "metadata": {},
   "source": [
    "\n",
    "\n",
    "    * sMAPE финального продукта для линейной регрессии - 12,9   \n",
    "    * sMAPE финального продукта для случайного леса - 9,7\n",
    "    \n",
    "В нашем случае чем меньше величина, тем лучше, поэтому для тестирования мы выберем модель случайный лес."
   ]
  },
  {
   "cell_type": "markdown",
   "metadata": {},
   "source": [
    "Алексей, никак не могу понять в чем здесь ошибка. Помоги, пожалуйста, разобраться."
   ]
  },
  {
   "cell_type": "code",
   "execution_count": null,
   "metadata": {},
   "outputs": [],
   "source": [
    "predicted_r = model_rfc_r.predict(features_test)"
   ]
  },
  {
   "cell_type": "code",
   "execution_count": 64,
   "metadata": {},
   "outputs": [],
   "source": [
    "sMAPE_rougher = smape(target_test_r, predicted_r)"
   ]
  },
  {
   "cell_type": "code",
   "execution_count": 62,
   "metadata": {},
   "outputs": [],
   "source": [
    "predicted_f = model_rfc_f.predict(features_test)"
   ]
  },
  {
   "cell_type": "code",
   "execution_count": 67,
   "metadata": {},
   "outputs": [],
   "source": [
    "sMAPE_final = smape(target_test_f, predicted_f)"
   ]
  },
  {
   "cell_type": "code",
   "execution_count": 68,
   "metadata": {},
   "outputs": [
    {
     "name": "stdout",
     "output_type": "stream",
     "text": [
      "Итоговый sMAPE: 9.479693274079152\n"
     ]
    }
   ],
   "source": [
    "sMAPE_end =  smape_final(sMAPE_rougher, sMAPE_final)\n",
    "print('Итоговый sMAPE:', sMAPE_end)"
   ]
  },
  {
   "cell_type": "markdown",
   "metadata": {},
   "source": [
    "Проверим как поведет себя константная модель"
   ]
  },
  {
   "cell_type": "code",
   "execution_count": 71,
   "metadata": {
    "scrolled": true
   },
   "outputs": [
    {
     "name": "stdout",
     "output_type": "stream",
     "text": [
      "sMAPE для final, константная модель: 9.045707453606788\n"
     ]
    }
   ],
   "source": [
    "predicted_const_mean = pd.Series(target_train_r.mean(), index=target_test_r.index) \n",
    "sMAPE_const_r = smape(target_test_r, predicted_const_mean)\n",
    "print('sMAPE для final, константная модель:',sMAPE_r)"
   ]
  },
  {
   "cell_type": "code",
   "execution_count": 72,
   "metadata": {
    "scrolled": true
   },
   "outputs": [
    {
     "name": "stdout",
     "output_type": "stream",
     "text": [
      "sMAPE для final, константная модель: 10.05329370382435\n"
     ]
    }
   ],
   "source": [
    "predicted_const_mean = pd.Series(target_train_f.mean(), index=target_test_f.index) \n",
    "sMAPE_const_f = smape(target_test_f, predicted_const_mean)\n",
    "print('sMAPE для final, константная модель:',sMAPE_f)"
   ]
  },
  {
   "cell_type": "code",
   "execution_count": 74,
   "metadata": {},
   "outputs": [
    {
     "name": "stdout",
     "output_type": "stream",
     "text": [
      "Итоговый sMAPE: 9.801397141269959\n"
     ]
    }
   ],
   "source": [
    "sMAPE_const_end =  smape_final(sMAPE_const_r, sMAPE_const_f)\n",
    "print('Итоговый sMAPE:', sMAPE_const_end)"
   ]
  },
  {
   "cell_type": "markdown",
   "metadata": {},
   "source": [
    "**Общий вывод**"
   ]
  },
  {
   "cell_type": "markdown",
   "metadata": {},
   "source": [
    "\n",
    "Целью нашего проекта было создание модель для предсказания коэффициента восстановления золота из золотосодержащей руды.\n",
    "    \n",
    "Мы проверили правильность расчета эффективности восстановления. Расчеты верны.\n",
    "    \n",
    "Далее проверили данные и устранили пропуски, добавив значения из предыдущих строк. Выяснили какие данные есть в обучающей выборке, но отсутствуют в тестовой выборке и удалили их из обучающей.\n",
    "    \n",
    "Посмтрели как меняется содержание металлов и размер гранил на разных этапах обогашения золотосодержащей руды\n",
    "\n",
    "Для предсказания коэффициента восстановления золота из руды мы обучили и проверили 2 модели: линейная регрессия и случайный лес, - и более эффективной оказалась модель случайный лес.\n",
    "    \n",
    "Мы оценивали модели кросс-валидацией с метрикой sMAPE:\n",
    "    * sMAPE финального продукта для линейной регрессии - 12,9   \n",
    "    * sMAPE финального продукта для случайного леса - 9,7\n",
    "    \n",
    "\n",
    "sMAPE финального продукта модели случайный лес на тестовой выборке оказался лучше, чем на обучающей и составил 9,48.\n",
    "Стоит отметить, что sMAPE модели случайный лес лучше констатной моделие на 0,32. \n"
   ]
  }
 ],
 "metadata": {
  "ExecuteTimeLog": [
   {
    "duration": 396,
    "start_time": "2023-02-14T13:35:54.512Z"
   },
   {
    "duration": 1868,
    "start_time": "2023-02-14T13:38:06.405Z"
   },
   {
    "duration": 42,
    "start_time": "2023-02-14T13:38:38.875Z"
   },
   {
    "duration": 18,
    "start_time": "2023-02-14T13:39:04.022Z"
   },
   {
    "duration": 11,
    "start_time": "2023-02-14T13:39:18.188Z"
   },
   {
    "duration": 16,
    "start_time": "2023-02-14T13:39:21.466Z"
   },
   {
    "duration": 18585,
    "start_time": "2023-02-14T13:40:17.909Z"
   },
   {
    "duration": 29,
    "start_time": "2023-02-14T14:44:34.734Z"
   },
   {
    "duration": 3,
    "start_time": "2023-02-14T15:31:00.627Z"
   },
   {
    "duration": 3,
    "start_time": "2023-02-14T15:31:00.981Z"
   },
   {
    "duration": 3,
    "start_time": "2023-02-14T15:31:01.385Z"
   },
   {
    "duration": 7,
    "start_time": "2023-02-14T15:33:00.818Z"
   },
   {
    "duration": 8,
    "start_time": "2023-02-14T15:33:20.199Z"
   },
   {
    "duration": 6,
    "start_time": "2023-02-14T15:34:09.120Z"
   },
   {
    "duration": 1015,
    "start_time": "2023-02-14T17:04:20.829Z"
   },
   {
    "duration": 2880,
    "start_time": "2023-02-14T17:04:22.309Z"
   },
   {
    "duration": 3,
    "start_time": "2023-02-14T17:04:32.222Z"
   },
   {
    "duration": 2,
    "start_time": "2023-02-14T17:04:32.655Z"
   },
   {
    "duration": 3,
    "start_time": "2023-02-14T17:04:33.222Z"
   },
   {
    "duration": 5,
    "start_time": "2023-02-14T17:04:34.427Z"
   },
   {
    "duration": 10,
    "start_time": "2023-02-14T17:05:24.926Z"
   },
   {
    "duration": 4,
    "start_time": "2023-02-14T17:15:34.940Z"
   },
   {
    "duration": 103,
    "start_time": "2023-02-14T17:37:41.377Z"
   },
   {
    "duration": 8,
    "start_time": "2023-02-14T17:41:29.921Z"
   },
   {
    "duration": 4,
    "start_time": "2023-02-14T17:41:34.917Z"
   },
   {
    "duration": 13,
    "start_time": "2023-02-14T17:41:37.804Z"
   },
   {
    "duration": 12,
    "start_time": "2023-02-14T17:41:52.784Z"
   },
   {
    "duration": 12,
    "start_time": "2023-02-14T17:42:19.441Z"
   },
   {
    "duration": 12,
    "start_time": "2023-02-14T17:42:23.736Z"
   },
   {
    "duration": 14,
    "start_time": "2023-02-14T17:42:56.732Z"
   },
   {
    "duration": 8,
    "start_time": "2023-02-14T17:43:17.501Z"
   },
   {
    "duration": 2,
    "start_time": "2023-02-14T17:46:21.651Z"
   },
   {
    "duration": 676,
    "start_time": "2023-02-14T17:46:22.060Z"
   },
   {
    "duration": 3,
    "start_time": "2023-02-14T17:46:30.136Z"
   },
   {
    "duration": 2,
    "start_time": "2023-02-14T17:46:30.606Z"
   },
   {
    "duration": 4,
    "start_time": "2023-02-14T17:46:31.132Z"
   },
   {
    "duration": 5,
    "start_time": "2023-02-14T17:46:32.030Z"
   },
   {
    "duration": 9,
    "start_time": "2023-02-14T17:47:02.055Z"
   },
   {
    "duration": 3,
    "start_time": "2023-02-14T17:47:09.865Z"
   },
   {
    "duration": 5,
    "start_time": "2023-02-14T17:47:16.869Z"
   },
   {
    "duration": 6,
    "start_time": "2023-02-14T17:48:43.515Z"
   },
   {
    "duration": 6,
    "start_time": "2023-02-14T17:48:53.236Z"
   },
   {
    "duration": 3,
    "start_time": "2023-02-14T17:51:43.586Z"
   },
   {
    "duration": 5,
    "start_time": "2023-02-14T17:52:09.936Z"
   },
   {
    "duration": 4,
    "start_time": "2023-02-14T17:54:12.600Z"
   },
   {
    "duration": 4,
    "start_time": "2023-02-14T17:54:13.109Z"
   },
   {
    "duration": 7,
    "start_time": "2023-02-14T17:54:17.543Z"
   },
   {
    "duration": 3,
    "start_time": "2023-02-14T19:00:57.130Z"
   },
   {
    "duration": 659,
    "start_time": "2023-02-14T19:00:57.784Z"
   },
   {
    "duration": 4,
    "start_time": "2023-02-14T19:01:04.258Z"
   },
   {
    "duration": 4,
    "start_time": "2023-02-14T19:01:04.543Z"
   },
   {
    "duration": 4,
    "start_time": "2023-02-14T19:01:04.838Z"
   },
   {
    "duration": 6,
    "start_time": "2023-02-14T19:01:05.404Z"
   },
   {
    "duration": 5,
    "start_time": "2023-02-14T19:01:05.881Z"
   },
   {
    "duration": 4,
    "start_time": "2023-02-14T19:01:10.019Z"
   },
   {
    "duration": 5,
    "start_time": "2023-02-14T19:01:11.374Z"
   },
   {
    "duration": 4,
    "start_time": "2023-02-14T19:11:46.428Z"
   },
   {
    "duration": 9,
    "start_time": "2023-02-14T19:15:34.027Z"
   },
   {
    "duration": 10423,
    "start_time": "2023-02-14T19:15:55.173Z"
   },
   {
    "duration": 3,
    "start_time": "2023-02-14T19:16:17.461Z"
   },
   {
    "duration": 6,
    "start_time": "2023-02-14T19:16:33.930Z"
   },
   {
    "duration": 8,
    "start_time": "2023-02-14T19:42:09.364Z"
   },
   {
    "duration": 24,
    "start_time": "2023-02-14T19:42:17.173Z"
   },
   {
    "duration": 12,
    "start_time": "2023-02-14T19:42:43.812Z"
   },
   {
    "duration": 30,
    "start_time": "2023-02-14T19:43:05.409Z"
   },
   {
    "duration": 135,
    "start_time": "2023-02-14T19:44:09.943Z"
   },
   {
    "duration": 29,
    "start_time": "2023-02-14T19:52:46.275Z"
   },
   {
    "duration": 17,
    "start_time": "2023-02-14T19:54:46.014Z"
   },
   {
    "duration": 116,
    "start_time": "2023-02-14T19:56:51.452Z"
   },
   {
    "duration": 120,
    "start_time": "2023-02-14T19:56:53.394Z"
   },
   {
    "duration": 14,
    "start_time": "2023-02-14T20:00:58.376Z"
   },
   {
    "duration": 13,
    "start_time": "2023-02-14T20:01:20.309Z"
   },
   {
    "duration": 130,
    "start_time": "2023-02-14T20:02:21.195Z"
   },
   {
    "duration": 133,
    "start_time": "2023-02-14T20:03:21.878Z"
   },
   {
    "duration": 116,
    "start_time": "2023-02-14T20:03:23.276Z"
   },
   {
    "duration": 124,
    "start_time": "2023-02-14T20:03:58.820Z"
   },
   {
    "duration": 115,
    "start_time": "2023-02-14T20:04:54.687Z"
   },
   {
    "duration": 35,
    "start_time": "2023-02-14T20:06:49.424Z"
   },
   {
    "duration": 14,
    "start_time": "2023-02-14T20:07:00.492Z"
   },
   {
    "duration": 48,
    "start_time": "2023-02-14T20:08:02.314Z"
   },
   {
    "duration": 107,
    "start_time": "2023-02-14T20:10:36.826Z"
   },
   {
    "duration": 15,
    "start_time": "2023-02-14T20:10:40.006Z"
   },
   {
    "duration": 17,
    "start_time": "2023-02-14T20:21:39.646Z"
   },
   {
    "duration": 13,
    "start_time": "2023-02-14T20:22:09.075Z"
   },
   {
    "duration": 9,
    "start_time": "2023-02-14T20:22:48.072Z"
   },
   {
    "duration": 16,
    "start_time": "2023-02-14T20:22:58.042Z"
   },
   {
    "duration": 9,
    "start_time": "2023-02-14T20:23:28.799Z"
   },
   {
    "duration": 8,
    "start_time": "2023-02-14T20:23:40.529Z"
   },
   {
    "duration": 6,
    "start_time": "2023-02-14T20:23:48.169Z"
   },
   {
    "duration": 4,
    "start_time": "2023-02-14T20:24:33.096Z"
   },
   {
    "duration": 4,
    "start_time": "2023-02-14T20:24:38.114Z"
   },
   {
    "duration": 5,
    "start_time": "2023-02-14T20:24:45.342Z"
   },
   {
    "duration": 16,
    "start_time": "2023-02-14T20:25:09.330Z"
   },
   {
    "duration": 3,
    "start_time": "2023-02-14T20:25:31.498Z"
   },
   {
    "duration": 16,
    "start_time": "2023-02-14T20:25:35.128Z"
   },
   {
    "duration": 7,
    "start_time": "2023-02-14T20:26:02.832Z"
   },
   {
    "duration": 4,
    "start_time": "2023-02-14T20:26:38.898Z"
   },
   {
    "duration": 26,
    "start_time": "2023-02-14T20:27:00.088Z"
   },
   {
    "duration": 124,
    "start_time": "2023-02-14T20:28:00.423Z"
   },
   {
    "duration": 14,
    "start_time": "2023-02-14T20:28:11.654Z"
   },
   {
    "duration": 114,
    "start_time": "2023-02-14T20:28:49.541Z"
   },
   {
    "duration": 13,
    "start_time": "2023-02-14T20:28:52.509Z"
   },
   {
    "duration": 108,
    "start_time": "2023-02-14T20:29:32.184Z"
   },
   {
    "duration": 13,
    "start_time": "2023-02-14T20:29:34.448Z"
   },
   {
    "duration": 8,
    "start_time": "2023-02-14T20:42:40.957Z"
   },
   {
    "duration": 14,
    "start_time": "2023-02-14T20:42:46.661Z"
   },
   {
    "duration": 23,
    "start_time": "2023-02-14T20:43:21.139Z"
   },
   {
    "duration": 12,
    "start_time": "2023-02-14T20:47:23.906Z"
   },
   {
    "duration": 10,
    "start_time": "2023-02-14T20:51:08.579Z"
   },
   {
    "duration": 5,
    "start_time": "2023-02-14T20:52:44.237Z"
   },
   {
    "duration": 4,
    "start_time": "2023-02-14T20:53:17.842Z"
   },
   {
    "duration": 6,
    "start_time": "2023-02-14T20:53:25.609Z"
   },
   {
    "duration": 3,
    "start_time": "2023-02-14T20:53:32.070Z"
   },
   {
    "duration": 11,
    "start_time": "2023-02-14T21:26:16.677Z"
   },
   {
    "duration": 451,
    "start_time": "2023-02-14T21:26:22.917Z"
   },
   {
    "duration": 1242,
    "start_time": "2023-02-14T21:26:23.991Z"
   },
   {
    "duration": 22,
    "start_time": "2023-02-14T21:26:25.235Z"
   },
   {
    "duration": 13,
    "start_time": "2023-02-14T21:26:25.259Z"
   },
   {
    "duration": 3,
    "start_time": "2023-02-14T21:26:33.277Z"
   },
   {
    "duration": 2,
    "start_time": "2023-02-14T21:26:33.642Z"
   },
   {
    "duration": 3,
    "start_time": "2023-02-14T21:26:33.983Z"
   },
   {
    "duration": 6,
    "start_time": "2023-02-14T21:26:34.377Z"
   },
   {
    "duration": 6,
    "start_time": "2023-02-14T21:26:35.275Z"
   },
   {
    "duration": 3,
    "start_time": "2023-02-14T21:26:40.906Z"
   },
   {
    "duration": 5,
    "start_time": "2023-02-14T21:26:46.104Z"
   },
   {
    "duration": 4,
    "start_time": "2023-02-14T21:26:59.082Z"
   },
   {
    "duration": 11234,
    "start_time": "2023-02-14T21:27:04.302Z"
   },
   {
    "duration": 4,
    "start_time": "2023-02-14T21:27:23.314Z"
   },
   {
    "duration": 21,
    "start_time": "2023-02-14T21:28:05.977Z"
   },
   {
    "duration": 53,
    "start_time": "2023-02-14T21:28:11.581Z"
   },
   {
    "duration": 16,
    "start_time": "2023-02-14T21:28:13.246Z"
   },
   {
    "duration": 17,
    "start_time": "2023-02-14T21:28:26.924Z"
   },
   {
    "duration": 16,
    "start_time": "2023-02-14T21:28:30.645Z"
   },
   {
    "duration": 6347,
    "start_time": "2023-02-14T21:29:50.907Z"
   },
   {
    "duration": 2216,
    "start_time": "2023-02-14T21:30:28.130Z"
   },
   {
    "duration": 4481,
    "start_time": "2023-02-14T21:35:05.196Z"
   },
   {
    "duration": 4438,
    "start_time": "2023-02-14T21:38:00.808Z"
   },
   {
    "duration": 22,
    "start_time": "2023-02-14T21:38:24.187Z"
   },
   {
    "duration": 5,
    "start_time": "2023-02-14T21:38:35.525Z"
   },
   {
    "duration": 17,
    "start_time": "2023-02-14T21:38:41.148Z"
   },
   {
    "duration": 4361,
    "start_time": "2023-02-14T21:38:49.291Z"
   },
   {
    "duration": 57,
    "start_time": "2023-02-14T21:39:03.987Z"
   },
   {
    "duration": 4413,
    "start_time": "2023-02-14T21:39:08.047Z"
   },
   {
    "duration": 4271,
    "start_time": "2023-02-14T21:41:33.935Z"
   },
   {
    "duration": 174,
    "start_time": "2023-02-14T21:42:07.699Z"
   },
   {
    "duration": 1055,
    "start_time": "2023-02-14T21:42:24.986Z"
   },
   {
    "duration": 236,
    "start_time": "2023-02-14T21:42:38.175Z"
   },
   {
    "duration": 374,
    "start_time": "2023-02-14T21:43:16.072Z"
   },
   {
    "duration": 426,
    "start_time": "2023-02-14T21:43:59.376Z"
   },
   {
    "duration": 600,
    "start_time": "2023-02-14T21:44:27.892Z"
   },
   {
    "duration": 555,
    "start_time": "2023-02-14T21:44:35.839Z"
   },
   {
    "duration": 436,
    "start_time": "2023-02-14T21:44:46.614Z"
   },
   {
    "duration": 467,
    "start_time": "2023-02-14T21:52:24.512Z"
   },
   {
    "duration": 4,
    "start_time": "2023-02-14T21:54:32.478Z"
   },
   {
    "duration": 581,
    "start_time": "2023-02-14T21:56:03.684Z"
   },
   {
    "duration": 495,
    "start_time": "2023-02-14T21:58:11.829Z"
   },
   {
    "duration": 478,
    "start_time": "2023-02-14T22:03:14.224Z"
   },
   {
    "duration": 440,
    "start_time": "2023-02-14T22:03:43.682Z"
   },
   {
    "duration": 586,
    "start_time": "2023-02-14T22:03:55.912Z"
   },
   {
    "duration": 396,
    "start_time": "2023-02-14T22:05:18.392Z"
   },
   {
    "duration": 56,
    "start_time": "2023-02-14T22:05:27.277Z"
   },
   {
    "duration": 483,
    "start_time": "2023-02-14T22:05:35.903Z"
   },
   {
    "duration": 501,
    "start_time": "2023-02-14T22:09:03.742Z"
   },
   {
    "duration": 211,
    "start_time": "2023-02-14T22:17:35.196Z"
   },
   {
    "duration": 27,
    "start_time": "2023-02-14T22:19:37.138Z"
   },
   {
    "duration": 8,
    "start_time": "2023-02-14T22:19:49.987Z"
   },
   {
    "duration": 6,
    "start_time": "2023-02-14T22:20:21.983Z"
   },
   {
    "duration": 5,
    "start_time": "2023-02-14T22:21:22.314Z"
   },
   {
    "duration": 6,
    "start_time": "2023-02-14T22:21:24.250Z"
   },
   {
    "duration": 8,
    "start_time": "2023-02-14T22:23:16.681Z"
   },
   {
    "duration": 9,
    "start_time": "2023-02-14T22:23:27.679Z"
   },
   {
    "duration": 5,
    "start_time": "2023-02-14T22:23:31.370Z"
   },
   {
    "duration": 11,
    "start_time": "2023-02-14T22:26:37.177Z"
   },
   {
    "duration": 590,
    "start_time": "2023-02-14T22:27:04.929Z"
   },
   {
    "duration": 603,
    "start_time": "2023-02-14T22:27:45.372Z"
   },
   {
    "duration": 188,
    "start_time": "2023-02-14T22:32:35.684Z"
   },
   {
    "duration": 204,
    "start_time": "2023-02-14T22:32:53.438Z"
   },
   {
    "duration": 602,
    "start_time": "2023-02-14T22:33:19.676Z"
   },
   {
    "duration": 479,
    "start_time": "2023-02-14T22:36:58.388Z"
   },
   {
    "duration": 383,
    "start_time": "2023-02-14T22:38:10.244Z"
   },
   {
    "duration": 5,
    "start_time": "2023-02-14T23:07:04.202Z"
   },
   {
    "duration": 5,
    "start_time": "2023-02-14T23:07:04.852Z"
   },
   {
    "duration": 48,
    "start_time": "2023-02-14T23:07:05.503Z"
   },
   {
    "duration": 6,
    "start_time": "2023-02-14T23:07:13.412Z"
   },
   {
    "duration": 5,
    "start_time": "2023-02-14T23:07:14.214Z"
   },
   {
    "duration": 5,
    "start_time": "2023-02-14T23:09:28.194Z"
   },
   {
    "duration": 6,
    "start_time": "2023-02-14T23:09:52.893Z"
   },
   {
    "duration": 8,
    "start_time": "2023-02-14T23:10:28.410Z"
   },
   {
    "duration": 6,
    "start_time": "2023-02-14T23:10:31.201Z"
   },
   {
    "duration": 10,
    "start_time": "2023-02-14T23:10:43.081Z"
   },
   {
    "duration": 8,
    "start_time": "2023-02-14T23:11:04.686Z"
   },
   {
    "duration": 14,
    "start_time": "2023-02-14T23:11:08.047Z"
   },
   {
    "duration": 8,
    "start_time": "2023-02-14T23:11:15.364Z"
   },
   {
    "duration": 218,
    "start_time": "2023-02-14T23:18:09.205Z"
   },
   {
    "duration": 223,
    "start_time": "2023-02-14T23:18:30.373Z"
   },
   {
    "duration": 3,
    "start_time": "2023-02-14T23:19:20.541Z"
   },
   {
    "duration": 4,
    "start_time": "2023-02-14T23:19:21.063Z"
   },
   {
    "duration": 4,
    "start_time": "2023-02-14T23:19:22.454Z"
   },
   {
    "duration": 5,
    "start_time": "2023-02-14T23:19:23.144Z"
   },
   {
    "duration": 359,
    "start_time": "2023-02-14T23:19:38.039Z"
   },
   {
    "duration": 270,
    "start_time": "2023-02-14T23:19:54.336Z"
   },
   {
    "duration": 410,
    "start_time": "2023-02-14T23:21:49.765Z"
   },
   {
    "duration": 963,
    "start_time": "2023-02-14T23:23:24.669Z"
   },
   {
    "duration": 6,
    "start_time": "2023-02-14T23:33:13.581Z"
   },
   {
    "duration": 15,
    "start_time": "2023-02-14T23:33:37.660Z"
   },
   {
    "duration": 655,
    "start_time": "2023-02-14T23:37:22.006Z"
   },
   {
    "duration": 56,
    "start_time": "2023-02-14T23:37:37.086Z"
   },
   {
    "duration": 745,
    "start_time": "2023-02-14T23:37:42.107Z"
   },
   {
    "duration": 12,
    "start_time": "2023-02-14T23:38:06.152Z"
   },
   {
    "duration": 3,
    "start_time": "2023-02-14T23:38:33.276Z"
   },
   {
    "duration": 603,
    "start_time": "2023-02-14T23:38:33.974Z"
   },
   {
    "duration": 21,
    "start_time": "2023-02-14T23:38:34.579Z"
   },
   {
    "duration": 15,
    "start_time": "2023-02-14T23:38:35.137Z"
   },
   {
    "duration": 18,
    "start_time": "2023-02-14T23:38:36.156Z"
   },
   {
    "duration": 23,
    "start_time": "2023-02-14T23:38:36.676Z"
   },
   {
    "duration": 3,
    "start_time": "2023-02-14T23:38:37.245Z"
   },
   {
    "duration": 2,
    "start_time": "2023-02-14T23:38:37.765Z"
   },
   {
    "duration": 3,
    "start_time": "2023-02-14T23:38:37.799Z"
   },
   {
    "duration": 6,
    "start_time": "2023-02-14T23:38:37.830Z"
   },
   {
    "duration": 5,
    "start_time": "2023-02-14T23:38:37.865Z"
   },
   {
    "duration": 2,
    "start_time": "2023-02-14T23:38:37.901Z"
   },
   {
    "duration": 5,
    "start_time": "2023-02-14T23:38:37.932Z"
   },
   {
    "duration": 4,
    "start_time": "2023-02-14T23:38:37.969Z"
   },
   {
    "duration": 4,
    "start_time": "2023-02-14T23:38:39.335Z"
   },
   {
    "duration": 10229,
    "start_time": "2023-02-14T23:38:40.125Z"
   },
   {
    "duration": 4,
    "start_time": "2023-02-14T23:38:50.356Z"
   },
   {
    "duration": 122,
    "start_time": "2023-02-14T23:38:50.362Z"
   },
   {
    "duration": 130,
    "start_time": "2023-02-14T23:38:50.486Z"
   },
   {
    "duration": 120,
    "start_time": "2023-02-14T23:38:50.618Z"
   },
   {
    "duration": 112,
    "start_time": "2023-02-14T23:38:50.740Z"
   },
   {
    "duration": 116,
    "start_time": "2023-02-14T23:38:50.854Z"
   },
   {
    "duration": 111,
    "start_time": "2023-02-14T23:38:50.971Z"
   },
   {
    "duration": 114,
    "start_time": "2023-02-14T23:38:51.083Z"
   },
   {
    "duration": 25,
    "start_time": "2023-02-14T23:39:04.400Z"
   },
   {
    "duration": 15,
    "start_time": "2023-02-14T23:39:05.469Z"
   },
   {
    "duration": 7,
    "start_time": "2023-02-14T23:39:41.551Z"
   },
   {
    "duration": 4,
    "start_time": "2023-02-14T23:39:48.226Z"
   },
   {
    "duration": 716,
    "start_time": "2023-02-14T23:39:48.640Z"
   },
   {
    "duration": 0,
    "start_time": "2023-02-14T23:39:49.358Z"
   },
   {
    "duration": 772,
    "start_time": "2023-02-14T23:40:14.087Z"
   },
   {
    "duration": 3,
    "start_time": "2023-02-14T23:40:27.600Z"
   },
   {
    "duration": 626,
    "start_time": "2023-02-14T23:40:27.937Z"
   },
   {
    "duration": 17,
    "start_time": "2023-02-14T23:40:28.565Z"
   },
   {
    "duration": 13,
    "start_time": "2023-02-14T23:40:28.592Z"
   },
   {
    "duration": 19,
    "start_time": "2023-02-14T23:40:29.755Z"
   },
   {
    "duration": 2,
    "start_time": "2023-02-14T23:40:33.696Z"
   },
   {
    "duration": 2,
    "start_time": "2023-02-14T23:40:33.921Z"
   },
   {
    "duration": 3,
    "start_time": "2023-02-14T23:40:34.147Z"
   },
   {
    "duration": 5,
    "start_time": "2023-02-14T23:40:34.787Z"
   },
   {
    "duration": 3,
    "start_time": "2023-02-14T23:40:43.327Z"
   },
   {
    "duration": 10362,
    "start_time": "2023-02-14T23:40:43.815Z"
   },
   {
    "duration": 4,
    "start_time": "2023-02-14T23:40:54.179Z"
   },
   {
    "duration": 15,
    "start_time": "2023-02-14T23:40:58.165Z"
   },
   {
    "duration": 5,
    "start_time": "2023-02-14T23:41:09.561Z"
   },
   {
    "duration": 4,
    "start_time": "2023-02-14T23:41:10.065Z"
   },
   {
    "duration": 4,
    "start_time": "2023-02-14T23:41:12.927Z"
   },
   {
    "duration": 649,
    "start_time": "2023-02-14T23:41:17.328Z"
   },
   {
    "duration": 6,
    "start_time": "2023-02-14T23:41:38.693Z"
   },
   {
    "duration": 15,
    "start_time": "2023-02-14T23:42:15.393Z"
   },
   {
    "duration": 19,
    "start_time": "2023-02-14T23:48:07.634Z"
   },
   {
    "duration": 7,
    "start_time": "2023-02-14T23:48:41.828Z"
   },
   {
    "duration": 6,
    "start_time": "2023-02-14T23:49:24.391Z"
   },
   {
    "duration": 3,
    "start_time": "2023-02-14T23:52:52.832Z"
   },
   {
    "duration": 4,
    "start_time": "2023-02-14T23:53:11.503Z"
   },
   {
    "duration": 7,
    "start_time": "2023-02-14T23:54:14.969Z"
   },
   {
    "duration": 14,
    "start_time": "2023-02-15T00:01:12.047Z"
   },
   {
    "duration": 15,
    "start_time": "2023-02-15T00:43:58.949Z"
   },
   {
    "duration": 3,
    "start_time": "2023-02-15T00:44:05.399Z"
   },
   {
    "duration": 647,
    "start_time": "2023-02-15T00:44:06.290Z"
   },
   {
    "duration": 5,
    "start_time": "2023-02-15T00:44:18.431Z"
   },
   {
    "duration": 3,
    "start_time": "2023-02-15T00:44:23.119Z"
   },
   {
    "duration": 10042,
    "start_time": "2023-02-15T00:44:23.803Z"
   },
   {
    "duration": 10,
    "start_time": "2023-02-15T00:46:20.438Z"
   },
   {
    "duration": 3,
    "start_time": "2023-02-15T00:46:31.171Z"
   },
   {
    "duration": 16,
    "start_time": "2023-02-15T00:47:04.899Z"
   },
   {
    "duration": 5,
    "start_time": "2023-02-15T00:47:06.423Z"
   },
   {
    "duration": 14,
    "start_time": "2023-02-15T00:47:50.193Z"
   },
   {
    "duration": 4,
    "start_time": "2023-02-15T00:48:21.916Z"
   },
   {
    "duration": 420,
    "start_time": "2023-02-15T00:48:22.846Z"
   },
   {
    "duration": 504,
    "start_time": "2023-02-15T00:48:24.809Z"
   },
   {
    "duration": 380,
    "start_time": "2023-02-15T00:48:26.715Z"
   },
   {
    "duration": 344,
    "start_time": "2023-02-15T00:48:28.066Z"
   },
   {
    "duration": 10,
    "start_time": "2023-02-15T00:48:28.447Z"
   },
   {
    "duration": 4,
    "start_time": "2023-02-15T00:48:29.529Z"
   },
   {
    "duration": 345,
    "start_time": "2023-02-15T00:48:39.262Z"
   },
   {
    "duration": 5,
    "start_time": "2023-02-15T00:48:42.379Z"
   },
   {
    "duration": 5,
    "start_time": "2023-02-15T00:48:42.985Z"
   },
   {
    "duration": 4,
    "start_time": "2023-02-15T00:48:43.590Z"
   },
   {
    "duration": 724,
    "start_time": "2023-02-15T00:48:47.027Z"
   },
   {
    "duration": 5,
    "start_time": "2023-02-15T00:57:26.974Z"
   },
   {
    "duration": 5,
    "start_time": "2023-02-15T00:57:41.279Z"
   },
   {
    "duration": 3,
    "start_time": "2023-02-15T01:07:16.505Z"
   },
   {
    "duration": 7,
    "start_time": "2023-02-15T01:07:21.184Z"
   },
   {
    "duration": 8,
    "start_time": "2023-02-15T01:07:23.807Z"
   },
   {
    "duration": 9,
    "start_time": "2023-02-15T01:08:00.575Z"
   },
   {
    "duration": 4,
    "start_time": "2023-02-15T01:08:16.025Z"
   },
   {
    "duration": 5,
    "start_time": "2023-02-15T01:08:16.525Z"
   },
   {
    "duration": 4,
    "start_time": "2023-02-15T01:08:17.047Z"
   },
   {
    "duration": 670,
    "start_time": "2023-02-15T01:08:17.858Z"
   },
   {
    "duration": 8,
    "start_time": "2023-02-15T01:08:49.929Z"
   },
   {
    "duration": 4,
    "start_time": "2023-02-15T01:08:56.891Z"
   },
   {
    "duration": 755,
    "start_time": "2023-02-15T01:08:59.950Z"
   },
   {
    "duration": 6,
    "start_time": "2023-02-15T01:09:24.279Z"
   },
   {
    "duration": 5,
    "start_time": "2023-02-15T01:09:35.902Z"
   },
   {
    "duration": 5,
    "start_time": "2023-02-15T01:09:37.164Z"
   },
   {
    "duration": 611,
    "start_time": "2023-02-15T01:09:42.432Z"
   },
   {
    "duration": 5,
    "start_time": "2023-02-15T01:12:30.936Z"
   },
   {
    "duration": 3,
    "start_time": "2023-02-15T01:12:38.993Z"
   },
   {
    "duration": 737,
    "start_time": "2023-02-15T01:12:44.595Z"
   },
   {
    "duration": 3,
    "start_time": "2023-02-15T01:12:59.129Z"
   },
   {
    "duration": 668,
    "start_time": "2023-02-15T01:12:59.860Z"
   },
   {
    "duration": 18,
    "start_time": "2023-02-15T01:13:00.687Z"
   },
   {
    "duration": 16,
    "start_time": "2023-02-15T01:13:01.206Z"
   },
   {
    "duration": 18,
    "start_time": "2023-02-15T01:13:01.237Z"
   },
   {
    "duration": 25,
    "start_time": "2023-02-15T01:13:01.272Z"
   },
   {
    "duration": 3,
    "start_time": "2023-02-15T01:13:01.411Z"
   },
   {
    "duration": 3,
    "start_time": "2023-02-15T01:13:02.338Z"
   },
   {
    "duration": 3,
    "start_time": "2023-02-15T01:13:02.857Z"
   },
   {
    "duration": 4,
    "start_time": "2023-02-15T01:13:02.887Z"
   },
   {
    "duration": 6,
    "start_time": "2023-02-15T01:13:02.924Z"
   },
   {
    "duration": 2,
    "start_time": "2023-02-15T01:13:02.956Z"
   },
   {
    "duration": 5,
    "start_time": "2023-02-15T01:13:02.995Z"
   },
   {
    "duration": 5,
    "start_time": "2023-02-15T01:13:03.020Z"
   },
   {
    "duration": 4,
    "start_time": "2023-02-15T01:13:03.895Z"
   },
   {
    "duration": 10476,
    "start_time": "2023-02-15T01:13:04.416Z"
   },
   {
    "duration": 11,
    "start_time": "2023-02-15T01:13:14.894Z"
   },
   {
    "duration": 0,
    "start_time": "2023-02-15T01:13:14.906Z"
   },
   {
    "duration": 0,
    "start_time": "2023-02-15T01:13:14.907Z"
   },
   {
    "duration": 0,
    "start_time": "2023-02-15T01:13:14.908Z"
   },
   {
    "duration": 0,
    "start_time": "2023-02-15T01:13:14.909Z"
   },
   {
    "duration": 16,
    "start_time": "2023-02-15T01:13:18.153Z"
   },
   {
    "duration": 4,
    "start_time": "2023-02-15T01:13:29.882Z"
   },
   {
    "duration": 5,
    "start_time": "2023-02-15T01:13:39.001Z"
   },
   {
    "duration": 4,
    "start_time": "2023-02-15T01:13:39.479Z"
   },
   {
    "duration": 645,
    "start_time": "2023-02-15T01:13:40.136Z"
   },
   {
    "duration": 7,
    "start_time": "2023-02-15T01:14:18.464Z"
   },
   {
    "duration": 8,
    "start_time": "2023-02-15T01:14:23.221Z"
   },
   {
    "duration": 8,
    "start_time": "2023-02-15T01:14:23.706Z"
   },
   {
    "duration": 4,
    "start_time": "2023-02-15T01:14:27.358Z"
   },
   {
    "duration": 4,
    "start_time": "2023-02-15T01:14:27.824Z"
   },
   {
    "duration": 5,
    "start_time": "2023-02-15T01:14:28.296Z"
   },
   {
    "duration": 752,
    "start_time": "2023-02-15T01:14:29.200Z"
   },
   {
    "duration": 6,
    "start_time": "2023-02-15T01:14:50.126Z"
   },
   {
    "duration": 7,
    "start_time": "2023-02-15T01:15:23.112Z"
   },
   {
    "duration": 12,
    "start_time": "2023-02-15T01:33:32.377Z"
   },
   {
    "duration": 6,
    "start_time": "2023-02-15T01:36:24.474Z"
   },
   {
    "duration": 12,
    "start_time": "2023-02-15T01:36:48.608Z"
   },
   {
    "duration": 15,
    "start_time": "2023-02-15T01:37:41.901Z"
   },
   {
    "duration": 46,
    "start_time": "2023-02-15T01:39:32.524Z"
   },
   {
    "duration": 635,
    "start_time": "2023-02-15T01:39:33.103Z"
   },
   {
    "duration": 18,
    "start_time": "2023-02-15T01:39:34.051Z"
   },
   {
    "duration": 12,
    "start_time": "2023-02-15T01:39:34.709Z"
   },
   {
    "duration": 18,
    "start_time": "2023-02-15T01:39:49.799Z"
   },
   {
    "duration": 3,
    "start_time": "2023-02-15T01:40:04.562Z"
   },
   {
    "duration": 3,
    "start_time": "2023-02-15T01:40:29.658Z"
   },
   {
    "duration": 10017,
    "start_time": "2023-02-15T01:40:37.909Z"
   },
   {
    "duration": 3,
    "start_time": "2023-02-15T01:40:51.255Z"
   },
   {
    "duration": 14,
    "start_time": "2023-02-15T01:42:48.403Z"
   },
   {
    "duration": 5,
    "start_time": "2023-02-15T01:42:50.685Z"
   },
   {
    "duration": 4,
    "start_time": "2023-02-15T01:42:54.163Z"
   },
   {
    "duration": 28,
    "start_time": "2023-02-15T01:43:00.289Z"
   },
   {
    "duration": 16,
    "start_time": "2023-02-15T01:43:03.652Z"
   },
   {
    "duration": 5,
    "start_time": "2023-02-15T01:43:07.706Z"
   },
   {
    "duration": 379,
    "start_time": "2023-02-15T01:43:08.270Z"
   },
   {
    "duration": 382,
    "start_time": "2023-02-15T01:43:23.435Z"
   },
   {
    "duration": 465,
    "start_time": "2023-02-15T01:43:29.342Z"
   },
   {
    "duration": 344,
    "start_time": "2023-02-15T01:43:33.965Z"
   },
   {
    "duration": 361,
    "start_time": "2023-02-15T01:43:39.931Z"
   },
   {
    "duration": 4,
    "start_time": "2023-02-15T01:43:51.753Z"
   },
   {
    "duration": 4,
    "start_time": "2023-02-15T01:43:52.280Z"
   },
   {
    "duration": 4,
    "start_time": "2023-02-15T01:43:52.798Z"
   },
   {
    "duration": 732,
    "start_time": "2023-02-15T01:43:53.546Z"
   },
   {
    "duration": 8,
    "start_time": "2023-02-15T01:43:59.672Z"
   },
   {
    "duration": 9,
    "start_time": "2023-02-15T01:44:00.299Z"
   },
   {
    "duration": 8,
    "start_time": "2023-02-15T01:44:00.947Z"
   },
   {
    "duration": 7,
    "start_time": "2023-02-15T01:44:04.038Z"
   },
   {
    "duration": 80,
    "start_time": "2023-02-15T01:44:29.977Z"
   },
   {
    "duration": 6,
    "start_time": "2023-02-15T01:44:36.563Z"
   },
   {
    "duration": 18,
    "start_time": "2023-02-15T01:44:41.725Z"
   },
   {
    "duration": 4,
    "start_time": "2023-02-15T01:45:53.459Z"
   },
   {
    "duration": 17,
    "start_time": "2023-02-15T01:45:54.980Z"
   },
   {
    "duration": 3,
    "start_time": "2023-02-15T01:48:50.441Z"
   },
   {
    "duration": 700,
    "start_time": "2023-02-15T01:48:51.089Z"
   },
   {
    "duration": 16,
    "start_time": "2023-02-15T01:48:51.791Z"
   },
   {
    "duration": 13,
    "start_time": "2023-02-15T01:48:51.840Z"
   },
   {
    "duration": 18,
    "start_time": "2023-02-15T01:48:52.029Z"
   },
   {
    "duration": 24,
    "start_time": "2023-02-15T01:48:52.374Z"
   },
   {
    "duration": 3,
    "start_time": "2023-02-15T01:48:53.871Z"
   },
   {
    "duration": 3,
    "start_time": "2023-02-15T01:48:54.060Z"
   },
   {
    "duration": 2,
    "start_time": "2023-02-15T01:48:54.210Z"
   },
   {
    "duration": 4,
    "start_time": "2023-02-15T01:48:54.322Z"
   },
   {
    "duration": 6,
    "start_time": "2023-02-15T01:48:54.549Z"
   },
   {
    "duration": 2,
    "start_time": "2023-02-15T01:48:54.888Z"
   },
   {
    "duration": 5,
    "start_time": "2023-02-15T01:48:55.076Z"
   },
   {
    "duration": 4,
    "start_time": "2023-02-15T01:48:55.225Z"
   },
   {
    "duration": 3,
    "start_time": "2023-02-15T01:48:56.166Z"
   },
   {
    "duration": 10478,
    "start_time": "2023-02-15T01:48:56.390Z"
   },
   {
    "duration": 3,
    "start_time": "2023-02-15T01:49:06.870Z"
   },
   {
    "duration": 16,
    "start_time": "2023-02-15T01:49:20.942Z"
   },
   {
    "duration": 14,
    "start_time": "2023-02-15T01:49:39.917Z"
   },
   {
    "duration": 18,
    "start_time": "2023-02-15T01:57:31.100Z"
   },
   {
    "duration": 4,
    "start_time": "2023-02-15T01:58:00.673Z"
   },
   {
    "duration": 6,
    "start_time": "2023-02-15T01:58:05.625Z"
   },
   {
    "duration": 5,
    "start_time": "2023-02-15T01:58:32.978Z"
   },
   {
    "duration": 7,
    "start_time": "2023-02-15T01:58:47.727Z"
   },
   {
    "duration": 5,
    "start_time": "2023-02-15T02:01:02.520Z"
   },
   {
    "duration": 4,
    "start_time": "2023-02-15T02:03:06.784Z"
   },
   {
    "duration": 14,
    "start_time": "2023-02-15T02:03:07.615Z"
   },
   {
    "duration": 4,
    "start_time": "2023-02-15T02:03:23.217Z"
   },
   {
    "duration": 14,
    "start_time": "2023-02-15T02:03:47.379Z"
   },
   {
    "duration": 9,
    "start_time": "2023-02-15T02:04:14.846Z"
   },
   {
    "duration": 8,
    "start_time": "2023-02-15T02:04:15.411Z"
   },
   {
    "duration": 8,
    "start_time": "2023-02-15T02:04:16.012Z"
   },
   {
    "duration": 7,
    "start_time": "2023-02-15T02:04:20.138Z"
   },
   {
    "duration": 4,
    "start_time": "2023-02-15T02:04:20.565Z"
   },
   {
    "duration": 60,
    "start_time": "2023-02-15T02:04:22.789Z"
   },
   {
    "duration": 5,
    "start_time": "2023-02-15T02:04:31.062Z"
   },
   {
    "duration": 3,
    "start_time": "2023-02-15T02:04:36.635Z"
   },
   {
    "duration": 12,
    "start_time": "2023-02-15T02:05:19.928Z"
   },
   {
    "duration": 8,
    "start_time": "2023-02-15T02:05:31.599Z"
   },
   {
    "duration": 16,
    "start_time": "2023-02-15T02:06:34.837Z"
   },
   {
    "duration": 14,
    "start_time": "2023-02-15T02:07:52.355Z"
   },
   {
    "duration": 631,
    "start_time": "2023-02-15T02:08:07.030Z"
   },
   {
    "duration": 4,
    "start_time": "2023-02-15T02:08:16.003Z"
   },
   {
    "duration": 4,
    "start_time": "2023-02-15T02:08:20.129Z"
   },
   {
    "duration": 10028,
    "start_time": "2023-02-15T02:08:20.748Z"
   },
   {
    "duration": 15,
    "start_time": "2023-02-15T02:08:32.162Z"
   },
   {
    "duration": 6,
    "start_time": "2023-02-15T02:08:33.023Z"
   },
   {
    "duration": 5,
    "start_time": "2023-02-15T02:08:36.009Z"
   },
   {
    "duration": 5,
    "start_time": "2023-02-15T02:08:39.582Z"
   },
   {
    "duration": 14,
    "start_time": "2023-02-15T02:08:43.768Z"
   },
   {
    "duration": 8,
    "start_time": "2023-02-15T02:08:55.288Z"
   },
   {
    "duration": 11,
    "start_time": "2023-02-15T02:08:55.756Z"
   },
   {
    "duration": 10,
    "start_time": "2023-02-15T02:08:56.306Z"
   },
   {
    "duration": 14,
    "start_time": "2023-02-15T02:09:01.348Z"
   },
   {
    "duration": 4,
    "start_time": "2023-02-15T02:09:24.511Z"
   },
   {
    "duration": 14,
    "start_time": "2023-02-15T02:09:41.379Z"
   },
   {
    "duration": 15,
    "start_time": "2023-02-15T02:11:17.741Z"
   },
   {
    "duration": 5,
    "start_time": "2023-02-15T02:15:08.870Z"
   },
   {
    "duration": 14,
    "start_time": "2023-02-15T02:15:21.473Z"
   },
   {
    "duration": 12,
    "start_time": "2023-02-15T02:16:24.359Z"
   },
   {
    "duration": 641,
    "start_time": "2023-02-15T02:16:34.760Z"
   },
   {
    "duration": 3,
    "start_time": "2023-02-15T02:16:44.231Z"
   },
   {
    "duration": 4,
    "start_time": "2023-02-15T02:16:48.461Z"
   },
   {
    "duration": 10126,
    "start_time": "2023-02-15T02:16:48.987Z"
   },
   {
    "duration": 4,
    "start_time": "2023-02-15T02:16:59.115Z"
   },
   {
    "duration": 15,
    "start_time": "2023-02-15T02:17:02.892Z"
   },
   {
    "duration": 7,
    "start_time": "2023-02-15T02:17:04.577Z"
   },
   {
    "duration": 5,
    "start_time": "2023-02-15T02:17:05.374Z"
   },
   {
    "duration": 5,
    "start_time": "2023-02-15T02:17:08.092Z"
   },
   {
    "duration": 15,
    "start_time": "2023-02-15T02:17:13.311Z"
   },
   {
    "duration": 8,
    "start_time": "2023-02-15T02:17:23.005Z"
   },
   {
    "duration": 9,
    "start_time": "2023-02-15T02:17:25.111Z"
   },
   {
    "duration": 10,
    "start_time": "2023-02-15T02:17:26.162Z"
   },
   {
    "duration": 5,
    "start_time": "2023-02-15T02:17:36.905Z"
   },
   {
    "duration": 15,
    "start_time": "2023-02-15T02:19:23.793Z"
   },
   {
    "duration": 13,
    "start_time": "2023-02-15T02:19:57.114Z"
   },
   {
    "duration": 7,
    "start_time": "2023-02-15T02:20:18.579Z"
   },
   {
    "duration": 4,
    "start_time": "2023-02-15T02:20:20.065Z"
   },
   {
    "duration": 4,
    "start_time": "2023-02-15T02:20:20.655Z"
   },
   {
    "duration": 4,
    "start_time": "2023-02-15T02:20:22.130Z"
   },
   {
    "duration": 17,
    "start_time": "2023-02-15T02:20:23.382Z"
   },
   {
    "duration": 27,
    "start_time": "2023-02-15T02:21:14.816Z"
   },
   {
    "duration": 24,
    "start_time": "2023-02-15T02:21:21.804Z"
   },
   {
    "duration": 49,
    "start_time": "2023-02-15T02:21:27.294Z"
   },
   {
    "duration": 5,
    "start_time": "2023-02-15T02:23:30.845Z"
   },
   {
    "duration": 4,
    "start_time": "2023-02-15T02:23:40.125Z"
   },
   {
    "duration": 4,
    "start_time": "2023-02-15T02:23:41.244Z"
   },
   {
    "duration": 28,
    "start_time": "2023-02-15T02:23:46.566Z"
   },
   {
    "duration": 612,
    "start_time": "2023-02-15T02:25:10.393Z"
   },
   {
    "duration": 18,
    "start_time": "2023-02-15T02:25:12.039Z"
   },
   {
    "duration": 14,
    "start_time": "2023-02-15T02:25:12.981Z"
   },
   {
    "duration": 19,
    "start_time": "2023-02-15T02:25:13.284Z"
   },
   {
    "duration": 26,
    "start_time": "2023-02-15T02:25:13.473Z"
   },
   {
    "duration": 3,
    "start_time": "2023-02-15T02:25:15.089Z"
   },
   {
    "duration": 3,
    "start_time": "2023-02-15T02:25:15.427Z"
   },
   {
    "duration": 3,
    "start_time": "2023-02-15T02:25:15.879Z"
   },
   {
    "duration": 5,
    "start_time": "2023-02-15T02:25:16.029Z"
   },
   {
    "duration": 6,
    "start_time": "2023-02-15T02:25:16.217Z"
   },
   {
    "duration": 3,
    "start_time": "2023-02-15T02:25:16.329Z"
   },
   {
    "duration": 6,
    "start_time": "2023-02-15T02:25:17.346Z"
   },
   {
    "duration": 5,
    "start_time": "2023-02-15T02:25:17.721Z"
   },
   {
    "duration": 4,
    "start_time": "2023-02-15T02:25:19.339Z"
   },
   {
    "duration": 10218,
    "start_time": "2023-02-15T02:25:19.949Z"
   },
   {
    "duration": 4,
    "start_time": "2023-02-15T02:25:35.458Z"
   },
   {
    "duration": 16,
    "start_time": "2023-02-15T02:25:36.485Z"
   },
   {
    "duration": 6,
    "start_time": "2023-02-15T02:25:38.852Z"
   },
   {
    "duration": 4,
    "start_time": "2023-02-15T02:25:39.250Z"
   },
   {
    "duration": 5,
    "start_time": "2023-02-15T02:25:39.605Z"
   },
   {
    "duration": 13,
    "start_time": "2023-02-15T02:25:44.154Z"
   },
   {
    "duration": 8,
    "start_time": "2023-02-15T02:25:50.910Z"
   },
   {
    "duration": 7,
    "start_time": "2023-02-15T02:25:51.174Z"
   },
   {
    "duration": 8,
    "start_time": "2023-02-15T02:25:51.361Z"
   },
   {
    "duration": 7,
    "start_time": "2023-02-15T02:25:52.340Z"
   },
   {
    "duration": 5,
    "start_time": "2023-02-15T02:25:53.316Z"
   },
   {
    "duration": 6,
    "start_time": "2023-02-15T02:25:57.393Z"
   },
   {
    "duration": 4,
    "start_time": "2023-02-15T02:25:57.581Z"
   },
   {
    "duration": 4,
    "start_time": "2023-02-15T02:25:57.845Z"
   },
   {
    "duration": 4,
    "start_time": "2023-02-15T02:25:58.449Z"
   },
   {
    "duration": 34,
    "start_time": "2023-02-15T02:26:00.433Z"
   },
   {
    "duration": 3,
    "start_time": "2023-02-15T02:29:36.996Z"
   },
   {
    "duration": 28,
    "start_time": "2023-02-15T02:29:44.107Z"
   },
   {
    "duration": 13,
    "start_time": "2023-02-15T02:33:28.729Z"
   },
   {
    "duration": 1293,
    "start_time": "2023-02-15T02:34:58.894Z"
   },
   {
    "duration": 700,
    "start_time": "2023-02-15T02:35:01.331Z"
   },
   {
    "duration": 17,
    "start_time": "2023-02-15T02:35:02.033Z"
   },
   {
    "duration": 14,
    "start_time": "2023-02-15T02:35:02.583Z"
   },
   {
    "duration": 17,
    "start_time": "2023-02-15T02:35:02.834Z"
   },
   {
    "duration": 30,
    "start_time": "2023-02-15T02:35:03.182Z"
   },
   {
    "duration": 3,
    "start_time": "2023-02-15T02:35:04.386Z"
   },
   {
    "duration": 3,
    "start_time": "2023-02-15T02:35:04.758Z"
   },
   {
    "duration": 3,
    "start_time": "2023-02-15T02:35:04.937Z"
   },
   {
    "duration": 5,
    "start_time": "2023-02-15T02:35:05.099Z"
   },
   {
    "duration": 6,
    "start_time": "2023-02-15T02:35:05.431Z"
   },
   {
    "duration": 3,
    "start_time": "2023-02-15T02:35:05.782Z"
   },
   {
    "duration": 6,
    "start_time": "2023-02-15T02:35:05.919Z"
   },
   {
    "duration": 5,
    "start_time": "2023-02-15T02:35:06.182Z"
   },
   {
    "duration": 3,
    "start_time": "2023-02-15T02:35:07.767Z"
   },
   {
    "duration": 9872,
    "start_time": "2023-02-15T02:35:08.219Z"
   },
   {
    "duration": 4,
    "start_time": "2023-02-15T02:35:18.093Z"
   },
   {
    "duration": 14,
    "start_time": "2023-02-15T02:35:20.659Z"
   },
   {
    "duration": 7,
    "start_time": "2023-02-15T02:35:21.366Z"
   },
   {
    "duration": 50,
    "start_time": "2023-02-15T02:35:22.442Z"
   },
   {
    "duration": 4,
    "start_time": "2023-02-15T02:35:22.718Z"
   },
   {
    "duration": 131,
    "start_time": "2023-02-15T02:35:23.917Z"
   },
   {
    "duration": 120,
    "start_time": "2023-02-15T02:35:24.115Z"
   },
   {
    "duration": 118,
    "start_time": "2023-02-15T02:35:24.282Z"
   },
   {
    "duration": 121,
    "start_time": "2023-02-15T02:35:24.405Z"
   },
   {
    "duration": 120,
    "start_time": "2023-02-15T02:35:25.670Z"
   },
   {
    "duration": 149,
    "start_time": "2023-02-15T02:35:25.867Z"
   },
   {
    "duration": 126,
    "start_time": "2023-02-15T02:35:26.271Z"
   },
   {
    "duration": 115,
    "start_time": "2023-02-15T02:35:26.959Z"
   },
   {
    "duration": 131,
    "start_time": "2023-02-15T02:35:27.106Z"
   },
   {
    "duration": 13,
    "start_time": "2023-02-15T02:35:27.437Z"
   },
   {
    "duration": 26,
    "start_time": "2023-02-15T02:35:28.242Z"
   },
   {
    "duration": 13,
    "start_time": "2023-02-15T02:35:29.164Z"
   },
   {
    "duration": 4,
    "start_time": "2023-02-15T02:35:30.294Z"
   },
   {
    "duration": 413,
    "start_time": "2023-02-15T02:35:30.529Z"
   },
   {
    "duration": 450,
    "start_time": "2023-02-15T02:35:31.835Z"
   },
   {
    "duration": 388,
    "start_time": "2023-02-15T02:35:36.446Z"
   },
   {
    "duration": 350,
    "start_time": "2023-02-15T02:35:37.810Z"
   },
   {
    "duration": 350,
    "start_time": "2023-02-15T02:35:38.267Z"
   },
   {
    "duration": 4,
    "start_time": "2023-02-15T02:35:40.327Z"
   },
   {
    "duration": 4,
    "start_time": "2023-02-15T02:35:41.040Z"
   },
   {
    "duration": 4,
    "start_time": "2023-02-15T02:35:41.502Z"
   },
   {
    "duration": 701,
    "start_time": "2023-02-15T02:35:42.213Z"
   },
   {
    "duration": 7,
    "start_time": "2023-02-15T02:35:43.219Z"
   },
   {
    "duration": 10,
    "start_time": "2023-02-15T02:35:43.821Z"
   },
   {
    "duration": 12,
    "start_time": "2023-02-15T02:35:44.422Z"
   },
   {
    "duration": 10,
    "start_time": "2023-02-15T02:35:44.966Z"
   },
   {
    "duration": 13,
    "start_time": "2023-02-15T02:35:45.866Z"
   },
   {
    "duration": 5,
    "start_time": "2023-02-15T02:35:46.382Z"
   },
   {
    "duration": 6,
    "start_time": "2023-02-15T02:36:02.005Z"
   },
   {
    "duration": 4,
    "start_time": "2023-02-15T02:36:02.490Z"
   },
   {
    "duration": 114,
    "start_time": "2023-02-15T02:36:02.978Z"
   },
   {
    "duration": 4,
    "start_time": "2023-02-15T02:37:05.616Z"
   },
   {
    "duration": 5,
    "start_time": "2023-02-15T02:37:10.789Z"
   },
   {
    "duration": 4,
    "start_time": "2023-02-15T02:37:13.385Z"
   },
   {
    "duration": 36,
    "start_time": "2023-02-15T02:37:15.420Z"
   },
   {
    "duration": 3,
    "start_time": "2023-02-15T02:44:54.622Z"
   },
   {
    "duration": 29,
    "start_time": "2023-02-15T02:45:11.532Z"
   },
   {
    "duration": 9891,
    "start_time": "2023-02-15T02:45:57.981Z"
   },
   {
    "duration": 36,
    "start_time": "2023-02-15T02:46:15.605Z"
   },
   {
    "duration": 9,
    "start_time": "2023-02-15T02:51:45.034Z"
   },
   {
    "duration": 1971,
    "start_time": "2023-02-15T02:52:15.330Z"
   },
   {
    "duration": 34,
    "start_time": "2023-02-15T02:52:27.295Z"
   },
   {
    "duration": 206,
    "start_time": "2023-02-15T02:52:32.287Z"
   },
   {
    "duration": 281,
    "start_time": "2023-02-15T02:52:58.711Z"
   },
   {
    "duration": 10,
    "start_time": "2023-02-15T02:53:34.589Z"
   },
   {
    "duration": 16,
    "start_time": "2023-02-15T02:54:20.217Z"
   },
   {
    "duration": 18,
    "start_time": "2023-02-15T02:54:41.451Z"
   },
   {
    "duration": 218,
    "start_time": "2023-02-15T02:54:46.479Z"
   },
   {
    "duration": 8,
    "start_time": "2023-02-15T02:55:48.787Z"
   },
   {
    "duration": 657,
    "start_time": "2023-02-15T02:56:27.767Z"
   },
   {
    "duration": 17,
    "start_time": "2023-02-15T02:56:28.426Z"
   },
   {
    "duration": 13,
    "start_time": "2023-02-15T02:56:28.444Z"
   },
   {
    "duration": 18,
    "start_time": "2023-02-15T02:56:28.767Z"
   },
   {
    "duration": 24,
    "start_time": "2023-02-15T02:56:28.974Z"
   },
   {
    "duration": 3,
    "start_time": "2023-02-15T02:56:30.384Z"
   },
   {
    "duration": 2,
    "start_time": "2023-02-15T02:56:31.068Z"
   },
   {
    "duration": 3,
    "start_time": "2023-02-15T02:56:31.216Z"
   },
   {
    "duration": 5,
    "start_time": "2023-02-15T02:56:31.479Z"
   },
   {
    "duration": 7,
    "start_time": "2023-02-15T02:56:31.998Z"
   },
   {
    "duration": 3,
    "start_time": "2023-02-15T02:56:32.462Z"
   },
   {
    "duration": 6,
    "start_time": "2023-02-15T02:56:32.979Z"
   },
   {
    "duration": 4,
    "start_time": "2023-02-15T02:56:33.009Z"
   },
   {
    "duration": 4,
    "start_time": "2023-02-15T02:56:39.159Z"
   },
   {
    "duration": 10010,
    "start_time": "2023-02-15T02:56:39.495Z"
   },
   {
    "duration": 4,
    "start_time": "2023-02-15T02:56:49.507Z"
   },
   {
    "duration": 15,
    "start_time": "2023-02-15T02:56:51.179Z"
   },
   {
    "duration": 6,
    "start_time": "2023-02-15T02:56:53.813Z"
   },
   {
    "duration": 4,
    "start_time": "2023-02-15T02:56:55.026Z"
   },
   {
    "duration": 5,
    "start_time": "2023-02-15T02:56:55.435Z"
   },
   {
    "duration": 16,
    "start_time": "2023-02-15T02:57:00.221Z"
   },
   {
    "duration": 9,
    "start_time": "2023-02-15T02:57:36.777Z"
   },
   {
    "duration": 9,
    "start_time": "2023-02-15T02:57:37.473Z"
   },
   {
    "duration": 8,
    "start_time": "2023-02-15T02:57:38.175Z"
   },
   {
    "duration": 7,
    "start_time": "2023-02-15T02:57:39.970Z"
   },
   {
    "duration": 5,
    "start_time": "2023-02-15T02:57:40.733Z"
   },
   {
    "duration": 6,
    "start_time": "2023-02-15T02:57:47.672Z"
   },
   {
    "duration": 4,
    "start_time": "2023-02-15T02:57:48.133Z"
   },
   {
    "duration": 5,
    "start_time": "2023-02-15T02:57:48.899Z"
   },
   {
    "duration": 3,
    "start_time": "2023-02-15T02:57:53.273Z"
   },
   {
    "duration": 15,
    "start_time": "2023-02-15T02:57:55.267Z"
   },
   {
    "duration": 670,
    "start_time": "2023-02-15T02:59:21.627Z"
   },
   {
    "duration": 4,
    "start_time": "2023-02-15T02:59:32.626Z"
   },
   {
    "duration": 10271,
    "start_time": "2023-02-15T02:59:33.429Z"
   },
   {
    "duration": 3,
    "start_time": "2023-02-15T02:59:44.513Z"
   },
   {
    "duration": 15,
    "start_time": "2023-02-15T02:59:47.504Z"
   },
   {
    "duration": 7,
    "start_time": "2023-02-15T02:59:48.092Z"
   },
   {
    "duration": 4,
    "start_time": "2023-02-15T02:59:48.689Z"
   },
   {
    "duration": 5,
    "start_time": "2023-02-15T02:59:49.398Z"
   },
   {
    "duration": 14,
    "start_time": "2023-02-15T03:00:29.896Z"
   },
   {
    "duration": 9,
    "start_time": "2023-02-15T03:00:52.777Z"
   },
   {
    "duration": 9,
    "start_time": "2023-02-15T03:00:53.285Z"
   },
   {
    "duration": 9,
    "start_time": "2023-02-15T03:00:53.803Z"
   },
   {
    "duration": 3,
    "start_time": "2023-02-15T03:00:57.347Z"
   },
   {
    "duration": 8,
    "start_time": "2023-02-15T03:01:05.834Z"
   },
   {
    "duration": 14,
    "start_time": "2023-02-15T03:01:06.506Z"
   },
   {
    "duration": 6,
    "start_time": "2023-02-15T03:01:45.329Z"
   },
   {
    "duration": 7,
    "start_time": "2023-02-15T03:02:03.308Z"
   },
   {
    "duration": 15,
    "start_time": "2023-02-15T03:02:22.371Z"
   },
   {
    "duration": 15,
    "start_time": "2023-02-15T03:02:35.584Z"
   },
   {
    "duration": 5,
    "start_time": "2023-02-15T03:02:53.890Z"
   },
   {
    "duration": 4,
    "start_time": "2023-02-15T03:02:54.713Z"
   },
   {
    "duration": 4,
    "start_time": "2023-02-15T03:02:55.517Z"
   },
   {
    "duration": 4,
    "start_time": "2023-02-15T03:02:56.598Z"
   },
   {
    "duration": 22,
    "start_time": "2023-02-15T03:03:27.112Z"
   },
   {
    "duration": 163,
    "start_time": "2023-02-15T03:03:30.030Z"
   },
   {
    "duration": 10,
    "start_time": "2023-02-15T03:03:31.867Z"
   },
   {
    "duration": 12,
    "start_time": "2023-02-15T03:03:40.826Z"
   },
   {
    "duration": 6,
    "start_time": "2023-02-15T03:03:48.064Z"
   },
   {
    "duration": 27,
    "start_time": "2023-02-15T03:11:26.474Z"
   },
   {
    "duration": 18,
    "start_time": "2023-02-15T03:14:48.536Z"
   },
   {
    "duration": 11,
    "start_time": "2023-02-15T03:15:21.778Z"
   },
   {
    "duration": 2216,
    "start_time": "2023-02-15T03:16:43.008Z"
   },
   {
    "duration": 95,
    "start_time": "2023-02-15T03:16:49.571Z"
   },
   {
    "duration": 2373419,
    "start_time": "2023-02-15T03:17:04.692Z"
   },
   {
    "duration": 3390,
    "start_time": "2023-02-15T04:05:36.842Z"
   },
   {
    "duration": 777,
    "start_time": "2023-02-15T04:05:42.222Z"
   },
   {
    "duration": 28,
    "start_time": "2023-02-15T04:05:43.005Z"
   },
   {
    "duration": 13,
    "start_time": "2023-02-15T04:05:43.132Z"
   },
   {
    "duration": 18,
    "start_time": "2023-02-15T04:05:43.163Z"
   },
   {
    "duration": 43,
    "start_time": "2023-02-15T04:05:43.224Z"
   },
   {
    "duration": 3,
    "start_time": "2023-02-15T04:05:43.333Z"
   },
   {
    "duration": 2,
    "start_time": "2023-02-15T04:05:43.361Z"
   },
   {
    "duration": 5,
    "start_time": "2023-02-15T04:05:43.416Z"
   },
   {
    "duration": 11,
    "start_time": "2023-02-15T04:05:43.433Z"
   },
   {
    "duration": 7,
    "start_time": "2023-02-15T04:05:43.462Z"
   },
   {
    "duration": 8,
    "start_time": "2023-02-15T04:05:43.511Z"
   },
   {
    "duration": 10,
    "start_time": "2023-02-15T04:05:43.538Z"
   },
   {
    "duration": 5,
    "start_time": "2023-02-15T04:05:43.565Z"
   },
   {
    "duration": 11,
    "start_time": "2023-02-15T04:05:46.488Z"
   },
   {
    "duration": 11651,
    "start_time": "2023-02-15T04:05:47.089Z"
   },
   {
    "duration": 8,
    "start_time": "2023-02-15T04:06:00.219Z"
   },
   {
    "duration": 19,
    "start_time": "2023-02-15T04:06:01.420Z"
   },
   {
    "duration": 7,
    "start_time": "2023-02-15T04:06:01.776Z"
   },
   {
    "duration": 4,
    "start_time": "2023-02-15T04:06:02.036Z"
   },
   {
    "duration": 5,
    "start_time": "2023-02-15T04:06:02.335Z"
   },
   {
    "duration": 137,
    "start_time": "2023-02-15T04:06:03.627Z"
   },
   {
    "duration": 152,
    "start_time": "2023-02-15T04:06:03.876Z"
   },
   {
    "duration": 138,
    "start_time": "2023-02-15T04:06:04.329Z"
   },
   {
    "duration": 144,
    "start_time": "2023-02-15T04:06:04.550Z"
   },
   {
    "duration": 169,
    "start_time": "2023-02-15T04:06:06.282Z"
   },
   {
    "duration": 158,
    "start_time": "2023-02-15T04:06:06.475Z"
   },
   {
    "duration": 146,
    "start_time": "2023-02-15T04:06:06.635Z"
   },
   {
    "duration": 157,
    "start_time": "2023-02-15T04:06:06.783Z"
   },
   {
    "duration": 164,
    "start_time": "2023-02-15T04:06:06.942Z"
   },
   {
    "duration": 24,
    "start_time": "2023-02-15T04:06:07.120Z"
   },
   {
    "duration": 31,
    "start_time": "2023-02-15T04:06:07.905Z"
   },
   {
    "duration": 13,
    "start_time": "2023-02-15T04:06:08.462Z"
   },
   {
    "duration": 14,
    "start_time": "2023-02-15T04:06:09.708Z"
   },
   {
    "duration": 460,
    "start_time": "2023-02-15T04:06:10.341Z"
   },
   {
    "duration": 463,
    "start_time": "2023-02-15T04:06:11.468Z"
   },
   {
    "duration": 533,
    "start_time": "2023-02-15T04:06:12.969Z"
   },
   {
    "duration": 426,
    "start_time": "2023-02-15T04:06:15.150Z"
   },
   {
    "duration": 507,
    "start_time": "2023-02-15T04:06:15.861Z"
   },
   {
    "duration": 15,
    "start_time": "2023-02-15T04:06:17.853Z"
   },
   {
    "duration": 7,
    "start_time": "2023-02-15T04:06:18.312Z"
   },
   {
    "duration": 4,
    "start_time": "2023-02-15T04:06:18.678Z"
   },
   {
    "duration": 797,
    "start_time": "2023-02-15T04:06:19.324Z"
   },
   {
    "duration": 13,
    "start_time": "2023-02-15T04:06:22.003Z"
   },
   {
    "duration": 11,
    "start_time": "2023-02-15T04:06:23.073Z"
   },
   {
    "duration": 24,
    "start_time": "2023-02-15T04:06:23.854Z"
   },
   {
    "duration": 18,
    "start_time": "2023-02-15T04:06:24.590Z"
   },
   {
    "duration": 3,
    "start_time": "2023-02-15T04:06:26.541Z"
   },
   {
    "duration": 13,
    "start_time": "2023-02-15T04:06:27.030Z"
   },
   {
    "duration": 129,
    "start_time": "2023-02-15T04:06:27.528Z"
   },
   {
    "duration": 16,
    "start_time": "2023-02-15T04:07:14.058Z"
   },
   {
    "duration": 12,
    "start_time": "2023-02-15T04:07:34.544Z"
   },
   {
    "duration": 5,
    "start_time": "2023-02-15T04:07:39.334Z"
   },
   {
    "duration": 13,
    "start_time": "2023-02-15T04:07:41.729Z"
   },
   {
    "duration": 6,
    "start_time": "2023-02-15T04:08:00.561Z"
   },
   {
    "duration": 4,
    "start_time": "2023-02-15T04:08:01.167Z"
   },
   {
    "duration": 9,
    "start_time": "2023-02-15T04:08:01.715Z"
   },
   {
    "duration": 6,
    "start_time": "2023-02-15T04:08:02.223Z"
   },
   {
    "duration": 33,
    "start_time": "2023-02-15T04:08:04.225Z"
   },
   {
    "duration": 13,
    "start_time": "2023-02-15T04:08:32.751Z"
   },
   {
    "duration": 8,
    "start_time": "2023-02-15T04:08:44.521Z"
   },
   {
    "duration": 13,
    "start_time": "2023-02-15T04:08:49.443Z"
   },
   {
    "duration": 10,
    "start_time": "2023-02-15T04:09:23.080Z"
   },
   {
    "duration": 841,
    "start_time": "2023-02-15T04:09:48.882Z"
   },
   {
    "duration": 8,
    "start_time": "2023-02-15T04:10:02.818Z"
   },
   {
    "duration": 12421,
    "start_time": "2023-02-15T04:10:03.413Z"
   },
   {
    "duration": 4,
    "start_time": "2023-02-15T04:10:16.636Z"
   },
   {
    "duration": 15,
    "start_time": "2023-02-15T04:10:19.635Z"
   },
   {
    "duration": 12,
    "start_time": "2023-02-15T04:10:20.090Z"
   },
   {
    "duration": 4,
    "start_time": "2023-02-15T04:10:20.583Z"
   },
   {
    "duration": 4,
    "start_time": "2023-02-15T04:10:21.139Z"
   },
   {
    "duration": 23,
    "start_time": "2023-02-15T04:10:27.208Z"
   },
   {
    "duration": 11,
    "start_time": "2023-02-15T04:10:37.731Z"
   },
   {
    "duration": 9,
    "start_time": "2023-02-15T04:10:38.157Z"
   },
   {
    "duration": 9,
    "start_time": "2023-02-15T04:10:38.651Z"
   },
   {
    "duration": 2,
    "start_time": "2023-02-15T04:10:42.232Z"
   },
   {
    "duration": 7,
    "start_time": "2023-02-15T04:10:42.930Z"
   },
   {
    "duration": 23,
    "start_time": "2023-02-15T04:10:48.007Z"
   },
   {
    "duration": 5,
    "start_time": "2023-02-15T04:10:50.335Z"
   },
   {
    "duration": 20,
    "start_time": "2023-02-15T04:10:51.578Z"
   },
   {
    "duration": 23,
    "start_time": "2023-02-15T04:10:58.580Z"
   },
   {
    "duration": 9,
    "start_time": "2023-02-15T04:11:22.928Z"
   },
   {
    "duration": 17,
    "start_time": "2023-02-15T04:11:24.935Z"
   },
   {
    "duration": 8,
    "start_time": "2023-02-15T04:11:27.989Z"
   },
   {
    "duration": 5,
    "start_time": "2023-02-15T04:11:28.521Z"
   },
   {
    "duration": 12,
    "start_time": "2023-02-15T04:11:29.013Z"
   },
   {
    "duration": 3,
    "start_time": "2023-02-15T04:11:29.546Z"
   },
   {
    "duration": 28,
    "start_time": "2023-02-15T04:11:30.319Z"
   },
   {
    "duration": 297,
    "start_time": "2023-02-15T04:12:00.541Z"
   },
   {
    "duration": 7,
    "start_time": "2023-02-15T04:12:03.830Z"
   },
   {
    "duration": 3,
    "start_time": "2023-02-15T04:16:33.182Z"
   },
   {
    "duration": 3,
    "start_time": "2023-02-15T04:16:33.749Z"
   },
   {
    "duration": 3,
    "start_time": "2023-02-15T04:17:16.487Z"
   },
   {
    "duration": 7,
    "start_time": "2023-02-15T04:17:17.117Z"
   },
   {
    "duration": 510,
    "start_time": "2023-02-15T04:17:23.418Z"
   },
   {
    "duration": 22,
    "start_time": "2023-02-15T04:18:19.220Z"
   },
   {
    "duration": 9,
    "start_time": "2023-02-15T04:18:22.736Z"
   },
   {
    "duration": 486,
    "start_time": "2023-02-15T04:18:30.430Z"
   },
   {
    "duration": 25,
    "start_time": "2023-02-15T04:20:03.222Z"
   },
   {
    "duration": 9,
    "start_time": "2023-02-15T04:20:18.018Z"
   },
   {
    "duration": 383,
    "start_time": "2023-02-15T04:21:04.359Z"
   },
   {
    "duration": 5,
    "start_time": "2023-02-15T04:21:05.444Z"
   },
   {
    "duration": 1210,
    "start_time": "2023-02-15T04:33:53.478Z"
   },
   {
    "duration": 776,
    "start_time": "2023-02-15T04:33:55.627Z"
   },
   {
    "duration": 19,
    "start_time": "2023-02-15T04:33:57.258Z"
   },
   {
    "duration": 4,
    "start_time": "2023-02-15T04:34:10.234Z"
   },
   {
    "duration": 11755,
    "start_time": "2023-02-15T04:34:11.028Z"
   },
   {
    "duration": 24,
    "start_time": "2023-02-15T04:34:25.115Z"
   },
   {
    "duration": 8,
    "start_time": "2023-02-15T04:34:27.083Z"
   },
   {
    "duration": 4,
    "start_time": "2023-02-15T04:34:28.134Z"
   },
   {
    "duration": 5,
    "start_time": "2023-02-15T04:34:28.761Z"
   },
   {
    "duration": 34,
    "start_time": "2023-02-15T04:34:33.051Z"
   },
   {
    "duration": 14,
    "start_time": "2023-02-15T04:34:34.824Z"
   },
   {
    "duration": 12,
    "start_time": "2023-02-15T04:34:43.040Z"
   },
   {
    "duration": 15,
    "start_time": "2023-02-15T04:34:43.517Z"
   },
   {
    "duration": 18,
    "start_time": "2023-02-15T04:34:45.121Z"
   },
   {
    "duration": 6,
    "start_time": "2023-02-15T04:34:47.622Z"
   },
   {
    "duration": 10,
    "start_time": "2023-02-15T04:34:48.478Z"
   },
   {
    "duration": 9,
    "start_time": "2023-02-15T04:34:49.223Z"
   },
   {
    "duration": 9,
    "start_time": "2023-02-15T04:34:50.005Z"
   },
   {
    "duration": 5,
    "start_time": "2023-02-15T04:34:55.443Z"
   },
   {
    "duration": 5,
    "start_time": "2023-02-15T04:34:57.785Z"
   },
   {
    "duration": 2,
    "start_time": "2023-02-15T04:34:58.360Z"
   },
   {
    "duration": 6,
    "start_time": "2023-02-15T04:34:59.021Z"
   },
   {
    "duration": 9,
    "start_time": "2023-02-15T04:35:01.219Z"
   },
   {
    "duration": 3,
    "start_time": "2023-02-15T04:35:01.851Z"
   },
   {
    "duration": 3,
    "start_time": "2023-02-15T04:35:02.433Z"
   },
   {
    "duration": 28,
    "start_time": "2023-02-15T04:35:05.321Z"
   },
   {
    "duration": 460,
    "start_time": "2023-02-15T04:35:08.238Z"
   },
   {
    "duration": 5,
    "start_time": "2023-02-15T04:35:10.482Z"
   },
   {
    "duration": 1410,
    "start_time": "2023-02-15T04:35:11.527Z"
   },
   {
    "duration": 4,
    "start_time": "2023-02-15T04:35:14.352Z"
   },
   {
    "duration": 743914,
    "start_time": "2023-02-15T04:35:21.965Z"
   },
   {
    "duration": 5874,
    "start_time": "2023-02-15T04:47:45.881Z"
   },
   {
    "duration": 0,
    "start_time": "2023-02-15T04:47:51.756Z"
   },
   {
    "duration": 1224,
    "start_time": "2023-02-15T05:00:47.882Z"
   },
   {
    "duration": 720,
    "start_time": "2023-02-15T05:00:49.114Z"
   },
   {
    "duration": 3,
    "start_time": "2023-02-15T05:00:58.171Z"
   },
   {
    "duration": 12172,
    "start_time": "2023-02-15T05:00:59.037Z"
   },
   {
    "duration": 4,
    "start_time": "2023-02-15T05:01:13.074Z"
   },
   {
    "duration": 20,
    "start_time": "2023-02-15T05:01:15.811Z"
   },
   {
    "duration": 6,
    "start_time": "2023-02-15T05:01:17.184Z"
   },
   {
    "duration": 5,
    "start_time": "2023-02-15T05:01:17.666Z"
   },
   {
    "duration": 6,
    "start_time": "2023-02-15T05:01:18.299Z"
   },
   {
    "duration": 17,
    "start_time": "2023-02-15T05:01:24.527Z"
   },
   {
    "duration": 14,
    "start_time": "2023-02-15T05:01:31.718Z"
   },
   {
    "duration": 13,
    "start_time": "2023-02-15T05:01:32.137Z"
   },
   {
    "duration": 14,
    "start_time": "2023-02-15T05:01:32.614Z"
   },
   {
    "duration": 18,
    "start_time": "2023-02-15T05:01:35.220Z"
   },
   {
    "duration": 12,
    "start_time": "2023-02-15T05:01:37.043Z"
   },
   {
    "duration": 13,
    "start_time": "2023-02-15T05:01:37.792Z"
   },
   {
    "duration": 8,
    "start_time": "2023-02-15T05:01:38.330Z"
   },
   {
    "duration": 4,
    "start_time": "2023-02-15T05:01:42.027Z"
   },
   {
    "duration": 6,
    "start_time": "2023-02-15T05:01:46.648Z"
   },
   {
    "duration": 3,
    "start_time": "2023-02-15T05:01:47.044Z"
   },
   {
    "duration": 6,
    "start_time": "2023-02-15T05:01:47.522Z"
   },
   {
    "duration": 6,
    "start_time": "2023-02-15T05:01:48.045Z"
   },
   {
    "duration": 8,
    "start_time": "2023-02-15T05:01:48.487Z"
   },
   {
    "duration": 4,
    "start_time": "2023-02-15T05:01:49.169Z"
   },
   {
    "duration": 36,
    "start_time": "2023-02-15T05:01:50.429Z"
   },
   {
    "duration": 1253,
    "start_time": "2023-02-15T05:01:53.665Z"
   },
   {
    "duration": 148,
    "start_time": "2023-02-15T05:03:16.136Z"
   },
   {
    "duration": 24,
    "start_time": "2023-02-15T05:03:30.124Z"
   },
   {
    "duration": 8,
    "start_time": "2023-02-15T05:05:45.090Z"
   },
   {
    "duration": 6,
    "start_time": "2023-02-15T05:05:56.367Z"
   },
   {
    "duration": 241,
    "start_time": "2023-02-15T05:06:07.459Z"
   },
   {
    "duration": 8,
    "start_time": "2023-02-15T05:06:48.020Z"
   },
   {
    "duration": 11,
    "start_time": "2023-02-15T05:07:42.387Z"
   },
   {
    "duration": 5,
    "start_time": "2023-02-15T05:07:44.569Z"
   },
   {
    "duration": 13,
    "start_time": "2023-02-15T05:09:47.436Z"
   },
   {
    "duration": 4,
    "start_time": "2023-02-15T05:10:45.627Z"
   },
   {
    "duration": 12,
    "start_time": "2023-02-15T05:10:49.565Z"
   },
   {
    "duration": 4,
    "start_time": "2023-02-15T05:11:10.486Z"
   },
   {
    "duration": 4,
    "start_time": "2023-02-15T05:11:12.623Z"
   },
   {
    "duration": 4,
    "start_time": "2023-02-15T05:11:16.763Z"
   },
   {
    "duration": 1185,
    "start_time": "2023-02-15T05:15:04.482Z"
   },
   {
    "duration": 2014,
    "start_time": "2023-02-15T05:15:21.416Z"
   },
   {
    "duration": 4750,
    "start_time": "2023-02-15T05:15:34.191Z"
   },
   {
    "duration": 6397,
    "start_time": "2023-02-15T05:16:03.883Z"
   },
   {
    "duration": 8302,
    "start_time": "2023-02-15T05:16:14.542Z"
   },
   {
    "duration": 15415,
    "start_time": "2023-02-15T05:16:41.601Z"
   },
   {
    "duration": 8919,
    "start_time": "2023-02-15T05:17:25.046Z"
   },
   {
    "duration": 10056,
    "start_time": "2023-02-15T05:17:45.981Z"
   },
   {
    "duration": 7761,
    "start_time": "2023-02-15T05:18:14.363Z"
   },
   {
    "duration": 1939,
    "start_time": "2023-02-15T05:18:39.120Z"
   },
   {
    "duration": 4038,
    "start_time": "2023-02-15T05:19:23.527Z"
   },
   {
    "duration": 10107,
    "start_time": "2023-02-15T05:19:54.956Z"
   },
   {
    "duration": 7974,
    "start_time": "2023-02-15T05:20:25.188Z"
   },
   {
    "duration": 1436,
    "start_time": "2023-02-15T05:22:49.960Z"
   },
   {
    "duration": 1332,
    "start_time": "2023-02-15T05:29:39.461Z"
   },
   {
    "duration": 1340,
    "start_time": "2023-02-15T05:30:58.053Z"
   },
   {
    "duration": 40087,
    "start_time": "2023-02-15T05:33:29.772Z"
   },
   {
    "duration": 50906,
    "start_time": "2023-02-15T05:34:39.273Z"
   },
   {
    "duration": 31311,
    "start_time": "2023-02-15T05:36:38.563Z"
   },
   {
    "duration": 10,
    "start_time": "2023-02-15T05:40:18.855Z"
   },
   {
    "duration": 5,
    "start_time": "2023-02-15T05:40:37.199Z"
   },
   {
    "duration": 6,
    "start_time": "2023-02-15T05:42:48.303Z"
   },
   {
    "duration": 7,
    "start_time": "2023-02-15T05:43:30.806Z"
   },
   {
    "duration": 39489,
    "start_time": "2023-02-15T05:47:28.606Z"
   },
   {
    "duration": 8319,
    "start_time": "2023-02-15T05:48:10.001Z"
   },
   {
    "duration": 8320,
    "start_time": "2023-02-15T05:48:58.048Z"
   },
   {
    "duration": 8,
    "start_time": "2023-02-15T10:17:55.289Z"
   },
   {
    "duration": 252,
    "start_time": "2023-02-15T10:18:03.994Z"
   },
   {
    "duration": 1997,
    "start_time": "2023-02-15T11:57:54.765Z"
   },
   {
    "duration": 3458,
    "start_time": "2023-02-15T11:58:01.259Z"
   },
   {
    "duration": 4,
    "start_time": "2023-02-15T11:58:28.230Z"
   },
   {
    "duration": 12542,
    "start_time": "2023-02-15T11:58:29.705Z"
   },
   {
    "duration": 8,
    "start_time": "2023-02-15T11:58:42.251Z"
   },
   {
    "duration": 79,
    "start_time": "2023-02-15T12:00:48.635Z"
   },
   {
    "duration": 3,
    "start_time": "2023-02-15T12:05:06.105Z"
   },
   {
    "duration": 12102,
    "start_time": "2023-02-15T12:05:14.134Z"
   },
   {
    "duration": 13,
    "start_time": "2023-02-15T12:13:17.853Z"
   },
   {
    "duration": 4,
    "start_time": "2023-02-15T12:32:53.866Z"
   },
   {
    "duration": 424,
    "start_time": "2023-02-15T12:32:54.749Z"
   },
   {
    "duration": 496,
    "start_time": "2023-02-15T12:38:27.141Z"
   },
   {
    "duration": 447,
    "start_time": "2023-02-15T12:39:01.749Z"
   },
   {
    "duration": 465,
    "start_time": "2023-02-15T12:39:49.069Z"
   },
   {
    "duration": 383,
    "start_time": "2023-02-15T12:41:29.000Z"
   },
   {
    "duration": 515,
    "start_time": "2023-02-15T12:41:31.849Z"
   },
   {
    "duration": 61,
    "start_time": "2023-02-15T13:59:06.196Z"
   },
   {
    "duration": 155,
    "start_time": "2023-02-15T13:59:12.488Z"
   },
   {
    "duration": 4,
    "start_time": "2023-02-15T13:59:48.707Z"
   },
   {
    "duration": 20,
    "start_time": "2023-02-15T13:59:56.097Z"
   },
   {
    "duration": 4,
    "start_time": "2023-02-15T14:02:13.735Z"
   },
   {
    "duration": 18,
    "start_time": "2023-02-15T14:02:24.275Z"
   },
   {
    "duration": 62,
    "start_time": "2023-02-15T14:04:28.890Z"
   },
   {
    "duration": 2503,
    "start_time": "2023-02-15T14:06:02.471Z"
   },
   {
    "duration": 24,
    "start_time": "2023-02-15T14:06:35.443Z"
   },
   {
    "duration": 23,
    "start_time": "2023-02-15T14:06:39.032Z"
   },
   {
    "duration": 2424,
    "start_time": "2023-02-15T14:06:51.691Z"
   },
   {
    "duration": 27,
    "start_time": "2023-02-15T14:07:10.703Z"
   },
   {
    "duration": 16,
    "start_time": "2023-02-15T14:07:27.494Z"
   },
   {
    "duration": 2218,
    "start_time": "2023-02-15T14:11:19.712Z"
   },
   {
    "duration": 56,
    "start_time": "2023-02-15T14:11:28.052Z"
   },
   {
    "duration": 22,
    "start_time": "2023-02-15T14:11:45.557Z"
   },
   {
    "duration": 423,
    "start_time": "2023-02-15T14:21:33.897Z"
   },
   {
    "duration": 424,
    "start_time": "2023-02-15T14:21:35.859Z"
   },
   {
    "duration": 19,
    "start_time": "2023-02-15T14:21:51.968Z"
   },
   {
    "duration": 6,
    "start_time": "2023-02-15T14:21:52.522Z"
   },
   {
    "duration": 5,
    "start_time": "2023-02-15T14:21:53.073Z"
   },
   {
    "duration": 835,
    "start_time": "2023-02-15T14:21:54.432Z"
   },
   {
    "duration": 669,
    "start_time": "2023-02-15T14:27:06.995Z"
   },
   {
    "duration": 794,
    "start_time": "2023-02-15T14:27:17.516Z"
   },
   {
    "duration": 8,
    "start_time": "2023-02-15T14:30:58.777Z"
   },
   {
    "duration": 12,
    "start_time": "2023-02-15T14:31:00.301Z"
   },
   {
    "duration": 12,
    "start_time": "2023-02-15T14:31:00.788Z"
   },
   {
    "duration": 12,
    "start_time": "2023-02-15T14:31:01.317Z"
   },
   {
    "duration": 3,
    "start_time": "2023-02-15T14:31:13.928Z"
   },
   {
    "duration": 12,
    "start_time": "2023-02-15T14:31:16.259Z"
   },
   {
    "duration": 6,
    "start_time": "2023-02-15T14:31:16.723Z"
   },
   {
    "duration": 7,
    "start_time": "2023-02-15T14:31:17.214Z"
   },
   {
    "duration": 15,
    "start_time": "2023-02-15T14:31:18.456Z"
   },
   {
    "duration": 20,
    "start_time": "2023-02-15T16:38:23.408Z"
   },
   {
    "duration": 22,
    "start_time": "2023-02-15T16:39:46.510Z"
   },
   {
    "duration": 411,
    "start_time": "2023-02-15T16:40:24.074Z"
   },
   {
    "duration": 18,
    "start_time": "2023-02-15T16:42:03.682Z"
   },
   {
    "duration": 350,
    "start_time": "2023-02-15T16:42:09.944Z"
   },
   {
    "duration": 387,
    "start_time": "2023-02-15T16:46:46.220Z"
   },
   {
    "duration": 347,
    "start_time": "2023-02-15T16:55:28.377Z"
   },
   {
    "duration": 3,
    "start_time": "2023-02-15T17:09:58.212Z"
   },
   {
    "duration": 4,
    "start_time": "2023-02-15T17:11:01.108Z"
   },
   {
    "duration": 854,
    "start_time": "2023-02-15T17:11:06.166Z"
   },
   {
    "duration": 18,
    "start_time": "2023-02-15T17:11:08.381Z"
   },
   {
    "duration": 13,
    "start_time": "2023-02-15T17:11:09.052Z"
   },
   {
    "duration": 18,
    "start_time": "2023-02-15T17:11:09.557Z"
   },
   {
    "duration": 31,
    "start_time": "2023-02-15T17:11:10.320Z"
   },
   {
    "duration": 6,
    "start_time": "2023-02-15T17:11:16.047Z"
   },
   {
    "duration": 3,
    "start_time": "2023-02-15T17:11:16.459Z"
   },
   {
    "duration": 3,
    "start_time": "2023-02-15T17:11:17.048Z"
   },
   {
    "duration": 5,
    "start_time": "2023-02-15T17:11:17.506Z"
   },
   {
    "duration": 6,
    "start_time": "2023-02-15T17:11:18.649Z"
   },
   {
    "duration": 3,
    "start_time": "2023-02-15T17:11:19.353Z"
   },
   {
    "duration": 6,
    "start_time": "2023-02-15T17:11:20.473Z"
   },
   {
    "duration": 6,
    "start_time": "2023-02-15T17:11:21.619Z"
   },
   {
    "duration": 4,
    "start_time": "2023-02-15T17:11:29.219Z"
   },
   {
    "duration": 12205,
    "start_time": "2023-02-15T17:11:30.584Z"
   },
   {
    "duration": 4,
    "start_time": "2023-02-15T17:11:42.791Z"
   },
   {
    "duration": 12071,
    "start_time": "2023-02-15T17:11:44.228Z"
   },
   {
    "duration": 4,
    "start_time": "2023-02-15T17:11:56.301Z"
   },
   {
    "duration": 19,
    "start_time": "2023-02-15T17:12:03.203Z"
   },
   {
    "duration": 4,
    "start_time": "2023-02-15T17:12:07.093Z"
   },
   {
    "duration": 451,
    "start_time": "2023-02-15T17:12:08.229Z"
   },
   {
    "duration": 504,
    "start_time": "2023-02-15T17:12:12.197Z"
   },
   {
    "duration": 567,
    "start_time": "2023-02-15T17:12:14.317Z"
   },
   {
    "duration": 353,
    "start_time": "2023-02-15T17:12:18.157Z"
   },
   {
    "duration": 436,
    "start_time": "2023-02-15T17:12:20.537Z"
   },
   {
    "duration": 432,
    "start_time": "2023-02-15T17:12:22.582Z"
   },
   {
    "duration": 375,
    "start_time": "2023-02-15T17:12:24.291Z"
   },
   {
    "duration": 5,
    "start_time": "2023-02-15T17:12:28.175Z"
   },
   {
    "duration": 5,
    "start_time": "2023-02-15T17:12:28.951Z"
   },
   {
    "duration": 4,
    "start_time": "2023-02-15T17:12:29.693Z"
   },
   {
    "duration": 827,
    "start_time": "2023-02-15T17:12:30.494Z"
   },
   {
    "duration": 12,
    "start_time": "2023-02-15T17:12:33.944Z"
   },
   {
    "duration": 9,
    "start_time": "2023-02-15T17:12:34.727Z"
   },
   {
    "duration": 11,
    "start_time": "2023-02-15T17:12:35.515Z"
   },
   {
    "duration": 10,
    "start_time": "2023-02-15T17:12:37.015Z"
   },
   {
    "duration": 3,
    "start_time": "2023-02-15T17:12:49.329Z"
   },
   {
    "duration": 8,
    "start_time": "2023-02-15T17:12:49.923Z"
   },
   {
    "duration": 7,
    "start_time": "2023-02-15T17:12:50.462Z"
   },
   {
    "duration": 7,
    "start_time": "2023-02-15T17:12:51.019Z"
   },
   {
    "duration": 17,
    "start_time": "2023-02-15T17:12:51.639Z"
   },
   {
    "duration": 4,
    "start_time": "2023-02-15T17:12:55.135Z"
   },
   {
    "duration": 5,
    "start_time": "2023-02-15T17:13:06.902Z"
   },
   {
    "duration": 4,
    "start_time": "2023-02-15T17:13:07.478Z"
   },
   {
    "duration": 2,
    "start_time": "2023-02-15T17:13:08.115Z"
   },
   {
    "duration": 4,
    "start_time": "2023-02-15T17:13:08.780Z"
   },
   {
    "duration": 4,
    "start_time": "2023-02-15T17:13:09.414Z"
   },
   {
    "duration": 3,
    "start_time": "2023-02-15T17:13:10.125Z"
   },
   {
    "duration": 26,
    "start_time": "2023-02-15T17:13:12.133Z"
   },
   {
    "duration": 161,
    "start_time": "2023-02-15T17:15:17.779Z"
   },
   {
    "duration": 21,
    "start_time": "2023-02-15T17:15:18.771Z"
   },
   {
    "duration": 1591,
    "start_time": "2023-02-15T19:25:29.784Z"
   },
   {
    "duration": 4606,
    "start_time": "2023-02-15T19:25:33.774Z"
   },
   {
    "duration": 18,
    "start_time": "2023-02-15T19:25:42.728Z"
   },
   {
    "duration": 19,
    "start_time": "2023-02-15T19:25:48.313Z"
   },
   {
    "duration": 19,
    "start_time": "2023-02-15T19:25:49.882Z"
   },
   {
    "duration": 31,
    "start_time": "2023-02-15T19:25:50.683Z"
   },
   {
    "duration": 4,
    "start_time": "2023-02-15T19:25:55.016Z"
   },
   {
    "duration": 6,
    "start_time": "2023-02-15T19:25:55.570Z"
   },
   {
    "duration": 3,
    "start_time": "2023-02-15T19:25:55.975Z"
   },
   {
    "duration": 9,
    "start_time": "2023-02-15T19:25:56.576Z"
   },
   {
    "duration": 6,
    "start_time": "2023-02-15T19:25:57.301Z"
   },
   {
    "duration": 3,
    "start_time": "2023-02-15T19:25:59.476Z"
   },
   {
    "duration": 6,
    "start_time": "2023-02-15T19:26:00.087Z"
   },
   {
    "duration": 6,
    "start_time": "2023-02-15T19:26:00.824Z"
   },
   {
    "duration": 4,
    "start_time": "2023-02-15T19:26:03.525Z"
   },
   {
    "duration": 12339,
    "start_time": "2023-02-15T19:26:07.030Z"
   },
   {
    "duration": 4,
    "start_time": "2023-02-15T19:26:20.814Z"
   },
   {
    "duration": 12291,
    "start_time": "2023-02-15T19:26:21.542Z"
   },
   {
    "duration": 4,
    "start_time": "2023-02-15T19:26:35.876Z"
   },
   {
    "duration": 20,
    "start_time": "2023-02-15T19:26:40.535Z"
   },
   {
    "duration": 7,
    "start_time": "2023-02-15T19:27:04.444Z"
   },
   {
    "duration": 471,
    "start_time": "2023-02-15T19:27:08.623Z"
   },
   {
    "duration": 495,
    "start_time": "2023-02-15T19:27:12.619Z"
   },
   {
    "duration": 441,
    "start_time": "2023-02-15T19:28:28.473Z"
   },
   {
    "duration": 438,
    "start_time": "2023-02-15T19:28:32.683Z"
   },
   {
    "duration": 369,
    "start_time": "2023-02-15T19:28:35.583Z"
   },
   {
    "duration": 387,
    "start_time": "2023-02-15T19:28:38.477Z"
   },
   {
    "duration": 508,
    "start_time": "2023-02-15T19:28:43.682Z"
   },
   {
    "duration": 8,
    "start_time": "2023-02-15T19:29:28.172Z"
   },
   {
    "duration": 4,
    "start_time": "2023-02-15T19:29:28.989Z"
   },
   {
    "duration": 13,
    "start_time": "2023-02-15T19:29:29.546Z"
   },
   {
    "duration": 732,
    "start_time": "2023-02-15T19:29:30.339Z"
   },
   {
    "duration": 7,
    "start_time": "2023-02-15T19:29:35.099Z"
   },
   {
    "duration": 13,
    "start_time": "2023-02-15T19:29:36.179Z"
   },
   {
    "duration": 16,
    "start_time": "2023-02-15T19:29:37.351Z"
   },
   {
    "duration": 12,
    "start_time": "2023-02-15T19:29:38.522Z"
   },
   {
    "duration": 2,
    "start_time": "2023-02-15T19:29:42.622Z"
   },
   {
    "duration": 19,
    "start_time": "2023-02-15T19:29:43.475Z"
   },
   {
    "duration": 7,
    "start_time": "2023-02-15T19:29:44.022Z"
   },
   {
    "duration": 6,
    "start_time": "2023-02-15T19:29:44.685Z"
   },
   {
    "duration": 15,
    "start_time": "2023-02-15T19:29:45.272Z"
   },
   {
    "duration": 4,
    "start_time": "2023-02-15T19:29:50.799Z"
   },
   {
    "duration": 5,
    "start_time": "2023-02-15T19:29:54.494Z"
   },
   {
    "duration": 2,
    "start_time": "2023-02-15T19:29:55.093Z"
   },
   {
    "duration": 6,
    "start_time": "2023-02-15T19:29:55.968Z"
   },
   {
    "duration": 5,
    "start_time": "2023-02-15T19:29:56.635Z"
   },
   {
    "duration": 3,
    "start_time": "2023-02-15T19:29:57.218Z"
   },
   {
    "duration": 4,
    "start_time": "2023-02-15T19:29:57.781Z"
   },
   {
    "duration": 21,
    "start_time": "2023-02-15T19:30:09.780Z"
   },
   {
    "duration": 1121,
    "start_time": "2023-02-15T19:30:33.277Z"
   },
   {
    "duration": 188,
    "start_time": "2023-02-15T19:30:35.330Z"
   },
   {
    "duration": 3190,
    "start_time": "2023-02-15T19:43:44.675Z"
   },
   {
    "duration": 937,
    "start_time": "2023-02-15T19:43:57.488Z"
   },
   {
    "duration": 3343,
    "start_time": "2023-02-15T19:44:20.741Z"
   },
   {
    "duration": 473,
    "start_time": "2023-02-15T20:22:12.801Z"
   },
   {
    "duration": 1970,
    "start_time": "2023-02-15T20:22:16.796Z"
   },
   {
    "duration": 894,
    "start_time": "2023-02-15T20:37:05.376Z"
   },
   {
    "duration": 11,
    "start_time": "2023-02-15T20:37:42.598Z"
   },
   {
    "duration": 11,
    "start_time": "2023-02-15T20:46:29.412Z"
   },
   {
    "duration": 17,
    "start_time": "2023-02-15T20:48:11.028Z"
   },
   {
    "duration": 13,
    "start_time": "2023-02-15T20:49:06.376Z"
   },
   {
    "duration": 11,
    "start_time": "2023-02-15T20:50:54.229Z"
   },
   {
    "duration": 20,
    "start_time": "2023-02-15T20:51:04.841Z"
   },
   {
    "duration": 942,
    "start_time": "2023-02-15T20:52:28.713Z"
   },
   {
    "duration": 18,
    "start_time": "2023-02-15T20:53:51.923Z"
   },
   {
    "duration": 1217,
    "start_time": "2023-02-15T20:58:01.142Z"
   },
   {
    "duration": 1551,
    "start_time": "2023-02-15T20:59:17.601Z"
   },
   {
    "duration": 981,
    "start_time": "2023-02-15T21:04:53.587Z"
   },
   {
    "duration": 638,
    "start_time": "2023-02-15T21:05:03.021Z"
   },
   {
    "duration": 23498,
    "start_time": "2023-02-15T21:08:30.625Z"
   },
   {
    "duration": 72676,
    "start_time": "2023-02-15T21:10:00.796Z"
   },
   {
    "duration": 91637,
    "start_time": "2023-02-15T21:11:50.724Z"
   },
   {
    "duration": 1838,
    "start_time": "2023-02-15T21:33:33.572Z"
   },
   {
    "duration": 3518,
    "start_time": "2023-02-15T21:33:36.178Z"
   },
   {
    "duration": 4,
    "start_time": "2023-02-15T21:33:52.137Z"
   },
   {
    "duration": 11886,
    "start_time": "2023-02-15T21:33:52.627Z"
   },
   {
    "duration": 4,
    "start_time": "2023-02-15T21:34:07.825Z"
   },
   {
    "duration": 11744,
    "start_time": "2023-02-15T21:34:08.701Z"
   },
   {
    "duration": 3,
    "start_time": "2023-02-15T21:34:21.615Z"
   },
   {
    "duration": 23,
    "start_time": "2023-02-15T21:34:26.262Z"
   },
   {
    "duration": 4,
    "start_time": "2023-02-15T21:34:29.574Z"
   },
   {
    "duration": 438,
    "start_time": "2023-02-15T21:34:30.536Z"
   },
   {
    "duration": 6,
    "start_time": "2023-02-15T21:34:42.234Z"
   },
   {
    "duration": 4,
    "start_time": "2023-02-15T21:34:42.927Z"
   },
   {
    "duration": 4,
    "start_time": "2023-02-15T21:34:43.677Z"
   },
   {
    "duration": 11,
    "start_time": "2023-02-15T21:34:51.329Z"
   },
   {
    "duration": 10,
    "start_time": "2023-02-15T21:34:51.992Z"
   },
   {
    "duration": 10,
    "start_time": "2023-02-15T21:34:52.674Z"
   },
   {
    "duration": 7,
    "start_time": "2023-02-15T21:34:55.666Z"
   },
   {
    "duration": 8,
    "start_time": "2023-02-15T21:34:56.030Z"
   },
   {
    "duration": 10,
    "start_time": "2023-02-15T21:34:56.376Z"
   },
   {
    "duration": 6,
    "start_time": "2023-02-15T21:34:56.743Z"
   },
   {
    "duration": 13,
    "start_time": "2023-02-15T21:34:57.720Z"
   },
   {
    "duration": 3,
    "start_time": "2023-02-15T21:35:01.010Z"
   },
   {
    "duration": 6,
    "start_time": "2023-02-15T21:35:07.272Z"
   },
   {
    "duration": 5,
    "start_time": "2023-02-15T21:35:07.735Z"
   },
   {
    "duration": 3,
    "start_time": "2023-02-15T21:35:08.174Z"
   },
   {
    "duration": 4,
    "start_time": "2023-02-15T21:35:08.772Z"
   },
   {
    "duration": 2,
    "start_time": "2023-02-15T21:35:09.610Z"
   },
   {
    "duration": 3,
    "start_time": "2023-02-15T21:35:10.803Z"
   },
   {
    "duration": 16,
    "start_time": "2023-02-15T21:35:15.574Z"
   },
   {
    "duration": 227,
    "start_time": "2023-02-15T21:35:24.247Z"
   },
   {
    "duration": 415,
    "start_time": "2023-02-15T21:35:29.235Z"
   },
   {
    "duration": 545045,
    "start_time": "2023-02-15T21:35:45.226Z"
   },
   {
    "duration": 15051,
    "start_time": "2023-02-15T21:48:36.018Z"
   },
   {
    "duration": 50,
    "start_time": "2023-02-15T21:57:35.032Z"
   },
   {
    "duration": 7546,
    "start_time": "2023-02-15T22:00:01.765Z"
   },
   {
    "duration": 103320,
    "start_time": "2023-02-15T22:04:37.204Z"
   },
   {
    "duration": 25854,
    "start_time": "2023-02-15T22:06:48.188Z"
   },
   {
    "duration": 77208,
    "start_time": "2023-02-15T22:07:42.038Z"
   },
   {
    "duration": 163349,
    "start_time": "2023-02-15T22:09:18.776Z"
   },
   {
    "duration": 509922,
    "start_time": "2023-02-15T22:25:47.561Z"
   },
   {
    "duration": 221637,
    "start_time": "2023-02-15T22:35:15.799Z"
   },
   {
    "duration": 221588,
    "start_time": "2023-02-15T22:39:29.284Z"
   },
   {
    "duration": 131497,
    "start_time": "2023-02-15T22:43:48.008Z"
   },
   {
    "duration": 617,
    "start_time": "2023-02-15T22:50:04.032Z"
   },
   {
    "duration": 535,
    "start_time": "2023-02-15T22:50:38.221Z"
   },
   {
    "duration": 598,
    "start_time": "2023-02-15T22:54:03.959Z"
   },
   {
    "duration": 802,
    "start_time": "2023-02-15T22:54:37.446Z"
   },
   {
    "duration": 5,
    "start_time": "2023-02-15T23:25:50.605Z"
   },
   {
    "duration": 22,
    "start_time": "2023-02-15T23:27:19.810Z"
   },
   {
    "duration": 19,
    "start_time": "2023-02-15T23:29:59.607Z"
   },
   {
    "duration": 20,
    "start_time": "2023-02-15T23:30:53.573Z"
   },
   {
    "duration": 21,
    "start_time": "2023-02-15T23:34:15.181Z"
   },
   {
    "duration": 5,
    "start_time": "2023-02-15T23:34:51.496Z"
   },
   {
    "duration": 4,
    "start_time": "2023-02-15T23:42:22.428Z"
   },
   {
    "duration": 1229,
    "start_time": "2023-02-15T23:42:55.401Z"
   },
   {
    "duration": 737,
    "start_time": "2023-02-15T23:42:57.340Z"
   },
   {
    "duration": 18,
    "start_time": "2023-02-15T23:43:01.545Z"
   },
   {
    "duration": 14,
    "start_time": "2023-02-15T23:43:03.303Z"
   },
   {
    "duration": 27,
    "start_time": "2023-02-15T23:43:05.852Z"
   },
   {
    "duration": 2,
    "start_time": "2023-02-15T23:43:08.802Z"
   },
   {
    "duration": 2,
    "start_time": "2023-02-15T23:43:09.187Z"
   },
   {
    "duration": 3,
    "start_time": "2023-02-15T23:43:09.598Z"
   },
   {
    "duration": 5,
    "start_time": "2023-02-15T23:43:10.052Z"
   },
   {
    "duration": 6,
    "start_time": "2023-02-15T23:43:10.572Z"
   },
   {
    "duration": 3,
    "start_time": "2023-02-15T23:43:11.172Z"
   },
   {
    "duration": 6,
    "start_time": "2023-02-15T23:43:11.772Z"
   },
   {
    "duration": 5,
    "start_time": "2023-02-15T23:43:12.858Z"
   },
   {
    "duration": 3,
    "start_time": "2023-02-15T23:43:16.631Z"
   },
   {
    "duration": 10379,
    "start_time": "2023-02-15T23:43:24.951Z"
   },
   {
    "duration": 4,
    "start_time": "2023-02-15T23:43:43.366Z"
   },
   {
    "duration": 10141,
    "start_time": "2023-02-15T23:43:44.107Z"
   },
   {
    "duration": 4,
    "start_time": "2023-02-15T23:44:01.995Z"
   },
   {
    "duration": 5,
    "start_time": "2023-02-15T23:44:19.936Z"
   },
   {
    "duration": 12043,
    "start_time": "2023-02-15T23:45:27.750Z"
   },
   {
    "duration": 3,
    "start_time": "2023-02-15T23:45:41.872Z"
   },
   {
    "duration": 133,
    "start_time": "2023-02-15T23:46:54.459Z"
   },
   {
    "duration": 4,
    "start_time": "2023-02-15T23:47:13.732Z"
   },
   {
    "duration": 11942,
    "start_time": "2023-02-15T23:48:59.312Z"
   },
   {
    "duration": 4,
    "start_time": "2023-02-15T23:49:17.087Z"
   },
   {
    "duration": 1202,
    "start_time": "2023-02-15T23:50:25.301Z"
   },
   {
    "duration": 704,
    "start_time": "2023-02-15T23:50:27.653Z"
   },
   {
    "duration": 4,
    "start_time": "2023-02-15T23:50:39.942Z"
   },
   {
    "duration": 4,
    "start_time": "2023-02-15T23:50:42.141Z"
   },
   {
    "duration": 4,
    "start_time": "2023-02-15T23:57:57.411Z"
   },
   {
    "duration": 756,
    "start_time": "2023-02-15T23:57:58.702Z"
   },
   {
    "duration": 17,
    "start_time": "2023-02-15T23:58:01.838Z"
   },
   {
    "duration": 13,
    "start_time": "2023-02-15T23:58:04.678Z"
   },
   {
    "duration": 18,
    "start_time": "2023-02-15T23:58:05.439Z"
   },
   {
    "duration": 40,
    "start_time": "2023-02-15T23:58:06.211Z"
   },
   {
    "duration": 3,
    "start_time": "2023-02-15T23:58:10.430Z"
   },
   {
    "duration": 3,
    "start_time": "2023-02-15T23:58:10.748Z"
   },
   {
    "duration": 2,
    "start_time": "2023-02-15T23:58:11.094Z"
   },
   {
    "duration": 17,
    "start_time": "2023-02-15T23:58:11.281Z"
   },
   {
    "duration": 6,
    "start_time": "2023-02-15T23:58:11.468Z"
   },
   {
    "duration": 3,
    "start_time": "2023-02-15T23:58:11.994Z"
   },
   {
    "duration": 5,
    "start_time": "2023-02-15T23:58:12.295Z"
   },
   {
    "duration": 6,
    "start_time": "2023-02-15T23:58:12.632Z"
   },
   {
    "duration": 36,
    "start_time": "2023-02-16T00:06:03.904Z"
   },
   {
    "duration": 12,
    "start_time": "2023-02-16T00:06:19.291Z"
   },
   {
    "duration": 3,
    "start_time": "2023-02-16T00:06:36.675Z"
   },
   {
    "duration": 14,
    "start_time": "2023-02-16T00:06:40.523Z"
   },
   {
    "duration": 7,
    "start_time": "2023-02-16T00:06:43.419Z"
   },
   {
    "duration": 379,
    "start_time": "2023-02-16T00:06:44.270Z"
   },
   {
    "duration": 405,
    "start_time": "2023-02-16T00:06:47.143Z"
   },
   {
    "duration": 481,
    "start_time": "2023-02-16T00:06:49.035Z"
   },
   {
    "duration": 348,
    "start_time": "2023-02-16T00:06:53.076Z"
   },
   {
    "duration": 381,
    "start_time": "2023-02-16T00:06:55.500Z"
   },
   {
    "duration": 347,
    "start_time": "2023-02-16T00:07:00.493Z"
   },
   {
    "duration": 351,
    "start_time": "2023-02-16T00:07:02.023Z"
   },
   {
    "duration": 5,
    "start_time": "2023-02-16T00:07:05.899Z"
   },
   {
    "duration": 4,
    "start_time": "2023-02-16T00:07:06.800Z"
   },
   {
    "duration": 5,
    "start_time": "2023-02-16T00:07:07.681Z"
   },
   {
    "duration": 793,
    "start_time": "2023-02-16T00:07:13.192Z"
   },
   {
    "duration": 6,
    "start_time": "2023-02-16T00:07:19.223Z"
   },
   {
    "duration": 9,
    "start_time": "2023-02-16T00:07:20.572Z"
   },
   {
    "duration": 11,
    "start_time": "2023-02-16T00:07:21.600Z"
   },
   {
    "duration": 8,
    "start_time": "2023-02-16T00:07:22.305Z"
   },
   {
    "duration": 3,
    "start_time": "2023-02-16T00:07:24.006Z"
   },
   {
    "duration": 9,
    "start_time": "2023-02-16T00:07:24.816Z"
   },
   {
    "duration": 6,
    "start_time": "2023-02-16T00:07:25.513Z"
   },
   {
    "duration": 5,
    "start_time": "2023-02-16T00:07:25.963Z"
   },
   {
    "duration": 13,
    "start_time": "2023-02-16T00:07:26.652Z"
   },
   {
    "duration": 4,
    "start_time": "2023-02-16T00:07:30.366Z"
   },
   {
    "duration": 5,
    "start_time": "2023-02-16T00:07:34.230Z"
   },
   {
    "duration": 3,
    "start_time": "2023-02-16T00:07:34.492Z"
   },
   {
    "duration": 2,
    "start_time": "2023-02-16T00:07:34.908Z"
   },
   {
    "duration": 5,
    "start_time": "2023-02-16T00:07:35.210Z"
   },
   {
    "duration": 161,
    "start_time": "2023-02-16T00:07:36.217Z"
   },
   {
    "duration": 3,
    "start_time": "2023-02-16T00:07:54.613Z"
   },
   {
    "duration": 3,
    "start_time": "2023-02-16T00:07:55.239Z"
   },
   {
    "duration": 16,
    "start_time": "2023-02-16T00:07:57.509Z"
   },
   {
    "duration": 106,
    "start_time": "2023-02-16T00:08:00.844Z"
   },
   {
    "duration": 578,
    "start_time": "2023-02-16T00:08:01.875Z"
   },
   {
    "duration": 128,
    "start_time": "2023-02-16T00:08:24.523Z"
   },
   {
    "duration": 6,
    "start_time": "2023-02-16T00:08:53.967Z"
   },
   {
    "duration": 5,
    "start_time": "2023-02-16T00:08:57.342Z"
   },
   {
    "duration": 3,
    "start_time": "2023-02-16T00:09:18.373Z"
   },
   {
    "duration": 3,
    "start_time": "2023-02-16T00:09:21.595Z"
   },
   {
    "duration": 3,
    "start_time": "2023-02-16T00:09:43.074Z"
   },
   {
    "duration": 10,
    "start_time": "2023-02-16T00:09:52.837Z"
   },
   {
    "duration": 7,
    "start_time": "2023-02-16T00:10:51.823Z"
   },
   {
    "duration": 6,
    "start_time": "2023-02-16T00:10:52.833Z"
   },
   {
    "duration": 1909,
    "start_time": "2023-02-16T16:54:47.845Z"
   },
   {
    "duration": 2097,
    "start_time": "2023-02-16T16:54:50.820Z"
   },
   {
    "duration": 21,
    "start_time": "2023-02-16T16:54:55.086Z"
   },
   {
    "duration": 16,
    "start_time": "2023-02-16T16:54:55.627Z"
   },
   {
    "duration": 19,
    "start_time": "2023-02-16T16:54:56.170Z"
   },
   {
    "duration": 29,
    "start_time": "2023-02-16T16:54:56.748Z"
   },
   {
    "duration": 3,
    "start_time": "2023-02-16T16:55:00.246Z"
   },
   {
    "duration": 3,
    "start_time": "2023-02-16T16:55:03.145Z"
   },
   {
    "duration": 3,
    "start_time": "2023-02-16T16:55:03.684Z"
   },
   {
    "duration": 6,
    "start_time": "2023-02-16T16:55:04.383Z"
   },
   {
    "duration": 7,
    "start_time": "2023-02-16T16:55:05.123Z"
   },
   {
    "duration": 4,
    "start_time": "2023-02-16T16:55:05.627Z"
   },
   {
    "duration": 6,
    "start_time": "2023-02-16T16:55:06.135Z"
   },
   {
    "duration": 5,
    "start_time": "2023-02-16T16:55:06.759Z"
   },
   {
    "duration": 16,
    "start_time": "2023-02-16T16:55:09.281Z"
   },
   {
    "duration": 5,
    "start_time": "2023-02-16T16:55:10.034Z"
   },
   {
    "duration": 19,
    "start_time": "2023-02-16T16:55:15.341Z"
   },
   {
    "duration": 5,
    "start_time": "2023-02-16T16:55:19.553Z"
   },
   {
    "duration": 440,
    "start_time": "2023-02-16T16:55:20.930Z"
   },
   {
    "duration": 18,
    "start_time": "2023-02-16T16:56:19.048Z"
   },
   {
    "duration": 5,
    "start_time": "2023-02-16T16:56:22.678Z"
   },
   {
    "duration": 532,
    "start_time": "2023-02-16T16:56:23.448Z"
   },
   {
    "duration": 433,
    "start_time": "2023-02-16T16:56:29.471Z"
   },
   {
    "duration": 447,
    "start_time": "2023-02-16T16:56:31.777Z"
   },
   {
    "duration": 401,
    "start_time": "2023-02-16T16:56:43.681Z"
   },
   {
    "duration": 390,
    "start_time": "2023-02-16T16:56:48.180Z"
   },
   {
    "duration": 486,
    "start_time": "2023-02-16T16:56:50.873Z"
   },
   {
    "duration": 395,
    "start_time": "2023-02-16T16:56:52.754Z"
   },
   {
    "duration": 145,
    "start_time": "2023-02-16T17:00:37.970Z"
   },
   {
    "duration": 17,
    "start_time": "2023-02-16T17:01:11.681Z"
   },
   {
    "duration": 17,
    "start_time": "2023-02-16T17:01:16.313Z"
   },
   {
    "duration": 16,
    "start_time": "2023-02-16T17:01:33.400Z"
   },
   {
    "duration": 25364,
    "start_time": "2023-02-16T17:02:16.673Z"
   },
   {
    "duration": 474,
    "start_time": "2023-02-16T17:03:22.075Z"
   },
   {
    "duration": 18,
    "start_time": "2023-02-16T17:03:54.671Z"
   },
   {
    "duration": 402,
    "start_time": "2023-02-16T17:06:39.830Z"
   },
   {
    "duration": 483,
    "start_time": "2023-02-16T17:07:17.250Z"
   },
   {
    "duration": 412,
    "start_time": "2023-02-16T17:09:50.199Z"
   },
   {
    "duration": 446,
    "start_time": "2023-02-16T17:10:01.413Z"
   },
   {
    "duration": 113,
    "start_time": "2023-02-16T17:10:09.240Z"
   },
   {
    "duration": 389,
    "start_time": "2023-02-16T17:10:16.369Z"
   },
   {
    "duration": 408,
    "start_time": "2023-02-16T17:10:21.546Z"
   },
   {
    "duration": 384,
    "start_time": "2023-02-16T17:10:37.082Z"
   },
   {
    "duration": 376,
    "start_time": "2023-02-16T17:10:50.968Z"
   },
   {
    "duration": 928,
    "start_time": "2023-02-16T17:12:27.594Z"
   },
   {
    "duration": 83,
    "start_time": "2023-02-16T17:16:29.187Z"
   },
   {
    "duration": 402,
    "start_time": "2023-02-16T17:16:36.668Z"
   },
   {
    "duration": 6,
    "start_time": "2023-02-16T17:18:58.144Z"
   },
   {
    "duration": 10,
    "start_time": "2023-02-16T17:18:58.638Z"
   },
   {
    "duration": 5,
    "start_time": "2023-02-16T17:18:59.134Z"
   },
   {
    "duration": 847,
    "start_time": "2023-02-16T17:18:59.970Z"
   },
   {
    "duration": 7,
    "start_time": "2023-02-16T17:19:04.817Z"
   },
   {
    "duration": 8,
    "start_time": "2023-02-16T17:19:11.325Z"
   },
   {
    "duration": 18,
    "start_time": "2023-02-16T17:19:11.833Z"
   },
   {
    "duration": 10,
    "start_time": "2023-02-16T17:19:12.385Z"
   },
   {
    "duration": 3,
    "start_time": "2023-02-16T17:19:20.013Z"
   },
   {
    "duration": 7,
    "start_time": "2023-02-16T17:19:20.504Z"
   },
   {
    "duration": 7,
    "start_time": "2023-02-16T17:19:21.122Z"
   },
   {
    "duration": 5,
    "start_time": "2023-02-16T17:19:21.774Z"
   },
   {
    "duration": 14,
    "start_time": "2023-02-16T17:19:22.608Z"
   },
   {
    "duration": 3,
    "start_time": "2023-02-16T17:20:07.102Z"
   },
   {
    "duration": 6,
    "start_time": "2023-02-16T17:20:25.623Z"
   },
   {
    "duration": 3,
    "start_time": "2023-02-16T17:20:25.997Z"
   },
   {
    "duration": 3,
    "start_time": "2023-02-16T17:20:26.372Z"
   },
   {
    "duration": 7,
    "start_time": "2023-02-16T17:20:26.739Z"
   },
   {
    "duration": 3,
    "start_time": "2023-02-16T17:20:27.352Z"
   },
   {
    "duration": 3,
    "start_time": "2023-02-16T17:20:27.853Z"
   },
   {
    "duration": 23,
    "start_time": "2023-02-16T17:20:37.704Z"
   },
   {
    "duration": 425,
    "start_time": "2023-02-16T17:22:38.003Z"
   },
   {
    "duration": 374,
    "start_time": "2023-02-16T17:24:16.272Z"
   },
   {
    "duration": 114,
    "start_time": "2023-02-16T17:27:37.339Z"
   },
   {
    "duration": 758,
    "start_time": "2023-02-16T17:27:42.085Z"
   },
   {
    "duration": 30,
    "start_time": "2023-02-16T17:30:10.318Z"
   },
   {
    "duration": 841,
    "start_time": "2023-02-16T17:30:15.000Z"
   },
   {
    "duration": 548,
    "start_time": "2023-02-16T17:30:23.599Z"
   },
   {
    "duration": 6,
    "start_time": "2023-02-16T17:43:00.166Z"
   },
   {
    "duration": 4,
    "start_time": "2023-02-16T17:53:31.774Z"
   },
   {
    "duration": 4,
    "start_time": "2023-02-16T17:54:07.577Z"
   },
   {
    "duration": 3,
    "start_time": "2023-02-16T17:54:31.031Z"
   },
   {
    "duration": 21,
    "start_time": "2023-02-16T17:56:11.373Z"
   },
   {
    "duration": 995,
    "start_time": "2023-02-16T17:56:41.645Z"
   },
   {
    "duration": 522,
    "start_time": "2023-02-16T17:57:11.520Z"
   },
   {
    "duration": 186,
    "start_time": "2023-02-16T17:57:18.555Z"
   },
   {
    "duration": 733,
    "start_time": "2023-02-16T17:57:24.108Z"
   },
   {
    "duration": 553057,
    "start_time": "2023-02-16T18:03:13.910Z"
   },
   {
    "duration": 601943,
    "start_time": "2023-02-16T18:13:21.078Z"
   },
   {
    "duration": 348887,
    "start_time": "2023-02-16T18:26:12.361Z"
   },
   {
    "duration": 85,
    "start_time": "2023-02-16T18:35:20.708Z"
   },
   {
    "duration": 71,
    "start_time": "2023-02-16T18:35:50.567Z"
   },
   {
    "duration": 84,
    "start_time": "2023-02-16T18:37:29.103Z"
   },
   {
    "duration": 1604,
    "start_time": "2023-02-16T19:30:41.415Z"
   },
   {
    "duration": 870,
    "start_time": "2023-02-16T19:30:43.021Z"
   },
   {
    "duration": 30,
    "start_time": "2023-02-16T19:30:46.125Z"
   },
   {
    "duration": 14,
    "start_time": "2023-02-16T19:30:46.916Z"
   },
   {
    "duration": 22,
    "start_time": "2023-02-16T19:30:47.581Z"
   },
   {
    "duration": 31,
    "start_time": "2023-02-16T19:30:48.079Z"
   },
   {
    "duration": 4,
    "start_time": "2023-02-16T19:30:52.866Z"
   },
   {
    "duration": 4,
    "start_time": "2023-02-16T19:30:53.195Z"
   },
   {
    "duration": 3,
    "start_time": "2023-02-16T19:30:53.619Z"
   },
   {
    "duration": 9,
    "start_time": "2023-02-16T19:30:54.092Z"
   },
   {
    "duration": 6,
    "start_time": "2023-02-16T19:30:54.617Z"
   },
   {
    "duration": 3,
    "start_time": "2023-02-16T19:30:55.073Z"
   },
   {
    "duration": 6,
    "start_time": "2023-02-16T19:30:57.409Z"
   },
   {
    "duration": 6,
    "start_time": "2023-02-16T19:30:58.616Z"
   },
   {
    "duration": 19,
    "start_time": "2023-02-16T19:31:01.526Z"
   },
   {
    "duration": 4,
    "start_time": "2023-02-16T19:31:02.354Z"
   },
   {
    "duration": 15,
    "start_time": "2023-02-16T19:31:08.472Z"
   },
   {
    "duration": 4,
    "start_time": "2023-02-16T19:31:12.667Z"
   },
   {
    "duration": 473,
    "start_time": "2023-02-16T19:31:13.836Z"
   },
   {
    "duration": 584,
    "start_time": "2023-02-16T19:31:33.436Z"
   },
   {
    "duration": 496,
    "start_time": "2023-02-16T19:31:36.694Z"
   },
   {
    "duration": 441,
    "start_time": "2023-02-16T19:31:40.641Z"
   },
   {
    "duration": 465,
    "start_time": "2023-02-16T19:31:46.994Z"
   },
   {
    "duration": 6,
    "start_time": "2023-02-16T19:31:59.601Z"
   },
   {
    "duration": 4,
    "start_time": "2023-02-16T19:32:00.072Z"
   },
   {
    "duration": 6,
    "start_time": "2023-02-16T19:32:00.562Z"
   },
   {
    "duration": 807,
    "start_time": "2023-02-16T19:32:01.471Z"
   },
   {
    "duration": 6,
    "start_time": "2023-02-16T19:32:05.680Z"
   },
   {
    "duration": 23,
    "start_time": "2023-02-16T19:32:07.849Z"
   },
   {
    "duration": 16,
    "start_time": "2023-02-16T19:32:08.339Z"
   },
   {
    "duration": 11,
    "start_time": "2023-02-16T19:32:08.799Z"
   },
   {
    "duration": 3,
    "start_time": "2023-02-16T19:32:11.166Z"
   },
   {
    "duration": 11,
    "start_time": "2023-02-16T19:32:11.617Z"
   },
   {
    "duration": 12,
    "start_time": "2023-02-16T19:32:12.035Z"
   },
   {
    "duration": 6,
    "start_time": "2023-02-16T19:32:12.500Z"
   },
   {
    "duration": 16,
    "start_time": "2023-02-16T19:32:13.162Z"
   },
   {
    "duration": 125,
    "start_time": "2023-02-16T19:32:17.161Z"
   },
   {
    "duration": 4,
    "start_time": "2023-02-16T19:32:19.887Z"
   },
   {
    "duration": 5,
    "start_time": "2023-02-16T19:32:23.663Z"
   },
   {
    "duration": 3,
    "start_time": "2023-02-16T19:32:24.081Z"
   },
   {
    "duration": 4,
    "start_time": "2023-02-16T19:32:24.540Z"
   },
   {
    "duration": 4,
    "start_time": "2023-02-16T19:32:24.993Z"
   },
   {
    "duration": 3,
    "start_time": "2023-02-16T19:32:25.471Z"
   },
   {
    "duration": 3,
    "start_time": "2023-02-16T19:32:25.990Z"
   },
   {
    "duration": 25,
    "start_time": "2023-02-16T19:32:28.691Z"
   },
   {
    "duration": 425,
    "start_time": "2023-02-16T19:32:34.717Z"
   },
   {
    "duration": 1027,
    "start_time": "2023-02-16T19:33:01.737Z"
   },
   {
    "duration": 33,
    "start_time": "2023-02-16T19:33:14.322Z"
   },
   {
    "duration": 1540,
    "start_time": "2023-02-16T19:33:31.808Z"
   },
   {
    "duration": 4,
    "start_time": "2023-02-16T19:33:44.765Z"
   },
   {
    "duration": 1811,
    "start_time": "2023-02-16T19:37:08.405Z"
   },
   {
    "duration": 802,
    "start_time": "2023-02-16T19:37:11.781Z"
   },
   {
    "duration": 3,
    "start_time": "2023-02-16T19:37:24.224Z"
   },
   {
    "duration": 8,
    "start_time": "2023-02-16T19:37:24.918Z"
   },
   {
    "duration": 123,
    "start_time": "2023-02-16T19:37:28.467Z"
   },
   {
    "duration": 4,
    "start_time": "2023-02-16T19:37:35.257Z"
   },
   {
    "duration": 3,
    "start_time": "2023-02-16T19:37:35.889Z"
   },
   {
    "duration": 8,
    "start_time": "2023-02-16T19:37:36.336Z"
   },
   {
    "duration": 7,
    "start_time": "2023-02-16T19:37:36.773Z"
   },
   {
    "duration": 6,
    "start_time": "2023-02-16T19:37:37.675Z"
   },
   {
    "duration": 3,
    "start_time": "2023-02-16T19:37:38.065Z"
   },
   {
    "duration": 12,
    "start_time": "2023-02-16T19:37:38.542Z"
   },
   {
    "duration": 5,
    "start_time": "2023-02-16T19:37:39.100Z"
   },
   {
    "duration": 16,
    "start_time": "2023-02-16T19:37:42.008Z"
   },
   {
    "duration": 4,
    "start_time": "2023-02-16T19:37:42.404Z"
   },
   {
    "duration": 21,
    "start_time": "2023-02-16T19:37:47.937Z"
   },
   {
    "duration": 5,
    "start_time": "2023-02-16T19:37:50.884Z"
   },
   {
    "duration": 541,
    "start_time": "2023-02-16T19:37:52.268Z"
   },
   {
    "duration": 579,
    "start_time": "2023-02-16T19:37:55.344Z"
   },
   {
    "duration": 466,
    "start_time": "2023-02-16T19:37:58.349Z"
   },
   {
    "duration": 418,
    "start_time": "2023-02-16T19:38:01.395Z"
   },
   {
    "duration": 446,
    "start_time": "2023-02-16T19:38:03.158Z"
   },
   {
    "duration": 5,
    "start_time": "2023-02-16T19:38:07.499Z"
   },
   {
    "duration": 4,
    "start_time": "2023-02-16T19:38:07.984Z"
   },
   {
    "duration": 5,
    "start_time": "2023-02-16T19:38:08.366Z"
   },
   {
    "duration": 803,
    "start_time": "2023-02-16T19:38:09.165Z"
   },
   {
    "duration": 7,
    "start_time": "2023-02-16T19:38:12.869Z"
   },
   {
    "duration": 11,
    "start_time": "2023-02-16T19:38:14.794Z"
   },
   {
    "duration": 11,
    "start_time": "2023-02-16T19:38:15.215Z"
   },
   {
    "duration": 11,
    "start_time": "2023-02-16T19:38:15.966Z"
   },
   {
    "duration": 3,
    "start_time": "2023-02-16T19:38:19.795Z"
   },
   {
    "duration": 12,
    "start_time": "2023-02-16T19:38:20.316Z"
   },
   {
    "duration": 7,
    "start_time": "2023-02-16T19:38:20.882Z"
   },
   {
    "duration": 7,
    "start_time": "2023-02-16T19:38:21.403Z"
   },
   {
    "duration": 145,
    "start_time": "2023-02-16T19:38:22.115Z"
   },
   {
    "duration": 5,
    "start_time": "2023-02-16T19:38:26.035Z"
   },
   {
    "duration": 3,
    "start_time": "2023-02-16T19:38:28.288Z"
   },
   {
    "duration": 7,
    "start_time": "2023-02-16T19:38:31.960Z"
   },
   {
    "duration": 3,
    "start_time": "2023-02-16T19:38:32.825Z"
   },
   {
    "duration": 3,
    "start_time": "2023-02-16T19:38:33.419Z"
   },
   {
    "duration": 7,
    "start_time": "2023-02-16T19:38:33.865Z"
   },
   {
    "duration": 5,
    "start_time": "2023-02-16T19:38:34.376Z"
   },
   {
    "duration": 5,
    "start_time": "2023-02-16T19:38:34.971Z"
   },
   {
    "duration": 39,
    "start_time": "2023-02-16T19:38:36.017Z"
   },
   {
    "duration": 50,
    "start_time": "2023-02-16T19:38:41.099Z"
   },
   {
    "duration": 1179,
    "start_time": "2023-02-16T19:38:42.481Z"
   },
   {
    "duration": 37,
    "start_time": "2023-02-16T19:38:46.115Z"
   },
   {
    "duration": 2085,
    "start_time": "2023-02-16T19:38:47.289Z"
   },
   {
    "duration": 3,
    "start_time": "2023-02-16T19:38:52.469Z"
   },
   {
    "duration": 686503,
    "start_time": "2023-02-16T19:39:05.220Z"
   },
   {
    "duration": 28,
    "start_time": "2023-02-16T19:50:31.726Z"
   },
   {
    "duration": 679379,
    "start_time": "2023-02-16T19:53:34.194Z"
   },
   {
    "duration": 5,
    "start_time": "2023-02-16T20:08:40.106Z"
   },
   {
    "duration": 1281234,
    "start_time": "2023-02-16T20:11:35.881Z"
   },
   {
    "duration": 4,
    "start_time": "2023-02-16T20:33:51.018Z"
   },
   {
    "duration": 3,
    "start_time": "2023-02-16T20:35:02.022Z"
   },
   {
    "duration": 36,
    "start_time": "2023-02-16T20:48:00.242Z"
   },
   {
    "duration": 3,
    "start_time": "2023-02-16T20:49:06.609Z"
   },
   {
    "duration": 4,
    "start_time": "2023-02-16T20:51:02.048Z"
   },
   {
    "duration": 80,
    "start_time": "2023-02-16T20:51:26.192Z"
   },
   {
    "duration": 5,
    "start_time": "2023-02-16T20:51:29.864Z"
   },
   {
    "duration": 34,
    "start_time": "2023-02-16T20:52:01.121Z"
   },
   {
    "duration": 4,
    "start_time": "2023-02-16T20:52:01.830Z"
   },
   {
    "duration": 5,
    "start_time": "2023-02-16T20:52:15.495Z"
   },
   {
    "duration": 10,
    "start_time": "2023-02-16T20:53:42.673Z"
   },
   {
    "duration": 4,
    "start_time": "2023-02-16T20:54:44.960Z"
   },
   {
    "duration": 6,
    "start_time": "2023-02-16T20:55:13.862Z"
   },
   {
    "duration": 4,
    "start_time": "2023-02-16T20:55:16.811Z"
   },
   {
    "duration": 9,
    "start_time": "2023-02-16T20:55:24.370Z"
   },
   {
    "duration": 7,
    "start_time": "2023-02-16T20:55:25.638Z"
   },
   {
    "duration": 8,
    "start_time": "2023-02-16T20:57:37.317Z"
   },
   {
    "duration": 13,
    "start_time": "2023-02-16T20:57:37.838Z"
   },
   {
    "duration": 4,
    "start_time": "2023-02-16T20:57:38.763Z"
   },
   {
    "duration": 6,
    "start_time": "2023-02-16T20:58:03.248Z"
   },
   {
    "duration": 1605,
    "start_time": "2023-12-27T07:59:58.404Z"
   },
   {
    "duration": 2980,
    "start_time": "2023-12-27T08:00:02.351Z"
   },
   {
    "duration": 19,
    "start_time": "2023-12-27T08:00:12.275Z"
   },
   {
    "duration": 12,
    "start_time": "2023-12-27T08:00:17.529Z"
   },
   {
    "duration": 3,
    "start_time": "2023-12-27T08:02:48.509Z"
   },
   {
    "duration": 2,
    "start_time": "2023-12-27T08:02:49.038Z"
   },
   {
    "duration": 3,
    "start_time": "2023-12-27T08:02:49.590Z"
   },
   {
    "duration": 6,
    "start_time": "2023-12-27T08:02:50.414Z"
   },
   {
    "duration": 8,
    "start_time": "2023-12-27T08:02:54.453Z"
   },
   {
    "duration": 2,
    "start_time": "2023-12-27T08:02:56.963Z"
   },
   {
    "duration": 5,
    "start_time": "2023-12-27T08:03:01.899Z"
   },
   {
    "duration": 13,
    "start_time": "2023-12-27T08:03:08.036Z"
   },
   {
    "duration": 11,
    "start_time": "2023-12-27T08:03:12.408Z"
   },
   {
    "duration": 3,
    "start_time": "2023-12-27T08:03:19.571Z"
   },
   {
    "duration": 15,
    "start_time": "2023-12-27T08:03:36.549Z"
   },
   {
    "duration": 4,
    "start_time": "2023-12-27T08:03:54.340Z"
   },
   {
    "duration": 429,
    "start_time": "2023-12-27T08:03:58.145Z"
   },
   {
    "duration": 488,
    "start_time": "2023-12-27T08:04:06.394Z"
   },
   {
    "duration": 410,
    "start_time": "2023-12-27T08:04:09.477Z"
   },
   {
    "duration": 387,
    "start_time": "2023-12-27T08:04:15.447Z"
   },
   {
    "duration": 465,
    "start_time": "2023-12-27T08:04:17.499Z"
   },
   {
    "duration": 4,
    "start_time": "2023-12-27T08:04:29.685Z"
   },
   {
    "duration": 4,
    "start_time": "2023-12-27T08:04:30.887Z"
   },
   {
    "duration": 6,
    "start_time": "2023-12-27T08:04:31.382Z"
   },
   {
    "duration": 680,
    "start_time": "2023-12-27T08:04:31.962Z"
   },
   {
    "duration": 6,
    "start_time": "2023-12-27T08:05:56.370Z"
   },
   {
    "duration": 11,
    "start_time": "2023-12-27T08:06:13.068Z"
   },
   {
    "duration": 10,
    "start_time": "2023-12-27T08:06:13.579Z"
   },
   {
    "duration": 10,
    "start_time": "2023-12-27T08:06:14.203Z"
   },
   {
    "duration": 3,
    "start_time": "2023-12-27T08:06:24.278Z"
   },
   {
    "duration": 10,
    "start_time": "2023-12-27T08:06:24.769Z"
   },
   {
    "duration": 6,
    "start_time": "2023-12-27T08:06:25.111Z"
   },
   {
    "duration": 4,
    "start_time": "2023-12-27T08:06:25.658Z"
   },
   {
    "duration": 13,
    "start_time": "2023-12-27T08:06:26.436Z"
   },
   {
    "duration": 184,
    "start_time": "2023-12-27T08:06:34.154Z"
   },
   {
    "duration": 3,
    "start_time": "2023-12-27T08:07:37.018Z"
   },
   {
    "duration": 3,
    "start_time": "2023-12-27T08:07:44.520Z"
   },
   {
    "duration": 3,
    "start_time": "2023-12-27T08:07:49.861Z"
   },
   {
    "duration": 110,
    "start_time": "2023-12-27T08:08:03.605Z"
   },
   {
    "duration": 1527,
    "start_time": "2023-12-27T08:10:07.067Z"
   },
   {
    "duration": 752,
    "start_time": "2023-12-27T08:10:09.469Z"
   },
   {
    "duration": 28,
    "start_time": "2023-12-27T08:10:10.223Z"
   },
   {
    "duration": 13,
    "start_time": "2023-12-27T08:10:10.253Z"
   },
   {
    "duration": 18,
    "start_time": "2023-12-27T08:10:10.267Z"
   },
   {
    "duration": 3,
    "start_time": "2023-12-27T08:10:10.286Z"
   },
   {
    "duration": 5,
    "start_time": "2023-12-27T08:10:10.290Z"
   },
   {
    "duration": 6,
    "start_time": "2023-12-27T08:10:10.296Z"
   },
   {
    "duration": 5,
    "start_time": "2023-12-27T08:10:11.130Z"
   },
   {
    "duration": 7,
    "start_time": "2023-12-27T08:10:11.648Z"
   },
   {
    "duration": 3,
    "start_time": "2023-12-27T08:10:11.677Z"
   },
   {
    "duration": 4,
    "start_time": "2023-12-27T08:10:11.709Z"
   },
   {
    "duration": 14,
    "start_time": "2023-12-27T08:10:13.383Z"
   },
   {
    "duration": 3,
    "start_time": "2023-12-27T08:10:13.415Z"
   },
   {
    "duration": 15,
    "start_time": "2023-12-27T08:10:13.584Z"
   },
   {
    "duration": 3,
    "start_time": "2023-12-27T08:10:14.991Z"
   },
   {
    "duration": 433,
    "start_time": "2023-12-27T08:10:15.027Z"
   },
   {
    "duration": 484,
    "start_time": "2023-12-27T08:10:15.461Z"
   },
   {
    "duration": 409,
    "start_time": "2023-12-27T08:10:16.173Z"
   },
   {
    "duration": 362,
    "start_time": "2023-12-27T08:10:19.172Z"
   },
   {
    "duration": 387,
    "start_time": "2023-12-27T08:10:20.257Z"
   },
   {
    "duration": 4,
    "start_time": "2023-12-27T08:10:22.087Z"
   },
   {
    "duration": 4,
    "start_time": "2023-12-27T08:10:22.307Z"
   },
   {
    "duration": 5,
    "start_time": "2023-12-27T08:10:22.824Z"
   },
   {
    "duration": 663,
    "start_time": "2023-12-27T08:10:22.857Z"
   },
   {
    "duration": 773,
    "start_time": "2023-12-27T08:10:29.528Z"
   },
   {
    "duration": 5,
    "start_time": "2023-12-27T08:10:32.225Z"
   },
   {
    "duration": 9,
    "start_time": "2023-12-27T08:10:38.405Z"
   },
   {
    "duration": 10,
    "start_time": "2023-12-27T08:10:39.144Z"
   },
   {
    "duration": 11,
    "start_time": "2023-12-27T08:10:39.661Z"
   },
   {
    "duration": 3,
    "start_time": "2023-12-27T08:10:39.729Z"
   },
   {
    "duration": 9,
    "start_time": "2023-12-27T08:10:39.761Z"
   },
   {
    "duration": 6,
    "start_time": "2023-12-27T08:10:39.791Z"
   },
   {
    "duration": 5,
    "start_time": "2023-12-27T08:10:39.825Z"
   },
   {
    "duration": 15,
    "start_time": "2023-12-27T08:10:41.755Z"
   },
   {
    "duration": 4,
    "start_time": "2023-12-27T08:10:42.370Z"
   },
   {
    "duration": 32,
    "start_time": "2023-12-27T08:10:42.404Z"
   },
   {
    "duration": 2,
    "start_time": "2023-12-27T08:10:43.302Z"
   },
   {
    "duration": 5,
    "start_time": "2023-12-27T08:10:45.361Z"
   },
   {
    "duration": 3,
    "start_time": "2023-12-27T08:10:46.783Z"
   },
   {
    "duration": 3,
    "start_time": "2023-12-27T08:10:47.626Z"
   },
   {
    "duration": 5,
    "start_time": "2023-12-27T08:10:48.619Z"
   },
   {
    "duration": 3,
    "start_time": "2023-12-27T08:10:49.273Z"
   },
   {
    "duration": 3,
    "start_time": "2023-12-27T08:10:49.830Z"
   },
   {
    "duration": 21,
    "start_time": "2023-12-27T08:10:55.485Z"
   },
   {
    "duration": 45,
    "start_time": "2023-12-27T08:11:16.299Z"
   },
   {
    "duration": 596,
    "start_time": "2023-12-27T08:11:18.848Z"
   },
   {
    "duration": 83,
    "start_time": "2023-12-27T08:11:26.961Z"
   },
   {
    "duration": 104,
    "start_time": "2023-12-27T08:12:34.395Z"
   }
  ],
  "kernelspec": {
   "display_name": "Python 3 (ipykernel)",
   "language": "python",
   "name": "python3"
  },
  "language_info": {
   "codemirror_mode": {
    "name": "ipython",
    "version": 3
   },
   "file_extension": ".py",
   "mimetype": "text/x-python",
   "name": "python",
   "nbconvert_exporter": "python",
   "pygments_lexer": "ipython3",
   "version": "3.9.5"
  },
  "toc": {
   "base_numbering": 1,
   "nav_menu": {},
   "number_sections": true,
   "sideBar": true,
   "skip_h1_title": true,
   "title_cell": "Содержание",
   "title_sidebar": "Contents",
   "toc_cell": true,
   "toc_position": {
    "height": "calc(100% - 180px)",
    "left": "10px",
    "top": "150px",
    "width": "165px"
   },
   "toc_section_display": true,
   "toc_window_display": true
  }
 },
 "nbformat": 4,
 "nbformat_minor": 2
}
